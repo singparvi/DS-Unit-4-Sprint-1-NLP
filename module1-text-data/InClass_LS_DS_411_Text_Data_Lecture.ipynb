{
 "cells": [
  {
   "cell_type": "markdown",
   "metadata": {},
   "source": [
    "---"
   ]
  },
  {
   "cell_type": "code",
   "execution_count": 1,
   "metadata": {},
   "outputs": [
    {
     "output_type": "stream",
     "name": "stdout",
     "text": [
      "/Users/rob/opt/anaconda3/bin/python\n"
     ]
    }
   ],
   "source": [
    "!which python"
   ]
  },
  {
   "cell_type": "code",
   "execution_count": null,
   "metadata": {},
   "outputs": [],
   "source": []
  },
  {
   "cell_type": "markdown",
   "metadata": {
    "id": "BlwQRqffGEqb",
    "toc-hr-collapsed": false
   },
   "source": [
    "Lambda School Data Science\n",
    "\n",
    "*Unit 4, Sprint 1, Module 1*\n",
    "\n",
    "---\n",
    "<h1 id=\"moduleTitle\"> Natural Language Processing Introduction (Prepare)</h1>\n",
    "\n",
    "\"Natural\" meaning - not computer languages but spoken/written human languages. The hard thing about NLP is that human languages are far less structured or consistent than computer languages. This is perhaps the largest source of difficulty when trying to get computers to \"understand\" human languages. How do you get a machine to understand sarcasm, and irony, and synonyms, connotation, denotation, nuance, and tone of voice --all without it having lived a lifetime of experience for context? If you think about it, our human brains have been exposed to quite a lot of training data to help us interpret languages, and even then we misunderstand each other pretty frequently. \n",
    "    \n",
    "\n",
    "<h2 id='moduleObjectives'>Learning Objectives</h2>\n",
    "\n",
    "By the end of end of this module, a student should be able to:\n",
    "* <a href=\"#p1\">Objective 1</a>: Tokenize text\n",
    "* <a href=\"#p1\">Objective 2</a>: Remove stop words from text\n",
    "* <a href=\"#p3\">Objective 3</a>: Perform stemming and lemmatization on tokens\n",
    "\n",
    "## Conda Environments\n",
    "\n",
    "You will be completing each module this sprint on your machine. We will be using conda environments to manage the packages and their dependencies for this sprint's content. In a classroom setting, instructors typically abstract away environment for you. However, environment management is an important professional data science skill. We showed you how to manage environments using pipvirtual env during Unit 3, but in this sprint, we will introduce an environment management tool common in the data science community: \n",
    "\n",
    "> __conda__: Package, dependency and environment management for any language—Python, R, Ruby, Lua, Scala, Java, JavaScript, C/ C++, FORTRAN, and more.\n",
    "\n",
    "The easiest way to install conda on your machine is via the [Anaconda Distribution](https://www.anaconda.com/distribution/) of Python & R. Once you have conda installed, read [\"A Guide to Conda Environments\"](https://towardsdatascience.com/a-guide-to-conda-environments-bc6180fc533). This article will provide an introduce into some of the conda basics. If you need some additional help getting started, the official [\"Setting started with conda\"](https://conda.io/projects/conda/en/latest/user-guide/getting-started.html) guide will point you in the right direction. \n",
    "\n",
    ":snake: \n",
    "\n",
    "To get the sprint environment setup: \n",
    "\n",
    "1. Open your command line tool (Terminal for MacOS, Anaconda Prompt for Windows)\n",
    "2. Navigate to the folder with this sprint's content. There should be a `requirements.txt`\n",
    "3. Run `conda create -n U4-S1-NLP python==3.7` => You can also rename the environment if you would like. Once the command completes, your conda environment should be ready.\n",
    "4. Now, we are going to add in the require python packages for this sprint. You will need to 'activate' the conda environment: `source activate U4-S1-NLP` on Terminal or `conda activate U4-S1-NLP` on Anaconda Prompt. Once your environment is activate, run `pip install -r requirements.txt` which will install the required packages into your environment.\n",
    "5. We are going to also add an Ipython Kernel reference to your conda environment, so we can use it from JupyterLab. \n",
    "6. Next run `python -m ipykernel install --user --name U4-S1-NLP --display-name \"U4-S1-NLP (Python3)\"` => This will add a json object to an ipython file, so JupterLab will know that it can use this isolated instance of Python. :) \n",
    "7. Last step, we need to install the models for Spacy. Run these commands `python -m spacy download en_core_web_md` and `python -m spacy download en_core_web_lg`\n",
    "8. Deactivate your conda environment and launch JupyterLab. You should know see \"U4-S1-NLP (Python3)\" in the list of available kernels on launch screen. "
   ]
  },
  {
   "cell_type": "code",
   "execution_count": 2,
   "metadata": {},
   "outputs": [],
   "source": [
    "# Dependencies for the week (instead of conda)\n",
    "# Run if you're using colab, otherwise you should have a local copy of the data\n",
    "#!wget https://raw.githubusercontent.com/LambdaSchool/DS-Unit-4-Sprint-1-NLP/main/requirements.txt\n",
    "# !pip install -r requirements.txt"
   ]
  },
  {
   "cell_type": "code",
   "execution_count": 3,
   "metadata": {
    "collapsed": true,
    "jupyter": {
     "outputs_hidden": true
    }
   },
   "outputs": [],
   "source": [
    "# You'll use en_core_web_sm for the sprint challenge due memory constraints on Codegrader\n",
    "#!python -m spacy download en_core_web_sm \n",
    "\n",
    "# Locally (or on colab) let's use en_core_web_lg \n",
    "# !python -m spacy download en_core_web_lg # Can do lg, takes awhile\n",
    "# Also on Colab, need to restart runtime after this step!"
   ]
  },
  {
   "cell_type": "markdown",
   "metadata": {
    "id": "I0ssyXeiGEqc",
    "toc-hr-collapsed": false
   },
   "source": [
    "# Tokenze Text (Learn)\n",
    "<a id=\"p1\"></a>"
   ]
  },
  {
   "cell_type": "markdown",
   "metadata": {
    "id": "sd6cxaNTGEqc",
    "toc-hr-collapsed": true
   },
   "source": [
    "## Overview\n",
    "\n",
    "> **token**: an instance of a sequence of characters in some particular document that are grouped together as a useful semantic unit for processing\n",
    "\n",
    "> [_*Introduction to Information Retrival*_](https://nlp.stanford.edu/IR-book/)\n",
    "\n",
    "\n",
    "### The attributes of good tokens\n",
    "\n",
    "* Should be stored in an iterable data structure\n",
    "  - Allows analysis of the \"semantic unit\"\n",
    "* Should be all the same case\n",
    "  - Reduces the complexity of our data\n",
    "* Should be free of non-alphanumeric characters (ie punctuation, whitespace)\n",
    "  - Removes information that is probably not relevant to the analysis"
   ]
  },
  {
   "cell_type": "markdown",
   "metadata": {
    "id": "dK-EKGVNGEqd"
   },
   "source": [
    "Let's pretend we are trying analyze the random sequence here. Question: what is the most common character in this sequence?"
   ]
  },
  {
   "cell_type": "code",
   "execution_count": 4,
   "metadata": {
    "id": "NODbGehhGEqe"
   },
   "outputs": [],
   "source": [
    "random_seq = \"AABAAFBBBBCGCDDEEEFCFFDFFAFFZFGGGGHEAFJAAZBBFCZ\""
   ]
  },
  {
   "cell_type": "markdown",
   "metadata": {
    "id": "Uj0FHiJEGEqh"
   },
   "source": [
    "A useful unit of analysis for us is going to be a letter or character"
   ]
  },
  {
   "cell_type": "code",
   "execution_count": 5,
   "metadata": {
    "colab": {
     "base_uri": "https://localhost:8080/",
     "height": 54
    },
    "id": "OFWePC6XGEqh",
    "outputId": "41945a1a-6a50-4419-fcad-a08b4fe536cc"
   },
   "outputs": [
    {
     "output_type": "stream",
     "name": "stdout",
     "text": [
      "['A', 'A', 'B', 'A', 'A', 'F', 'B', 'B', 'B', 'B', 'C', 'G', 'C', 'D', 'D', 'E', 'E', 'E', 'F', 'C', 'F', 'F', 'D', 'F', 'F', 'A', 'F', 'F', 'Z', 'F', 'G', 'G', 'G', 'G', 'H', 'E', 'A', 'F', 'J', 'A', 'A', 'Z', 'B', 'B', 'F', 'C', 'Z']\n"
     ]
    }
   ],
   "source": [
    "tokens = list(random_seq)\n",
    "print(tokens)"
   ]
  },
  {
   "cell_type": "markdown",
   "metadata": {
    "id": "8tbp-hyDGEql"
   },
   "source": [
    "Our tokens are already \"good\": in an iterable datastructure, all the same case, and free of noise characters (punctuation, whitespace), so we can jump straight into analysis."
   ]
  },
  {
   "cell_type": "code",
   "execution_count": 6,
   "metadata": {
    "colab": {
     "base_uri": "https://localhost:8080/",
     "height": 319
    },
    "id": "mFQcACruGEql",
    "outputId": "5f37008f-1886-498a-b4f6-6356a65059a3"
   },
   "outputs": [
    {
     "output_type": "display_data",
     "data": {
      "text/plain": "<Figure size 432x288 with 1 Axes>",
      "image/svg+xml": "<?xml version=\"1.0\" encoding=\"utf-8\" standalone=\"no\"?>\n<!DOCTYPE svg PUBLIC \"-//W3C//DTD SVG 1.1//EN\"\n  \"http://www.w3.org/Graphics/SVG/1.1/DTD/svg11.dtd\">\n<svg height=\"248.518125pt\" version=\"1.1\" viewBox=\"0 0 382.603125 248.518125\" width=\"382.603125pt\" xmlns=\"http://www.w3.org/2000/svg\" xmlns:xlink=\"http://www.w3.org/1999/xlink\">\n <metadata>\n  <rdf:RDF xmlns:cc=\"http://creativecommons.org/ns#\" xmlns:dc=\"http://purl.org/dc/elements/1.1/\" xmlns:rdf=\"http://www.w3.org/1999/02/22-rdf-syntax-ns#\">\n   <cc:Work>\n    <dc:type rdf:resource=\"http://purl.org/dc/dcmitype/StillImage\"/>\n    <dc:date>2021-05-05T21:44:46.972493</dc:date>\n    <dc:format>image/svg+xml</dc:format>\n    <dc:creator>\n     <cc:Agent>\n      <dc:title>Matplotlib v3.4.1, https://matplotlib.org/</dc:title>\n     </cc:Agent>\n    </dc:creator>\n   </cc:Work>\n  </rdf:RDF>\n </metadata>\n <defs>\n  <style type=\"text/css\">*{stroke-linecap:butt;stroke-linejoin:round;}</style>\n </defs>\n <g id=\"figure_1\">\n  <g id=\"patch_1\">\n   <path d=\"M 0 248.518125 \nL 382.603125 248.518125 \nL 382.603125 0 \nL 0 0 \nz\n\" style=\"fill:none;\"/>\n  </g>\n  <g id=\"axes_1\">\n   <g id=\"patch_2\">\n    <path d=\"M 40.603125 224.64 \nL 375.403125 224.64 \nL 375.403125 7.2 \nL 40.603125 7.2 \nz\n\" style=\"fill:#ffffff;\"/>\n   </g>\n   <g id=\"patch_3\">\n    <path clip-path=\"url(#ped2f50f08b)\" d=\"M 43.951125 224.64 \nL 70.735125 224.64 \nL 70.735125 74.032208 \nL 43.951125 74.032208 \nz\n\" style=\"fill:#3274a1;\"/>\n   </g>\n   <g id=\"patch_4\">\n    <path clip-path=\"url(#ped2f50f08b)\" d=\"M 77.431125 224.64 \nL 104.215125 224.64 \nL 104.215125 92.858182 \nL 77.431125 92.858182 \nz\n\" style=\"fill:#e1812c;\"/>\n   </g>\n   <g id=\"patch_5\">\n    <path clip-path=\"url(#ped2f50f08b)\" d=\"M 110.911125 224.64 \nL 137.695125 224.64 \nL 137.695125 17.554286 \nL 110.911125 17.554286 \nz\n\" style=\"fill:#3a923a;\"/>\n   </g>\n   <g id=\"patch_6\">\n    <path clip-path=\"url(#ped2f50f08b)\" d=\"M 144.391125 224.64 \nL 171.175125 224.64 \nL 171.175125 149.336104 \nL 144.391125 149.336104 \nz\n\" style=\"fill:#c03d3e;\"/>\n   </g>\n   <g id=\"patch_7\">\n    <path clip-path=\"url(#ped2f50f08b)\" d=\"M 177.871125 224.64 \nL 204.655125 224.64 \nL 204.655125 130.51013 \nL 177.871125 130.51013 \nz\n\" style=\"fill:#9372b2;\"/>\n   </g>\n   <g id=\"patch_8\">\n    <path clip-path=\"url(#ped2f50f08b)\" d=\"M 211.351125 224.64 \nL 238.135125 224.64 \nL 238.135125 168.162078 \nL 211.351125 168.162078 \nz\n\" style=\"fill:#845b53;\"/>\n   </g>\n   <g id=\"patch_9\">\n    <path clip-path=\"url(#ped2f50f08b)\" d=\"M 244.831125 224.64 \nL 271.615125 224.64 \nL 271.615125 149.336104 \nL 244.831125 149.336104 \nz\n\" style=\"fill:#d684bd;\"/>\n   </g>\n   <g id=\"patch_10\">\n    <path clip-path=\"url(#ped2f50f08b)\" d=\"M 278.311125 224.64 \nL 305.095125 224.64 \nL 305.095125 168.162078 \nL 278.311125 168.162078 \nz\n\" style=\"fill:#7f7f7f;\"/>\n   </g>\n   <g id=\"patch_11\">\n    <path clip-path=\"url(#ped2f50f08b)\" d=\"M 311.791125 224.64 \nL 338.575125 224.64 \nL 338.575125 205.814026 \nL 311.791125 205.814026 \nz\n\" style=\"fill:#a9aa35;\"/>\n   </g>\n   <g id=\"patch_12\">\n    <path clip-path=\"url(#ped2f50f08b)\" d=\"M 345.271125 224.64 \nL 372.055125 224.64 \nL 372.055125 205.814026 \nL 345.271125 205.814026 \nz\n\" style=\"fill:#2eabb8;\"/>\n   </g>\n   <g id=\"matplotlib.axis_1\">\n    <g id=\"xtick_1\">\n     <g id=\"line2d_1\">\n      <defs>\n       <path d=\"M 0 0 \nL 0 3.5 \n\" id=\"m8d82d569cd\" style=\"stroke:#000000;stroke-width:0.8;\"/>\n      </defs>\n      <g>\n       <use style=\"stroke:#000000;stroke-width:0.8;\" x=\"57.343125\" xlink:href=\"#m8d82d569cd\" y=\"224.64\"/>\n      </g>\n     </g>\n     <g id=\"text_1\">\n      <!-- A -->\n      <g transform=\"translate(53.922812 239.238437)scale(0.1 -0.1)\">\n       <defs>\n        <path d=\"M 2188 4044 \nL 1331 1722 \nL 3047 1722 \nL 2188 4044 \nz\nM 1831 4666 \nL 2547 4666 \nL 4325 0 \nL 3669 0 \nL 3244 1197 \nL 1141 1197 \nL 716 0 \nL 50 0 \nL 1831 4666 \nz\n\" id=\"DejaVuSans-41\" transform=\"scale(0.015625)\"/>\n       </defs>\n       <use xlink:href=\"#DejaVuSans-41\"/>\n      </g>\n     </g>\n    </g>\n    <g id=\"xtick_2\">\n     <g id=\"line2d_2\">\n      <g>\n       <use style=\"stroke:#000000;stroke-width:0.8;\" x=\"90.823125\" xlink:href=\"#m8d82d569cd\" y=\"224.64\"/>\n      </g>\n     </g>\n     <g id=\"text_2\">\n      <!-- B -->\n      <g transform=\"translate(87.392656 239.238437)scale(0.1 -0.1)\">\n       <defs>\n        <path d=\"M 1259 2228 \nL 1259 519 \nL 2272 519 \nQ 2781 519 3026 730 \nQ 3272 941 3272 1375 \nQ 3272 1813 3026 2020 \nQ 2781 2228 2272 2228 \nL 1259 2228 \nz\nM 1259 4147 \nL 1259 2741 \nL 2194 2741 \nQ 2656 2741 2882 2914 \nQ 3109 3088 3109 3444 \nQ 3109 3797 2882 3972 \nQ 2656 4147 2194 4147 \nL 1259 4147 \nz\nM 628 4666 \nL 2241 4666 \nQ 2963 4666 3353 4366 \nQ 3744 4066 3744 3513 \nQ 3744 3084 3544 2831 \nQ 3344 2578 2956 2516 \nQ 3422 2416 3680 2098 \nQ 3938 1781 3938 1306 \nQ 3938 681 3513 340 \nQ 3088 0 2303 0 \nL 628 0 \nL 628 4666 \nz\n\" id=\"DejaVuSans-42\" transform=\"scale(0.015625)\"/>\n       </defs>\n       <use xlink:href=\"#DejaVuSans-42\"/>\n      </g>\n     </g>\n    </g>\n    <g id=\"xtick_3\">\n     <g id=\"line2d_3\">\n      <g>\n       <use style=\"stroke:#000000;stroke-width:0.8;\" x=\"124.303125\" xlink:href=\"#m8d82d569cd\" y=\"224.64\"/>\n      </g>\n     </g>\n     <g id=\"text_3\">\n      <!-- F -->\n      <g transform=\"translate(121.427344 239.238437)scale(0.1 -0.1)\">\n       <defs>\n        <path d=\"M 628 4666 \nL 3309 4666 \nL 3309 4134 \nL 1259 4134 \nL 1259 2759 \nL 3109 2759 \nL 3109 2228 \nL 1259 2228 \nL 1259 0 \nL 628 0 \nL 628 4666 \nz\n\" id=\"DejaVuSans-46\" transform=\"scale(0.015625)\"/>\n       </defs>\n       <use xlink:href=\"#DejaVuSans-46\"/>\n      </g>\n     </g>\n    </g>\n    <g id=\"xtick_4\">\n     <g id=\"line2d_4\">\n      <g>\n       <use style=\"stroke:#000000;stroke-width:0.8;\" x=\"157.783125\" xlink:href=\"#m8d82d569cd\" y=\"224.64\"/>\n      </g>\n     </g>\n     <g id=\"text_4\">\n      <!-- C -->\n      <g transform=\"translate(154.291719 239.238437)scale(0.1 -0.1)\">\n       <defs>\n        <path d=\"M 4122 4306 \nL 4122 3641 \nQ 3803 3938 3442 4084 \nQ 3081 4231 2675 4231 \nQ 1875 4231 1450 3742 \nQ 1025 3253 1025 2328 \nQ 1025 1406 1450 917 \nQ 1875 428 2675 428 \nQ 3081 428 3442 575 \nQ 3803 722 4122 1019 \nL 4122 359 \nQ 3791 134 3420 21 \nQ 3050 -91 2638 -91 \nQ 1578 -91 968 557 \nQ 359 1206 359 2328 \nQ 359 3453 968 4101 \nQ 1578 4750 2638 4750 \nQ 3056 4750 3426 4639 \nQ 3797 4528 4122 4306 \nz\n\" id=\"DejaVuSans-43\" transform=\"scale(0.015625)\"/>\n       </defs>\n       <use xlink:href=\"#DejaVuSans-43\"/>\n      </g>\n     </g>\n    </g>\n    <g id=\"xtick_5\">\n     <g id=\"line2d_5\">\n      <g>\n       <use style=\"stroke:#000000;stroke-width:0.8;\" x=\"191.263125\" xlink:href=\"#m8d82d569cd\" y=\"224.64\"/>\n      </g>\n     </g>\n     <g id=\"text_5\">\n      <!-- G -->\n      <g transform=\"translate(187.388906 239.238437)scale(0.1 -0.1)\">\n       <defs>\n        <path d=\"M 3809 666 \nL 3809 1919 \nL 2778 1919 \nL 2778 2438 \nL 4434 2438 \nL 4434 434 \nQ 4069 175 3628 42 \nQ 3188 -91 2688 -91 \nQ 1594 -91 976 548 \nQ 359 1188 359 2328 \nQ 359 3472 976 4111 \nQ 1594 4750 2688 4750 \nQ 3144 4750 3555 4637 \nQ 3966 4525 4313 4306 \nL 4313 3634 \nQ 3963 3931 3569 4081 \nQ 3175 4231 2741 4231 \nQ 1884 4231 1454 3753 \nQ 1025 3275 1025 2328 \nQ 1025 1384 1454 906 \nQ 1884 428 2741 428 \nQ 3075 428 3337 486 \nQ 3600 544 3809 666 \nz\n\" id=\"DejaVuSans-47\" transform=\"scale(0.015625)\"/>\n       </defs>\n       <use xlink:href=\"#DejaVuSans-47\"/>\n      </g>\n     </g>\n    </g>\n    <g id=\"xtick_6\">\n     <g id=\"line2d_6\">\n      <g>\n       <use style=\"stroke:#000000;stroke-width:0.8;\" x=\"224.743125\" xlink:href=\"#m8d82d569cd\" y=\"224.64\"/>\n      </g>\n     </g>\n     <g id=\"text_6\">\n      <!-- D -->\n      <g transform=\"translate(220.893125 239.238437)scale(0.1 -0.1)\">\n       <defs>\n        <path d=\"M 1259 4147 \nL 1259 519 \nL 2022 519 \nQ 2988 519 3436 956 \nQ 3884 1394 3884 2338 \nQ 3884 3275 3436 3711 \nQ 2988 4147 2022 4147 \nL 1259 4147 \nz\nM 628 4666 \nL 1925 4666 \nQ 3281 4666 3915 4102 \nQ 4550 3538 4550 2338 \nQ 4550 1131 3912 565 \nQ 3275 0 1925 0 \nL 628 0 \nL 628 4666 \nz\n\" id=\"DejaVuSans-44\" transform=\"scale(0.015625)\"/>\n       </defs>\n       <use xlink:href=\"#DejaVuSans-44\"/>\n      </g>\n     </g>\n    </g>\n    <g id=\"xtick_7\">\n     <g id=\"line2d_7\">\n      <g>\n       <use style=\"stroke:#000000;stroke-width:0.8;\" x=\"258.223125\" xlink:href=\"#m8d82d569cd\" y=\"224.64\"/>\n      </g>\n     </g>\n     <g id=\"text_7\">\n      <!-- E -->\n      <g transform=\"translate(255.06375 239.238437)scale(0.1 -0.1)\">\n       <defs>\n        <path d=\"M 628 4666 \nL 3578 4666 \nL 3578 4134 \nL 1259 4134 \nL 1259 2753 \nL 3481 2753 \nL 3481 2222 \nL 1259 2222 \nL 1259 531 \nL 3634 531 \nL 3634 0 \nL 628 0 \nL 628 4666 \nz\n\" id=\"DejaVuSans-45\" transform=\"scale(0.015625)\"/>\n       </defs>\n       <use xlink:href=\"#DejaVuSans-45\"/>\n      </g>\n     </g>\n    </g>\n    <g id=\"xtick_8\">\n     <g id=\"line2d_8\">\n      <g>\n       <use style=\"stroke:#000000;stroke-width:0.8;\" x=\"291.703125\" xlink:href=\"#m8d82d569cd\" y=\"224.64\"/>\n      </g>\n     </g>\n     <g id=\"text_8\">\n      <!-- Z -->\n      <g transform=\"translate(288.278125 239.238437)scale(0.1 -0.1)\">\n       <defs>\n        <path d=\"M 359 4666 \nL 4025 4666 \nL 4025 4184 \nL 1075 531 \nL 4097 531 \nL 4097 0 \nL 288 0 \nL 288 481 \nL 3238 4134 \nL 359 4134 \nL 359 4666 \nz\n\" id=\"DejaVuSans-5a\" transform=\"scale(0.015625)\"/>\n       </defs>\n       <use xlink:href=\"#DejaVuSans-5a\"/>\n      </g>\n     </g>\n    </g>\n    <g id=\"xtick_9\">\n     <g id=\"line2d_9\">\n      <g>\n       <use style=\"stroke:#000000;stroke-width:0.8;\" x=\"325.183125\" xlink:href=\"#m8d82d569cd\" y=\"224.64\"/>\n      </g>\n     </g>\n     <g id=\"text_9\">\n      <!-- H -->\n      <g transform=\"translate(321.422969 239.238437)scale(0.1 -0.1)\">\n       <defs>\n        <path d=\"M 628 4666 \nL 1259 4666 \nL 1259 2753 \nL 3553 2753 \nL 3553 4666 \nL 4184 4666 \nL 4184 0 \nL 3553 0 \nL 3553 2222 \nL 1259 2222 \nL 1259 0 \nL 628 0 \nL 628 4666 \nz\n\" id=\"DejaVuSans-48\" transform=\"scale(0.015625)\"/>\n       </defs>\n       <use xlink:href=\"#DejaVuSans-48\"/>\n      </g>\n     </g>\n    </g>\n    <g id=\"xtick_10\">\n     <g id=\"line2d_10\">\n      <g>\n       <use style=\"stroke:#000000;stroke-width:0.8;\" x=\"358.663125\" xlink:href=\"#m8d82d569cd\" y=\"224.64\"/>\n      </g>\n     </g>\n     <g id=\"text_10\">\n      <!-- J -->\n      <g transform=\"translate(357.188125 239.238437)scale(0.1 -0.1)\">\n       <defs>\n        <path d=\"M 628 4666 \nL 1259 4666 \nL 1259 325 \nQ 1259 -519 939 -900 \nQ 619 -1281 -91 -1281 \nL -331 -1281 \nL -331 -750 \nL -134 -750 \nQ 284 -750 456 -515 \nQ 628 -281 628 325 \nL 628 4666 \nz\n\" id=\"DejaVuSans-4a\" transform=\"scale(0.015625)\"/>\n       </defs>\n       <use xlink:href=\"#DejaVuSans-4a\"/>\n      </g>\n     </g>\n    </g>\n   </g>\n   <g id=\"matplotlib.axis_2\">\n    <g id=\"ytick_1\">\n     <g id=\"line2d_11\">\n      <defs>\n       <path d=\"M 0 0 \nL -3.5 0 \n\" id=\"m46e3399906\" style=\"stroke:#000000;stroke-width:0.8;\"/>\n      </defs>\n      <g>\n       <use style=\"stroke:#000000;stroke-width:0.8;\" x=\"40.603125\" xlink:href=\"#m46e3399906\" y=\"224.64\"/>\n      </g>\n     </g>\n     <g id=\"text_11\">\n      <!-- 0 -->\n      <g transform=\"translate(27.240625 228.439219)scale(0.1 -0.1)\">\n       <defs>\n        <path d=\"M 2034 4250 \nQ 1547 4250 1301 3770 \nQ 1056 3291 1056 2328 \nQ 1056 1369 1301 889 \nQ 1547 409 2034 409 \nQ 2525 409 2770 889 \nQ 3016 1369 3016 2328 \nQ 3016 3291 2770 3770 \nQ 2525 4250 2034 4250 \nz\nM 2034 4750 \nQ 2819 4750 3233 4129 \nQ 3647 3509 3647 2328 \nQ 3647 1150 3233 529 \nQ 2819 -91 2034 -91 \nQ 1250 -91 836 529 \nQ 422 1150 422 2328 \nQ 422 3509 836 4129 \nQ 1250 4750 2034 4750 \nz\n\" id=\"DejaVuSans-30\" transform=\"scale(0.015625)\"/>\n       </defs>\n       <use xlink:href=\"#DejaVuSans-30\"/>\n      </g>\n     </g>\n    </g>\n    <g id=\"ytick_2\">\n     <g id=\"line2d_12\">\n      <g>\n       <use style=\"stroke:#000000;stroke-width:0.8;\" x=\"40.603125\" xlink:href=\"#m46e3399906\" y=\"186.988052\"/>\n      </g>\n     </g>\n     <g id=\"text_12\">\n      <!-- 2 -->\n      <g transform=\"translate(27.240625 190.787271)scale(0.1 -0.1)\">\n       <defs>\n        <path d=\"M 1228 531 \nL 3431 531 \nL 3431 0 \nL 469 0 \nL 469 531 \nQ 828 903 1448 1529 \nQ 2069 2156 2228 2338 \nQ 2531 2678 2651 2914 \nQ 2772 3150 2772 3378 \nQ 2772 3750 2511 3984 \nQ 2250 4219 1831 4219 \nQ 1534 4219 1204 4116 \nQ 875 4013 500 3803 \nL 500 4441 \nQ 881 4594 1212 4672 \nQ 1544 4750 1819 4750 \nQ 2544 4750 2975 4387 \nQ 3406 4025 3406 3419 \nQ 3406 3131 3298 2873 \nQ 3191 2616 2906 2266 \nQ 2828 2175 2409 1742 \nQ 1991 1309 1228 531 \nz\n\" id=\"DejaVuSans-32\" transform=\"scale(0.015625)\"/>\n       </defs>\n       <use xlink:href=\"#DejaVuSans-32\"/>\n      </g>\n     </g>\n    </g>\n    <g id=\"ytick_3\">\n     <g id=\"line2d_13\">\n      <g>\n       <use style=\"stroke:#000000;stroke-width:0.8;\" x=\"40.603125\" xlink:href=\"#m46e3399906\" y=\"149.336104\"/>\n      </g>\n     </g>\n     <g id=\"text_13\">\n      <!-- 4 -->\n      <g transform=\"translate(27.240625 153.135323)scale(0.1 -0.1)\">\n       <defs>\n        <path d=\"M 2419 4116 \nL 825 1625 \nL 2419 1625 \nL 2419 4116 \nz\nM 2253 4666 \nL 3047 4666 \nL 3047 1625 \nL 3713 1625 \nL 3713 1100 \nL 3047 1100 \nL 3047 0 \nL 2419 0 \nL 2419 1100 \nL 313 1100 \nL 313 1709 \nL 2253 4666 \nz\n\" id=\"DejaVuSans-34\" transform=\"scale(0.015625)\"/>\n       </defs>\n       <use xlink:href=\"#DejaVuSans-34\"/>\n      </g>\n     </g>\n    </g>\n    <g id=\"ytick_4\">\n     <g id=\"line2d_14\">\n      <g>\n       <use style=\"stroke:#000000;stroke-width:0.8;\" x=\"40.603125\" xlink:href=\"#m46e3399906\" y=\"111.684156\"/>\n      </g>\n     </g>\n     <g id=\"text_14\">\n      <!-- 6 -->\n      <g transform=\"translate(27.240625 115.483375)scale(0.1 -0.1)\">\n       <defs>\n        <path d=\"M 2113 2584 \nQ 1688 2584 1439 2293 \nQ 1191 2003 1191 1497 \nQ 1191 994 1439 701 \nQ 1688 409 2113 409 \nQ 2538 409 2786 701 \nQ 3034 994 3034 1497 \nQ 3034 2003 2786 2293 \nQ 2538 2584 2113 2584 \nz\nM 3366 4563 \nL 3366 3988 \nQ 3128 4100 2886 4159 \nQ 2644 4219 2406 4219 \nQ 1781 4219 1451 3797 \nQ 1122 3375 1075 2522 \nQ 1259 2794 1537 2939 \nQ 1816 3084 2150 3084 \nQ 2853 3084 3261 2657 \nQ 3669 2231 3669 1497 \nQ 3669 778 3244 343 \nQ 2819 -91 2113 -91 \nQ 1303 -91 875 529 \nQ 447 1150 447 2328 \nQ 447 3434 972 4092 \nQ 1497 4750 2381 4750 \nQ 2619 4750 2861 4703 \nQ 3103 4656 3366 4563 \nz\n\" id=\"DejaVuSans-36\" transform=\"scale(0.015625)\"/>\n       </defs>\n       <use xlink:href=\"#DejaVuSans-36\"/>\n      </g>\n     </g>\n    </g>\n    <g id=\"ytick_5\">\n     <g id=\"line2d_15\">\n      <g>\n       <use style=\"stroke:#000000;stroke-width:0.8;\" x=\"40.603125\" xlink:href=\"#m46e3399906\" y=\"74.032208\"/>\n      </g>\n     </g>\n     <g id=\"text_15\">\n      <!-- 8 -->\n      <g transform=\"translate(27.240625 77.831427)scale(0.1 -0.1)\">\n       <defs>\n        <path d=\"M 2034 2216 \nQ 1584 2216 1326 1975 \nQ 1069 1734 1069 1313 \nQ 1069 891 1326 650 \nQ 1584 409 2034 409 \nQ 2484 409 2743 651 \nQ 3003 894 3003 1313 \nQ 3003 1734 2745 1975 \nQ 2488 2216 2034 2216 \nz\nM 1403 2484 \nQ 997 2584 770 2862 \nQ 544 3141 544 3541 \nQ 544 4100 942 4425 \nQ 1341 4750 2034 4750 \nQ 2731 4750 3128 4425 \nQ 3525 4100 3525 3541 \nQ 3525 3141 3298 2862 \nQ 3072 2584 2669 2484 \nQ 3125 2378 3379 2068 \nQ 3634 1759 3634 1313 \nQ 3634 634 3220 271 \nQ 2806 -91 2034 -91 \nQ 1263 -91 848 271 \nQ 434 634 434 1313 \nQ 434 1759 690 2068 \nQ 947 2378 1403 2484 \nz\nM 1172 3481 \nQ 1172 3119 1398 2916 \nQ 1625 2713 2034 2713 \nQ 2441 2713 2670 2916 \nQ 2900 3119 2900 3481 \nQ 2900 3844 2670 4047 \nQ 2441 4250 2034 4250 \nQ 1625 4250 1398 4047 \nQ 1172 3844 1172 3481 \nz\n\" id=\"DejaVuSans-38\" transform=\"scale(0.015625)\"/>\n       </defs>\n       <use xlink:href=\"#DejaVuSans-38\"/>\n      </g>\n     </g>\n    </g>\n    <g id=\"ytick_6\">\n     <g id=\"line2d_16\">\n      <g>\n       <use style=\"stroke:#000000;stroke-width:0.8;\" x=\"40.603125\" xlink:href=\"#m46e3399906\" y=\"36.38026\"/>\n      </g>\n     </g>\n     <g id=\"text_16\">\n      <!-- 10 -->\n      <g transform=\"translate(20.878125 40.179478)scale(0.1 -0.1)\">\n       <defs>\n        <path d=\"M 794 531 \nL 1825 531 \nL 1825 4091 \nL 703 3866 \nL 703 4441 \nL 1819 4666 \nL 2450 4666 \nL 2450 531 \nL 3481 531 \nL 3481 0 \nL 794 0 \nL 794 531 \nz\n\" id=\"DejaVuSans-31\" transform=\"scale(0.015625)\"/>\n       </defs>\n       <use xlink:href=\"#DejaVuSans-31\"/>\n       <use x=\"63.623047\" xlink:href=\"#DejaVuSans-30\"/>\n      </g>\n     </g>\n    </g>\n    <g id=\"text_17\">\n     <!-- count -->\n     <g transform=\"translate(14.798438 130.02625)rotate(-90)scale(0.1 -0.1)\">\n      <defs>\n       <path d=\"M 3122 3366 \nL 3122 2828 \nQ 2878 2963 2633 3030 \nQ 2388 3097 2138 3097 \nQ 1578 3097 1268 2742 \nQ 959 2388 959 1747 \nQ 959 1106 1268 751 \nQ 1578 397 2138 397 \nQ 2388 397 2633 464 \nQ 2878 531 3122 666 \nL 3122 134 \nQ 2881 22 2623 -34 \nQ 2366 -91 2075 -91 \nQ 1284 -91 818 406 \nQ 353 903 353 1747 \nQ 353 2603 823 3093 \nQ 1294 3584 2113 3584 \nQ 2378 3584 2631 3529 \nQ 2884 3475 3122 3366 \nz\n\" id=\"DejaVuSans-63\" transform=\"scale(0.015625)\"/>\n       <path d=\"M 1959 3097 \nQ 1497 3097 1228 2736 \nQ 959 2375 959 1747 \nQ 959 1119 1226 758 \nQ 1494 397 1959 397 \nQ 2419 397 2687 759 \nQ 2956 1122 2956 1747 \nQ 2956 2369 2687 2733 \nQ 2419 3097 1959 3097 \nz\nM 1959 3584 \nQ 2709 3584 3137 3096 \nQ 3566 2609 3566 1747 \nQ 3566 888 3137 398 \nQ 2709 -91 1959 -91 \nQ 1206 -91 779 398 \nQ 353 888 353 1747 \nQ 353 2609 779 3096 \nQ 1206 3584 1959 3584 \nz\n\" id=\"DejaVuSans-6f\" transform=\"scale(0.015625)\"/>\n       <path d=\"M 544 1381 \nL 544 3500 \nL 1119 3500 \nL 1119 1403 \nQ 1119 906 1312 657 \nQ 1506 409 1894 409 \nQ 2359 409 2629 706 \nQ 2900 1003 2900 1516 \nL 2900 3500 \nL 3475 3500 \nL 3475 0 \nL 2900 0 \nL 2900 538 \nQ 2691 219 2414 64 \nQ 2138 -91 1772 -91 \nQ 1169 -91 856 284 \nQ 544 659 544 1381 \nz\nM 1991 3584 \nL 1991 3584 \nz\n\" id=\"DejaVuSans-75\" transform=\"scale(0.015625)\"/>\n       <path d=\"M 3513 2113 \nL 3513 0 \nL 2938 0 \nL 2938 2094 \nQ 2938 2591 2744 2837 \nQ 2550 3084 2163 3084 \nQ 1697 3084 1428 2787 \nQ 1159 2491 1159 1978 \nL 1159 0 \nL 581 0 \nL 581 3500 \nL 1159 3500 \nL 1159 2956 \nQ 1366 3272 1645 3428 \nQ 1925 3584 2291 3584 \nQ 2894 3584 3203 3211 \nQ 3513 2838 3513 2113 \nz\n\" id=\"DejaVuSans-6e\" transform=\"scale(0.015625)\"/>\n       <path d=\"M 1172 4494 \nL 1172 3500 \nL 2356 3500 \nL 2356 3053 \nL 1172 3053 \nL 1172 1153 \nQ 1172 725 1289 603 \nQ 1406 481 1766 481 \nL 2356 481 \nL 2356 0 \nL 1766 0 \nQ 1100 0 847 248 \nQ 594 497 594 1153 \nL 594 3053 \nL 172 3053 \nL 172 3500 \nL 594 3500 \nL 594 4494 \nL 1172 4494 \nz\n\" id=\"DejaVuSans-74\" transform=\"scale(0.015625)\"/>\n      </defs>\n      <use xlink:href=\"#DejaVuSans-63\"/>\n      <use x=\"54.980469\" xlink:href=\"#DejaVuSans-6f\"/>\n      <use x=\"116.162109\" xlink:href=\"#DejaVuSans-75\"/>\n      <use x=\"179.541016\" xlink:href=\"#DejaVuSans-6e\"/>\n      <use x=\"242.919922\" xlink:href=\"#DejaVuSans-74\"/>\n     </g>\n    </g>\n   </g>\n   <g id=\"patch_13\">\n    <path d=\"M 40.603125 224.64 \nL 40.603125 7.2 \n\" style=\"fill:none;stroke:#000000;stroke-linecap:square;stroke-linejoin:miter;stroke-width:0.8;\"/>\n   </g>\n   <g id=\"patch_14\">\n    <path d=\"M 375.403125 224.64 \nL 375.403125 7.2 \n\" style=\"fill:none;stroke:#000000;stroke-linecap:square;stroke-linejoin:miter;stroke-width:0.8;\"/>\n   </g>\n   <g id=\"patch_15\">\n    <path d=\"M 40.603125 224.64 \nL 375.403125 224.64 \n\" style=\"fill:none;stroke:#000000;stroke-linecap:square;stroke-linejoin:miter;stroke-width:0.8;\"/>\n   </g>\n   <g id=\"patch_16\">\n    <path d=\"M 40.603125 7.2 \nL 375.403125 7.2 \n\" style=\"fill:none;stroke:#000000;stroke-linecap:square;stroke-linejoin:miter;stroke-width:0.8;\"/>\n   </g>\n  </g>\n </g>\n <defs>\n  <clipPath id=\"ped2f50f08b\">\n   <rect height=\"217.44\" width=\"334.8\" x=\"40.603125\" y=\"7.2\"/>\n  </clipPath>\n </defs>\n</svg>\n",
      "image/png": "[encoded data removed]"
     },
     "metadata": {
      "needs_background": "light"
     }
    }
   ],
   "source": [
    "import seaborn as sns\n",
    "\n",
    "sns.countplot(tokens);"
   ]
  },
  {
   "cell_type": "markdown",
   "metadata": {
    "id": "o3TbbxfHGEqo"
   },
   "source": [
    "The most common character in our sequence is  \"F\". We can't just glance at the the sequence to know which character is the most common. We (humans) struggle to subitize complex data (like random text sequences).\n",
    "\n",
    "> __Subitize__ is the ability to tell the number of objects in a set, quickly, without counting.  \n",
    "\n",
    "We need to chunk the data into countable pieces \"tokens\" for us to analyze them. This inability subitize text data is the motivation for our discussion today."
   ]
  },
  {
   "cell_type": "markdown",
   "metadata": {
    "id": "UMa8NJjlGEqo",
    "toc-hr-collapsed": true
   },
   "source": [
    "### Tokenizing with Pure Python"
   ]
  },
  {
   "cell_type": "code",
   "execution_count": 7,
   "metadata": {
    "id": "im96HX4XGEqp"
   },
   "outputs": [],
   "source": [
    "sample = \"Friends, Romans, countrymen, lend me your ears;\""
   ]
  },
  {
   "cell_type": "markdown",
   "metadata": {
    "id": "Q8ACUekrGEqr"
   },
   "source": [
    "##### Iterable Tokens\n",
    "\n",
    "A string object in Python is already iterable. However, the item you iterate over is a character not a token:\n",
    "\n",
    "```\n",
    "from time import sleep\n",
    "for num, character in enumerate(sample):\n",
    "    sleep(.5)\n",
    "    print(f\"Char {num} - {character}\", end=\"\\r\")\n",
    "```\n",
    "\n",
    "If we instead care about the words in our sample (our semantic unit), we can use the string method `.split()` to separate the whitespace and create iterable units. :)"
   ]
  },
  {
   "cell_type": "code",
   "execution_count": 8,
   "metadata": {},
   "outputs": [
    {
     "output_type": "execute_result",
     "data": {
      "text/plain": [
       "['__add__',\n",
       " '__class__',\n",
       " '__contains__',\n",
       " '__delattr__',\n",
       " '__dir__',\n",
       " '__doc__',\n",
       " '__eq__',\n",
       " '__format__',\n",
       " '__ge__',\n",
       " '__getattribute__',\n",
       " '__getitem__',\n",
       " '__getnewargs__',\n",
       " '__gt__',\n",
       " '__hash__',\n",
       " '__init__',\n",
       " '__init_subclass__',\n",
       " '__iter__',\n",
       " '__le__',\n",
       " '__len__',\n",
       " '__lt__',\n",
       " '__mod__',\n",
       " '__mul__',\n",
       " '__ne__',\n",
       " '__new__',\n",
       " '__reduce__',\n",
       " '__reduce_ex__',\n",
       " '__repr__',\n",
       " '__rmod__',\n",
       " '__rmul__',\n",
       " '__setattr__',\n",
       " '__sizeof__',\n",
       " '__str__',\n",
       " '__subclasshook__',\n",
       " 'capitalize',\n",
       " 'casefold',\n",
       " 'center',\n",
       " 'count',\n",
       " 'encode',\n",
       " 'endswith',\n",
       " 'expandtabs',\n",
       " 'find',\n",
       " 'format',\n",
       " 'format_map',\n",
       " 'index',\n",
       " 'isalnum',\n",
       " 'isalpha',\n",
       " 'isascii',\n",
       " 'isdecimal',\n",
       " 'isdigit',\n",
       " 'isidentifier',\n",
       " 'islower',\n",
       " 'isnumeric',\n",
       " 'isprintable',\n",
       " 'isspace',\n",
       " 'istitle',\n",
       " 'isupper',\n",
       " 'join',\n",
       " 'ljust',\n",
       " 'lower',\n",
       " 'lstrip',\n",
       " 'maketrans',\n",
       " 'partition',\n",
       " 'replace',\n",
       " 'rfind',\n",
       " 'rindex',\n",
       " 'rjust',\n",
       " 'rpartition',\n",
       " 'rsplit',\n",
       " 'rstrip',\n",
       " 'split',\n",
       " 'splitlines',\n",
       " 'startswith',\n",
       " 'strip',\n",
       " 'swapcase',\n",
       " 'title',\n",
       " 'translate',\n",
       " 'upper',\n",
       " 'zfill']"
      ]
     },
     "metadata": {},
     "execution_count": 8
    }
   ],
   "source": [
    "dir(sample)"
   ]
  },
  {
   "cell_type": "code",
   "execution_count": 9,
   "metadata": {
    "colab": {
     "base_uri": "https://localhost:8080/",
     "height": 34
    },
    "id": "Q5Vh69V5GEqr",
    "outputId": "c16dd32b-fb89-4598-ef93-8a7b8c17122d"
   },
   "outputs": [
    {
     "output_type": "execute_result",
     "data": {
      "text/plain": [
       "['Friends,', 'Romans,', 'countrymen,', 'lend', 'me', 'your', 'ears;']"
      ]
     },
     "metadata": {},
     "execution_count": 9
    }
   ],
   "source": [
    "sample.split(\" \")"
   ]
  },
  {
   "cell_type": "markdown",
   "metadata": {
    "id": "3h3fMFY0GEqu"
   },
   "source": [
    "##### Case Normalization\n",
    "A common data cleaning data cleaning task with token is to standardize or normalize the case. Normalizing case reduces the chance that you have duplicate records for things which have practically the same semantic meaning. You can use either the `.lower()` or `.upper()` string methods to normalize case.\n",
    "\n",
    "Consider the following example: "
   ]
  },
  {
   "cell_type": "code",
   "execution_count": 10,
   "metadata": {
    "id": "i2K43cyJGEqu"
   },
   "outputs": [
    {
     "output_type": "stream",
     "name": "stdout",
     "text": [
      "(28332, 24)\n"
     ]
    }
   ],
   "source": [
    "import pandas as pd\n",
    "df = pd.read_csv('./data/Datafiniti_Amazon_Consumer_Reviews_of_Amazon_Products_May19.csv')\n",
    "print(df.shape)"
   ]
  },
  {
   "cell_type": "code",
   "execution_count": 11,
   "metadata": {},
   "outputs": [
    {
     "output_type": "execute_result",
     "data": {
      "text/plain": [
       "                     id             dateAdded           dateUpdated  \\\n",
       "0  AVpgNzjwLJeJML43Kpxn  2015-10-30T08:59:32Z  2019-04-25T09:08:16Z   \n",
       "1  AVpgNzjwLJeJML43Kpxn  2015-10-30T08:59:32Z  2019-04-25T09:08:16Z   \n",
       "\n",
       "                                                name                  asins  \\\n",
       "0  AmazonBasics AAA Performance Alkaline Batterie...  B00QWO9P0O,B00LH3DMUO   \n",
       "1  AmazonBasics AAA Performance Alkaline Batterie...  B00QWO9P0O,B00LH3DMUO   \n",
       "\n",
       "          brand                                         categories  \\\n",
       "0  Amazonbasics  AA,AAA,Health,Electronics,Health & Household,C...   \n",
       "1  Amazonbasics  AA,AAA,Health,Electronics,Health & Household,C...   \n",
       "\n",
       "  primaryCategories                                          imageURLs  \\\n",
       "0   Health & Beauty  https://images-na.ssl-images-amazon.com/images...   \n",
       "1   Health & Beauty  https://images-na.ssl-images-amazon.com/images...   \n",
       "\n",
       "                                                keys  ... reviews.didPurchase  \\\n",
       "0  amazonbasics/hl002619,amazonbasicsaaaperforman...  ...                 NaN   \n",
       "1  amazonbasics/hl002619,amazonbasicsaaaperforman...  ...                 NaN   \n",
       "\n",
       "  reviews.doRecommend reviews.id reviews.numHelpful reviews.rating  \\\n",
       "0                 NaN        NaN                NaN              3   \n",
       "1                 NaN        NaN                NaN              4   \n",
       "\n",
       "                                  reviews.sourceURLs  \\\n",
       "0  https://www.amazon.com/product-reviews/B00QWO9...   \n",
       "1  https://www.amazon.com/product-reviews/B00QWO9...   \n",
       "\n",
       "                                        reviews.text  \\\n",
       "0  I order 3 of them and one of the item is bad q...   \n",
       "1  Bulk is always the less expensive way to go fo...   \n",
       "\n",
       "                                       reviews.title  reviews.username  \\\n",
       "0  ... 3 of them and one of the item is bad quali...        Byger yang   \n",
       "1  ... always the less expensive way to go for pr...              ByMG   \n",
       "\n",
       "                                          sourceURLs  \n",
       "0  https://www.barcodable.com/upc/841710106442,ht...  \n",
       "1  https://www.barcodable.com/upc/841710106442,ht...  \n",
       "\n",
       "[2 rows x 24 columns]"
      ],
      "text/html": "<div>\n<style scoped>\n    .dataframe tbody tr th:only-of-type {\n        vertical-align: middle;\n    }\n\n    .dataframe tbody tr th {\n        vertical-align: top;\n    }\n\n    .dataframe thead th {\n        text-align: right;\n    }\n</style>\n<table border=\"1\" class=\"dataframe\">\n  <thead>\n    <tr style=\"text-align: right;\">\n      <th></th>\n      <th>id</th>\n      <th>dateAdded</th>\n      <th>dateUpdated</th>\n      <th>name</th>\n      <th>asins</th>\n      <th>brand</th>\n      <th>categories</th>\n      <th>primaryCategories</th>\n      <th>imageURLs</th>\n      <th>keys</th>\n      <th>...</th>\n      <th>reviews.didPurchase</th>\n      <th>reviews.doRecommend</th>\n      <th>reviews.id</th>\n      <th>reviews.numHelpful</th>\n      <th>reviews.rating</th>\n      <th>reviews.sourceURLs</th>\n      <th>reviews.text</th>\n      <th>reviews.title</th>\n      <th>reviews.username</th>\n      <th>sourceURLs</th>\n    </tr>\n  </thead>\n  <tbody>\n    <tr>\n      <th>0</th>\n      <td>AVpgNzjwLJeJML43Kpxn</td>\n      <td>2015-10-30T08:59:32Z</td>\n      <td>2019-04-25T09:08:16Z</td>\n      <td>AmazonBasics AAA Performance Alkaline Batterie...</td>\n      <td>B00QWO9P0O,B00LH3DMUO</td>\n      <td>Amazonbasics</td>\n      <td>AA,AAA,Health,Electronics,Health &amp; Household,C...</td>\n      <td>Health &amp; Beauty</td>\n      <td>https://images-na.ssl-images-amazon.com/images...</td>\n      <td>amazonbasics/hl002619,amazonbasicsaaaperforman...</td>\n      <td>...</td>\n      <td>NaN</td>\n      <td>NaN</td>\n      <td>NaN</td>\n      <td>NaN</td>\n      <td>3</td>\n      <td>https://www.amazon.com/product-reviews/B00QWO9...</td>\n      <td>I order 3 of them and one of the item is bad q...</td>\n      <td>... 3 of them and one of the item is bad quali...</td>\n      <td>Byger yang</td>\n      <td>https://www.barcodable.com/upc/841710106442,ht...</td>\n    </tr>\n    <tr>\n      <th>1</th>\n      <td>AVpgNzjwLJeJML43Kpxn</td>\n      <td>2015-10-30T08:59:32Z</td>\n      <td>2019-04-25T09:08:16Z</td>\n      <td>AmazonBasics AAA Performance Alkaline Batterie...</td>\n      <td>B00QWO9P0O,B00LH3DMUO</td>\n      <td>Amazonbasics</td>\n      <td>AA,AAA,Health,Electronics,Health &amp; Household,C...</td>\n      <td>Health &amp; Beauty</td>\n      <td>https://images-na.ssl-images-amazon.com/images...</td>\n      <td>amazonbasics/hl002619,amazonbasicsaaaperforman...</td>\n      <td>...</td>\n      <td>NaN</td>\n      <td>NaN</td>\n      <td>NaN</td>\n      <td>NaN</td>\n      <td>4</td>\n      <td>https://www.amazon.com/product-reviews/B00QWO9...</td>\n      <td>Bulk is always the less expensive way to go fo...</td>\n      <td>... always the less expensive way to go for pr...</td>\n      <td>ByMG</td>\n      <td>https://www.barcodable.com/upc/841710106442,ht...</td>\n    </tr>\n  </tbody>\n</table>\n<p>2 rows × 24 columns</p>\n</div>"
     },
     "metadata": {},
     "execution_count": 11
    }
   ],
   "source": [
    "df.head(2)"
   ]
  },
  {
   "cell_type": "code",
   "execution_count": 12,
   "metadata": {},
   "outputs": [
    {
     "output_type": "execute_result",
     "data": {
      "text/plain": [
       "5    19897\n",
       "4     5648\n",
       "3     1206\n",
       "1      965\n",
       "2      616\n",
       "Name: reviews.rating, dtype: int64"
      ]
     },
     "metadata": {},
     "execution_count": 12
    }
   ],
   "source": [
    "df['reviews.rating'].value_counts()"
   ]
  },
  {
   "cell_type": "code",
   "execution_count": 13,
   "metadata": {},
   "outputs": [
    {
     "output_type": "execute_result",
     "data": {
      "text/plain": [
       "5    0.702280\n",
       "4    0.199351\n",
       "3    0.042567\n",
       "1    0.034060\n",
       "2    0.021742\n",
       "Name: reviews.rating, dtype: float64"
      ]
     },
     "metadata": {},
     "execution_count": 13
    }
   ],
   "source": [
    "df['reviews.rating'].value_counts(normalize=True)"
   ]
  },
  {
   "cell_type": "code",
   "execution_count": 14,
   "metadata": {
    "colab": {
     "base_uri": "https://localhost:8080/",
     "height": 85
    },
    "deletable": false,
    "id": "vbsvd0VvGEqx",
    "nbgrader": {
     "cell_type": "code",
     "checksum": "e986ee4afc96df48ac674f9b99732272",
     "grade": false,
     "grade_id": "cell-a170e7dda094d54e",
     "locked": false,
     "schema_version": 3,
     "solution": true,
     "task": false
    },
    "outputId": "ee9a8342-c843-449e-ac69-b52d6668bb05"
   },
   "outputs": [],
   "source": [
    "# Get the count of how many times each unique brand occurs \n",
    "\n",
    "# YOUR CODE HERE\n",
    "# raise NotImplementedError()"
   ]
  },
  {
   "cell_type": "markdown",
   "metadata": {
    "id": "YkhFYsNXGEq1"
   },
   "source": [
    "##### Keep Only Alphanumeric Characters\n",
    "Yes, we only want letters and numbers. Everything else is probably noise: punctuation, whitespace, and other notation. This one is little bit more complicated than our previous example. Here we will have to import the base package `re` (regular expressions). \n",
    "\n",
    "The only regex expression pattern you need for this is `'[^a-zA-Z 0-9]'` which keeps lower case letters, upper case letters, spaces, and numbers."
   ]
  },
  {
   "cell_type": "code",
   "execution_count": 15,
   "metadata": {},
   "outputs": [
    {
     "output_type": "execute_result",
     "data": {
      "text/plain": [
       "Amazon          16153\n",
       "Amazonbasics    12169\n",
       "AmazonBasics       10\n",
       "Name: brand, dtype: int64"
      ]
     },
     "metadata": {},
     "execution_count": 15
    }
   ],
   "source": [
    "df['brand'].value_counts()"
   ]
  },
  {
   "cell_type": "code",
   "execution_count": 16,
   "metadata": {},
   "outputs": [
    {
     "output_type": "execute_result",
     "data": {
      "text/plain": [
       "amazon          16153\n",
       "amazonbasics    12179\n",
       "Name: brand, dtype: int64"
      ]
     },
     "metadata": {},
     "execution_count": 16
    }
   ],
   "source": [
    "df['brand'] = df['brand'].apply(lambda x: x.lower())\n",
    "df['brand'].value_counts()"
   ]
  },
  {
   "cell_type": "code",
   "execution_count": 17,
   "metadata": {},
   "outputs": [
    {
     "output_type": "execute_result",
     "data": {
      "text/plain": [
       "amazon          16153\n",
       "amazonbasics    12179\n",
       "Name: brand, dtype: int64"
      ]
     },
     "metadata": {},
     "execution_count": 17
    }
   ],
   "source": [
    "# Get the count of how many times each unique brand occurs\n",
    "df['brand'] = df['brand'].apply(lambda x: x.lower())\n",
    "df.brand.value_counts()\n"
   ]
  },
  {
   "cell_type": "code",
   "execution_count": 18,
   "metadata": {
    "colab": {
     "base_uri": "https://localhost:8080/",
     "height": 37
    },
    "id": "YRY7kKSAGEq4",
    "outputId": "050ddca4-0c50-40bb-95be-c06c4e3d1055"
   },
   "outputs": [
    {
     "output_type": "stream",
     "name": "stdout",
     "text": [
      "Friends, Romans, countrymen, lend me your ears; 911\n"
     ]
    }
   ],
   "source": [
    "sample = sample +\" 911\"\n",
    "print(sample)"
   ]
  },
  {
   "cell_type": "code",
   "execution_count": 19,
   "metadata": {
    "colab": {
     "base_uri": "https://localhost:8080/",
     "height": 37
    },
    "id": "YRY7kKSAGEq4",
    "outputId": "050ddca4-0c50-40bb-95be-c06c4e3d1055"
   },
   "outputs": [
    {
     "output_type": "execute_result",
     "data": {
      "text/plain": [
       "'Friends Romans countrymen lend me your ears 911'"
      ]
     },
     "metadata": {},
     "execution_count": 19
    }
   ],
   "source": [
    "import re\n",
    "\n",
    "re.sub('[^a-zA-Z 0-9]', '', sample)"
   ]
  },
  {
   "cell_type": "markdown",
   "metadata": {
    "id": "obloLh7rGEq7"
   },
   "source": [
    "#### Two Minute Challenge \n",
    "- Complete the function `tokenize` below\n",
    "- Combine the methods which we discussed above to clean text before we analyze it\n",
    "- You can put the methods in any order you want"
   ]
  },
  {
   "cell_type": "code",
   "execution_count": 20,
   "metadata": {
    "deletable": false,
    "id": "0zgbOnoIGEq7",
    "nbgrader": {
     "cell_type": "code",
     "checksum": "0f09207520f5a3a425756889e9cf78aa",
     "grade": false,
     "grade_id": "cell-42630c1891924a1a",
     "locked": false,
     "schema_version": 3,
     "solution": true,
     "task": false
    }
   },
   "outputs": [],
   "source": [
    "def tokenize(text):\n",
    "    \"\"\"Parses a string into a list of semantic units (words)\n",
    "\n",
    "    Args:\n",
    "        text (str): The string that the function will tokenize.\n",
    "\n",
    "    Returns:\n",
    "        list: tokens parsed out by the mechanics of your choice\n",
    "    \"\"\"\n",
    "    lower = text.lower()\n",
    "    tokens_no_punc  = re.sub('[^a-z 0-9]', '', lower)\n",
    "    tokens = tokens_no_punc.split()    \n",
    "\n",
    "    return tokens"
   ]
  },
  {
   "cell_type": "code",
   "execution_count": 21,
   "metadata": {},
   "outputs": [
    {
     "output_type": "execute_result",
     "data": {
      "text/plain": [
       "'Friends, Romans, countrymen, lend me your ears; 911'"
      ]
     },
     "metadata": {},
     "execution_count": 21
    }
   ],
   "source": [
    "sample"
   ]
  },
  {
   "cell_type": "code",
   "execution_count": 22,
   "metadata": {
    "colab": {
     "base_uri": "https://localhost:8080/",
     "height": 34
    },
    "id": "qWsYy-LqGEq9",
    "outputId": "22ff3fdc-2185-4224-b42e-42ccaeb9663e"
   },
   "outputs": [
    {
     "output_type": "execute_result",
     "data": {
      "text/plain": [
       "['friends', 'romans', 'countrymen', 'lend', 'me', 'your', 'ears', '911']"
      ]
     },
     "metadata": {},
     "execution_count": 22
    }
   ],
   "source": [
    "# this should be your output\n",
    "tokenize(sample)"
   ]
  },
  {
   "cell_type": "code",
   "execution_count": 23,
   "metadata": {
    "tags": []
   },
   "outputs": [
    {
     "output_type": "stream",
     "name": "stdout",
     "text": [
      "3924466\n"
     ]
    }
   ],
   "source": [
    "long_string = ' '.join(df['reviews.text'].to_list())\n",
    "print(len(long_string))"
   ]
  },
  {
   "cell_type": "code",
   "execution_count": 24,
   "metadata": {},
   "outputs": [
    {
     "output_type": "stream",
     "name": "stdout",
     "text": [
      "111\n"
     ]
    },
    {
     "output_type": "execute_result",
     "data": {
      "text/plain": [
       "{' ',\n",
       " '!',\n",
       " '\"',\n",
       " '#',\n",
       " '$',\n",
       " '%',\n",
       " '&',\n",
       " \"'\",\n",
       " '(',\n",
       " ')',\n",
       " '*',\n",
       " '+',\n",
       " ',',\n",
       " '-',\n",
       " '.',\n",
       " '/',\n",
       " '0',\n",
       " '1',\n",
       " '2',\n",
       " '3',\n",
       " '4',\n",
       " '5',\n",
       " '6',\n",
       " '7',\n",
       " '8',\n",
       " '9',\n",
       " ':',\n",
       " ';',\n",
       " '<',\n",
       " '=',\n",
       " '>',\n",
       " '?',\n",
       " '@',\n",
       " 'A',\n",
       " 'B',\n",
       " 'C',\n",
       " 'D',\n",
       " 'E',\n",
       " 'F',\n",
       " 'G',\n",
       " 'H',\n",
       " 'I',\n",
       " 'J',\n",
       " 'K',\n",
       " 'L',\n",
       " 'M',\n",
       " 'N',\n",
       " 'O',\n",
       " 'P',\n",
       " 'Q',\n",
       " 'R',\n",
       " 'S',\n",
       " 'T',\n",
       " 'U',\n",
       " 'V',\n",
       " 'W',\n",
       " 'X',\n",
       " 'Y',\n",
       " 'Z',\n",
       " '_',\n",
       " '`',\n",
       " 'a',\n",
       " 'b',\n",
       " 'c',\n",
       " 'd',\n",
       " 'e',\n",
       " 'f',\n",
       " 'g',\n",
       " 'h',\n",
       " 'i',\n",
       " 'j',\n",
       " 'k',\n",
       " 'l',\n",
       " 'm',\n",
       " 'n',\n",
       " 'o',\n",
       " 'p',\n",
       " 'q',\n",
       " 'r',\n",
       " 's',\n",
       " 't',\n",
       " 'u',\n",
       " 'v',\n",
       " 'w',\n",
       " 'x',\n",
       " 'y',\n",
       " 'z',\n",
       " '{',\n",
       " '|',\n",
       " '©',\n",
       " '¬',\n",
       " '¶',\n",
       " 'º',\n",
       " 'Ä',\n",
       " 'Å',\n",
       " 'Ô',\n",
       " 'ã',\n",
       " 'è',\n",
       " 'ì',\n",
       " 'ò',\n",
       " 'ô',\n",
       " 'ù',\n",
       " 'ú',\n",
       " 'ƒ',\n",
       " '‚',\n",
       " '†',\n",
       " '∏',\n",
       " '√',\n",
       " '∞',\n",
       " '∫',\n",
       " '≤'}"
      ]
     },
     "metadata": {},
     "execution_count": 24
    }
   ],
   "source": [
    "unique_chars = set(list(long_string)) # set gives you a unique character\n",
    "print(len(unique_chars))\n",
    "unique_chars"
   ]
  },
  {
   "cell_type": "code",
   "execution_count": 25,
   "metadata": {},
   "outputs": [
    {
     "output_type": "stream",
     "name": "stdout",
     "text": [
      "111\n"
     ]
    },
    {
     "output_type": "execute_result",
     "data": {
      "text/plain": [
       "{' ',\n",
       " '!',\n",
       " '\"',\n",
       " '#',\n",
       " '$',\n",
       " '%',\n",
       " '&',\n",
       " \"'\",\n",
       " '(',\n",
       " ')',\n",
       " '*',\n",
       " '+',\n",
       " ',',\n",
       " '-',\n",
       " '.',\n",
       " '/',\n",
       " '0',\n",
       " '1',\n",
       " '2',\n",
       " '3',\n",
       " '4',\n",
       " '5',\n",
       " '6',\n",
       " '7',\n",
       " '8',\n",
       " '9',\n",
       " ':',\n",
       " ';',\n",
       " '<',\n",
       " '=',\n",
       " '>',\n",
       " '?',\n",
       " '@',\n",
       " 'A',\n",
       " 'B',\n",
       " 'C',\n",
       " 'D',\n",
       " 'E',\n",
       " 'F',\n",
       " 'G',\n",
       " 'H',\n",
       " 'I',\n",
       " 'J',\n",
       " 'K',\n",
       " 'L',\n",
       " 'M',\n",
       " 'N',\n",
       " 'O',\n",
       " 'P',\n",
       " 'Q',\n",
       " 'R',\n",
       " 'S',\n",
       " 'T',\n",
       " 'U',\n",
       " 'V',\n",
       " 'W',\n",
       " 'X',\n",
       " 'Y',\n",
       " 'Z',\n",
       " '_',\n",
       " '`',\n",
       " 'a',\n",
       " 'b',\n",
       " 'c',\n",
       " 'd',\n",
       " 'e',\n",
       " 'f',\n",
       " 'g',\n",
       " 'h',\n",
       " 'i',\n",
       " 'j',\n",
       " 'k',\n",
       " 'l',\n",
       " 'm',\n",
       " 'n',\n",
       " 'o',\n",
       " 'p',\n",
       " 'q',\n",
       " 'r',\n",
       " 's',\n",
       " 't',\n",
       " 'u',\n",
       " 'v',\n",
       " 'w',\n",
       " 'x',\n",
       " 'y',\n",
       " 'z',\n",
       " '{',\n",
       " '|',\n",
       " '©',\n",
       " '¬',\n",
       " '¶',\n",
       " 'º',\n",
       " 'Ä',\n",
       " 'Å',\n",
       " 'Ô',\n",
       " 'ã',\n",
       " 'è',\n",
       " 'ì',\n",
       " 'ò',\n",
       " 'ô',\n",
       " 'ù',\n",
       " 'ú',\n",
       " 'ƒ',\n",
       " '‚',\n",
       " '†',\n",
       " '∏',\n",
       " '√',\n",
       " '∞',\n",
       " '∫',\n",
       " '≤'}"
      ]
     },
     "metadata": {},
     "execution_count": 25
    }
   ],
   "source": [
    "clean_string = re.sub('[^a-zA-Z 0-9]', '', long_string)\n",
    "unique_chars = set(list(long_string)) # set gives you a unique character\n",
    "print(len(unique_chars))\n",
    "unique_chars"
   ]
  },
  {
   "cell_type": "code",
   "execution_count": 26,
   "metadata": {},
   "outputs": [
    {
     "output_type": "stream",
     "name": "stdout",
     "text": [
      "111\n"
     ]
    },
    {
     "output_type": "execute_result",
     "data": {
      "text/plain": [
       "{' ',\n",
       " '!',\n",
       " '\"',\n",
       " '#',\n",
       " '$',\n",
       " '%',\n",
       " '&',\n",
       " \"'\",\n",
       " '(',\n",
       " ')',\n",
       " '*',\n",
       " '+',\n",
       " ',',\n",
       " '-',\n",
       " '.',\n",
       " '/',\n",
       " '0',\n",
       " '1',\n",
       " '2',\n",
       " '3',\n",
       " '4',\n",
       " '5',\n",
       " '6',\n",
       " '7',\n",
       " '8',\n",
       " '9',\n",
       " ':',\n",
       " ';',\n",
       " '<',\n",
       " '=',\n",
       " '>',\n",
       " '?',\n",
       " '@',\n",
       " 'A',\n",
       " 'B',\n",
       " 'C',\n",
       " 'D',\n",
       " 'E',\n",
       " 'F',\n",
       " 'G',\n",
       " 'H',\n",
       " 'I',\n",
       " 'J',\n",
       " 'K',\n",
       " 'L',\n",
       " 'M',\n",
       " 'N',\n",
       " 'O',\n",
       " 'P',\n",
       " 'Q',\n",
       " 'R',\n",
       " 'S',\n",
       " 'T',\n",
       " 'U',\n",
       " 'V',\n",
       " 'W',\n",
       " 'X',\n",
       " 'Y',\n",
       " 'Z',\n",
       " '_',\n",
       " '`',\n",
       " 'a',\n",
       " 'b',\n",
       " 'c',\n",
       " 'd',\n",
       " 'e',\n",
       " 'f',\n",
       " 'g',\n",
       " 'h',\n",
       " 'i',\n",
       " 'j',\n",
       " 'k',\n",
       " 'l',\n",
       " 'm',\n",
       " 'n',\n",
       " 'o',\n",
       " 'p',\n",
       " 'q',\n",
       " 'r',\n",
       " 's',\n",
       " 't',\n",
       " 'u',\n",
       " 'v',\n",
       " 'w',\n",
       " 'x',\n",
       " 'y',\n",
       " 'z',\n",
       " '{',\n",
       " '|',\n",
       " '©',\n",
       " '¬',\n",
       " '¶',\n",
       " 'º',\n",
       " 'Ä',\n",
       " 'Å',\n",
       " 'Ô',\n",
       " 'ã',\n",
       " 'è',\n",
       " 'ì',\n",
       " 'ò',\n",
       " 'ô',\n",
       " 'ù',\n",
       " 'ú',\n",
       " 'ƒ',\n",
       " '‚',\n",
       " '†',\n",
       " '∏',\n",
       " '√',\n",
       " '∞',\n",
       " '∫',\n",
       " '≤'}"
      ]
     },
     "metadata": {},
     "execution_count": 26
    }
   ],
   "source": [
    "unique_chrs = set(list(long_string))\n",
    "print(len(unique_chrs))\n",
    "unique_chrs"
   ]
  },
  {
   "cell_type": "code",
   "execution_count": 27,
   "metadata": {},
   "outputs": [
    {
     "output_type": "stream",
     "name": "stdout",
     "text": [
      "63\n"
     ]
    },
    {
     "output_type": "execute_result",
     "data": {
      "text/plain": [
       "{' ',\n",
       " '0',\n",
       " '1',\n",
       " '2',\n",
       " '3',\n",
       " '4',\n",
       " '5',\n",
       " '6',\n",
       " '7',\n",
       " '8',\n",
       " '9',\n",
       " 'A',\n",
       " 'B',\n",
       " 'C',\n",
       " 'D',\n",
       " 'E',\n",
       " 'F',\n",
       " 'G',\n",
       " 'H',\n",
       " 'I',\n",
       " 'J',\n",
       " 'K',\n",
       " 'L',\n",
       " 'M',\n",
       " 'N',\n",
       " 'O',\n",
       " 'P',\n",
       " 'Q',\n",
       " 'R',\n",
       " 'S',\n",
       " 'T',\n",
       " 'U',\n",
       " 'V',\n",
       " 'W',\n",
       " 'X',\n",
       " 'Y',\n",
       " 'Z',\n",
       " 'a',\n",
       " 'b',\n",
       " 'c',\n",
       " 'd',\n",
       " 'e',\n",
       " 'f',\n",
       " 'g',\n",
       " 'h',\n",
       " 'i',\n",
       " 'j',\n",
       " 'k',\n",
       " 'l',\n",
       " 'm',\n",
       " 'n',\n",
       " 'o',\n",
       " 'p',\n",
       " 'q',\n",
       " 'r',\n",
       " 's',\n",
       " 't',\n",
       " 'u',\n",
       " 'v',\n",
       " 'w',\n",
       " 'x',\n",
       " 'y',\n",
       " 'z'}"
      ]
     },
     "metadata": {},
     "execution_count": 27
    }
   ],
   "source": [
    "clean_string = re.sub('[^a-zA-Z 0-9]', '', long_string)\n",
    "\n",
    "unique_chrs = set(list(clean_string))\n",
    "print(len(unique_chrs))\n",
    "unique_chrs"
   ]
  },
  {
   "cell_type": "code",
   "execution_count": null,
   "metadata": {},
   "outputs": [],
   "source": []
  },
  {
   "cell_type": "markdown",
   "metadata": {
    "id": "erSMd4diGEq_",
    "toc-hr-collapsed": true
   },
   "source": [
    "## Follow Along\n",
    "\n",
    "Our inability to analyze text data becomes quickly amplified in a business context. Consider the following: \n",
    "\n",
    "A business which sells widgets also collects customer reviews of those widgets. When the business first started out, they had a human read the reviews to look for patterns. Now, the business sells thousands of widgets a month. The human readers can't keep up with the pace of reviews to synthesize an accurate analysis. They need some science to help them analyze their data.\n",
    "\n",
    "Now, let's pretend that business is Amazon, and the widgets are Amazon products such as the Alexa, Echo, or other AmazonBasics products. Let's analyze their reviews with some counts. This dataset is available on [Kaggle](https://www.kaggle.com/datafiniti/consumer-reviews-of-amazon-products/)."
   ]
  },
  {
   "cell_type": "code",
   "execution_count": 28,
   "metadata": {},
   "outputs": [
    {
     "output_type": "stream",
     "name": "stdout",
     "text": [
      "/Users/rob/opt/anaconda3/bin/python\n"
     ]
    }
   ],
   "source": [
    "!which python"
   ]
  },
  {
   "cell_type": "code",
   "execution_count": 29,
   "metadata": {
    "id": "8Ap1zL81GErA"
   },
   "outputs": [],
   "source": [
    "\"\"\"\n",
    "Import Statements\n",
    "\"\"\"\n",
    "\n",
    "# Base\n",
    "from collections import Counter\n",
    "import re\n",
    " \n",
    "import pandas as pd\n",
    "\n",
    "# Plotting\n",
    "import squarify\n",
    "import matplotlib.pyplot as plt\n",
    "import seaborn as sns\n",
    "\n",
    "# NLP Libraries\n",
    "import spacy\n",
    "# import en_core_web_lg\n",
    "from spacy.tokenizer import Tokenizer\n",
    "from nltk.stem import PorterStemmer\n",
    "\n",
    "# nlp = en_core_web_lg.load() # pre trained model imported here\n",
    "\n",
    "nlp = spacy.load('en_core_web_md')"
   ]
  },
  {
   "cell_type": "code",
   "execution_count": 30,
   "metadata": {},
   "outputs": [
    {
     "output_type": "execute_result",
     "data": {
      "text/plain": [
       "'2.2.3'"
      ]
     },
     "metadata": {},
     "execution_count": 30
    }
   ],
   "source": [
    "spacy.__version__"
   ]
  },
  {
   "cell_type": "code",
   "execution_count": 31,
   "metadata": {
    "colab": {
     "base_uri": "https://localhost:8080/",
     "height": 267
    },
    "id": "ydhFysF-GErC",
    "outputId": "a6ba71f2-a186-441c-a00f-0bb9f0b6dc76"
   },
   "outputs": [
    {
     "output_type": "execute_result",
     "data": {
      "text/plain": [
       "                     id             dateAdded           dateUpdated  \\\n",
       "0  AVpgNzjwLJeJML43Kpxn  2015-10-30T08:59:32Z  2019-04-25T09:08:16Z   \n",
       "1  AVpgNzjwLJeJML43Kpxn  2015-10-30T08:59:32Z  2019-04-25T09:08:16Z   \n",
       "\n",
       "                                                name                  asins  \\\n",
       "0  AmazonBasics AAA Performance Alkaline Batterie...  B00QWO9P0O,B00LH3DMUO   \n",
       "1  AmazonBasics AAA Performance Alkaline Batterie...  B00QWO9P0O,B00LH3DMUO   \n",
       "\n",
       "          brand                                         categories  \\\n",
       "0  amazonbasics  AA,AAA,Health,Electronics,Health & Household,C...   \n",
       "1  amazonbasics  AA,AAA,Health,Electronics,Health & Household,C...   \n",
       "\n",
       "  primaryCategories                                          imageURLs  \\\n",
       "0   Health & Beauty  https://images-na.ssl-images-amazon.com/images...   \n",
       "1   Health & Beauty  https://images-na.ssl-images-amazon.com/images...   \n",
       "\n",
       "                                                keys  ... reviews.didPurchase  \\\n",
       "0  amazonbasics/hl002619,amazonbasicsaaaperforman...  ...                 NaN   \n",
       "1  amazonbasics/hl002619,amazonbasicsaaaperforman...  ...                 NaN   \n",
       "\n",
       "  reviews.doRecommend reviews.id reviews.numHelpful reviews.rating  \\\n",
       "0                 NaN        NaN                NaN              3   \n",
       "1                 NaN        NaN                NaN              4   \n",
       "\n",
       "                                  reviews.sourceURLs  \\\n",
       "0  https://www.amazon.com/product-reviews/B00QWO9...   \n",
       "1  https://www.amazon.com/product-reviews/B00QWO9...   \n",
       "\n",
       "                                        reviews.text  \\\n",
       "0  I order 3 of them and one of the item is bad q...   \n",
       "1  Bulk is always the less expensive way to go fo...   \n",
       "\n",
       "                                       reviews.title  reviews.username  \\\n",
       "0  ... 3 of them and one of the item is bad quali...        Byger yang   \n",
       "1  ... always the less expensive way to go for pr...              ByMG   \n",
       "\n",
       "                                          sourceURLs  \n",
       "0  https://www.barcodable.com/upc/841710106442,ht...  \n",
       "1  https://www.barcodable.com/upc/841710106442,ht...  \n",
       "\n",
       "[2 rows x 24 columns]"
      ],
      "text/html": "<div>\n<style scoped>\n    .dataframe tbody tr th:only-of-type {\n        vertical-align: middle;\n    }\n\n    .dataframe tbody tr th {\n        vertical-align: top;\n    }\n\n    .dataframe thead th {\n        text-align: right;\n    }\n</style>\n<table border=\"1\" class=\"dataframe\">\n  <thead>\n    <tr style=\"text-align: right;\">\n      <th></th>\n      <th>id</th>\n      <th>dateAdded</th>\n      <th>dateUpdated</th>\n      <th>name</th>\n      <th>asins</th>\n      <th>brand</th>\n      <th>categories</th>\n      <th>primaryCategories</th>\n      <th>imageURLs</th>\n      <th>keys</th>\n      <th>...</th>\n      <th>reviews.didPurchase</th>\n      <th>reviews.doRecommend</th>\n      <th>reviews.id</th>\n      <th>reviews.numHelpful</th>\n      <th>reviews.rating</th>\n      <th>reviews.sourceURLs</th>\n      <th>reviews.text</th>\n      <th>reviews.title</th>\n      <th>reviews.username</th>\n      <th>sourceURLs</th>\n    </tr>\n  </thead>\n  <tbody>\n    <tr>\n      <th>0</th>\n      <td>AVpgNzjwLJeJML43Kpxn</td>\n      <td>2015-10-30T08:59:32Z</td>\n      <td>2019-04-25T09:08:16Z</td>\n      <td>AmazonBasics AAA Performance Alkaline Batterie...</td>\n      <td>B00QWO9P0O,B00LH3DMUO</td>\n      <td>amazonbasics</td>\n      <td>AA,AAA,Health,Electronics,Health &amp; Household,C...</td>\n      <td>Health &amp; Beauty</td>\n      <td>https://images-na.ssl-images-amazon.com/images...</td>\n      <td>amazonbasics/hl002619,amazonbasicsaaaperforman...</td>\n      <td>...</td>\n      <td>NaN</td>\n      <td>NaN</td>\n      <td>NaN</td>\n      <td>NaN</td>\n      <td>3</td>\n      <td>https://www.amazon.com/product-reviews/B00QWO9...</td>\n      <td>I order 3 of them and one of the item is bad q...</td>\n      <td>... 3 of them and one of the item is bad quali...</td>\n      <td>Byger yang</td>\n      <td>https://www.barcodable.com/upc/841710106442,ht...</td>\n    </tr>\n    <tr>\n      <th>1</th>\n      <td>AVpgNzjwLJeJML43Kpxn</td>\n      <td>2015-10-30T08:59:32Z</td>\n      <td>2019-04-25T09:08:16Z</td>\n      <td>AmazonBasics AAA Performance Alkaline Batterie...</td>\n      <td>B00QWO9P0O,B00LH3DMUO</td>\n      <td>amazonbasics</td>\n      <td>AA,AAA,Health,Electronics,Health &amp; Household,C...</td>\n      <td>Health &amp; Beauty</td>\n      <td>https://images-na.ssl-images-amazon.com/images...</td>\n      <td>amazonbasics/hl002619,amazonbasicsaaaperforman...</td>\n      <td>...</td>\n      <td>NaN</td>\n      <td>NaN</td>\n      <td>NaN</td>\n      <td>NaN</td>\n      <td>4</td>\n      <td>https://www.amazon.com/product-reviews/B00QWO9...</td>\n      <td>Bulk is always the less expensive way to go fo...</td>\n      <td>... always the less expensive way to go for pr...</td>\n      <td>ByMG</td>\n      <td>https://www.barcodable.com/upc/841710106442,ht...</td>\n    </tr>\n  </tbody>\n</table>\n<p>2 rows × 24 columns</p>\n</div>"
     },
     "metadata": {},
     "execution_count": 31
    }
   ],
   "source": [
    "df.head(2)"
   ]
  },
  {
   "cell_type": "code",
   "execution_count": 32,
   "metadata": {
    "colab": {
     "base_uri": "https://localhost:8080/",
     "height": 884
    },
    "deletable": false,
    "id": "Lkl_l_3KGErH",
    "nbgrader": {
     "cell_type": "code",
     "checksum": "c9af223b0b92d4f38bf65a8a59b77553",
     "grade": false,
     "grade_id": "cell-afe39f461a4852ac",
     "locked": false,
     "schema_version": 3,
     "solution": true,
     "task": false
    },
    "outputId": "23b1f11e-5349-46d7-8823-e1a46a93747f"
   },
   "outputs": [
    {
     "output_type": "execute_result",
     "data": {
      "text/plain": [
       "good                                                                                                                                                                        60\n",
       "great                                                                                                                                                                       49\n",
       "Good                                                                                                                                                                        42\n",
       "Great                                                                                                                                                                       38\n",
       "ok                                                                                                                                                                          33\n",
       "                                                                                                                                                                            ..\n",
       "I will never buy batteries from the store again! This was a fantastic deal!                                                                                                  1\n",
       "Fast shipping, will buy again and again                                                                                                                                      1\n",
       "If you like to read, I'd suggest Amazon - Fire HD 8 - 8\" - Tablet - 32GB 7th                                                                                                 1\n",
       "None of these batteries had a full charge. My charge detector never reached the green zone. They were one half used up. This was true for the other two sizes D and AAA.     1\n",
       "best way to buy                                                                                                                                                              1\n",
       "Name: reviews.text, Length: 18168, dtype: int64"
      ]
     },
     "metadata": {},
     "execution_count": 32
    }
   ],
   "source": [
    "df['reviews.text'].value_counts()"
   ]
  },
  {
   "cell_type": "code",
   "execution_count": 33,
   "metadata": {},
   "outputs": [
    {
     "output_type": "execute_result",
     "data": {
      "text/plain": [
       "0    [i, order, 3, of, them, and, one, of, the, ite...\n",
       "1    [bulk, is, always, the, less, expensive, way, ...\n",
       "2    [well, they, are, not, duracell, but, for, the...\n",
       "3    [seem, to, work, as, well, as, name, brand, ba...\n",
       "4    [these, batteries, are, very, long, lasting, t...\n",
       "Name: tokens, dtype: object"
      ]
     },
     "metadata": {},
     "execution_count": 33
    }
   ],
   "source": [
    "df['tokens'] = df['reviews.text'].apply(lambda x: tokenize(x))\n",
    "df['tokens'].head()"
   ]
  },
  {
   "cell_type": "markdown",
   "metadata": {
    "id": "8hOBAw2yGErU"
   },
   "source": [
    "#### Analyzing Tokens"
   ]
  },
  {
   "cell_type": "code",
   "execution_count": 34,
   "metadata": {
    "colab": {
     "base_uri": "https://localhost:8080/",
     "height": 187
    },
    "deletable": false,
    "id": "6jVvZAvJGErU",
    "nbgrader": {
     "cell_type": "code",
     "checksum": "4fcf360b68c204e6742580d513c4239e",
     "grade": false,
     "grade_id": "cell-1df54ac52c426166",
     "locked": false,
     "schema_version": 3,
     "solution": true,
     "task": false
    },
    "outputId": "79b4c6c6-5dda-4903-e472-94b4530cd049"
   },
   "outputs": [
    {
     "output_type": "execute_result",
     "data": {
      "text/plain": [
       "[('the', 28836),\n",
       " ('and', 22302),\n",
       " ('i', 20588),\n",
       " ('to', 19537),\n",
       " ('for', 17918),\n",
       " ('a', 17599),\n",
       " ('it', 16793),\n",
       " ('is', 11482),\n",
       " ('my', 11149),\n",
       " ('this', 10420)]"
      ]
     },
     "metadata": {},
     "execution_count": 34
    }
   ],
   "source": [
    "# Object from Base Python\n",
    "from collections import Counter\n",
    "\n",
    "word_counts = Counter()\n",
    "df['tokens'].apply(lambda x: word_counts.update(x))\n",
    "word_counts.most_common(10)"
   ]
  },
  {
   "cell_type": "markdown",
   "metadata": {
    "id": "TiVHbw6xGErW"
   },
   "source": [
    "Let's create a fuction which takes a corpus of document and returns and dataframe of word counts for us to analyze."
   ]
  },
  {
   "cell_type": "code",
   "execution_count": 35,
   "metadata": {
    "id": "ypyH-_x1GErX"
   },
   "outputs": [],
   "source": [
    "def count(tokens):\n",
    "    \"\"\"\n",
    "    Calculates some basic statistics about tokens in our corpus (i.e. corpus means collections text data)\n",
    "    \"\"\"\n",
    "    # stores the count of each token\n",
    "    word_counts = Counter()\n",
    "    \n",
    "    # stores the number of docs that each token appears in \n",
    "    appears_in = Counter()\n",
    "\n",
    "    total_docs = len(tokens)\n",
    "\n",
    "    for token in tokens:\n",
    "        # stores count of every appearance of a token \n",
    "        word_counts.update(token)\n",
    "        # use set() in order to not count duplicates, thereby count the num of docs that each token appears in\n",
    "        appears_in.update(set(token))\n",
    "\n",
    "    # build word count dataframe\n",
    "    temp = zip(word_counts.keys(), word_counts.values())\n",
    "    wc = pd.DataFrame(temp, columns = ['word', 'count'])\n",
    "\n",
    "    # rank the the word counts\n",
    "    wc['rank'] = wc['count'].rank(method='first', ascending=False)\n",
    "    total = wc['count'].sum()\n",
    "\n",
    "    # calculate the percent total of each token\n",
    "    wc['pct_total'] = wc['count'].apply(lambda token_count: token_count / total)\n",
    "\n",
    "    # calculate the cumulative percent total of word counts \n",
    "    wc = wc.sort_values(by='rank')\n",
    "    wc['cul_pct_total'] = wc['pct_total'].cumsum()\n",
    "\n",
    "    # create dataframe for document stats\n",
    "    t2 = zip(appears_in.keys(), appears_in.values())\n",
    "    ac = pd.DataFrame(t2, columns=['word', 'appears_in'])\n",
    "    \n",
    "    # merge word count stats with doc stats\n",
    "    wc = ac.merge(wc, on='word')\n",
    "\n",
    "    wc['appears_in_pct'] = wc['appears_in'].apply(lambda x: x / total_docs)\n",
    "\n",
    "    return wc.sort_values(by='rank')"
   ]
  },
  {
   "cell_type": "code",
   "execution_count": 36,
   "metadata": {},
   "outputs": [
    {
     "output_type": "execute_result",
     "data": {
      "text/plain": [
       "0        [i, order, 3, of, them, and, one, of, the, ite...\n",
       "1        [bulk, is, always, the, less, expensive, way, ...\n",
       "2        [well, they, are, not, duracell, but, for, the...\n",
       "3        [seem, to, work, as, well, as, name, brand, ba...\n",
       "4        [these, batteries, are, very, long, lasting, t...\n",
       "                               ...                        \n",
       "28327    [i, got, 2, of, these, for, my, 8, yr, old, tw...\n",
       "28328    [i, bought, this, for, my, niece, for, a, chri...\n",
       "28329    [very, nice, for, light, internet, browsing, k...\n",
       "28330    [this, tablet, does, absolutely, everything, i...\n",
       "28331    [at, ninety, dollars, the, expectionations, ar...\n",
       "Name: tokens, Length: 28332, dtype: object"
      ]
     },
     "metadata": {},
     "execution_count": 36
    }
   ],
   "source": [
    "df['tokens']"
   ]
  },
  {
   "cell_type": "code",
   "execution_count": 37,
   "metadata": {
    "id": "GqqwygrUGErZ"
   },
   "outputs": [
    {
     "output_type": "stream",
     "name": "stdout",
     "text": [
      "(12895, 7)\n"
     ]
    },
    {
     "output_type": "execute_result",
     "data": {
      "text/plain": [
       "   word  appears_in  count  rank  pct_total  cul_pct_total  appears_in_pct\n",
       "18  the       13185  28836   1.0   0.039350       0.039350        0.465375\n",
       "17  and       13731  22302   2.0   0.030434       0.069784        0.484646\n",
       "15    i       10301  20588   3.0   0.028095       0.097879        0.363582\n",
       "8    to       11312  19537   4.0   0.026661       0.124539        0.399266\n",
       "28  for       12101  17918   5.0   0.024451       0.148990        0.427114"
      ],
      "text/html": "<div>\n<style scoped>\n    .dataframe tbody tr th:only-of-type {\n        vertical-align: middle;\n    }\n\n    .dataframe tbody tr th {\n        vertical-align: top;\n    }\n\n    .dataframe thead th {\n        text-align: right;\n    }\n</style>\n<table border=\"1\" class=\"dataframe\">\n  <thead>\n    <tr style=\"text-align: right;\">\n      <th></th>\n      <th>word</th>\n      <th>appears_in</th>\n      <th>count</th>\n      <th>rank</th>\n      <th>pct_total</th>\n      <th>cul_pct_total</th>\n      <th>appears_in_pct</th>\n    </tr>\n  </thead>\n  <tbody>\n    <tr>\n      <th>18</th>\n      <td>the</td>\n      <td>13185</td>\n      <td>28836</td>\n      <td>1.0</td>\n      <td>0.039350</td>\n      <td>0.039350</td>\n      <td>0.465375</td>\n    </tr>\n    <tr>\n      <th>17</th>\n      <td>and</td>\n      <td>13731</td>\n      <td>22302</td>\n      <td>2.0</td>\n      <td>0.030434</td>\n      <td>0.069784</td>\n      <td>0.484646</td>\n    </tr>\n    <tr>\n      <th>15</th>\n      <td>i</td>\n      <td>10301</td>\n      <td>20588</td>\n      <td>3.0</td>\n      <td>0.028095</td>\n      <td>0.097879</td>\n      <td>0.363582</td>\n    </tr>\n    <tr>\n      <th>8</th>\n      <td>to</td>\n      <td>11312</td>\n      <td>19537</td>\n      <td>4.0</td>\n      <td>0.026661</td>\n      <td>0.124539</td>\n      <td>0.399266</td>\n    </tr>\n    <tr>\n      <th>28</th>\n      <td>for</td>\n      <td>12101</td>\n      <td>17918</td>\n      <td>5.0</td>\n      <td>0.024451</td>\n      <td>0.148990</td>\n      <td>0.427114</td>\n    </tr>\n  </tbody>\n</table>\n</div>"
     },
     "metadata": {},
     "execution_count": 37
    }
   ],
   "source": [
    "# Use the Function\n",
    "wc  = count(df['tokens'])\n",
    "print(wc.shape)\n",
    "wc.head()"
   ]
  },
  {
   "cell_type": "code",
   "execution_count": 38,
   "metadata": {
    "colab": {
     "base_uri": "https://localhost:8080/",
     "height": 279
    },
    "id": "u9kI5BjnGErc",
    "outputId": "8622477c-d7c7-4d6c-c58e-994ae23b65ee"
   },
   "outputs": [
    {
     "output_type": "display_data",
     "data": {
      "text/plain": "<Figure size 432x288 with 1 Axes>",
      "image/svg+xml": "<?xml version=\"1.0\" encoding=\"utf-8\" standalone=\"no\"?>\n<!DOCTYPE svg PUBLIC \"-//W3C//DTD SVG 1.1//EN\"\n  \"http://www.w3.org/Graphics/SVG/1.1/DTD/svg11.dtd\">\n<svg height=\"262.19625pt\" version=\"1.1\" viewBox=\"0 0 386.059375 262.19625\" width=\"386.059375pt\" xmlns=\"http://www.w3.org/2000/svg\" xmlns:xlink=\"http://www.w3.org/1999/xlink\">\n <metadata>\n  <rdf:RDF xmlns:cc=\"http://creativecommons.org/ns#\" xmlns:dc=\"http://purl.org/dc/elements/1.1/\" xmlns:rdf=\"http://www.w3.org/1999/02/22-rdf-syntax-ns#\">\n   <cc:Work>\n    <dc:type rdf:resource=\"http://purl.org/dc/dcmitype/StillImage\"/>\n    <dc:date>2021-05-05T21:45:08.228280</dc:date>\n    <dc:format>image/svg+xml</dc:format>\n    <dc:creator>\n     <cc:Agent>\n      <dc:title>Matplotlib v3.4.1, https://matplotlib.org/</dc:title>\n     </cc:Agent>\n    </dc:creator>\n   </cc:Work>\n  </rdf:RDF>\n </metadata>\n <defs>\n  <style type=\"text/css\">*{stroke-linecap:butt;stroke-linejoin:round;}</style>\n </defs>\n <g id=\"figure_1\">\n  <g id=\"patch_1\">\n   <path d=\"M 0 262.19625 \nL 386.059375 262.19625 \nL 386.059375 0 \nL 0 0 \nz\n\" style=\"fill:none;\"/>\n  </g>\n  <g id=\"axes_1\">\n   <g id=\"patch_2\">\n    <path d=\"M 44.059375 224.64 \nL 378.859375 224.64 \nL 378.859375 7.2 \nL 44.059375 7.2 \nz\n\" style=\"fill:#ffffff;\"/>\n   </g>\n   <g id=\"matplotlib.axis_1\">\n    <g id=\"xtick_1\">\n     <g id=\"line2d_1\">\n      <defs>\n       <path d=\"M 0 0 \nL 0 3.5 \n\" id=\"m69653bba5d\" style=\"stroke:#000000;stroke-width:0.8;\"/>\n      </defs>\n      <g>\n       <use style=\"stroke:#000000;stroke-width:0.8;\" x=\"59.253952\" xlink:href=\"#m69653bba5d\" y=\"224.64\"/>\n      </g>\n     </g>\n     <g id=\"text_1\">\n      <!-- 0 -->\n      <g transform=\"translate(56.072702 239.238437)scale(0.1 -0.1)\">\n       <defs>\n        <path d=\"M 2034 4250 \nQ 1547 4250 1301 3770 \nQ 1056 3291 1056 2328 \nQ 1056 1369 1301 889 \nQ 1547 409 2034 409 \nQ 2525 409 2770 889 \nQ 3016 1369 3016 2328 \nQ 3016 3291 2770 3770 \nQ 2525 4250 2034 4250 \nz\nM 2034 4750 \nQ 2819 4750 3233 4129 \nQ 3647 3509 3647 2328 \nQ 3647 1150 3233 529 \nQ 2819 -91 2034 -91 \nQ 1250 -91 836 529 \nQ 422 1150 422 2328 \nQ 422 3509 836 4129 \nQ 1250 4750 2034 4750 \nz\n\" id=\"DejaVuSans-30\" transform=\"scale(0.015625)\"/>\n       </defs>\n       <use xlink:href=\"#DejaVuSans-30\"/>\n      </g>\n     </g>\n    </g>\n    <g id=\"xtick_2\">\n     <g id=\"line2d_2\">\n      <g>\n       <use style=\"stroke:#000000;stroke-width:0.8;\" x=\"106.464071\" xlink:href=\"#m69653bba5d\" y=\"224.64\"/>\n      </g>\n     </g>\n     <g id=\"text_2\">\n      <!-- 2000 -->\n      <g transform=\"translate(93.739071 239.238437)scale(0.1 -0.1)\">\n       <defs>\n        <path d=\"M 1228 531 \nL 3431 531 \nL 3431 0 \nL 469 0 \nL 469 531 \nQ 828 903 1448 1529 \nQ 2069 2156 2228 2338 \nQ 2531 2678 2651 2914 \nQ 2772 3150 2772 3378 \nQ 2772 3750 2511 3984 \nQ 2250 4219 1831 4219 \nQ 1534 4219 1204 4116 \nQ 875 4013 500 3803 \nL 500 4441 \nQ 881 4594 1212 4672 \nQ 1544 4750 1819 4750 \nQ 2544 4750 2975 4387 \nQ 3406 4025 3406 3419 \nQ 3406 3131 3298 2873 \nQ 3191 2616 2906 2266 \nQ 2828 2175 2409 1742 \nQ 1991 1309 1228 531 \nz\n\" id=\"DejaVuSans-32\" transform=\"scale(0.015625)\"/>\n       </defs>\n       <use xlink:href=\"#DejaVuSans-32\"/>\n       <use x=\"63.623047\" xlink:href=\"#DejaVuSans-30\"/>\n       <use x=\"127.246094\" xlink:href=\"#DejaVuSans-30\"/>\n       <use x=\"190.869141\" xlink:href=\"#DejaVuSans-30\"/>\n      </g>\n     </g>\n    </g>\n    <g id=\"xtick_3\">\n     <g id=\"line2d_3\">\n      <g>\n       <use style=\"stroke:#000000;stroke-width:0.8;\" x=\"153.67419\" xlink:href=\"#m69653bba5d\" y=\"224.64\"/>\n      </g>\n     </g>\n     <g id=\"text_3\">\n      <!-- 4000 -->\n      <g transform=\"translate(140.94919 239.238437)scale(0.1 -0.1)\">\n       <defs>\n        <path d=\"M 2419 4116 \nL 825 1625 \nL 2419 1625 \nL 2419 4116 \nz\nM 2253 4666 \nL 3047 4666 \nL 3047 1625 \nL 3713 1625 \nL 3713 1100 \nL 3047 1100 \nL 3047 0 \nL 2419 0 \nL 2419 1100 \nL 313 1100 \nL 313 1709 \nL 2253 4666 \nz\n\" id=\"DejaVuSans-34\" transform=\"scale(0.015625)\"/>\n       </defs>\n       <use xlink:href=\"#DejaVuSans-34\"/>\n       <use x=\"63.623047\" xlink:href=\"#DejaVuSans-30\"/>\n       <use x=\"127.246094\" xlink:href=\"#DejaVuSans-30\"/>\n       <use x=\"190.869141\" xlink:href=\"#DejaVuSans-30\"/>\n      </g>\n     </g>\n    </g>\n    <g id=\"xtick_4\">\n     <g id=\"line2d_4\">\n      <g>\n       <use style=\"stroke:#000000;stroke-width:0.8;\" x=\"200.884308\" xlink:href=\"#m69653bba5d\" y=\"224.64\"/>\n      </g>\n     </g>\n     <g id=\"text_4\">\n      <!-- 6000 -->\n      <g transform=\"translate(188.159308 239.238437)scale(0.1 -0.1)\">\n       <defs>\n        <path d=\"M 2113 2584 \nQ 1688 2584 1439 2293 \nQ 1191 2003 1191 1497 \nQ 1191 994 1439 701 \nQ 1688 409 2113 409 \nQ 2538 409 2786 701 \nQ 3034 994 3034 1497 \nQ 3034 2003 2786 2293 \nQ 2538 2584 2113 2584 \nz\nM 3366 4563 \nL 3366 3988 \nQ 3128 4100 2886 4159 \nQ 2644 4219 2406 4219 \nQ 1781 4219 1451 3797 \nQ 1122 3375 1075 2522 \nQ 1259 2794 1537 2939 \nQ 1816 3084 2150 3084 \nQ 2853 3084 3261 2657 \nQ 3669 2231 3669 1497 \nQ 3669 778 3244 343 \nQ 2819 -91 2113 -91 \nQ 1303 -91 875 529 \nQ 447 1150 447 2328 \nQ 447 3434 972 4092 \nQ 1497 4750 2381 4750 \nQ 2619 4750 2861 4703 \nQ 3103 4656 3366 4563 \nz\n\" id=\"DejaVuSans-36\" transform=\"scale(0.015625)\"/>\n       </defs>\n       <use xlink:href=\"#DejaVuSans-36\"/>\n       <use x=\"63.623047\" xlink:href=\"#DejaVuSans-30\"/>\n       <use x=\"127.246094\" xlink:href=\"#DejaVuSans-30\"/>\n       <use x=\"190.869141\" xlink:href=\"#DejaVuSans-30\"/>\n      </g>\n     </g>\n    </g>\n    <g id=\"xtick_5\">\n     <g id=\"line2d_5\">\n      <g>\n       <use style=\"stroke:#000000;stroke-width:0.8;\" x=\"248.094427\" xlink:href=\"#m69653bba5d\" y=\"224.64\"/>\n      </g>\n     </g>\n     <g id=\"text_5\">\n      <!-- 8000 -->\n      <g transform=\"translate(235.369427 239.238437)scale(0.1 -0.1)\">\n       <defs>\n        <path d=\"M 2034 2216 \nQ 1584 2216 1326 1975 \nQ 1069 1734 1069 1313 \nQ 1069 891 1326 650 \nQ 1584 409 2034 409 \nQ 2484 409 2743 651 \nQ 3003 894 3003 1313 \nQ 3003 1734 2745 1975 \nQ 2488 2216 2034 2216 \nz\nM 1403 2484 \nQ 997 2584 770 2862 \nQ 544 3141 544 3541 \nQ 544 4100 942 4425 \nQ 1341 4750 2034 4750 \nQ 2731 4750 3128 4425 \nQ 3525 4100 3525 3541 \nQ 3525 3141 3298 2862 \nQ 3072 2584 2669 2484 \nQ 3125 2378 3379 2068 \nQ 3634 1759 3634 1313 \nQ 3634 634 3220 271 \nQ 2806 -91 2034 -91 \nQ 1263 -91 848 271 \nQ 434 634 434 1313 \nQ 434 1759 690 2068 \nQ 947 2378 1403 2484 \nz\nM 1172 3481 \nQ 1172 3119 1398 2916 \nQ 1625 2713 2034 2713 \nQ 2441 2713 2670 2916 \nQ 2900 3119 2900 3481 \nQ 2900 3844 2670 4047 \nQ 2441 4250 2034 4250 \nQ 1625 4250 1398 4047 \nQ 1172 3844 1172 3481 \nz\n\" id=\"DejaVuSans-38\" transform=\"scale(0.015625)\"/>\n       </defs>\n       <use xlink:href=\"#DejaVuSans-38\"/>\n       <use x=\"63.623047\" xlink:href=\"#DejaVuSans-30\"/>\n       <use x=\"127.246094\" xlink:href=\"#DejaVuSans-30\"/>\n       <use x=\"190.869141\" xlink:href=\"#DejaVuSans-30\"/>\n      </g>\n     </g>\n    </g>\n    <g id=\"xtick_6\">\n     <g id=\"line2d_6\">\n      <g>\n       <use style=\"stroke:#000000;stroke-width:0.8;\" x=\"295.304546\" xlink:href=\"#m69653bba5d\" y=\"224.64\"/>\n      </g>\n     </g>\n     <g id=\"text_6\">\n      <!-- 10000 -->\n      <g transform=\"translate(279.398296 239.238437)scale(0.1 -0.1)\">\n       <defs>\n        <path d=\"M 794 531 \nL 1825 531 \nL 1825 4091 \nL 703 3866 \nL 703 4441 \nL 1819 4666 \nL 2450 4666 \nL 2450 531 \nL 3481 531 \nL 3481 0 \nL 794 0 \nL 794 531 \nz\n\" id=\"DejaVuSans-31\" transform=\"scale(0.015625)\"/>\n       </defs>\n       <use xlink:href=\"#DejaVuSans-31\"/>\n       <use x=\"63.623047\" xlink:href=\"#DejaVuSans-30\"/>\n       <use x=\"127.246094\" xlink:href=\"#DejaVuSans-30\"/>\n       <use x=\"190.869141\" xlink:href=\"#DejaVuSans-30\"/>\n       <use x=\"254.492188\" xlink:href=\"#DejaVuSans-30\"/>\n      </g>\n     </g>\n    </g>\n    <g id=\"xtick_7\">\n     <g id=\"line2d_7\">\n      <g>\n       <use style=\"stroke:#000000;stroke-width:0.8;\" x=\"342.514665\" xlink:href=\"#m69653bba5d\" y=\"224.64\"/>\n      </g>\n     </g>\n     <g id=\"text_7\">\n      <!-- 12000 -->\n      <g transform=\"translate(326.608415 239.238437)scale(0.1 -0.1)\">\n       <use xlink:href=\"#DejaVuSans-31\"/>\n       <use x=\"63.623047\" xlink:href=\"#DejaVuSans-32\"/>\n       <use x=\"127.246094\" xlink:href=\"#DejaVuSans-30\"/>\n       <use x=\"190.869141\" xlink:href=\"#DejaVuSans-30\"/>\n       <use x=\"254.492188\" xlink:href=\"#DejaVuSans-30\"/>\n      </g>\n     </g>\n    </g>\n    <g id=\"text_8\">\n     <!-- rank -->\n     <g transform=\"translate(200.275781 252.916562)scale(0.1 -0.1)\">\n      <defs>\n       <path d=\"M 2631 2963 \nQ 2534 3019 2420 3045 \nQ 2306 3072 2169 3072 \nQ 1681 3072 1420 2755 \nQ 1159 2438 1159 1844 \nL 1159 0 \nL 581 0 \nL 581 3500 \nL 1159 3500 \nL 1159 2956 \nQ 1341 3275 1631 3429 \nQ 1922 3584 2338 3584 \nQ 2397 3584 2469 3576 \nQ 2541 3569 2628 3553 \nL 2631 2963 \nz\n\" id=\"DejaVuSans-72\" transform=\"scale(0.015625)\"/>\n       <path d=\"M 2194 1759 \nQ 1497 1759 1228 1600 \nQ 959 1441 959 1056 \nQ 959 750 1161 570 \nQ 1363 391 1709 391 \nQ 2188 391 2477 730 \nQ 2766 1069 2766 1631 \nL 2766 1759 \nL 2194 1759 \nz\nM 3341 1997 \nL 3341 0 \nL 2766 0 \nL 2766 531 \nQ 2569 213 2275 61 \nQ 1981 -91 1556 -91 \nQ 1019 -91 701 211 \nQ 384 513 384 1019 \nQ 384 1609 779 1909 \nQ 1175 2209 1959 2209 \nL 2766 2209 \nL 2766 2266 \nQ 2766 2663 2505 2880 \nQ 2244 3097 1772 3097 \nQ 1472 3097 1187 3025 \nQ 903 2953 641 2809 \nL 641 3341 \nQ 956 3463 1253 3523 \nQ 1550 3584 1831 3584 \nQ 2591 3584 2966 3190 \nQ 3341 2797 3341 1997 \nz\n\" id=\"DejaVuSans-61\" transform=\"scale(0.015625)\"/>\n       <path d=\"M 3513 2113 \nL 3513 0 \nL 2938 0 \nL 2938 2094 \nQ 2938 2591 2744 2837 \nQ 2550 3084 2163 3084 \nQ 1697 3084 1428 2787 \nQ 1159 2491 1159 1978 \nL 1159 0 \nL 581 0 \nL 581 3500 \nL 1159 3500 \nL 1159 2956 \nQ 1366 3272 1645 3428 \nQ 1925 3584 2291 3584 \nQ 2894 3584 3203 3211 \nQ 3513 2838 3513 2113 \nz\n\" id=\"DejaVuSans-6e\" transform=\"scale(0.015625)\"/>\n       <path d=\"M 581 4863 \nL 1159 4863 \nL 1159 1991 \nL 2875 3500 \nL 3609 3500 \nL 1753 1863 \nL 3688 0 \nL 2938 0 \nL 1159 1709 \nL 1159 0 \nL 581 0 \nL 581 4863 \nz\n\" id=\"DejaVuSans-6b\" transform=\"scale(0.015625)\"/>\n      </defs>\n      <use xlink:href=\"#DejaVuSans-72\"/>\n      <use x=\"41.113281\" xlink:href=\"#DejaVuSans-61\"/>\n      <use x=\"102.392578\" xlink:href=\"#DejaVuSans-6e\"/>\n      <use x=\"165.771484\" xlink:href=\"#DejaVuSans-6b\"/>\n     </g>\n    </g>\n   </g>\n   <g id=\"matplotlib.axis_2\">\n    <g id=\"ytick_1\">\n     <g id=\"line2d_8\">\n      <defs>\n       <path d=\"M 0 0 \nL -3.5 0 \n\" id=\"m0bbd903b8b\" style=\"stroke:#000000;stroke-width:0.8;\"/>\n      </defs>\n      <g>\n       <use style=\"stroke:#000000;stroke-width:0.8;\" x=\"44.059375\" xlink:href=\"#m0bbd903b8b\" y=\"222.853429\"/>\n      </g>\n     </g>\n     <g id=\"text_9\">\n      <!-- 0.0 -->\n      <g transform=\"translate(21.15625 226.652647)scale(0.1 -0.1)\">\n       <defs>\n        <path d=\"M 684 794 \nL 1344 794 \nL 1344 0 \nL 684 0 \nL 684 794 \nz\n\" id=\"DejaVuSans-2e\" transform=\"scale(0.015625)\"/>\n       </defs>\n       <use xlink:href=\"#DejaVuSans-30\"/>\n       <use x=\"63.623047\" xlink:href=\"#DejaVuSans-2e\"/>\n       <use x=\"95.410156\" xlink:href=\"#DejaVuSans-30\"/>\n      </g>\n     </g>\n    </g>\n    <g id=\"ytick_2\">\n     <g id=\"line2d_9\">\n      <g>\n       <use style=\"stroke:#000000;stroke-width:0.8;\" x=\"44.059375\" xlink:href=\"#m0bbd903b8b\" y=\"181.69947\"/>\n      </g>\n     </g>\n     <g id=\"text_10\">\n      <!-- 0.2 -->\n      <g transform=\"translate(21.15625 185.498689)scale(0.1 -0.1)\">\n       <use xlink:href=\"#DejaVuSans-30\"/>\n       <use x=\"63.623047\" xlink:href=\"#DejaVuSans-2e\"/>\n       <use x=\"95.410156\" xlink:href=\"#DejaVuSans-32\"/>\n      </g>\n     </g>\n    </g>\n    <g id=\"ytick_3\">\n     <g id=\"line2d_10\">\n      <g>\n       <use style=\"stroke:#000000;stroke-width:0.8;\" x=\"44.059375\" xlink:href=\"#m0bbd903b8b\" y=\"140.545512\"/>\n      </g>\n     </g>\n     <g id=\"text_11\">\n      <!-- 0.4 -->\n      <g transform=\"translate(21.15625 144.34473)scale(0.1 -0.1)\">\n       <use xlink:href=\"#DejaVuSans-30\"/>\n       <use x=\"63.623047\" xlink:href=\"#DejaVuSans-2e\"/>\n       <use x=\"95.410156\" xlink:href=\"#DejaVuSans-34\"/>\n      </g>\n     </g>\n    </g>\n    <g id=\"ytick_4\">\n     <g id=\"line2d_11\">\n      <g>\n       <use style=\"stroke:#000000;stroke-width:0.8;\" x=\"44.059375\" xlink:href=\"#m0bbd903b8b\" y=\"99.391553\"/>\n      </g>\n     </g>\n     <g id=\"text_12\">\n      <!-- 0.6 -->\n      <g transform=\"translate(21.15625 103.190772)scale(0.1 -0.1)\">\n       <use xlink:href=\"#DejaVuSans-30\"/>\n       <use x=\"63.623047\" xlink:href=\"#DejaVuSans-2e\"/>\n       <use x=\"95.410156\" xlink:href=\"#DejaVuSans-36\"/>\n      </g>\n     </g>\n    </g>\n    <g id=\"ytick_5\">\n     <g id=\"line2d_12\">\n      <g>\n       <use style=\"stroke:#000000;stroke-width:0.8;\" x=\"44.059375\" xlink:href=\"#m0bbd903b8b\" y=\"58.237595\"/>\n      </g>\n     </g>\n     <g id=\"text_13\">\n      <!-- 0.8 -->\n      <g transform=\"translate(21.15625 62.036814)scale(0.1 -0.1)\">\n       <use xlink:href=\"#DejaVuSans-30\"/>\n       <use x=\"63.623047\" xlink:href=\"#DejaVuSans-2e\"/>\n       <use x=\"95.410156\" xlink:href=\"#DejaVuSans-38\"/>\n      </g>\n     </g>\n    </g>\n    <g id=\"ytick_6\">\n     <g id=\"line2d_13\">\n      <g>\n       <use style=\"stroke:#000000;stroke-width:0.8;\" x=\"44.059375\" xlink:href=\"#m0bbd903b8b\" y=\"17.083636\"/>\n      </g>\n     </g>\n     <g id=\"text_14\">\n      <!-- 1.0 -->\n      <g transform=\"translate(21.15625 20.882855)scale(0.1 -0.1)\">\n       <use xlink:href=\"#DejaVuSans-31\"/>\n       <use x=\"63.623047\" xlink:href=\"#DejaVuSans-2e\"/>\n       <use x=\"95.410156\" xlink:href=\"#DejaVuSans-30\"/>\n      </g>\n     </g>\n    </g>\n    <g id=\"text_15\">\n     <!-- cul_pct_total -->\n     <g transform=\"translate(14.798438 147.543437)rotate(-90)scale(0.1 -0.1)\">\n      <defs>\n       <path d=\"M 3122 3366 \nL 3122 2828 \nQ 2878 2963 2633 3030 \nQ 2388 3097 2138 3097 \nQ 1578 3097 1268 2742 \nQ 959 2388 959 1747 \nQ 959 1106 1268 751 \nQ 1578 397 2138 397 \nQ 2388 397 2633 464 \nQ 2878 531 3122 666 \nL 3122 134 \nQ 2881 22 2623 -34 \nQ 2366 -91 2075 -91 \nQ 1284 -91 818 406 \nQ 353 903 353 1747 \nQ 353 2603 823 3093 \nQ 1294 3584 2113 3584 \nQ 2378 3584 2631 3529 \nQ 2884 3475 3122 3366 \nz\n\" id=\"DejaVuSans-63\" transform=\"scale(0.015625)\"/>\n       <path d=\"M 544 1381 \nL 544 3500 \nL 1119 3500 \nL 1119 1403 \nQ 1119 906 1312 657 \nQ 1506 409 1894 409 \nQ 2359 409 2629 706 \nQ 2900 1003 2900 1516 \nL 2900 3500 \nL 3475 3500 \nL 3475 0 \nL 2900 0 \nL 2900 538 \nQ 2691 219 2414 64 \nQ 2138 -91 1772 -91 \nQ 1169 -91 856 284 \nQ 544 659 544 1381 \nz\nM 1991 3584 \nL 1991 3584 \nz\n\" id=\"DejaVuSans-75\" transform=\"scale(0.015625)\"/>\n       <path d=\"M 603 4863 \nL 1178 4863 \nL 1178 0 \nL 603 0 \nL 603 4863 \nz\n\" id=\"DejaVuSans-6c\" transform=\"scale(0.015625)\"/>\n       <path d=\"M 3263 -1063 \nL 3263 -1509 \nL -63 -1509 \nL -63 -1063 \nL 3263 -1063 \nz\n\" id=\"DejaVuSans-5f\" transform=\"scale(0.015625)\"/>\n       <path d=\"M 1159 525 \nL 1159 -1331 \nL 581 -1331 \nL 581 3500 \nL 1159 3500 \nL 1159 2969 \nQ 1341 3281 1617 3432 \nQ 1894 3584 2278 3584 \nQ 2916 3584 3314 3078 \nQ 3713 2572 3713 1747 \nQ 3713 922 3314 415 \nQ 2916 -91 2278 -91 \nQ 1894 -91 1617 61 \nQ 1341 213 1159 525 \nz\nM 3116 1747 \nQ 3116 2381 2855 2742 \nQ 2594 3103 2138 3103 \nQ 1681 3103 1420 2742 \nQ 1159 2381 1159 1747 \nQ 1159 1113 1420 752 \nQ 1681 391 2138 391 \nQ 2594 391 2855 752 \nQ 3116 1113 3116 1747 \nz\n\" id=\"DejaVuSans-70\" transform=\"scale(0.015625)\"/>\n       <path d=\"M 1172 4494 \nL 1172 3500 \nL 2356 3500 \nL 2356 3053 \nL 1172 3053 \nL 1172 1153 \nQ 1172 725 1289 603 \nQ 1406 481 1766 481 \nL 2356 481 \nL 2356 0 \nL 1766 0 \nQ 1100 0 847 248 \nQ 594 497 594 1153 \nL 594 3053 \nL 172 3053 \nL 172 3500 \nL 594 3500 \nL 594 4494 \nL 1172 4494 \nz\n\" id=\"DejaVuSans-74\" transform=\"scale(0.015625)\"/>\n       <path d=\"M 1959 3097 \nQ 1497 3097 1228 2736 \nQ 959 2375 959 1747 \nQ 959 1119 1226 758 \nQ 1494 397 1959 397 \nQ 2419 397 2687 759 \nQ 2956 1122 2956 1747 \nQ 2956 2369 2687 2733 \nQ 2419 3097 1959 3097 \nz\nM 1959 3584 \nQ 2709 3584 3137 3096 \nQ 3566 2609 3566 1747 \nQ 3566 888 3137 398 \nQ 2709 -91 1959 -91 \nQ 1206 -91 779 398 \nQ 353 888 353 1747 \nQ 353 2609 779 3096 \nQ 1206 3584 1959 3584 \nz\n\" id=\"DejaVuSans-6f\" transform=\"scale(0.015625)\"/>\n      </defs>\n      <use xlink:href=\"#DejaVuSans-63\"/>\n      <use x=\"54.980469\" xlink:href=\"#DejaVuSans-75\"/>\n      <use x=\"118.359375\" xlink:href=\"#DejaVuSans-6c\"/>\n      <use x=\"146.142578\" xlink:href=\"#DejaVuSans-5f\"/>\n      <use x=\"196.142578\" xlink:href=\"#DejaVuSans-70\"/>\n      <use x=\"259.619141\" xlink:href=\"#DejaVuSans-63\"/>\n      <use x=\"314.599609\" xlink:href=\"#DejaVuSans-74\"/>\n      <use x=\"353.808594\" xlink:href=\"#DejaVuSans-5f\"/>\n      <use x=\"403.808594\" xlink:href=\"#DejaVuSans-74\"/>\n      <use x=\"443.017578\" xlink:href=\"#DejaVuSans-6f\"/>\n      <use x=\"504.199219\" xlink:href=\"#DejaVuSans-74\"/>\n      <use x=\"543.408203\" xlink:href=\"#DejaVuSans-61\"/>\n      <use x=\"604.6875\" xlink:href=\"#DejaVuSans-6c\"/>\n     </g>\n    </g>\n   </g>\n   <g id=\"line2d_14\">\n    <path clip-path=\"url(#pc58f65edcb)\" d=\"M 59.277557 214.756364 \nL 59.560818 166.009427 \nL 59.938498 141.557336 \nL 60.316179 127.254094 \nL 61.000726 109.814067 \nL 61.661668 98.460318 \nL 62.46424 88.798932 \nL 63.219602 81.897221 \nL 64.092989 76.207148 \nL 65.296847 69.713154 \nL 66.453495 64.598435 \nL 67.680958 60.068336 \nL 69.073656 55.843743 \nL 70.560775 52.121778 \nL 72.118709 48.871552 \nL 73.700248 46.04224 \nL 75.187367 43.797267 \nL 76.886931 41.641027 \nL 78.940571 39.394088 \nL 80.994211 37.497585 \nL 83.260297 35.701887 \nL 85.597198 34.14206 \nL 87.981309 32.825402 \nL 91.167992 31.356833 \nL 94.354675 30.111779 \nL 98.509166 28.746543 \nL 103.064942 27.507386 \nL 107.408273 26.53639 \nL 113.285933 25.460937 \nL 118.903937 24.637359 \nL 127.590599 23.61273 \nL 135.875975 22.837169 \nL 147.725715 21.961643 \nL 165.264274 21.029678 \nL 180.513142 20.415294 \nL 210.633198 19.451317 \nL 265.987062 18.245294 \nL 363.641193 17.083636 \nL 363.641193 17.083636 \n\" style=\"fill:none;stroke:#1f77b4;stroke-linecap:square;stroke-width:1.5;\"/>\n   </g>\n   <g id=\"patch_3\">\n    <path d=\"M 44.059375 224.64 \nL 44.059375 7.2 \n\" style=\"fill:none;stroke:#000000;stroke-linecap:square;stroke-linejoin:miter;stroke-width:0.8;\"/>\n   </g>\n   <g id=\"patch_4\">\n    <path d=\"M 378.859375 224.64 \nL 378.859375 7.2 \n\" style=\"fill:none;stroke:#000000;stroke-linecap:square;stroke-linejoin:miter;stroke-width:0.8;\"/>\n   </g>\n   <g id=\"patch_5\">\n    <path d=\"M 44.059375 224.64 \nL 378.859375 224.64 \n\" style=\"fill:none;stroke:#000000;stroke-linecap:square;stroke-linejoin:miter;stroke-width:0.8;\"/>\n   </g>\n   <g id=\"patch_6\">\n    <path d=\"M 44.059375 7.2 \nL 378.859375 7.2 \n\" style=\"fill:none;stroke:#000000;stroke-linecap:square;stroke-linejoin:miter;stroke-width:0.8;\"/>\n   </g>\n  </g>\n </g>\n <defs>\n  <clipPath id=\"pc58f65edcb\">\n   <rect height=\"217.44\" width=\"334.8\" x=\"44.059375\" y=\"7.2\"/>\n  </clipPath>\n </defs>\n</svg>\n",
      "image/png": "[encoded data removed]"
     },
     "metadata": {
      "needs_background": "light"
     }
    }
   ],
   "source": [
    "import seaborn as sns\n",
    "\n",
    "# Cumulative Distribution Plot\n",
    "sns.lineplot(x='rank', y='cul_pct_total', data=wc);"
   ]
  },
  {
   "cell_type": "code",
   "execution_count": 39,
   "metadata": {
    "colab": {
     "base_uri": "https://localhost:8080/",
     "height": 34
    },
    "id": "GKpixh5DGEre",
    "outputId": "0611cd25-46ce-4e16-edd3-d1ae2ca09e92"
   },
   "outputs": [
    {
     "output_type": "execute_result",
     "data": {
      "text/plain": [
       "0.6012123263182888"
      ]
     },
     "metadata": {},
     "execution_count": 39
    }
   ],
   "source": [
    "wc[wc['rank'] <= 100]['cul_pct_total'].max()"
   ]
  },
  {
   "cell_type": "code",
   "execution_count": 40,
   "metadata": {
    "colab": {
     "base_uri": "https://localhost:8080/",
     "height": 248
    },
    "id": "-yuCq8nuGErg",
    "outputId": "a4d60c06-06a5-47cc-84ad-cd1faa8d30de"
   },
   "outputs": [
    {
     "output_type": "display_data",
     "data": {
      "text/plain": "<Figure size 432x288 with 1 Axes>",
      "image/svg+xml": "<?xml version=\"1.0\" encoding=\"utf-8\" standalone=\"no\"?>\n<!DOCTYPE svg PUBLIC \"-//W3C//DTD SVG 1.1//EN\"\n  \"http://www.w3.org/Graphics/SVG/1.1/DTD/svg11.dtd\">\n<svg height=\"231.84pt\" version=\"1.1\" viewBox=\"0 0 349.2 231.84\" width=\"349.2pt\" xmlns=\"http://www.w3.org/2000/svg\" xmlns:xlink=\"http://www.w3.org/1999/xlink\">\n <metadata>\n  <rdf:RDF xmlns:cc=\"http://creativecommons.org/ns#\" xmlns:dc=\"http://purl.org/dc/elements/1.1/\" xmlns:rdf=\"http://www.w3.org/1999/02/22-rdf-syntax-ns#\">\n   <cc:Work>\n    <dc:type rdf:resource=\"http://purl.org/dc/dcmitype/StillImage\"/>\n    <dc:date>2021-05-05T21:45:08.373495</dc:date>\n    <dc:format>image/svg+xml</dc:format>\n    <dc:creator>\n     <cc:Agent>\n      <dc:title>Matplotlib v3.4.1, https://matplotlib.org/</dc:title>\n     </cc:Agent>\n    </dc:creator>\n   </cc:Work>\n  </rdf:RDF>\n </metadata>\n <defs>\n  <style type=\"text/css\">*{stroke-linecap:butt;stroke-linejoin:round;}</style>\n </defs>\n <g id=\"figure_1\">\n  <g id=\"patch_1\">\n   <path d=\"M 0 231.84 \nL 349.2 231.84 \nL 349.2 0 \nL 0 0 \nz\n\" style=\"fill:none;\"/>\n  </g>\n  <g id=\"axes_1\">\n   <g id=\"patch_2\">\n    <path clip-path=\"url(#p189f7b9ede)\" d=\"M 7.2 224.64 \nL 104.919028 224.64 \nL 104.919028 137.222608 \nL 7.2 137.222608 \nz\n\" style=\"fill:#a0da39;opacity:0.8;\"/>\n   </g>\n   <g id=\"patch_3\">\n    <path clip-path=\"url(#p189f7b9ede)\" d=\"M 7.2 137.222608 \nL 104.919028 137.222608 \nL 104.919028 69.613277 \nL 7.2 69.613277 \nz\n\" style=\"fill:#1fa287;opacity:0.8;\"/>\n   </g>\n   <g id=\"patch_4\">\n    <path clip-path=\"url(#p189f7b9ede)\" d=\"M 7.2 69.613277 \nL 104.919028 69.613277 \nL 104.919028 7.2 \nL 7.2 7.2 \nz\n\" style=\"fill:#472c7a;opacity:0.8;\"/>\n   </g>\n   <g id=\"patch_5\">\n    <path clip-path=\"url(#p189f7b9ede)\" d=\"M 104.919028 224.64 \nL 189.051897 224.64 \nL 189.051897 155.8486 \nL 104.919028 155.8486 \nz\n\" style=\"fill:#1e9b8a;opacity:0.8;\"/>\n   </g>\n   <g id=\"patch_6\">\n    <path clip-path=\"url(#p189f7b9ede)\" d=\"M 189.051897 224.64 \nL 266.212809 224.64 \nL 266.212809 155.8486 \nL 189.051897 155.8486 \nz\n\" style=\"fill:#dae319;opacity:0.8;\"/>\n   </g>\n   <g id=\"patch_7\">\n    <path clip-path=\"url(#p189f7b9ede)\" d=\"M 266.212809 224.64 \nL 342 224.64 \nL 342 155.8486 \nL 266.212809 155.8486 \nz\n\" style=\"fill:#482677;opacity:0.8;\"/>\n   </g>\n   <g id=\"patch_8\">\n    <path clip-path=\"url(#p189f7b9ede)\" d=\"M 104.919028 155.8486 \nL 183.486328 155.8486 \nL 183.486328 92.53042 \nL 104.919028 92.53042 \nz\n\" style=\"fill:#31688e;opacity:0.8;\"/>\n   </g>\n   <g id=\"patch_9\">\n    <path clip-path=\"url(#p189f7b9ede)\" d=\"M 104.919028 92.53042 \nL 183.486328 92.53042 \nL 183.486328 49.23742 \nL 104.919028 49.23742 \nz\n\" style=\"fill:#440256;opacity:0.8;\"/>\n   </g>\n   <g id=\"patch_10\">\n    <path clip-path=\"url(#p189f7b9ede)\" d=\"M 104.919028 49.23742 \nL 183.486328 49.23742 \nL 183.486328 7.2 \nL 104.919028 7.2 \nz\n\" style=\"fill:#2b758e;opacity:0.8;\"/>\n   </g>\n   <g id=\"patch_11\">\n    <path clip-path=\"url(#p189f7b9ede)\" d=\"M 183.486328 155.8486 \nL 266.982054 155.8486 \nL 266.982054 118.878942 \nL 183.486328 118.878942 \nz\n\" style=\"fill:#d0e11c;opacity:0.8;\"/>\n   </g>\n   <g id=\"patch_12\">\n    <path clip-path=\"url(#p189f7b9ede)\" d=\"M 266.982054 155.8486 \nL 342 155.8486 \nL 342 118.878942 \nL 266.982054 118.878942 \nz\n\" style=\"fill:#453882;opacity:0.8;\"/>\n   </g>\n   <g id=\"patch_13\">\n    <path clip-path=\"url(#p189f7b9ede)\" d=\"M 183.486328 118.878942 \nL 238.770174 118.878942 \nL 238.770174 73.824624 \nL 183.486328 73.824624 \nz\n\" style=\"fill:#fbe723;opacity:0.8;\"/>\n   </g>\n   <g id=\"patch_14\">\n    <path clip-path=\"url(#p189f7b9ede)\" d=\"M 238.770174 118.878942 \nL 291.660666 118.878942 \nL 291.660666 73.824624 \nL 238.770174 73.824624 \nz\n\" style=\"fill:#31b57b;opacity:0.8;\"/>\n   </g>\n   <g id=\"patch_15\">\n    <path clip-path=\"url(#p189f7b9ede)\" d=\"M 291.660666 118.878942 \nL 342 118.878942 \nL 342 73.824624 \nL 291.660666 73.824624 \nz\n\" style=\"fill:#46085c;opacity:0.8;\"/>\n   </g>\n   <g id=\"patch_16\">\n    <path clip-path=\"url(#p189f7b9ede)\" d=\"M 183.486328 73.824624 \nL 239.617509 73.824624 \nL 239.617509 39.097911 \nL 183.486328 39.097911 \nz\n\" style=\"fill:#3a548c;opacity:0.8;\"/>\n   </g>\n   <g id=\"patch_17\">\n    <path clip-path=\"url(#p189f7b9ede)\" d=\"M 183.486328 39.097911 \nL 239.617509 39.097911 \nL 239.617509 7.2 \nL 183.486328 7.2 \nz\n\" style=\"fill:#73d056;opacity:0.8;\"/>\n   </g>\n   <g id=\"patch_18\">\n    <path clip-path=\"url(#p189f7b9ede)\" d=\"M 239.617509 73.824624 \nL 291.013746 73.824624 \nL 291.013746 39.864179 \nL 239.617509 39.864179 \nz\n\" style=\"fill:#228b8d;opacity:0.8;\"/>\n   </g>\n   <g id=\"patch_19\">\n    <path clip-path=\"url(#p189f7b9ede)\" d=\"M 291.013746 73.824624 \nL 342 73.824624 \nL 342 39.864179 \nL 291.013746 39.864179 \nz\n\" style=\"fill:#ece51b;opacity:0.8;\"/>\n   </g>\n   <g id=\"patch_20\">\n    <path clip-path=\"url(#p189f7b9ede)\" d=\"M 239.617509 39.864179 \nL 290.894912 39.864179 \nL 290.894912 7.2 \nL 239.617509 7.2 \nz\n\" style=\"fill:#26818e;opacity:0.8;\"/>\n   </g>\n   <g id=\"patch_21\">\n    <path clip-path=\"url(#p189f7b9ede)\" d=\"M 290.894912 39.864179 \nL 342 39.864179 \nL 342 7.2 \nL 290.894912 7.2 \nz\n\" style=\"fill:#277e8e;opacity:0.8;\"/>\n   </g>\n   <g id=\"text_1\">\n    <!-- the -->\n    <g transform=\"translate(47.854045 183.690679)scale(0.1 -0.1)\">\n     <defs>\n      <path d=\"M 1172 4494 \nL 1172 3500 \nL 2356 3500 \nL 2356 3053 \nL 1172 3053 \nL 1172 1153 \nQ 1172 725 1289 603 \nQ 1406 481 1766 481 \nL 2356 481 \nL 2356 0 \nL 1766 0 \nQ 1100 0 847 248 \nQ 594 497 594 1153 \nL 594 3053 \nL 172 3053 \nL 172 3500 \nL 594 3500 \nL 594 4494 \nL 1172 4494 \nz\n\" id=\"DejaVuSans-74\" transform=\"scale(0.015625)\"/>\n      <path d=\"M 3513 2113 \nL 3513 0 \nL 2938 0 \nL 2938 2094 \nQ 2938 2591 2744 2837 \nQ 2550 3084 2163 3084 \nQ 1697 3084 1428 2787 \nQ 1159 2491 1159 1978 \nL 1159 0 \nL 581 0 \nL 581 4863 \nL 1159 4863 \nL 1159 2956 \nQ 1366 3272 1645 3428 \nQ 1925 3584 2291 3584 \nQ 2894 3584 3203 3211 \nQ 3513 2838 3513 2113 \nz\n\" id=\"DejaVuSans-68\" transform=\"scale(0.015625)\"/>\n      <path d=\"M 3597 1894 \nL 3597 1613 \nL 953 1613 \nQ 991 1019 1311 708 \nQ 1631 397 2203 397 \nQ 2534 397 2845 478 \nQ 3156 559 3463 722 \nL 3463 178 \nQ 3153 47 2828 -22 \nQ 2503 -91 2169 -91 \nQ 1331 -91 842 396 \nQ 353 884 353 1716 \nQ 353 2575 817 3079 \nQ 1281 3584 2069 3584 \nQ 2775 3584 3186 3129 \nQ 3597 2675 3597 1894 \nz\nM 3022 2063 \nQ 3016 2534 2758 2815 \nQ 2500 3097 2075 3097 \nQ 1594 3097 1305 2825 \nQ 1016 2553 972 2059 \nL 3022 2063 \nz\n\" id=\"DejaVuSans-65\" transform=\"scale(0.015625)\"/>\n     </defs>\n     <use xlink:href=\"#DejaVuSans-74\"/>\n     <use x=\"39.208984\" xlink:href=\"#DejaVuSans-68\"/>\n     <use x=\"102.587891\" xlink:href=\"#DejaVuSans-65\"/>\n    </g>\n   </g>\n   <g id=\"text_2\">\n    <!-- and -->\n    <g transform=\"translate(46.652483 106.177318)scale(0.1 -0.1)\">\n     <defs>\n      <path d=\"M 2194 1759 \nQ 1497 1759 1228 1600 \nQ 959 1441 959 1056 \nQ 959 750 1161 570 \nQ 1363 391 1709 391 \nQ 2188 391 2477 730 \nQ 2766 1069 2766 1631 \nL 2766 1759 \nL 2194 1759 \nz\nM 3341 1997 \nL 3341 0 \nL 2766 0 \nL 2766 531 \nQ 2569 213 2275 61 \nQ 1981 -91 1556 -91 \nQ 1019 -91 701 211 \nQ 384 513 384 1019 \nQ 384 1609 779 1909 \nQ 1175 2209 1959 2209 \nL 2766 2209 \nL 2766 2266 \nQ 2766 2663 2505 2880 \nQ 2244 3097 1772 3097 \nQ 1472 3097 1187 3025 \nQ 903 2953 641 2809 \nL 641 3341 \nQ 956 3463 1253 3523 \nQ 1550 3584 1831 3584 \nQ 2591 3584 2966 3190 \nQ 3341 2797 3341 1997 \nz\n\" id=\"DejaVuSans-61\" transform=\"scale(0.015625)\"/>\n      <path d=\"M 3513 2113 \nL 3513 0 \nL 2938 0 \nL 2938 2094 \nQ 2938 2591 2744 2837 \nQ 2550 3084 2163 3084 \nQ 1697 3084 1428 2787 \nQ 1159 2491 1159 1978 \nL 1159 0 \nL 581 0 \nL 581 3500 \nL 1159 3500 \nL 1159 2956 \nQ 1366 3272 1645 3428 \nQ 1925 3584 2291 3584 \nQ 2894 3584 3203 3211 \nQ 3513 2838 3513 2113 \nz\n\" id=\"DejaVuSans-6e\" transform=\"scale(0.015625)\"/>\n      <path d=\"M 2906 2969 \nL 2906 4863 \nL 3481 4863 \nL 3481 0 \nL 2906 0 \nL 2906 525 \nQ 2725 213 2448 61 \nQ 2172 -91 1784 -91 \nQ 1150 -91 751 415 \nQ 353 922 353 1747 \nQ 353 2572 751 3078 \nQ 1150 3584 1784 3584 \nQ 2172 3584 2448 3432 \nQ 2725 3281 2906 2969 \nz\nM 947 1747 \nQ 947 1113 1208 752 \nQ 1469 391 1925 391 \nQ 2381 391 2643 752 \nQ 2906 1113 2906 1747 \nQ 2906 2381 2643 2742 \nQ 2381 3103 1925 3103 \nQ 1469 3103 1208 2742 \nQ 947 2381 947 1747 \nz\n\" id=\"DejaVuSans-64\" transform=\"scale(0.015625)\"/>\n     </defs>\n     <use xlink:href=\"#DejaVuSans-61\"/>\n     <use x=\"61.279297\" xlink:href=\"#DejaVuSans-6e\"/>\n     <use x=\"124.658203\" xlink:href=\"#DejaVuSans-64\"/>\n    </g>\n   </g>\n   <g id=\"text_3\">\n    <!-- i -->\n    <g transform=\"translate(54.670451 41.166014)scale(0.1 -0.1)\">\n     <defs>\n      <path d=\"M 603 3500 \nL 1178 3500 \nL 1178 0 \nL 603 0 \nL 603 3500 \nz\nM 603 4863 \nL 1178 4863 \nL 1178 4134 \nL 603 4134 \nL 603 4863 \nz\n\" id=\"DejaVuSans-69\" transform=\"scale(0.015625)\"/>\n     </defs>\n     <use xlink:href=\"#DejaVuSans-69\"/>\n    </g>\n   </g>\n   <g id=\"text_4\">\n    <!-- to -->\n    <g transform=\"translate(141.965931 193.003675)scale(0.1 -0.1)\">\n     <defs>\n      <path d=\"M 1959 3097 \nQ 1497 3097 1228 2736 \nQ 959 2375 959 1747 \nQ 959 1119 1226 758 \nQ 1494 397 1959 397 \nQ 2419 397 2687 759 \nQ 2956 1122 2956 1747 \nQ 2956 2369 2687 2733 \nQ 2419 3097 1959 3097 \nz\nM 1959 3584 \nQ 2709 3584 3137 3096 \nQ 3566 2609 3566 1747 \nQ 3566 888 3137 398 \nQ 2709 -91 1959 -91 \nQ 1206 -91 779 398 \nQ 353 888 353 1747 \nQ 353 2609 779 3096 \nQ 1206 3584 1959 3584 \nz\n\" id=\"DejaVuSans-6f\" transform=\"scale(0.015625)\"/>\n     </defs>\n     <use xlink:href=\"#DejaVuSans-74\"/>\n     <use x=\"39.208984\" xlink:href=\"#DejaVuSans-6f\"/>\n    </g>\n   </g>\n   <g id=\"text_5\">\n    <!-- for -->\n    <g transform=\"translate(220.757353 193.003675)scale(0.1 -0.1)\">\n     <defs>\n      <path d=\"M 2375 4863 \nL 2375 4384 \nL 1825 4384 \nQ 1516 4384 1395 4259 \nQ 1275 4134 1275 3809 \nL 1275 3500 \nL 2222 3500 \nL 2222 3053 \nL 1275 3053 \nL 1275 0 \nL 697 0 \nL 697 3053 \nL 147 3053 \nL 147 3500 \nL 697 3500 \nL 697 3744 \nQ 697 4328 969 4595 \nQ 1241 4863 1831 4863 \nL 2375 4863 \nz\n\" id=\"DejaVuSans-66\" transform=\"scale(0.015625)\"/>\n      <path d=\"M 2631 2963 \nQ 2534 3019 2420 3045 \nQ 2306 3072 2169 3072 \nQ 1681 3072 1420 2755 \nQ 1159 2438 1159 1844 \nL 1159 0 \nL 581 0 \nL 581 3500 \nL 1159 3500 \nL 1159 2956 \nQ 1341 3275 1631 3429 \nQ 1922 3584 2338 3584 \nQ 2397 3584 2469 3576 \nQ 2541 3569 2628 3553 \nL 2631 2963 \nz\n\" id=\"DejaVuSans-72\" transform=\"scale(0.015625)\"/>\n     </defs>\n     <use xlink:href=\"#DejaVuSans-66\"/>\n     <use x=\"35.205078\" xlink:href=\"#DejaVuSans-6f\"/>\n     <use x=\"96.386719\" xlink:href=\"#DejaVuSans-72\"/>\n    </g>\n   </g>\n   <g id=\"text_6\">\n    <!-- a -->\n    <g transform=\"translate(301.042342 193.003675)scale(0.1 -0.1)\">\n     <use xlink:href=\"#DejaVuSans-61\"/>\n    </g>\n   </g>\n   <g id=\"text_7\">\n    <!-- it -->\n    <g transform=\"translate(140.853459 126.948885)scale(0.1 -0.1)\">\n     <use xlink:href=\"#DejaVuSans-69\"/>\n     <use x=\"27.783203\" xlink:href=\"#DejaVuSans-74\"/>\n    </g>\n   </g>\n   <g id=\"text_8\">\n    <!-- is -->\n    <g transform=\"translate(140.208928 73.643295)scale(0.1 -0.1)\">\n     <defs>\n      <path d=\"M 2834 3397 \nL 2834 2853 \nQ 2591 2978 2328 3040 \nQ 2066 3103 1784 3103 \nQ 1356 3103 1142 2972 \nQ 928 2841 928 2578 \nQ 928 2378 1081 2264 \nQ 1234 2150 1697 2047 \nL 1894 2003 \nQ 2506 1872 2764 1633 \nQ 3022 1394 3022 966 \nQ 3022 478 2636 193 \nQ 2250 -91 1575 -91 \nQ 1294 -91 989 -36 \nQ 684 19 347 128 \nL 347 722 \nQ 666 556 975 473 \nQ 1284 391 1588 391 \nQ 1994 391 2212 530 \nQ 2431 669 2431 922 \nQ 2431 1156 2273 1281 \nQ 2116 1406 1581 1522 \nL 1381 1569 \nQ 847 1681 609 1914 \nQ 372 2147 372 2553 \nQ 372 3047 722 3315 \nQ 1072 3584 1716 3584 \nQ 2034 3584 2315 3537 \nQ 2597 3491 2834 3397 \nz\n\" id=\"DejaVuSans-73\" transform=\"scale(0.015625)\"/>\n     </defs>\n     <use xlink:href=\"#DejaVuSans-69\"/>\n     <use x=\"27.783203\" xlink:href=\"#DejaVuSans-73\"/>\n    </g>\n   </g>\n   <g id=\"text_9\">\n    <!-- my -->\n    <g transform=\"translate(136.37299 30.978085)scale(0.1 -0.1)\">\n     <defs>\n      <path d=\"M 3328 2828 \nQ 3544 3216 3844 3400 \nQ 4144 3584 4550 3584 \nQ 5097 3584 5394 3201 \nQ 5691 2819 5691 2113 \nL 5691 0 \nL 5113 0 \nL 5113 2094 \nQ 5113 2597 4934 2840 \nQ 4756 3084 4391 3084 \nQ 3944 3084 3684 2787 \nQ 3425 2491 3425 1978 \nL 3425 0 \nL 2847 0 \nL 2847 2094 \nQ 2847 2600 2669 2842 \nQ 2491 3084 2119 3084 \nQ 1678 3084 1418 2786 \nQ 1159 2488 1159 1978 \nL 1159 0 \nL 581 0 \nL 581 3500 \nL 1159 3500 \nL 1159 2956 \nQ 1356 3278 1631 3431 \nQ 1906 3584 2284 3584 \nQ 2666 3584 2933 3390 \nQ 3200 3197 3328 2828 \nz\n\" id=\"DejaVuSans-6d\" transform=\"scale(0.015625)\"/>\n      <path d=\"M 2059 -325 \nQ 1816 -950 1584 -1140 \nQ 1353 -1331 966 -1331 \nL 506 -1331 \nL 506 -850 \nL 844 -850 \nQ 1081 -850 1212 -737 \nQ 1344 -625 1503 -206 \nL 1606 56 \nL 191 3500 \nL 800 3500 \nL 1894 763 \nL 2988 3500 \nL 3597 3500 \nL 2059 -325 \nz\n\" id=\"DejaVuSans-79\" transform=\"scale(0.015625)\"/>\n     </defs>\n     <use xlink:href=\"#DejaVuSans-6d\"/>\n     <use x=\"97.412109\" xlink:href=\"#DejaVuSans-79\"/>\n    </g>\n   </g>\n   <g id=\"text_10\">\n    <!-- this -->\n    <g transform=\"translate(216.111535 140.123146)scale(0.1 -0.1)\">\n     <use xlink:href=\"#DejaVuSans-74\"/>\n     <use x=\"39.208984\" xlink:href=\"#DejaVuSans-68\"/>\n     <use x=\"102.587891\" xlink:href=\"#DejaVuSans-69\"/>\n     <use x=\"130.371094\" xlink:href=\"#DejaVuSans-73\"/>\n    </g>\n   </g>\n   <g id=\"text_11\">\n    <!-- great -->\n    <g transform=\"translate(291.273058 140.123146)scale(0.1 -0.1)\">\n     <defs>\n      <path d=\"M 2906 1791 \nQ 2906 2416 2648 2759 \nQ 2391 3103 1925 3103 \nQ 1463 3103 1205 2759 \nQ 947 2416 947 1791 \nQ 947 1169 1205 825 \nQ 1463 481 1925 481 \nQ 2391 481 2648 825 \nQ 2906 1169 2906 1791 \nz\nM 3481 434 \nQ 3481 -459 3084 -895 \nQ 2688 -1331 1869 -1331 \nQ 1566 -1331 1297 -1286 \nQ 1028 -1241 775 -1147 \nL 775 -588 \nQ 1028 -725 1275 -790 \nQ 1522 -856 1778 -856 \nQ 2344 -856 2625 -561 \nQ 2906 -266 2906 331 \nL 2906 616 \nQ 2728 306 2450 153 \nQ 2172 0 1784 0 \nQ 1141 0 747 490 \nQ 353 981 353 1791 \nQ 353 2603 747 3093 \nQ 1141 3584 1784 3584 \nQ 2172 3584 2450 3431 \nQ 2728 3278 2906 2969 \nL 2906 3500 \nL 3481 3500 \nL 3481 434 \nz\n\" id=\"DejaVuSans-67\" transform=\"scale(0.015625)\"/>\n     </defs>\n     <use xlink:href=\"#DejaVuSans-67\"/>\n     <use x=\"63.476562\" xlink:href=\"#DejaVuSans-72\"/>\n     <use x=\"102.339844\" xlink:href=\"#DejaVuSans-65\"/>\n     <use x=\"163.863281\" xlink:href=\"#DejaVuSans-61\"/>\n     <use x=\"225.142578\" xlink:href=\"#DejaVuSans-74\"/>\n    </g>\n   </g>\n   <g id=\"text_12\">\n    <!-- of -->\n    <g transform=\"translate(206.308719 99.111158)scale(0.1 -0.1)\">\n     <use xlink:href=\"#DejaVuSans-6f\"/>\n     <use x=\"61.181641\" xlink:href=\"#DejaVuSans-66\"/>\n    </g>\n   </g>\n   <g id=\"text_13\">\n    <!-- batteries -->\n    <g transform=\"translate(242.854482 99.111158)scale(0.1 -0.1)\">\n     <defs>\n      <path d=\"M 3116 1747 \nQ 3116 2381 2855 2742 \nQ 2594 3103 2138 3103 \nQ 1681 3103 1420 2742 \nQ 1159 2381 1159 1747 \nQ 1159 1113 1420 752 \nQ 1681 391 2138 391 \nQ 2594 391 2855 752 \nQ 3116 1113 3116 1747 \nz\nM 1159 2969 \nQ 1341 3281 1617 3432 \nQ 1894 3584 2278 3584 \nQ 2916 3584 3314 3078 \nQ 3713 2572 3713 1747 \nQ 3713 922 3314 415 \nQ 2916 -91 2278 -91 \nQ 1894 -91 1617 61 \nQ 1341 213 1159 525 \nL 1159 0 \nL 581 0 \nL 581 4863 \nL 1159 4863 \nL 1159 2969 \nz\n\" id=\"DejaVuSans-62\" transform=\"scale(0.015625)\"/>\n     </defs>\n     <use xlink:href=\"#DejaVuSans-62\"/>\n     <use x=\"63.476562\" xlink:href=\"#DejaVuSans-61\"/>\n     <use x=\"124.755859\" xlink:href=\"#DejaVuSans-74\"/>\n     <use x=\"163.964844\" xlink:href=\"#DejaVuSans-74\"/>\n     <use x=\"203.173828\" xlink:href=\"#DejaVuSans-65\"/>\n     <use x=\"264.697266\" xlink:href=\"#DejaVuSans-72\"/>\n     <use x=\"305.810547\" xlink:href=\"#DejaVuSans-69\"/>\n     <use x=\"333.59375\" xlink:href=\"#DejaVuSans-65\"/>\n     <use x=\"395.117188\" xlink:href=\"#DejaVuSans-73\"/>\n    </g>\n   </g>\n   <g id=\"text_14\">\n    <!-- as -->\n    <g transform=\"translate(311.161583 99.111158)scale(0.1 -0.1)\">\n     <use xlink:href=\"#DejaVuSans-61\"/>\n     <use x=\"61.279297\" xlink:href=\"#DejaVuSans-73\"/>\n    </g>\n   </g>\n   <g id=\"text_15\">\n    <!-- tablet -->\n    <g transform=\"translate(196.927699 59.220643)scale(0.1 -0.1)\">\n     <defs>\n      <path d=\"M 603 4863 \nL 1178 4863 \nL 1178 0 \nL 603 0 \nL 603 4863 \nz\n\" id=\"DejaVuSans-6c\" transform=\"scale(0.015625)\"/>\n     </defs>\n     <use xlink:href=\"#DejaVuSans-74\"/>\n     <use x=\"39.208984\" xlink:href=\"#DejaVuSans-61\"/>\n     <use x=\"100.488281\" xlink:href=\"#DejaVuSans-62\"/>\n     <use x=\"163.964844\" xlink:href=\"#DejaVuSans-6c\"/>\n     <use x=\"191.748047\" xlink:href=\"#DejaVuSans-65\"/>\n     <use x=\"253.271484\" xlink:href=\"#DejaVuSans-74\"/>\n    </g>\n   </g>\n   <g id=\"text_16\">\n    <!-- with -->\n    <g transform=\"translate(200.944887 25.908331)scale(0.1 -0.1)\">\n     <defs>\n      <path d=\"M 269 3500 \nL 844 3500 \nL 1563 769 \nL 2278 3500 \nL 2956 3500 \nL 3675 769 \nL 4391 3500 \nL 4966 3500 \nL 4050 0 \nL 3372 0 \nL 2619 2869 \nL 1863 0 \nL 1184 0 \nL 269 3500 \nz\n\" id=\"DejaVuSans-77\" transform=\"scale(0.015625)\"/>\n     </defs>\n     <use xlink:href=\"#DejaVuSans-77\"/>\n     <use x=\"81.787109\" xlink:href=\"#DejaVuSans-69\"/>\n     <use x=\"109.570312\" xlink:href=\"#DejaVuSans-74\"/>\n     <use x=\"148.779297\" xlink:href=\"#DejaVuSans-68\"/>\n    </g>\n   </g>\n   <g id=\"text_17\">\n    <!-- in -->\n    <g transform=\"translate(260.757815 59.603777)scale(0.1 -0.1)\">\n     <use xlink:href=\"#DejaVuSans-69\"/>\n     <use x=\"27.783203\" xlink:href=\"#DejaVuSans-6e\"/>\n    </g>\n   </g>\n   <g id=\"text_18\">\n    <!-- good -->\n    <g transform=\"translate(304.039686 59.603777)scale(0.1 -0.1)\">\n     <use xlink:href=\"#DejaVuSans-67\"/>\n     <use x=\"63.476562\" xlink:href=\"#DejaVuSans-6f\"/>\n     <use x=\"124.658203\" xlink:href=\"#DejaVuSans-6f\"/>\n     <use x=\"185.839844\" xlink:href=\"#DejaVuSans-64\"/>\n    </g>\n   </g>\n   <g id=\"text_19\">\n    <!-- that -->\n    <g transform=\"translate(255.103085 26.291464)scale(0.1 -0.1)\">\n     <use xlink:href=\"#DejaVuSans-74\"/>\n     <use x=\"39.208984\" xlink:href=\"#DejaVuSans-68\"/>\n     <use x=\"102.587891\" xlink:href=\"#DejaVuSans-61\"/>\n     <use x=\"163.867188\" xlink:href=\"#DejaVuSans-74\"/>\n    </g>\n   </g>\n   <g id=\"text_20\">\n    <!-- have -->\n    <g transform=\"translate(304.178706 26.291464)scale(0.1 -0.1)\">\n     <defs>\n      <path d=\"M 191 3500 \nL 800 3500 \nL 1894 563 \nL 2988 3500 \nL 3597 3500 \nL 2284 0 \nL 1503 0 \nL 191 3500 \nz\n\" id=\"DejaVuSans-76\" transform=\"scale(0.015625)\"/>\n     </defs>\n     <use xlink:href=\"#DejaVuSans-68\"/>\n     <use x=\"63.378906\" xlink:href=\"#DejaVuSans-61\"/>\n     <use x=\"124.658203\" xlink:href=\"#DejaVuSans-76\"/>\n     <use x=\"183.837891\" xlink:href=\"#DejaVuSans-65\"/>\n    </g>\n   </g>\n  </g>\n </g>\n <defs>\n  <clipPath id=\"p189f7b9ede\">\n   <rect height=\"217.44\" width=\"334.8\" x=\"7.2\" y=\"7.2\"/>\n  </clipPath>\n </defs>\n</svg>\n",
      "image/png": "[encoded data removed]"
     },
     "metadata": {
      "needs_background": "light"
     }
    }
   ],
   "source": [
    "import squarify\n",
    "import matplotlib.pyplot as plt\n",
    "\n",
    "wc_top20 = wc[wc['rank'] <= 20]\n",
    "\n",
    "squarify.plot(sizes=wc_top20['pct_total'], label=wc_top20['word'], alpha=.8 )\n",
    "plt.axis('off')\n",
    "plt.show()"
   ]
  },
  {
   "cell_type": "markdown",
   "metadata": {
    "id": "XIXSsYI_GEri"
   },
   "source": [
    "### Processing Raw Text with Spacy\n",
    "\n",
    "Spacy's datamodel for documents is unique among NLP libraries. Instead of storing the documents components in various data structures, Spacy indexes components and simply stores the lookup information. \n",
    "\n",
    "This is often why Spacy is considered to be more production grade than library like NLTK."
   ]
  },
  {
   "cell_type": "code",
   "execution_count": 41,
   "metadata": {
    "id": "Y0l_8Q_-GEri"
   },
   "outputs": [],
   "source": [
    "# import spacy\n",
    "\n",
    "# nlp = spacy.load('en_core_web_lg')"
   ]
  },
  {
   "cell_type": "code",
   "execution_count": 42,
   "metadata": {
    "id": "4qlRt5SIGErk"
   },
   "outputs": [],
   "source": [
    "sample = \"\"\"\n",
    "Natural Language Processing Summary\n",
    "The field of study that focuses on the interactions between human language and computers is called Natural Language Processing, or NLP for short. It sits at the intersection of computer science, artificial intelligence, and computational linguistics (Wikipedia).\n",
    "\n",
    "“Nat­ur­al Lan­guage Pro­cessing is a field that cov­ers com­puter un­der­stand­ing and ma­nip­u­la­tion of hu­man lan­guage, and it’s ripe with pos­sib­il­it­ies for news­gath­er­ing,” Anthony Pesce said in Natural Language Processing in the kitchen. “You usu­ally hear about it in the con­text of ana­lyz­ing large pools of legis­la­tion or other doc­u­ment sets, at­tempt­ing to dis­cov­er pat­terns or root out cor­rup­tion.”\n",
    "\"\"\""
   ]
  },
  {
   "cell_type": "code",
   "execution_count": 43,
   "metadata": {
    "id": "FjA1TF9vGErl"
   },
   "outputs": [],
   "source": [
    "doc = nlp(sample)"
   ]
  },
  {
   "cell_type": "code",
   "execution_count": 44,
   "metadata": {},
   "outputs": [
    {
     "output_type": "execute_result",
     "data": {
      "text/plain": [
       "['_',\n",
       " '__bytes__',\n",
       " '__class__',\n",
       " '__delattr__',\n",
       " '__dir__',\n",
       " '__doc__',\n",
       " '__eq__',\n",
       " '__format__',\n",
       " '__ge__',\n",
       " '__getattribute__',\n",
       " '__getitem__',\n",
       " '__gt__',\n",
       " '__hash__',\n",
       " '__init__',\n",
       " '__init_subclass__',\n",
       " '__iter__',\n",
       " '__le__',\n",
       " '__len__',\n",
       " '__lt__',\n",
       " '__ne__',\n",
       " '__new__',\n",
       " '__pyx_vtable__',\n",
       " '__reduce__',\n",
       " '__reduce_ex__',\n",
       " '__repr__',\n",
       " '__setattr__',\n",
       " '__setstate__',\n",
       " '__sizeof__',\n",
       " '__str__',\n",
       " '__subclasshook__',\n",
       " '__unicode__',\n",
       " '_bulk_merge',\n",
       " '_py_tokens',\n",
       " '_realloc',\n",
       " '_vector',\n",
       " '_vector_norm',\n",
       " 'cats',\n",
       " 'char_span',\n",
       " 'count_by',\n",
       " 'doc',\n",
       " 'ents',\n",
       " 'extend_tensor',\n",
       " 'from_array',\n",
       " 'from_bytes',\n",
       " 'from_disk',\n",
       " 'get_extension',\n",
       " 'get_lca_matrix',\n",
       " 'has_extension',\n",
       " 'has_vector',\n",
       " 'is_nered',\n",
       " 'is_parsed',\n",
       " 'is_sentenced',\n",
       " 'is_tagged',\n",
       " 'lang',\n",
       " 'lang_',\n",
       " 'mem',\n",
       " 'merge',\n",
       " 'noun_chunks',\n",
       " 'noun_chunks_iterator',\n",
       " 'print_tree',\n",
       " 'remove_extension',\n",
       " 'retokenize',\n",
       " 'sentiment',\n",
       " 'sents',\n",
       " 'set_extension',\n",
       " 'similarity',\n",
       " 'tensor',\n",
       " 'text',\n",
       " 'text_with_ws',\n",
       " 'to_array',\n",
       " 'to_bytes',\n",
       " 'to_disk',\n",
       " 'to_json',\n",
       " 'to_utf8_array',\n",
       " 'user_data',\n",
       " 'user_hooks',\n",
       " 'user_span_hooks',\n",
       " 'user_token_hooks',\n",
       " 'vector',\n",
       " 'vector_norm',\n",
       " 'vocab']"
      ]
     },
     "metadata": {},
     "execution_count": 44
    }
   ],
   "source": [
    "dir(doc)"
   ]
  },
  {
   "cell_type": "code",
   "execution_count": 45,
   "metadata": {},
   "outputs": [
    {
     "output_type": "execute_result",
     "data": {
      "text/plain": [
       "0.0"
      ]
     },
     "metadata": {},
     "execution_count": 45
    }
   ],
   "source": [
    "nlp('IloveSpacy').sentiment"
   ]
  },
  {
   "cell_type": "code",
   "execution_count": 46,
   "metadata": {
    "deletable": false,
    "id": "ZBa99HsYGErn",
    "nbgrader": {
     "cell_type": "code",
     "checksum": "81b7eb7803a81637e2acde6779d1452a",
     "grade": false,
     "grade_id": "cell-fc63dad59954bbff",
     "locked": false,
     "schema_version": 3,
     "solution": true,
     "task": false
    }
   },
   "outputs": [],
   "source": [
    "from tqdm import tqdm\n",
    "tqdm.pandas()\n",
    "\n",
    "nlp.disable_pipes('tagger', 'parser')\n",
    "\n",
    "# create a tokenizer using spacy\n",
    "spacy_tokens = []\n",
    "for doc in nlp.pipe(df['reviews.text']):\n",
    "    \n",
    "    doc_tokens = []\n",
    "    for token in doc:\n",
    "        doc_tokens.append(token.text)\n",
    "\n",
    "    spacy_tokens.append(doc_tokens)\n",
    "\n",
    "df['spacy_tokens'] = spacy_tokens\n",
    "\n"
   ]
  },
  {
   "cell_type": "code",
   "execution_count": 56,
   "metadata": {},
   "outputs": [
    {
     "output_type": "display_data",
     "data": {
      "text/plain": "<Figure size 432x288 with 1 Axes>",
      "image/svg+xml": "<?xml version=\"1.0\" encoding=\"utf-8\" standalone=\"no\"?>\n<!DOCTYPE svg PUBLIC \"-//W3C//DTD SVG 1.1//EN\"\n  \"http://www.w3.org/Graphics/SVG/1.1/DTD/svg11.dtd\">\n<svg height=\"231.84pt\" version=\"1.1\" viewBox=\"0 0 349.2 231.84\" width=\"349.2pt\" xmlns=\"http://www.w3.org/2000/svg\" xmlns:xlink=\"http://www.w3.org/1999/xlink\">\n <metadata>\n  <rdf:RDF xmlns:cc=\"http://creativecommons.org/ns#\" xmlns:dc=\"http://purl.org/dc/elements/1.1/\" xmlns:rdf=\"http://www.w3.org/1999/02/22-rdf-syntax-ns#\">\n   <cc:Work>\n    <dc:type rdf:resource=\"http://purl.org/dc/dcmitype/StillImage\"/>\n    <dc:date>2021-05-05T21:58:25.536622</dc:date>\n    <dc:format>image/svg+xml</dc:format>\n    <dc:creator>\n     <cc:Agent>\n      <dc:title>Matplotlib v3.4.1, https://matplotlib.org/</dc:title>\n     </cc:Agent>\n    </dc:creator>\n   </cc:Work>\n  </rdf:RDF>\n </metadata>\n <defs>\n  <style type=\"text/css\">*{stroke-linecap:butt;stroke-linejoin:round;}</style>\n </defs>\n <g id=\"figure_1\">\n  <g id=\"patch_1\">\n   <path d=\"M 0 231.84 \nL 349.2 231.84 \nL 349.2 0 \nL 0 0 \nz\n\" style=\"fill:none;\"/>\n  </g>\n  <g id=\"axes_1\">\n   <g id=\"patch_2\">\n    <path clip-path=\"url(#pf6907a42af)\" d=\"M 7.2 224.64 \nL 120.345346 224.64 \nL 120.345346 111.055732 \nL 7.2 111.055732 \nz\n\" style=\"fill:#35b779;opacity:0.8;\"/>\n   </g>\n   <g id=\"patch_3\">\n    <path clip-path=\"url(#pf6907a42af)\" d=\"M 7.2 111.055732 \nL 120.345346 111.055732 \nL 120.345346 55.87334 \nL 7.2 55.87334 \nz\n\" style=\"fill:#482173;opacity:0.8;\"/>\n   </g>\n   <g id=\"patch_4\">\n    <path clip-path=\"url(#pf6907a42af)\" d=\"M 7.2 55.87334 \nL 120.345346 55.87334 \nL 120.345346 7.2 \nL 7.2 7.2 \nz\n\" style=\"fill:#481a6c;opacity:0.8;\"/>\n   </g>\n   <g id=\"patch_5\">\n    <path clip-path=\"url(#pf6907a42af)\" d=\"M 120.345346 224.64 \nL 202.106386 224.64 \nL 202.106386 158.107581 \nL 120.345346 158.107581 \nz\n\" style=\"fill:#3d4d8a;opacity:0.8;\"/>\n   </g>\n   <g id=\"patch_6\">\n    <path clip-path=\"url(#pf6907a42af)\" d=\"M 202.106386 224.64 \nL 274.708788 224.64 \nL 274.708788 158.107581 \nL 202.106386 158.107581 \nz\n\" style=\"fill:#443a83;opacity:0.8;\"/>\n   </g>\n   <g id=\"patch_7\">\n    <path clip-path=\"url(#pf6907a42af)\" d=\"M 274.708788 224.64 \nL 342 224.64 \nL 342 158.107581 \nL 274.708788 158.107581 \nz\n\" style=\"fill:#20938c;opacity:0.8;\"/>\n   </g>\n   <g id=\"patch_8\">\n    <path clip-path=\"url(#pf6907a42af)\" d=\"M 120.345346 158.107581 \nL 197.187975 158.107581 \nL 197.187975 101.834741 \nL 120.345346 101.834741 \nz\n\" style=\"fill:#472a7a;opacity:0.8;\"/>\n   </g>\n   <g id=\"patch_9\">\n    <path clip-path=\"url(#pf6907a42af)\" d=\"M 197.187975 158.107581 \nL 272.537787 158.107581 \nL 272.537787 101.834741 \nL 197.187975 101.834741 \nz\n\" style=\"fill:#3d4e8a;opacity:0.8;\"/>\n   </g>\n   <g id=\"patch_10\">\n    <path clip-path=\"url(#pf6907a42af)\" d=\"M 272.537787 158.107581 \nL 342 158.107581 \nL 342 101.834741 \nL 272.537787 101.834741 \nz\n\" style=\"fill:#306a8e;opacity:0.8;\"/>\n   </g>\n   <g id=\"patch_11\">\n    <path clip-path=\"url(#pf6907a42af)\" d=\"M 120.345346 101.834741 \nL 174.595735 101.834741 \nL 174.595735 48.889897 \nL 120.345346 48.889897 \nz\n\" style=\"fill:#5ec962;opacity:0.8;\"/>\n   </g>\n   <g id=\"patch_12\">\n    <path clip-path=\"url(#pf6907a42af)\" d=\"M 120.345346 48.889897 \nL 174.595735 48.889897 \nL 174.595735 7.2 \nL 120.345346 7.2 \nz\n\" style=\"fill:#32658e;opacity:0.8;\"/>\n   </g>\n   <g id=\"patch_13\">\n    <path clip-path=\"url(#pf6907a42af)\" d=\"M 174.595735 101.834741 \nL 239.872688 101.834741 \nL 239.872688 67.969102 \nL 174.595735 67.969102 \nz\n\" style=\"fill:#9bd93c;opacity:0.8;\"/>\n   </g>\n   <g id=\"patch_14\">\n    <path clip-path=\"url(#pf6907a42af)\" d=\"M 174.595735 67.969102 \nL 239.872688 67.969102 \nL 239.872688 36.183764 \nL 174.595735 36.183764 \nz\n\" style=\"fill:#32658e;opacity:0.8;\"/>\n   </g>\n   <g id=\"patch_15\">\n    <path clip-path=\"url(#pf6907a42af)\" d=\"M 174.595735 36.183764 \nL 239.872688 36.183764 \nL 239.872688 7.2 \nL 174.595735 7.2 \nz\n\" style=\"fill:#355f8d;opacity:0.8;\"/>\n   </g>\n   <g id=\"patch_16\">\n    <path clip-path=\"url(#pf6907a42af)\" d=\"M 239.872688 101.834741 \nL 291.927805 101.834741 \nL 291.927805 65.59392 \nL 239.872688 65.59392 \nz\n\" style=\"fill:#29798e;opacity:0.8;\"/>\n   </g>\n   <g id=\"patch_17\">\n    <path clip-path=\"url(#pf6907a42af)\" d=\"M 291.927805 101.834741 \nL 342 101.834741 \nL 342 65.59392 \nL 291.927805 65.59392 \nz\n\" style=\"fill:#1f948c;opacity:0.8;\"/>\n   </g>\n   <g id=\"patch_18\">\n    <path clip-path=\"url(#pf6907a42af)\" d=\"M 239.872688 65.59392 \nL 292.273089 65.59392 \nL 292.273089 35.43224 \nL 239.872688 35.43224 \nz\n\" style=\"fill:#2e6f8e;opacity:0.8;\"/>\n   </g>\n   <g id=\"patch_19\">\n    <path clip-path=\"url(#pf6907a42af)\" d=\"M 239.872688 35.43224 \nL 292.273089 35.43224 \nL 292.273089 7.2 \nL 239.872688 7.2 \nz\n\" style=\"fill:#c8e020;opacity:0.8;\"/>\n   </g>\n   <g id=\"patch_20\">\n    <path clip-path=\"url(#pf6907a42af)\" d=\"M 292.273089 65.59392 \nL 342 65.59392 \nL 342 36.237496 \nL 292.273089 36.237496 \nz\n\" style=\"fill:#40bd72;opacity:0.8;\"/>\n   </g>\n   <g id=\"patch_21\">\n    <path clip-path=\"url(#pf6907a42af)\" d=\"M 292.273089 36.237496 \nL 342 36.237496 \nL 342 7.2 \nL 292.273089 7.2 \nz\n\" style=\"fill:#2b758e;opacity:0.8;\"/>\n   </g>\n   <g id=\"text_1\">\n    <!-- . -->\n    <g transform=\"translate(62.183611 170.607241)scale(0.1 -0.1)\">\n     <defs>\n      <path d=\"M 684 794 \nL 1344 794 \nL 1344 0 \nL 684 0 \nL 684 794 \nz\n\" id=\"DejaVuSans-2e\" transform=\"scale(0.015625)\"/>\n     </defs>\n     <use xlink:href=\"#DejaVuSans-2e\"/>\n    </g>\n   </g>\n   <g id=\"text_2\">\n    <!-- the -->\n    <g transform=\"translate(55.567204 86.223911)scale(0.1 -0.1)\">\n     <defs>\n      <path d=\"M 1172 4494 \nL 1172 3500 \nL 2356 3500 \nL 2356 3053 \nL 1172 3053 \nL 1172 1153 \nQ 1172 725 1289 603 \nQ 1406 481 1766 481 \nL 2356 481 \nL 2356 0 \nL 1766 0 \nQ 1100 0 847 248 \nQ 594 497 594 1153 \nL 594 3053 \nL 172 3053 \nL 172 3500 \nL 594 3500 \nL 594 4494 \nL 1172 4494 \nz\n\" id=\"DejaVuSans-74\" transform=\"scale(0.015625)\"/>\n      <path d=\"M 3513 2113 \nL 3513 0 \nL 2938 0 \nL 2938 2094 \nQ 2938 2591 2744 2837 \nQ 2550 3084 2163 3084 \nQ 1697 3084 1428 2787 \nQ 1159 2491 1159 1978 \nL 1159 0 \nL 581 0 \nL 581 4863 \nL 1159 4863 \nL 1159 2956 \nQ 1366 3272 1645 3428 \nQ 1925 3584 2291 3584 \nQ 2894 3584 3203 3211 \nQ 3513 2838 3513 2113 \nz\n\" id=\"DejaVuSans-68\" transform=\"scale(0.015625)\"/>\n      <path d=\"M 3597 1894 \nL 3597 1613 \nL 953 1613 \nQ 991 1019 1311 708 \nQ 1631 397 2203 397 \nQ 2534 397 2845 478 \nQ 3156 559 3463 722 \nL 3463 178 \nQ 3153 47 2828 -22 \nQ 2503 -91 2169 -91 \nQ 1331 -91 842 396 \nQ 353 884 353 1716 \nQ 353 2575 817 3079 \nQ 1281 3584 2069 3584 \nQ 2775 3584 3186 3129 \nQ 3597 2675 3597 1894 \nz\nM 3022 2063 \nQ 3016 2534 2758 2815 \nQ 2500 3097 2075 3097 \nQ 1594 3097 1305 2825 \nQ 1016 2553 972 2059 \nL 3022 2063 \nz\n\" id=\"DejaVuSans-65\" transform=\"scale(0.015625)\"/>\n     </defs>\n     <use xlink:href=\"#DejaVuSans-74\"/>\n     <use x=\"39.208984\" xlink:href=\"#DejaVuSans-68\"/>\n     <use x=\"102.587891\" xlink:href=\"#DejaVuSans-65\"/>\n    </g>\n   </g>\n   <g id=\"text_3\">\n    <!-- I -->\n    <g transform=\"translate(62.297673 34.296045)scale(0.1 -0.1)\">\n     <defs>\n      <path d=\"M 628 4666 \nL 1259 4666 \nL 1259 0 \nL 628 0 \nL 628 4666 \nz\n\" id=\"DejaVuSans-49\" transform=\"scale(0.015625)\"/>\n     </defs>\n     <use xlink:href=\"#DejaVuSans-49\"/>\n    </g>\n   </g>\n   <g id=\"text_4\">\n    <!-- and -->\n    <g transform=\"translate(151.818835 194.133166)scale(0.1 -0.1)\">\n     <defs>\n      <path d=\"M 2194 1759 \nQ 1497 1759 1228 1600 \nQ 959 1441 959 1056 \nQ 959 750 1161 570 \nQ 1363 391 1709 391 \nQ 2188 391 2477 730 \nQ 2766 1069 2766 1631 \nL 2766 1759 \nL 2194 1759 \nz\nM 3341 1997 \nL 3341 0 \nL 2766 0 \nL 2766 531 \nQ 2569 213 2275 61 \nQ 1981 -91 1556 -91 \nQ 1019 -91 701 211 \nQ 384 513 384 1019 \nQ 384 1609 779 1909 \nQ 1175 2209 1959 2209 \nL 2766 2209 \nL 2766 2266 \nQ 2766 2663 2505 2880 \nQ 2244 3097 1772 3097 \nQ 1472 3097 1187 3025 \nQ 903 2953 641 2809 \nL 641 3341 \nQ 956 3463 1253 3523 \nQ 1550 3584 1831 3584 \nQ 2591 3584 2966 3190 \nQ 3341 2797 3341 1997 \nz\n\" id=\"DejaVuSans-61\" transform=\"scale(0.015625)\"/>\n      <path d=\"M 3513 2113 \nL 3513 0 \nL 2938 0 \nL 2938 2094 \nQ 2938 2591 2744 2837 \nQ 2550 3084 2163 3084 \nQ 1697 3084 1428 2787 \nQ 1159 2491 1159 1978 \nL 1159 0 \nL 581 0 \nL 581 3500 \nL 1159 3500 \nL 1159 2956 \nQ 1366 3272 1645 3428 \nQ 1925 3584 2291 3584 \nQ 2894 3584 3203 3211 \nQ 3513 2838 3513 2113 \nz\n\" id=\"DejaVuSans-6e\" transform=\"scale(0.015625)\"/>\n      <path d=\"M 2906 2969 \nL 2906 4863 \nL 3481 4863 \nL 3481 0 \nL 2906 0 \nL 2906 525 \nQ 2725 213 2448 61 \nQ 2172 -91 1784 -91 \nQ 1150 -91 751 415 \nQ 353 922 353 1747 \nQ 353 2572 751 3078 \nQ 1150 3584 1784 3584 \nQ 2172 3584 2448 3432 \nQ 2725 3281 2906 2969 \nz\nM 947 1747 \nQ 947 1113 1208 752 \nQ 1469 391 1925 391 \nQ 2381 391 2643 752 \nQ 2906 1113 2906 1747 \nQ 2906 2381 2643 2742 \nQ 2381 3103 1925 3103 \nQ 1469 3103 1208 2742 \nQ 947 2381 947 1747 \nz\n\" id=\"DejaVuSans-64\" transform=\"scale(0.015625)\"/>\n     </defs>\n     <use xlink:href=\"#DejaVuSans-61\"/>\n     <use x=\"61.279297\" xlink:href=\"#DejaVuSans-6e\"/>\n     <use x=\"124.658203\" xlink:href=\"#DejaVuSans-64\"/>\n    </g>\n   </g>\n   <g id=\"text_5\">\n    <!-- to -->\n    <g transform=\"translate(233.388055 194.133166)scale(0.1 -0.1)\">\n     <defs>\n      <path d=\"M 1959 3097 \nQ 1497 3097 1228 2736 \nQ 959 2375 959 1747 \nQ 959 1119 1226 758 \nQ 1494 397 1959 397 \nQ 2419 397 2687 759 \nQ 2956 1122 2956 1747 \nQ 2956 2369 2687 2733 \nQ 2419 3097 1959 3097 \nz\nM 1959 3584 \nQ 2709 3584 3137 3096 \nQ 3566 2609 3566 1747 \nQ 3566 888 3137 398 \nQ 2709 -91 1959 -91 \nQ 1206 -91 779 398 \nQ 353 888 353 1747 \nQ 353 2609 779 3096 \nQ 1206 3584 1959 3584 \nz\n\" id=\"DejaVuSans-6f\" transform=\"scale(0.015625)\"/>\n     </defs>\n     <use xlink:href=\"#DejaVuSans-74\"/>\n     <use x=\"39.208984\" xlink:href=\"#DejaVuSans-6f\"/>\n    </g>\n   </g>\n   <g id=\"text_6\">\n    <!-- , -->\n    <g transform=\"translate(306.765331 194.133166)scale(0.1 -0.1)\">\n     <defs>\n      <path d=\"M 750 794 \nL 1409 794 \nL 1409 256 \nL 897 -744 \nL 494 -744 \nL 750 256 \nL 750 794 \nz\n\" id=\"DejaVuSans-2c\" transform=\"scale(0.015625)\"/>\n     </defs>\n     <use xlink:href=\"#DejaVuSans-2c\"/>\n    </g>\n   </g>\n   <g id=\"text_7\">\n    <!-- for -->\n    <g transform=\"translate(151.891661 132.730536)scale(0.1 -0.1)\">\n     <defs>\n      <path d=\"M 2375 4863 \nL 2375 4384 \nL 1825 4384 \nQ 1516 4384 1395 4259 \nQ 1275 4134 1275 3809 \nL 1275 3500 \nL 2222 3500 \nL 2222 3053 \nL 1275 3053 \nL 1275 0 \nL 697 0 \nL 697 3053 \nL 147 3053 \nL 147 3500 \nL 697 3500 \nL 697 3744 \nQ 697 4328 969 4595 \nQ 1241 4863 1831 4863 \nL 2375 4863 \nz\n\" id=\"DejaVuSans-66\" transform=\"scale(0.015625)\"/>\n      <path d=\"M 2631 2963 \nQ 2534 3019 2420 3045 \nQ 2306 3072 2169 3072 \nQ 1681 3072 1420 2755 \nQ 1159 2438 1159 1844 \nL 1159 0 \nL 581 0 \nL 581 3500 \nL 1159 3500 \nL 1159 2956 \nQ 1341 3275 1631 3429 \nQ 1922 3584 2338 3584 \nQ 2397 3584 2469 3576 \nQ 2541 3569 2628 3553 \nL 2631 2963 \nz\n\" id=\"DejaVuSans-72\" transform=\"scale(0.015625)\"/>\n     </defs>\n     <use xlink:href=\"#DejaVuSans-66\"/>\n     <use x=\"35.205078\" xlink:href=\"#DejaVuSans-6f\"/>\n     <use x=\"96.386719\" xlink:href=\"#DejaVuSans-72\"/>\n    </g>\n   </g>\n   <g id=\"text_8\">\n    <!-- a -->\n    <g transform=\"translate(231.798818 132.730536)scale(0.1 -0.1)\">\n     <use xlink:href=\"#DejaVuSans-61\"/>\n    </g>\n   </g>\n   <g id=\"text_9\">\n    <!-- it -->\n    <g transform=\"translate(303.919675 132.730536)scale(0.1 -0.1)\">\n     <defs>\n      <path d=\"M 603 3500 \nL 1178 3500 \nL 1178 0 \nL 603 0 \nL 603 3500 \nz\nM 603 4863 \nL 1178 4863 \nL 1178 4134 \nL 603 4134 \nL 603 4863 \nz\n\" id=\"DejaVuSans-69\" transform=\"scale(0.015625)\"/>\n     </defs>\n     <use xlink:href=\"#DejaVuSans-69\"/>\n     <use x=\"27.783203\" xlink:href=\"#DejaVuSans-74\"/>\n    </g>\n   </g>\n   <g id=\"text_10\">\n    <!-- is -->\n    <g transform=\"translate(143.476791 78.121694)scale(0.1 -0.1)\">\n     <defs>\n      <path d=\"M 2834 3397 \nL 2834 2853 \nQ 2591 2978 2328 3040 \nQ 2066 3103 1784 3103 \nQ 1356 3103 1142 2972 \nQ 928 2841 928 2578 \nQ 928 2378 1081 2264 \nQ 1234 2150 1697 2047 \nL 1894 2003 \nQ 2506 1872 2764 1633 \nQ 3022 1394 3022 966 \nQ 3022 478 2636 193 \nQ 2250 -91 1575 -91 \nQ 1294 -91 989 -36 \nQ 684 19 347 128 \nL 347 722 \nQ 666 556 975 473 \nQ 1284 391 1588 391 \nQ 1994 391 2212 530 \nQ 2431 669 2431 922 \nQ 2431 1156 2273 1281 \nQ 2116 1406 1581 1522 \nL 1381 1569 \nQ 847 1681 609 1914 \nQ 372 2147 372 2553 \nQ 372 3047 722 3315 \nQ 1072 3584 1716 3584 \nQ 2034 3584 2315 3537 \nQ 2597 3491 2834 3397 \nz\n\" id=\"DejaVuSans-73\" transform=\"scale(0.015625)\"/>\n     </defs>\n     <use xlink:href=\"#DejaVuSans-69\"/>\n     <use x=\"27.783203\" xlink:href=\"#DejaVuSans-73\"/>\n    </g>\n   </g>\n   <g id=\"text_11\">\n    <!-- my -->\n    <g transform=\"translate(139.640853 30.804323)scale(0.1 -0.1)\">\n     <defs>\n      <path d=\"M 3328 2828 \nQ 3544 3216 3844 3400 \nQ 4144 3584 4550 3584 \nQ 5097 3584 5394 3201 \nQ 5691 2819 5691 2113 \nL 5691 0 \nL 5113 0 \nL 5113 2094 \nQ 5113 2597 4934 2840 \nQ 4756 3084 4391 3084 \nQ 3944 3084 3684 2787 \nQ 3425 2491 3425 1978 \nL 3425 0 \nL 2847 0 \nL 2847 2094 \nQ 2847 2600 2669 2842 \nQ 2491 3084 2119 3084 \nQ 1678 3084 1418 2786 \nQ 1159 2488 1159 1978 \nL 1159 0 \nL 581 0 \nL 581 3500 \nL 1159 3500 \nL 1159 2956 \nQ 1356 3278 1631 3431 \nQ 1906 3584 2284 3584 \nQ 2666 3584 2933 3390 \nQ 3200 3197 3328 2828 \nz\n\" id=\"DejaVuSans-6d\" transform=\"scale(0.015625)\"/>\n      <path d=\"M 2059 -325 \nQ 1816 -950 1584 -1140 \nQ 1353 -1331 966 -1331 \nL 506 -1331 \nL 506 -850 \nL 844 -850 \nQ 1081 -850 1212 -737 \nQ 1344 -625 1503 -206 \nL 1606 56 \nL 191 3500 \nL 800 3500 \nL 1894 763 \nL 2988 3500 \nL 3597 3500 \nL 2059 -325 \nz\n\" id=\"DejaVuSans-79\" transform=\"scale(0.015625)\"/>\n     </defs>\n     <use xlink:href=\"#DejaVuSans-6d\"/>\n     <use x=\"97.412109\" xlink:href=\"#DejaVuSans-79\"/>\n    </g>\n   </g>\n   <g id=\"text_12\">\n    <!-- ! -->\n    <g transform=\"translate(205.229524 87.661296)scale(0.1 -0.1)\">\n     <defs>\n      <path d=\"M 966 794 \nL 1600 794 \nL 1600 0 \nL 966 0 \nL 966 794 \nz\nM 966 4666 \nL 1600 4666 \nL 1600 2619 \nL 1538 1503 \nL 1031 1503 \nL 966 2619 \nL 966 4666 \nz\n\" id=\"DejaVuSans-21\" transform=\"scale(0.015625)\"/>\n     </defs>\n     <use xlink:href=\"#DejaVuSans-21\"/>\n    </g>\n   </g>\n   <g id=\"text_13\">\n    <!-- of -->\n    <g transform=\"translate(202.41468 54.835808)scale(0.1 -0.1)\">\n     <use xlink:href=\"#DejaVuSans-6f\"/>\n     <use x=\"61.181641\" xlink:href=\"#DejaVuSans-66\"/>\n    </g>\n   </g>\n   <g id=\"text_14\">\n    <!-- batteries -->\n    <g transform=\"translate(184.873274 24.451257)scale(0.1 -0.1)\">\n     <defs>\n      <path d=\"M 3116 1747 \nQ 3116 2381 2855 2742 \nQ 2594 3103 2138 3103 \nQ 1681 3103 1420 2742 \nQ 1159 2381 1159 1747 \nQ 1159 1113 1420 752 \nQ 1681 391 2138 391 \nQ 2594 391 2855 752 \nQ 3116 1113 3116 1747 \nz\nM 1159 2969 \nQ 1341 3281 1617 3432 \nQ 1894 3584 2278 3584 \nQ 2916 3584 3314 3078 \nQ 3713 2572 3713 1747 \nQ 3713 922 3314 415 \nQ 2916 -91 2278 -91 \nQ 1894 -91 1617 61 \nQ 1341 213 1159 525 \nL 1159 0 \nL 581 0 \nL 581 4863 \nL 1159 4863 \nL 1159 2969 \nz\n\" id=\"DejaVuSans-62\" transform=\"scale(0.015625)\"/>\n     </defs>\n     <use xlink:href=\"#DejaVuSans-62\"/>\n     <use x=\"63.476562\" xlink:href=\"#DejaVuSans-61\"/>\n     <use x=\"124.755859\" xlink:href=\"#DejaVuSans-74\"/>\n     <use x=\"163.964844\" xlink:href=\"#DejaVuSans-74\"/>\n     <use x=\"203.173828\" xlink:href=\"#DejaVuSans-65\"/>\n     <use x=\"264.697266\" xlink:href=\"#DejaVuSans-72\"/>\n     <use x=\"305.810547\" xlink:href=\"#DejaVuSans-69\"/>\n     <use x=\"333.59375\" xlink:href=\"#DejaVuSans-65\"/>\n     <use x=\"395.117188\" xlink:href=\"#DejaVuSans-73\"/>\n    </g>\n   </g>\n   <g id=\"text_15\">\n    <!-- this -->\n    <g transform=\"translate(256.777591 86.473706)scale(0.1 -0.1)\">\n     <use xlink:href=\"#DejaVuSans-74\"/>\n     <use x=\"39.208984\" xlink:href=\"#DejaVuSans-68\"/>\n     <use x=\"102.587891\" xlink:href=\"#DejaVuSans-69\"/>\n     <use x=\"130.371094\" xlink:href=\"#DejaVuSans-73\"/>\n    </g>\n   </g>\n   <g id=\"text_16\">\n    <!-- as -->\n    <g transform=\"translate(311.295153 86.473706)scale(0.1 -0.1)\">\n     <use xlink:href=\"#DejaVuSans-61\"/>\n     <use x=\"61.279297\" xlink:href=\"#DejaVuSans-73\"/>\n    </g>\n   </g>\n   <g id=\"text_17\">\n    <!-- tablet -->\n    <g transform=\"translate(251.44867 53.272455)scale(0.1 -0.1)\">\n     <defs>\n      <path d=\"M 603 4863 \nL 1178 4863 \nL 1178 0 \nL 603 0 \nL 603 4863 \nz\n\" id=\"DejaVuSans-6c\" transform=\"scale(0.015625)\"/>\n     </defs>\n     <use xlink:href=\"#DejaVuSans-74\"/>\n     <use x=\"39.208984\" xlink:href=\"#DejaVuSans-61\"/>\n     <use x=\"100.488281\" xlink:href=\"#DejaVuSans-62\"/>\n     <use x=\"163.964844\" xlink:href=\"#DejaVuSans-6c\"/>\n     <use x=\"191.748047\" xlink:href=\"#DejaVuSans-65\"/>\n     <use x=\"253.271484\" xlink:href=\"#DejaVuSans-74\"/>\n    </g>\n   </g>\n   <g id=\"text_18\">\n    <!-- great -->\n    <g transform=\"translate(252.85492 24.075495)scale(0.1 -0.1)\">\n     <defs>\n      <path d=\"M 2906 1791 \nQ 2906 2416 2648 2759 \nQ 2391 3103 1925 3103 \nQ 1463 3103 1205 2759 \nQ 947 2416 947 1791 \nQ 947 1169 1205 825 \nQ 1463 481 1925 481 \nQ 2391 481 2648 825 \nQ 2906 1169 2906 1791 \nz\nM 3481 434 \nQ 3481 -459 3084 -895 \nQ 2688 -1331 1869 -1331 \nQ 1566 -1331 1297 -1286 \nQ 1028 -1241 775 -1147 \nL 775 -588 \nQ 1028 -725 1275 -790 \nQ 1522 -856 1778 -856 \nQ 2344 -856 2625 -561 \nQ 2906 -266 2906 331 \nL 2906 616 \nQ 2728 306 2450 153 \nQ 2172 0 1784 0 \nQ 1141 0 747 490 \nQ 353 981 353 1791 \nQ 353 2603 747 3093 \nQ 1141 3584 1784 3584 \nQ 2172 3584 2450 3431 \nQ 2728 3278 2906 2969 \nL 2906 3500 \nL 3481 3500 \nL 3481 434 \nz\n\" id=\"DejaVuSans-67\" transform=\"scale(0.015625)\"/>\n     </defs>\n     <use xlink:href=\"#DejaVuSans-67\"/>\n     <use x=\"63.476562\" xlink:href=\"#DejaVuSans-72\"/>\n     <use x=\"102.339844\" xlink:href=\"#DejaVuSans-65\"/>\n     <use x=\"163.863281\" xlink:href=\"#DejaVuSans-61\"/>\n     <use x=\"225.142578\" xlink:href=\"#DejaVuSans-74\"/>\n    </g>\n   </g>\n   <g id=\"text_19\">\n    <!-- with -->\n    <g transform=\"translate(306.529513 53.675083)scale(0.1 -0.1)\">\n     <defs>\n      <path d=\"M 269 3500 \nL 844 3500 \nL 1563 769 \nL 2278 3500 \nL 2956 3500 \nL 3675 769 \nL 4391 3500 \nL 4966 3500 \nL 4050 0 \nL 3372 0 \nL 2619 2869 \nL 1863 0 \nL 1184 0 \nL 269 3500 \nz\n\" id=\"DejaVuSans-77\" transform=\"scale(0.015625)\"/>\n     </defs>\n     <use xlink:href=\"#DejaVuSans-77\"/>\n     <use x=\"81.787109\" xlink:href=\"#DejaVuSans-69\"/>\n     <use x=\"109.570312\" xlink:href=\"#DejaVuSans-74\"/>\n     <use x=\"148.779297\" xlink:href=\"#DejaVuSans-68\"/>\n    </g>\n   </g>\n   <g id=\"text_20\">\n    <!-- in -->\n    <g transform=\"translate(312.578732 24.478123)scale(0.1 -0.1)\">\n     <use xlink:href=\"#DejaVuSans-69\"/>\n     <use x=\"27.783203\" xlink:href=\"#DejaVuSans-6e\"/>\n    </g>\n   </g>\n  </g>\n </g>\n <defs>\n  <clipPath id=\"pf6907a42af\">\n   <rect height=\"217.44\" width=\"334.8\" x=\"7.2\" y=\"7.2\"/>\n  </clipPath>\n </defs>\n</svg>\n",
      "image/png": "[encoded data removed]"
     },
     "metadata": {
      "needs_background": "light"
     }
    }
   ],
   "source": [
    "wc = count(df['spacy_tokens'])\n",
    "\n",
    "wc_top20 = wc[wc['rank'] <= 20]\n",
    "\n",
    "squarify.plot(sizes=wc_top20['pct_total'], label=wc_top20['word'], alpha=.8 )\n",
    "plt.axis('off')\n",
    "plt.show()"
   ]
  },
  {
   "cell_type": "code",
   "execution_count": 59,
   "metadata": {},
   "outputs": [
    {
     "output_type": "execute_result",
     "data": {
      "text/plain": [
       "['_',\n",
       " '__bytes__',\n",
       " '__class__',\n",
       " '__delattr__',\n",
       " '__dir__',\n",
       " '__doc__',\n",
       " '__eq__',\n",
       " '__format__',\n",
       " '__ge__',\n",
       " '__getattribute__',\n",
       " '__gt__',\n",
       " '__hash__',\n",
       " '__init__',\n",
       " '__init_subclass__',\n",
       " '__le__',\n",
       " '__len__',\n",
       " '__lt__',\n",
       " '__ne__',\n",
       " '__new__',\n",
       " '__pyx_vtable__',\n",
       " '__reduce__',\n",
       " '__reduce_ex__',\n",
       " '__repr__',\n",
       " '__setattr__',\n",
       " '__sizeof__',\n",
       " '__str__',\n",
       " '__subclasshook__',\n",
       " '__unicode__',\n",
       " 'ancestors',\n",
       " 'check_flag',\n",
       " 'children',\n",
       " 'cluster',\n",
       " 'conjuncts',\n",
       " 'dep',\n",
       " 'dep_',\n",
       " 'doc',\n",
       " 'ent_id',\n",
       " 'ent_id_',\n",
       " 'ent_iob',\n",
       " 'ent_iob_',\n",
       " 'ent_kb_id',\n",
       " 'ent_kb_id_',\n",
       " 'ent_type',\n",
       " 'ent_type_',\n",
       " 'get_extension',\n",
       " 'has_extension',\n",
       " 'has_vector',\n",
       " 'head',\n",
       " 'i',\n",
       " 'idx',\n",
       " 'is_alpha',\n",
       " 'is_ancestor',\n",
       " 'is_ascii',\n",
       " 'is_bracket',\n",
       " 'is_currency',\n",
       " 'is_digit',\n",
       " 'is_left_punct',\n",
       " 'is_lower',\n",
       " 'is_oov',\n",
       " 'is_punct',\n",
       " 'is_quote',\n",
       " 'is_right_punct',\n",
       " 'is_sent_start',\n",
       " 'is_space',\n",
       " 'is_stop',\n",
       " 'is_title',\n",
       " 'is_upper',\n",
       " 'lang',\n",
       " 'lang_',\n",
       " 'left_edge',\n",
       " 'lefts',\n",
       " 'lemma',\n",
       " 'lemma_',\n",
       " 'lex_id',\n",
       " 'like_email',\n",
       " 'like_num',\n",
       " 'like_url',\n",
       " 'lower',\n",
       " 'lower_',\n",
       " 'morph',\n",
       " 'n_lefts',\n",
       " 'n_rights',\n",
       " 'nbor',\n",
       " 'norm',\n",
       " 'norm_',\n",
       " 'orth',\n",
       " 'orth_',\n",
       " 'pos',\n",
       " 'pos_',\n",
       " 'prefix',\n",
       " 'prefix_',\n",
       " 'prob',\n",
       " 'rank',\n",
       " 'remove_extension',\n",
       " 'right_edge',\n",
       " 'rights',\n",
       " 'sent',\n",
       " 'sent_start',\n",
       " 'sentiment',\n",
       " 'set_extension',\n",
       " 'shape',\n",
       " 'shape_',\n",
       " 'similarity',\n",
       " 'string',\n",
       " 'subtree',\n",
       " 'suffix',\n",
       " 'suffix_',\n",
       " 'tag',\n",
       " 'tag_',\n",
       " 'tensor',\n",
       " 'text',\n",
       " 'text_with_ws',\n",
       " 'vector',\n",
       " 'vector_norm',\n",
       " 'vocab',\n",
       " 'whitespace_']"
      ]
     },
     "metadata": {},
     "execution_count": 59
    }
   ],
   "source": [
    "dir(token)"
   ]
  },
  {
   "cell_type": "code",
   "execution_count": 60,
   "metadata": {},
   "outputs": [
    {
     "output_type": "execute_result",
     "data": {
      "text/plain": [
       "'.'"
      ]
     },
     "metadata": {},
     "execution_count": 60
    }
   ],
   "source": [
    "token.text"
   ]
  },
  {
   "cell_type": "code",
   "execution_count": 62,
   "metadata": {},
   "outputs": [
    {
     "output_type": "execute_result",
     "data": {
      "text/plain": [
       "True"
      ]
     },
     "metadata": {},
     "execution_count": 62
    }
   ],
   "source": [
    "token.is_punct"
   ]
  },
  {
   "cell_type": "code",
   "execution_count": 64,
   "metadata": {},
   "outputs": [
    {
     "output_type": "execute_result",
     "data": {
      "text/plain": [
       "''"
      ]
     },
     "metadata": {},
     "execution_count": 64
    }
   ],
   "source": [
    "token.pos_"
   ]
  },
  {
   "cell_type": "code",
   "execution_count": 49,
   "metadata": {},
   "outputs": [
    {
     "output_type": "execute_result",
     "data": {
      "text/plain": [
       "0        [I, order, 3, of, them, and, one, of, the, ite...\n",
       "1        [Bulk, is, always, the, less, expensive, way, ...\n",
       "2        [Well, they, are, not, Duracell, but, for, the...\n",
       "3        [Seem, to, work, as, well, as, name, brand, ba...\n",
       "4        [These, batteries, are, very, long, lasting, t...\n",
       "                               ...                        \n",
       "28327    [I, got, 2, of, these, for, my, 8, yr, old, tw...\n",
       "28328    [I, bought, this, for, my, niece, for, a, Chri...\n",
       "28329    [Very, nice, for, light, internet, browsing, ,...\n",
       "28330    [This, Tablet, does, absolutely, everything, I...\n",
       "28331    [At, ninety, dollars, ,, the, expectionations,...\n",
       "Name: spacy_tokens, Length: 28332, dtype: object"
      ]
     },
     "metadata": {},
     "execution_count": 49
    }
   ],
   "source": [
    "df['spacy_tokens']"
   ]
  },
  {
   "cell_type": "markdown",
   "metadata": {
    "id": "FS-IuYRdGEr3",
    "toc-hr-collapsed": true
   },
   "source": [
    "## Challenge\n",
    "\n",
    "In the module project, you will apply tokenization to another set of review data and produce visualizations of those tokens. "
   ]
  },
  {
   "cell_type": "markdown",
   "metadata": {
    "id": "qy-JQ3VUGEr6",
    "toc-hr-collapsed": true
   },
   "source": [
    "# Stop Words (Learn)\n",
    "<a id=\"p2\"></a>"
   ]
  },
  {
   "cell_type": "markdown",
   "metadata": {
    "id": "APfLF769GEr6"
   },
   "source": [
    "## Overview\n",
    "Section Agenda\n",
    "- What are they?\n",
    "- How do we get rid of them using Spacy?\n",
    "- Visualization\n",
    "- Libraries of Stop Words\n",
    "- Extending Stop Words\n",
    "- Statistical trimming\n",
    "\n",
    "If the visualizations above, you began to notice a pattern. Most of the words don't really add much to our understanding of product reviews. Words such as \"I\", \"and\", \"of\", etc. have almost no semantic meaning to us. We call these useless words \"stop words,\" because we should 'stop' ourselves from including them in the analysis. \n",
    "\n",
    "Most NLP libraries have built in lists of stop words that common english words: conjunctions, articles, adverbs, pronouns, and common verbs. The best practice, however, is to extend/customize these standard english stopwords for your problem's domain. If I am studying political science, I may want to exclude the word \"politics\" from my analysis; it's so common it does not add to my understanding. "
   ]
  },
  {
   "cell_type": "markdown",
   "metadata": {
    "id": "7b5yWU9hGEr7",
    "toc-hr-collapsed": true
   },
   "source": [
    "## Follow Along \n",
    "\n",
    "### Default Stop Words\n",
    "Let's take a look at the standard stop words that came with our Spacy model:"
   ]
  },
  {
   "cell_type": "code",
   "execution_count": 50,
   "metadata": {
    "colab": {
     "base_uri": "https://localhost:8080/",
     "height": 1000
    },
    "collapsed": true,
    "id": "zeOqLNAhGEr7",
    "jupyter": {
     "outputs_hidden": true
    },
    "outputId": "fc3f6f19-ae76-44e0-9351-eabe86837e8d"
   },
   "outputs": [
    {
     "output_type": "execute_result",
     "data": {
      "text/plain": [
       "{\"'d\",\n",
       " \"'ll\",\n",
       " \"'m\",\n",
       " \"'re\",\n",
       " \"'s\",\n",
       " \"'ve\",\n",
       " 'a',\n",
       " 'about',\n",
       " 'above',\n",
       " 'across',\n",
       " 'after',\n",
       " 'afterwards',\n",
       " 'again',\n",
       " 'against',\n",
       " 'all',\n",
       " 'almost',\n",
       " 'alone',\n",
       " 'along',\n",
       " 'already',\n",
       " 'also',\n",
       " 'although',\n",
       " 'always',\n",
       " 'am',\n",
       " 'among',\n",
       " 'amongst',\n",
       " 'amount',\n",
       " 'an',\n",
       " 'and',\n",
       " 'another',\n",
       " 'any',\n",
       " 'anyhow',\n",
       " 'anyone',\n",
       " 'anything',\n",
       " 'anyway',\n",
       " 'anywhere',\n",
       " 'are',\n",
       " 'around',\n",
       " 'as',\n",
       " 'at',\n",
       " 'back',\n",
       " 'be',\n",
       " 'became',\n",
       " 'because',\n",
       " 'become',\n",
       " 'becomes',\n",
       " 'becoming',\n",
       " 'been',\n",
       " 'before',\n",
       " 'beforehand',\n",
       " 'behind',\n",
       " 'being',\n",
       " 'below',\n",
       " 'beside',\n",
       " 'besides',\n",
       " 'between',\n",
       " 'beyond',\n",
       " 'both',\n",
       " 'bottom',\n",
       " 'but',\n",
       " 'by',\n",
       " 'ca',\n",
       " 'call',\n",
       " 'can',\n",
       " 'cannot',\n",
       " 'could',\n",
       " 'did',\n",
       " 'do',\n",
       " 'does',\n",
       " 'doing',\n",
       " 'done',\n",
       " 'down',\n",
       " 'due',\n",
       " 'during',\n",
       " 'each',\n",
       " 'eight',\n",
       " 'either',\n",
       " 'eleven',\n",
       " 'else',\n",
       " 'elsewhere',\n",
       " 'empty',\n",
       " 'enough',\n",
       " 'even',\n",
       " 'ever',\n",
       " 'every',\n",
       " 'everyone',\n",
       " 'everything',\n",
       " 'everywhere',\n",
       " 'except',\n",
       " 'few',\n",
       " 'fifteen',\n",
       " 'fifty',\n",
       " 'first',\n",
       " 'five',\n",
       " 'for',\n",
       " 'former',\n",
       " 'formerly',\n",
       " 'forty',\n",
       " 'four',\n",
       " 'from',\n",
       " 'front',\n",
       " 'full',\n",
       " 'further',\n",
       " 'get',\n",
       " 'give',\n",
       " 'go',\n",
       " 'had',\n",
       " 'has',\n",
       " 'have',\n",
       " 'he',\n",
       " 'hence',\n",
       " 'her',\n",
       " 'here',\n",
       " 'hereafter',\n",
       " 'hereby',\n",
       " 'herein',\n",
       " 'hereupon',\n",
       " 'hers',\n",
       " 'herself',\n",
       " 'him',\n",
       " 'himself',\n",
       " 'his',\n",
       " 'how',\n",
       " 'however',\n",
       " 'hundred',\n",
       " 'i',\n",
       " 'if',\n",
       " 'in',\n",
       " 'indeed',\n",
       " 'into',\n",
       " 'is',\n",
       " 'it',\n",
       " 'its',\n",
       " 'itself',\n",
       " 'just',\n",
       " 'keep',\n",
       " 'last',\n",
       " 'latter',\n",
       " 'latterly',\n",
       " 'least',\n",
       " 'less',\n",
       " 'made',\n",
       " 'make',\n",
       " 'many',\n",
       " 'may',\n",
       " 'me',\n",
       " 'meanwhile',\n",
       " 'might',\n",
       " 'mine',\n",
       " 'more',\n",
       " 'moreover',\n",
       " 'most',\n",
       " 'mostly',\n",
       " 'move',\n",
       " 'much',\n",
       " 'must',\n",
       " 'my',\n",
       " 'myself',\n",
       " \"n't\",\n",
       " 'name',\n",
       " 'namely',\n",
       " 'neither',\n",
       " 'never',\n",
       " 'nevertheless',\n",
       " 'next',\n",
       " 'nine',\n",
       " 'no',\n",
       " 'nobody',\n",
       " 'none',\n",
       " 'noone',\n",
       " 'nor',\n",
       " 'not',\n",
       " 'nothing',\n",
       " 'now',\n",
       " 'nowhere',\n",
       " 'n‘t',\n",
       " 'n’t',\n",
       " 'of',\n",
       " 'off',\n",
       " 'often',\n",
       " 'on',\n",
       " 'once',\n",
       " 'one',\n",
       " 'only',\n",
       " 'onto',\n",
       " 'or',\n",
       " 'other',\n",
       " 'others',\n",
       " 'otherwise',\n",
       " 'our',\n",
       " 'ours',\n",
       " 'ourselves',\n",
       " 'out',\n",
       " 'over',\n",
       " 'own',\n",
       " 'part',\n",
       " 'per',\n",
       " 'perhaps',\n",
       " 'please',\n",
       " 'put',\n",
       " 'quite',\n",
       " 'rather',\n",
       " 're',\n",
       " 'really',\n",
       " 'regarding',\n",
       " 'same',\n",
       " 'say',\n",
       " 'see',\n",
       " 'seem',\n",
       " 'seemed',\n",
       " 'seeming',\n",
       " 'seems',\n",
       " 'serious',\n",
       " 'several',\n",
       " 'she',\n",
       " 'should',\n",
       " 'show',\n",
       " 'side',\n",
       " 'since',\n",
       " 'six',\n",
       " 'sixty',\n",
       " 'so',\n",
       " 'some',\n",
       " 'somehow',\n",
       " 'someone',\n",
       " 'something',\n",
       " 'sometime',\n",
       " 'sometimes',\n",
       " 'somewhere',\n",
       " 'still',\n",
       " 'such',\n",
       " 'take',\n",
       " 'ten',\n",
       " 'than',\n",
       " 'that',\n",
       " 'the',\n",
       " 'their',\n",
       " 'them',\n",
       " 'themselves',\n",
       " 'then',\n",
       " 'thence',\n",
       " 'there',\n",
       " 'thereafter',\n",
       " 'thereby',\n",
       " 'therefore',\n",
       " 'therein',\n",
       " 'thereupon',\n",
       " 'these',\n",
       " 'they',\n",
       " 'third',\n",
       " 'this',\n",
       " 'those',\n",
       " 'though',\n",
       " 'three',\n",
       " 'through',\n",
       " 'throughout',\n",
       " 'thru',\n",
       " 'thus',\n",
       " 'to',\n",
       " 'together',\n",
       " 'too',\n",
       " 'top',\n",
       " 'toward',\n",
       " 'towards',\n",
       " 'twelve',\n",
       " 'twenty',\n",
       " 'two',\n",
       " 'under',\n",
       " 'unless',\n",
       " 'until',\n",
       " 'up',\n",
       " 'upon',\n",
       " 'us',\n",
       " 'used',\n",
       " 'using',\n",
       " 'various',\n",
       " 'very',\n",
       " 'via',\n",
       " 'was',\n",
       " 'we',\n",
       " 'well',\n",
       " 'were',\n",
       " 'what',\n",
       " 'whatever',\n",
       " 'when',\n",
       " 'whence',\n",
       " 'whenever',\n",
       " 'where',\n",
       " 'whereafter',\n",
       " 'whereas',\n",
       " 'whereby',\n",
       " 'wherein',\n",
       " 'whereupon',\n",
       " 'wherever',\n",
       " 'whether',\n",
       " 'which',\n",
       " 'while',\n",
       " 'whither',\n",
       " 'who',\n",
       " 'whoever',\n",
       " 'whole',\n",
       " 'whom',\n",
       " 'whose',\n",
       " 'why',\n",
       " 'will',\n",
       " 'with',\n",
       " 'within',\n",
       " 'without',\n",
       " 'would',\n",
       " 'yet',\n",
       " 'you',\n",
       " 'your',\n",
       " 'yours',\n",
       " 'yourself',\n",
       " 'yourselves',\n",
       " '‘d',\n",
       " '‘ll',\n",
       " '‘m',\n",
       " '‘re',\n",
       " '‘s',\n",
       " '‘ve',\n",
       " '’d',\n",
       " '’ll',\n",
       " '’m',\n",
       " '’re',\n",
       " '’s',\n",
       " '’ve'}"
      ]
     },
     "metadata": {},
     "execution_count": 50
    }
   ],
   "source": [
    "# Spacy's Default Stop Words\n",
    "nlp.Defaults.stop_words"
   ]
  },
  {
   "cell_type": "code",
   "execution_count": 67,
   "metadata": {
    "deletable": false,
    "id": "gYnQfN9TGEr9",
    "nbgrader": {
     "cell_type": "code",
     "checksum": "659d58e18d2e1352236109ea3597cd08",
     "grade": false,
     "grade_id": "cell-6786f165c68a0aa6",
     "locked": false,
     "schema_version": 3,
     "solution": true,
     "task": false
    }
   },
   "outputs": [],
   "source": [
    "# Use spacy to create a tokenizer that removes stop words\n",
    "\n",
    "# nlp.disable_pipes('tagger', 'parser')\n",
    "\n",
    "# create a tokenizer using spacy\n",
    "spacy_tokens = []\n",
    "for doc in nlp.pipe(df['reviews.text'], disable=['parser', 'tagger']):\n",
    "    \n",
    "    doc_tokens = []\n",
    "    for token in doc:\n",
    "        if (token.is_stop == False) & (token.is_punct == False) & (len(token.text) > 2):\n",
    "           doc_tokens.append(token.text.lower())\n",
    "\n",
    "    spacy_tokens.append(doc_tokens)\n",
    "\n",
    "df['spacy_tokens_v2'] = spacy_tokens\n"
   ]
  },
  {
   "cell_type": "code",
   "execution_count": 68,
   "metadata": {},
   "outputs": [
    {
     "output_type": "stream",
     "name": "stdout",
     "text": [
      "(10565, 7)\n"
     ]
    },
    {
     "output_type": "display_data",
     "data": {
      "text/plain": "<Figure size 432x288 with 1 Axes>",
      "image/svg+xml": "<?xml version=\"1.0\" encoding=\"utf-8\" standalone=\"no\"?>\n<!DOCTYPE svg PUBLIC \"-//W3C//DTD SVG 1.1//EN\"\n  \"http://www.w3.org/Graphics/SVG/1.1/DTD/svg11.dtd\">\n<svg height=\"231.84pt\" version=\"1.1\" viewBox=\"0 0 349.2 231.84\" width=\"349.2pt\" xmlns=\"http://www.w3.org/2000/svg\" xmlns:xlink=\"http://www.w3.org/1999/xlink\">\n <metadata>\n  <rdf:RDF xmlns:cc=\"http://creativecommons.org/ns#\" xmlns:dc=\"http://purl.org/dc/elements/1.1/\" xmlns:rdf=\"http://www.w3.org/1999/02/22-rdf-syntax-ns#\">\n   <cc:Work>\n    <dc:type rdf:resource=\"http://purl.org/dc/dcmitype/StillImage\"/>\n    <dc:date>2021-05-05T22:45:42.359105</dc:date>\n    <dc:format>image/svg+xml</dc:format>\n    <dc:creator>\n     <cc:Agent>\n      <dc:title>Matplotlib v3.4.1, https://matplotlib.org/</dc:title>\n     </cc:Agent>\n    </dc:creator>\n   </cc:Work>\n  </rdf:RDF>\n </metadata>\n <defs>\n  <style type=\"text/css\">*{stroke-linecap:butt;stroke-linejoin:round;}</style>\n </defs>\n <g id=\"figure_1\">\n  <g id=\"patch_1\">\n   <path d=\"M 0 231.84 \nL 349.2 231.84 \nL 349.2 0 \nL 0 0 \nz\n\" style=\"fill:none;\"/>\n  </g>\n  <g id=\"axes_1\">\n   <g id=\"patch_2\">\n    <path clip-path=\"url(#pc311ca0a05)\" d=\"M 7.2 224.64 \nL 112.502944 224.64 \nL 112.502944 139.955865 \nL 7.2 139.955865 \nz\n\" style=\"fill:#27808e;opacity:0.8;\"/>\n   </g>\n   <g id=\"patch_3\">\n    <path clip-path=\"url(#pc311ca0a05)\" d=\"M 7.2 139.955865 \nL 112.502944 139.955865 \nL 112.502944 67.054104 \nL 7.2 67.054104 \nz\n\" style=\"fill:#1e9b8a;opacity:0.8;\"/>\n   </g>\n   <g id=\"patch_4\">\n    <path clip-path=\"url(#pc311ca0a05)\" d=\"M 7.2 67.054104 \nL 112.502944 67.054104 \nL 112.502944 7.2 \nL 7.2 7.2 \nz\n\" style=\"fill:#2eb37c;opacity:0.8;\"/>\n   </g>\n   <g id=\"patch_5\">\n    <path clip-path=\"url(#pc311ca0a05)\" d=\"M 112.502944 224.64 \nL 199.364379 224.64 \nL 199.364379 160.563777 \nL 112.502944 160.563777 \nz\n\" style=\"fill:#414287;opacity:0.8;\"/>\n   </g>\n   <g id=\"patch_6\">\n    <path clip-path=\"url(#pc311ca0a05)\" d=\"M 199.364379 224.64 \nL 275.961713 224.64 \nL 275.961713 160.563777 \nL 199.364379 160.563777 \nz\n\" style=\"fill:#3b528b;opacity:0.8;\"/>\n   </g>\n   <g id=\"patch_7\">\n    <path clip-path=\"url(#pc311ca0a05)\" d=\"M 275.961713 224.64 \nL 342 224.64 \nL 342 160.563777 \nL 275.961713 160.563777 \nz\n\" style=\"fill:#1e9d89;opacity:0.8;\"/>\n   </g>\n   <g id=\"patch_8\">\n    <path clip-path=\"url(#pc311ca0a05)\" d=\"M 112.502944 160.563777 \nL 196.400906 160.563777 \nL 196.400906 116.885549 \nL 112.502944 116.885549 \nz\n\" style=\"fill:#2e6d8e;opacity:0.8;\"/>\n   </g>\n   <g id=\"patch_9\">\n    <path clip-path=\"url(#pc311ca0a05)\" d=\"M 196.400906 160.563777 \nL 273.073 160.563777 \nL 273.073 116.885549 \nL 196.400906 116.885549 \nz\n\" style=\"fill:#481c6e;opacity:0.8;\"/>\n   </g>\n   <g id=\"patch_10\">\n    <path clip-path=\"url(#pc311ca0a05)\" d=\"M 273.073 160.563777 \nL 342 160.563777 \nL 342 116.885549 \nL 273.073 116.885549 \nz\n\" style=\"fill:#54c568;opacity:0.8;\"/>\n   </g>\n   <g id=\"patch_11\">\n    <path clip-path=\"url(#pc311ca0a05)\" d=\"M 112.502944 116.885549 \nL 184.283772 116.885549 \nL 184.283772 78.07698 \nL 112.502944 78.07698 \nz\n\" style=\"fill:#46c06f;opacity:0.8;\"/>\n   </g>\n   <g id=\"patch_12\">\n    <path clip-path=\"url(#pc311ca0a05)\" d=\"M 112.502944 78.07698 \nL 184.283772 78.07698 \nL 184.283772 40.295232 \nL 112.502944 40.295232 \nz\n\" style=\"fill:#bade28;opacity:0.8;\"/>\n   </g>\n   <g id=\"patch_13\">\n    <path clip-path=\"url(#pc311ca0a05)\" d=\"M 112.502944 40.295232 \nL 184.283772 40.295232 \nL 184.283772 7.2 \nL 112.502944 7.2 \nz\n\" style=\"fill:#228b8d;opacity:0.8;\"/>\n   </g>\n   <g id=\"patch_14\">\n    <path clip-path=\"url(#pc311ca0a05)\" d=\"M 184.283772 116.885549 \nL 237.941575 116.885549 \nL 237.941575 72.788447 \nL 184.283772 72.788447 \nz\n\" style=\"fill:#481a6c;opacity:0.8;\"/>\n   </g>\n   <g id=\"patch_15\">\n    <path clip-path=\"url(#pc311ca0a05)\" d=\"M 237.941575 116.885549 \nL 291.470806 116.885549 \nL 291.470806 72.788447 \nL 237.941575 72.788447 \nz\n\" style=\"fill:#297a8e;opacity:0.8;\"/>\n   </g>\n   <g id=\"patch_16\">\n    <path clip-path=\"url(#pc311ca0a05)\" d=\"M 291.470806 116.885549 \nL 342 116.885549 \nL 342 72.788447 \nL 291.470806 72.788447 \nz\n\" style=\"fill:#3e4a89;opacity:0.8;\"/>\n   </g>\n   <g id=\"patch_17\">\n    <path clip-path=\"url(#pc311ca0a05)\" d=\"M 184.283772 72.788447 \nL 248.828277 72.788447 \nL 248.828277 39.540375 \nL 184.283772 39.540375 \nz\n\" style=\"fill:#3a538b;opacity:0.8;\"/>\n   </g>\n   <g id=\"patch_18\">\n    <path clip-path=\"url(#pc311ca0a05)\" d=\"M 184.283772 39.540375 \nL 248.828277 39.540375 \nL 248.828277 7.2 \nL 184.283772 7.2 \nz\n\" style=\"fill:#7cd250;opacity:0.8;\"/>\n   </g>\n   <g id=\"patch_19\">\n    <path clip-path=\"url(#pc311ca0a05)\" d=\"M 248.828277 72.788447 \nL 296.15496 72.788447 \nL 296.15496 28.78222 \nL 248.828277 28.78222 \nz\n\" style=\"fill:#52c569;opacity:0.8;\"/>\n   </g>\n   <g id=\"patch_20\">\n    <path clip-path=\"url(#pc311ca0a05)\" d=\"M 296.15496 72.788447 \nL 342 72.788447 \nL 342 28.78222 \nL 296.15496 28.78222 \nz\n\" style=\"fill:#2d718e;opacity:0.8;\"/>\n   </g>\n   <g id=\"patch_21\">\n    <path clip-path=\"url(#pc311ca0a05)\" d=\"M 248.828277 28.78222 \nL 342 28.78222 \nL 342 7.2 \nL 248.828277 7.2 \nz\n\" style=\"fill:#481668;opacity:0.8;\"/>\n   </g>\n   <g id=\"text_1\">\n    <!-- great -->\n    <g transform=\"translate(46.633503 185.057307)scale(0.1 -0.1)\">\n     <defs>\n      <path d=\"M 2906 1791 \nQ 2906 2416 2648 2759 \nQ 2391 3103 1925 3103 \nQ 1463 3103 1205 2759 \nQ 947 2416 947 1791 \nQ 947 1169 1205 825 \nQ 1463 481 1925 481 \nQ 2391 481 2648 825 \nQ 2906 1169 2906 1791 \nz\nM 3481 434 \nQ 3481 -459 3084 -895 \nQ 2688 -1331 1869 -1331 \nQ 1566 -1331 1297 -1286 \nQ 1028 -1241 775 -1147 \nL 775 -588 \nQ 1028 -725 1275 -790 \nQ 1522 -856 1778 -856 \nQ 2344 -856 2625 -561 \nQ 2906 -266 2906 331 \nL 2906 616 \nQ 2728 306 2450 153 \nQ 2172 0 1784 0 \nQ 1141 0 747 490 \nQ 353 981 353 1791 \nQ 353 2603 747 3093 \nQ 1141 3584 1784 3584 \nQ 2172 3584 2450 3431 \nQ 2728 3278 2906 2969 \nL 2906 3500 \nL 3481 3500 \nL 3481 434 \nz\n\" id=\"DejaVuSans-67\" transform=\"scale(0.015625)\"/>\n      <path d=\"M 2631 2963 \nQ 2534 3019 2420 3045 \nQ 2306 3072 2169 3072 \nQ 1681 3072 1420 2755 \nQ 1159 2438 1159 1844 \nL 1159 0 \nL 581 0 \nL 581 3500 \nL 1159 3500 \nL 1159 2956 \nQ 1341 3275 1631 3429 \nQ 1922 3584 2338 3584 \nQ 2397 3584 2469 3576 \nQ 2541 3569 2628 3553 \nL 2631 2963 \nz\n\" id=\"DejaVuSans-72\" transform=\"scale(0.015625)\"/>\n      <path d=\"M 3597 1894 \nL 3597 1613 \nL 953 1613 \nQ 991 1019 1311 708 \nQ 1631 397 2203 397 \nQ 2534 397 2845 478 \nQ 3156 559 3463 722 \nL 3463 178 \nQ 3153 47 2828 -22 \nQ 2503 -91 2169 -91 \nQ 1331 -91 842 396 \nQ 353 884 353 1716 \nQ 353 2575 817 3079 \nQ 1281 3584 2069 3584 \nQ 2775 3584 3186 3129 \nQ 3597 2675 3597 1894 \nz\nM 3022 2063 \nQ 3016 2534 2758 2815 \nQ 2500 3097 2075 3097 \nQ 1594 3097 1305 2825 \nQ 1016 2553 972 2059 \nL 3022 2063 \nz\n\" id=\"DejaVuSans-65\" transform=\"scale(0.015625)\"/>\n      <path d=\"M 2194 1759 \nQ 1497 1759 1228 1600 \nQ 959 1441 959 1056 \nQ 959 750 1161 570 \nQ 1363 391 1709 391 \nQ 2188 391 2477 730 \nQ 2766 1069 2766 1631 \nL 2766 1759 \nL 2194 1759 \nz\nM 3341 1997 \nL 3341 0 \nL 2766 0 \nL 2766 531 \nQ 2569 213 2275 61 \nQ 1981 -91 1556 -91 \nQ 1019 -91 701 211 \nQ 384 513 384 1019 \nQ 384 1609 779 1909 \nQ 1175 2209 1959 2209 \nL 2766 2209 \nL 2766 2266 \nQ 2766 2663 2505 2880 \nQ 2244 3097 1772 3097 \nQ 1472 3097 1187 3025 \nQ 903 2953 641 2809 \nL 641 3341 \nQ 956 3463 1253 3523 \nQ 1550 3584 1831 3584 \nQ 2591 3584 2966 3190 \nQ 3341 2797 3341 1997 \nz\n\" id=\"DejaVuSans-61\" transform=\"scale(0.015625)\"/>\n      <path d=\"M 1172 4494 \nL 1172 3500 \nL 2356 3500 \nL 2356 3053 \nL 1172 3053 \nL 1172 1153 \nQ 1172 725 1289 603 \nQ 1406 481 1766 481 \nL 2356 481 \nL 2356 0 \nL 1766 0 \nQ 1100 0 847 248 \nQ 594 497 594 1153 \nL 594 3053 \nL 172 3053 \nL 172 3500 \nL 594 3500 \nL 594 4494 \nL 1172 4494 \nz\n\" id=\"DejaVuSans-74\" transform=\"scale(0.015625)\"/>\n     </defs>\n     <use xlink:href=\"#DejaVuSans-67\"/>\n     <use x=\"63.476562\" xlink:href=\"#DejaVuSans-72\"/>\n     <use x=\"102.339844\" xlink:href=\"#DejaVuSans-65\"/>\n     <use x=\"163.863281\" xlink:href=\"#DejaVuSans-61\"/>\n     <use x=\"225.142578\" xlink:href=\"#DejaVuSans-74\"/>\n    </g>\n   </g>\n   <g id=\"text_2\">\n    <!-- batteries -->\n    <g transform=\"translate(37.490534 106.26436)scale(0.1 -0.1)\">\n     <defs>\n      <path d=\"M 3116 1747 \nQ 3116 2381 2855 2742 \nQ 2594 3103 2138 3103 \nQ 1681 3103 1420 2742 \nQ 1159 2381 1159 1747 \nQ 1159 1113 1420 752 \nQ 1681 391 2138 391 \nQ 2594 391 2855 752 \nQ 3116 1113 3116 1747 \nz\nM 1159 2969 \nQ 1341 3281 1617 3432 \nQ 1894 3584 2278 3584 \nQ 2916 3584 3314 3078 \nQ 3713 2572 3713 1747 \nQ 3713 922 3314 415 \nQ 2916 -91 2278 -91 \nQ 1894 -91 1617 61 \nQ 1341 213 1159 525 \nL 1159 0 \nL 581 0 \nL 581 4863 \nL 1159 4863 \nL 1159 2969 \nz\n\" id=\"DejaVuSans-62\" transform=\"scale(0.015625)\"/>\n      <path d=\"M 603 3500 \nL 1178 3500 \nL 1178 0 \nL 603 0 \nL 603 3500 \nz\nM 603 4863 \nL 1178 4863 \nL 1178 4134 \nL 603 4134 \nL 603 4863 \nz\n\" id=\"DejaVuSans-69\" transform=\"scale(0.015625)\"/>\n      <path d=\"M 2834 3397 \nL 2834 2853 \nQ 2591 2978 2328 3040 \nQ 2066 3103 1784 3103 \nQ 1356 3103 1142 2972 \nQ 928 2841 928 2578 \nQ 928 2378 1081 2264 \nQ 1234 2150 1697 2047 \nL 1894 2003 \nQ 2506 1872 2764 1633 \nQ 3022 1394 3022 966 \nQ 3022 478 2636 193 \nQ 2250 -91 1575 -91 \nQ 1294 -91 989 -36 \nQ 684 19 347 128 \nL 347 722 \nQ 666 556 975 473 \nQ 1284 391 1588 391 \nQ 1994 391 2212 530 \nQ 2431 669 2431 922 \nQ 2431 1156 2273 1281 \nQ 2116 1406 1581 1522 \nL 1381 1569 \nQ 847 1681 609 1914 \nQ 372 2147 372 2553 \nQ 372 3047 722 3315 \nQ 1072 3584 1716 3584 \nQ 2034 3584 2315 3537 \nQ 2597 3491 2834 3397 \nz\n\" id=\"DejaVuSans-73\" transform=\"scale(0.015625)\"/>\n     </defs>\n     <use xlink:href=\"#DejaVuSans-62\"/>\n     <use x=\"63.476562\" xlink:href=\"#DejaVuSans-61\"/>\n     <use x=\"124.755859\" xlink:href=\"#DejaVuSans-74\"/>\n     <use x=\"163.964844\" xlink:href=\"#DejaVuSans-74\"/>\n     <use x=\"203.173828\" xlink:href=\"#DejaVuSans-65\"/>\n     <use x=\"264.697266\" xlink:href=\"#DejaVuSans-72\"/>\n     <use x=\"305.810547\" xlink:href=\"#DejaVuSans-69\"/>\n     <use x=\"333.59375\" xlink:href=\"#DejaVuSans-65\"/>\n     <use x=\"395.117188\" xlink:href=\"#DejaVuSans-73\"/>\n    </g>\n   </g>\n   <g id=\"text_3\">\n    <!-- tablet -->\n    <g transform=\"translate(45.227253 39.886427)scale(0.1 -0.1)\">\n     <defs>\n      <path d=\"M 603 4863 \nL 1178 4863 \nL 1178 0 \nL 603 0 \nL 603 4863 \nz\n\" id=\"DejaVuSans-6c\" transform=\"scale(0.015625)\"/>\n     </defs>\n     <use xlink:href=\"#DejaVuSans-74\"/>\n     <use x=\"39.208984\" xlink:href=\"#DejaVuSans-61\"/>\n     <use x=\"100.488281\" xlink:href=\"#DejaVuSans-62\"/>\n     <use x=\"163.964844\" xlink:href=\"#DejaVuSans-6c\"/>\n     <use x=\"191.748047\" xlink:href=\"#DejaVuSans-65\"/>\n     <use x=\"253.271484\" xlink:href=\"#DejaVuSans-74\"/>\n    </g>\n   </g>\n   <g id=\"text_4\">\n    <!-- good -->\n    <g transform=\"translate(143.466474 195.361263)scale(0.1 -0.1)\">\n     <defs>\n      <path d=\"M 1959 3097 \nQ 1497 3097 1228 2736 \nQ 959 2375 959 1747 \nQ 959 1119 1226 758 \nQ 1494 397 1959 397 \nQ 2419 397 2687 759 \nQ 2956 1122 2956 1747 \nQ 2956 2369 2687 2733 \nQ 2419 3097 1959 3097 \nz\nM 1959 3584 \nQ 2709 3584 3137 3096 \nQ 3566 2609 3566 1747 \nQ 3566 888 3137 398 \nQ 2709 -91 1959 -91 \nQ 1206 -91 779 398 \nQ 353 888 353 1747 \nQ 353 2609 779 3096 \nQ 1206 3584 1959 3584 \nz\n\" id=\"DejaVuSans-6f\" transform=\"scale(0.015625)\"/>\n      <path d=\"M 2906 2969 \nL 2906 4863 \nL 3481 4863 \nL 3481 0 \nL 2906 0 \nL 2906 525 \nQ 2725 213 2448 61 \nQ 2172 -91 1784 -91 \nQ 1150 -91 751 415 \nQ 353 922 353 1747 \nQ 353 2572 751 3078 \nQ 1150 3584 1784 3584 \nQ 2172 3584 2448 3432 \nQ 2725 3281 2906 2969 \nz\nM 947 1747 \nQ 947 1113 1208 752 \nQ 1469 391 1925 391 \nQ 2381 391 2643 752 \nQ 2906 1113 2906 1747 \nQ 2906 2381 2643 2742 \nQ 2381 3103 1925 3103 \nQ 1469 3103 1208 2742 \nQ 947 2381 947 1747 \nz\n\" id=\"DejaVuSans-64\" transform=\"scale(0.015625)\"/>\n     </defs>\n     <use xlink:href=\"#DejaVuSans-67\"/>\n     <use x=\"63.476562\" xlink:href=\"#DejaVuSans-6f\"/>\n     <use x=\"124.658203\" xlink:href=\"#DejaVuSans-6f\"/>\n     <use x=\"185.839844\" xlink:href=\"#DejaVuSans-64\"/>\n    </g>\n   </g>\n   <g id=\"text_5\">\n    <!-- price -->\n    <g transform=\"translate(225.218515 195.361263)scale(0.1 -0.1)\">\n     <defs>\n      <path d=\"M 1159 525 \nL 1159 -1331 \nL 581 -1331 \nL 581 3500 \nL 1159 3500 \nL 1159 2969 \nQ 1341 3281 1617 3432 \nQ 1894 3584 2278 3584 \nQ 2916 3584 3314 3078 \nQ 3713 2572 3713 1747 \nQ 3713 922 3314 415 \nQ 2916 -91 2278 -91 \nQ 1894 -91 1617 61 \nQ 1341 213 1159 525 \nz\nM 3116 1747 \nQ 3116 2381 2855 2742 \nQ 2594 3103 2138 3103 \nQ 1681 3103 1420 2742 \nQ 1159 2381 1159 1747 \nQ 1159 1113 1420 752 \nQ 1681 391 2138 391 \nQ 2594 391 2855 752 \nQ 3116 1113 3116 1747 \nz\n\" id=\"DejaVuSans-70\" transform=\"scale(0.015625)\"/>\n      <path d=\"M 3122 3366 \nL 3122 2828 \nQ 2878 2963 2633 3030 \nQ 2388 3097 2138 3097 \nQ 1578 3097 1268 2742 \nQ 959 2388 959 1747 \nQ 959 1106 1268 751 \nQ 1578 397 2138 397 \nQ 2388 397 2633 464 \nQ 2878 531 3122 666 \nL 3122 134 \nQ 2881 22 2623 -34 \nQ 2366 -91 2075 -91 \nQ 1284 -91 818 406 \nQ 353 903 353 1747 \nQ 353 2603 823 3093 \nQ 1294 3584 2113 3584 \nQ 2378 3584 2631 3529 \nQ 2884 3475 3122 3366 \nz\n\" id=\"DejaVuSans-63\" transform=\"scale(0.015625)\"/>\n     </defs>\n     <use xlink:href=\"#DejaVuSans-70\"/>\n     <use x=\"63.476562\" xlink:href=\"#DejaVuSans-72\"/>\n     <use x=\"104.589844\" xlink:href=\"#DejaVuSans-69\"/>\n     <use x=\"132.373047\" xlink:href=\"#DejaVuSans-63\"/>\n     <use x=\"187.353516\" xlink:href=\"#DejaVuSans-65\"/>\n    </g>\n   </g>\n   <g id=\"text_6\">\n    <!-- use -->\n    <g transform=\"translate(300.130857 195.361263)scale(0.1 -0.1)\">\n     <defs>\n      <path d=\"M 544 1381 \nL 544 3500 \nL 1119 3500 \nL 1119 1403 \nQ 1119 906 1312 657 \nQ 1506 409 1894 409 \nQ 2359 409 2629 706 \nQ 2900 1003 2900 1516 \nL 2900 3500 \nL 3475 3500 \nL 3475 0 \nL 2900 0 \nL 2900 538 \nQ 2691 219 2414 64 \nQ 2138 -91 1772 -91 \nQ 1169 -91 856 284 \nQ 544 659 544 1381 \nz\nM 1991 3584 \nL 1991 3584 \nz\n\" id=\"DejaVuSans-75\" transform=\"scale(0.015625)\"/>\n     </defs>\n     <use xlink:href=\"#DejaVuSans-75\"/>\n     <use x=\"63.378906\" xlink:href=\"#DejaVuSans-73\"/>\n     <use x=\"115.478516\" xlink:href=\"#DejaVuSans-65\"/>\n    </g>\n   </g>\n   <g id=\"text_7\">\n    <!-- amazon -->\n    <g transform=\"translate(134.601144 141.484038)scale(0.1 -0.1)\">\n     <defs>\n      <path d=\"M 3328 2828 \nQ 3544 3216 3844 3400 \nQ 4144 3584 4550 3584 \nQ 5097 3584 5394 3201 \nQ 5691 2819 5691 2113 \nL 5691 0 \nL 5113 0 \nL 5113 2094 \nQ 5113 2597 4934 2840 \nQ 4756 3084 4391 3084 \nQ 3944 3084 3684 2787 \nQ 3425 2491 3425 1978 \nL 3425 0 \nL 2847 0 \nL 2847 2094 \nQ 2847 2600 2669 2842 \nQ 2491 3084 2119 3084 \nQ 1678 3084 1418 2786 \nQ 1159 2488 1159 1978 \nL 1159 0 \nL 581 0 \nL 581 3500 \nL 1159 3500 \nL 1159 2956 \nQ 1356 3278 1631 3431 \nQ 1906 3584 2284 3584 \nQ 2666 3584 2933 3390 \nQ 3200 3197 3328 2828 \nz\n\" id=\"DejaVuSans-6d\" transform=\"scale(0.015625)\"/>\n      <path d=\"M 353 3500 \nL 3084 3500 \nL 3084 2975 \nL 922 459 \nL 3084 459 \nL 3084 0 \nL 275 0 \nL 275 525 \nL 2438 3041 \nL 353 3041 \nL 353 3500 \nz\n\" id=\"DejaVuSans-7a\" transform=\"scale(0.015625)\"/>\n      <path d=\"M 3513 2113 \nL 3513 0 \nL 2938 0 \nL 2938 2094 \nQ 2938 2591 2744 2837 \nQ 2550 3084 2163 3084 \nQ 1697 3084 1428 2787 \nQ 1159 2491 1159 1978 \nL 1159 0 \nL 581 0 \nL 581 3500 \nL 1159 3500 \nL 1159 2956 \nQ 1366 3272 1645 3428 \nQ 1925 3584 2291 3584 \nQ 2894 3584 3203 3211 \nQ 3513 2838 3513 2113 \nz\n\" id=\"DejaVuSans-6e\" transform=\"scale(0.015625)\"/>\n     </defs>\n     <use xlink:href=\"#DejaVuSans-61\"/>\n     <use x=\"61.279297\" xlink:href=\"#DejaVuSans-6d\"/>\n     <use x=\"158.691406\" xlink:href=\"#DejaVuSans-61\"/>\n     <use x=\"219.970703\" xlink:href=\"#DejaVuSans-7a\"/>\n     <use x=\"272.460938\" xlink:href=\"#DejaVuSans-6f\"/>\n     <use x=\"333.642578\" xlink:href=\"#DejaVuSans-6e\"/>\n    </g>\n   </g>\n   <g id=\"text_8\">\n    <!-- love -->\n    <g transform=\"translate(224.252578 141.484038)scale(0.1 -0.1)\">\n     <defs>\n      <path d=\"M 191 3500 \nL 800 3500 \nL 1894 563 \nL 2988 3500 \nL 3597 3500 \nL 2284 0 \nL 1503 0 \nL 191 3500 \nz\n\" id=\"DejaVuSans-76\" transform=\"scale(0.015625)\"/>\n     </defs>\n     <use xlink:href=\"#DejaVuSans-6c\"/>\n     <use x=\"27.783203\" xlink:href=\"#DejaVuSans-6f\"/>\n     <use x=\"88.964844\" xlink:href=\"#DejaVuSans-76\"/>\n     <use x=\"148.144531\" xlink:href=\"#DejaVuSans-65\"/>\n    </g>\n   </g>\n   <g id=\"text_9\">\n    <!-- bought -->\n    <g transform=\"translate(289.831031 141.484038)scale(0.1 -0.1)\">\n     <defs>\n      <path d=\"M 3513 2113 \nL 3513 0 \nL 2938 0 \nL 2938 2094 \nQ 2938 2591 2744 2837 \nQ 2550 3084 2163 3084 \nQ 1697 3084 1428 2787 \nQ 1159 2491 1159 1978 \nL 1159 0 \nL 581 0 \nL 581 4863 \nL 1159 4863 \nL 1159 2956 \nQ 1366 3272 1645 3428 \nQ 1925 3584 2291 3584 \nQ 2894 3584 3203 3211 \nQ 3513 2838 3513 2113 \nz\n\" id=\"DejaVuSans-68\" transform=\"scale(0.015625)\"/>\n     </defs>\n     <use xlink:href=\"#DejaVuSans-62\"/>\n     <use x=\"63.476562\" xlink:href=\"#DejaVuSans-6f\"/>\n     <use x=\"124.658203\" xlink:href=\"#DejaVuSans-75\"/>\n     <use x=\"188.037109\" xlink:href=\"#DejaVuSans-67\"/>\n     <use x=\"251.513672\" xlink:href=\"#DejaVuSans-68\"/>\n     <use x=\"314.892578\" xlink:href=\"#DejaVuSans-74\"/>\n    </g>\n   </g>\n   <g id=\"text_10\">\n    <!-- easy -->\n    <g transform=\"translate(136.68867 100.240639)scale(0.1 -0.1)\">\n     <defs>\n      <path d=\"M 2059 -325 \nQ 1816 -950 1584 -1140 \nQ 1353 -1331 966 -1331 \nL 506 -1331 \nL 506 -850 \nL 844 -850 \nQ 1081 -850 1212 -737 \nQ 1344 -625 1503 -206 \nL 1606 56 \nL 191 3500 \nL 800 3500 \nL 1894 763 \nL 2988 3500 \nL 3597 3500 \nL 2059 -325 \nz\n\" id=\"DejaVuSans-79\" transform=\"scale(0.015625)\"/>\n     </defs>\n     <use xlink:href=\"#DejaVuSans-65\"/>\n     <use x=\"61.523438\" xlink:href=\"#DejaVuSans-61\"/>\n     <use x=\"122.802734\" xlink:href=\"#DejaVuSans-73\"/>\n     <use x=\"174.902344\" xlink:href=\"#DejaVuSans-79\"/>\n    </g>\n   </g>\n   <g id=\"text_11\">\n    <!-- kindle -->\n    <g transform=\"translate(133.300389 61.945481)scale(0.1 -0.1)\">\n     <defs>\n      <path d=\"M 581 4863 \nL 1159 4863 \nL 1159 1991 \nL 2875 3500 \nL 3609 3500 \nL 1753 1863 \nL 3688 0 \nL 2938 0 \nL 1159 1709 \nL 1159 0 \nL 581 0 \nL 581 4863 \nz\n\" id=\"DejaVuSans-6b\" transform=\"scale(0.015625)\"/>\n     </defs>\n     <use xlink:href=\"#DejaVuSans-6b\"/>\n     <use x=\"57.910156\" xlink:href=\"#DejaVuSans-69\"/>\n     <use x=\"85.693359\" xlink:href=\"#DejaVuSans-6e\"/>\n     <use x=\"149.072266\" xlink:href=\"#DejaVuSans-64\"/>\n     <use x=\"212.548828\" xlink:href=\"#DejaVuSans-6c\"/>\n     <use x=\"240.332031\" xlink:href=\"#DejaVuSans-65\"/>\n    </g>\n   </g>\n   <g id=\"text_12\">\n    <!-- long -->\n    <g transform=\"translate(137.601952 26.506991)scale(0.1 -0.1)\">\n     <use xlink:href=\"#DejaVuSans-6c\"/>\n     <use x=\"27.783203\" xlink:href=\"#DejaVuSans-6f\"/>\n     <use x=\"88.964844\" xlink:href=\"#DejaVuSans-6e\"/>\n     <use x=\"152.34375\" xlink:href=\"#DejaVuSans-67\"/>\n    </g>\n   </g>\n   <g id=\"text_13\">\n    <!-- kids -->\n    <g transform=\"translate(201.049392 97.596373)scale(0.1 -0.1)\">\n     <use xlink:href=\"#DejaVuSans-6b\"/>\n     <use x=\"57.910156\" xlink:href=\"#DejaVuSans-69\"/>\n     <use x=\"85.693359\" xlink:href=\"#DejaVuSans-64\"/>\n     <use x=\"149.169922\" xlink:href=\"#DejaVuSans-73\"/>\n    </g>\n   </g>\n   <g id=\"text_14\">\n    <!-- like -->\n    <g transform=\"translate(256.137441 97.596373)scale(0.1 -0.1)\">\n     <use xlink:href=\"#DejaVuSans-6c\"/>\n     <use x=\"27.783203\" xlink:href=\"#DejaVuSans-69\"/>\n     <use x=\"55.566406\" xlink:href=\"#DejaVuSans-6b\"/>\n     <use x=\"109.851562\" xlink:href=\"#DejaVuSans-65\"/>\n    </g>\n   </g>\n   <g id=\"text_15\">\n    <!-- work -->\n    <g transform=\"translate(304.636184 97.596373)scale(0.1 -0.1)\">\n     <defs>\n      <path d=\"M 269 3500 \nL 844 3500 \nL 1563 769 \nL 2278 3500 \nL 2956 3500 \nL 3675 769 \nL 4391 3500 \nL 4966 3500 \nL 4050 0 \nL 3372 0 \nL 2619 2869 \nL 1863 0 \nL 1184 0 \nL 269 3500 \nz\n\" id=\"DejaVuSans-77\" transform=\"scale(0.015625)\"/>\n     </defs>\n     <use xlink:href=\"#DejaVuSans-77\"/>\n     <use x=\"81.787109\" xlink:href=\"#DejaVuSans-6f\"/>\n     <use x=\"142.96875\" xlink:href=\"#DejaVuSans-72\"/>\n     <use x=\"184.082031\" xlink:href=\"#DejaVuSans-6b\"/>\n    </g>\n   </g>\n   <g id=\"text_16\">\n    <!-- buy -->\n    <g transform=\"translate(207.253681 58.923786)scale(0.1 -0.1)\">\n     <use xlink:href=\"#DejaVuSans-62\"/>\n     <use x=\"63.476562\" xlink:href=\"#DejaVuSans-75\"/>\n     <use x=\"126.855469\" xlink:href=\"#DejaVuSans-79\"/>\n    </g>\n   </g>\n   <g id=\"text_17\">\n    <!-- loves -->\n    <g transform=\"translate(203.466962 26.129563)scale(0.1 -0.1)\">\n     <use xlink:href=\"#DejaVuSans-6c\"/>\n     <use x=\"27.783203\" xlink:href=\"#DejaVuSans-6f\"/>\n     <use x=\"88.964844\" xlink:href=\"#DejaVuSans-76\"/>\n     <use x=\"148.144531\" xlink:href=\"#DejaVuSans-65\"/>\n     <use x=\"209.667969\" xlink:href=\"#DejaVuSans-73\"/>\n    </g>\n   </g>\n   <g id=\"text_18\">\n    <!-- fire -->\n    <g transform=\"translate(264.322869 53.544709)scale(0.1 -0.1)\">\n     <defs>\n      <path d=\"M 2375 4863 \nL 2375 4384 \nL 1825 4384 \nQ 1516 4384 1395 4259 \nQ 1275 4134 1275 3809 \nL 1275 3500 \nL 2222 3500 \nL 2222 3053 \nL 1275 3053 \nL 1275 0 \nL 697 0 \nL 697 3053 \nL 147 3053 \nL 147 3500 \nL 697 3500 \nL 697 3744 \nQ 697 4328 969 4595 \nQ 1241 4863 1831 4863 \nL 2375 4863 \nz\n\" id=\"DejaVuSans-66\" transform=\"scale(0.015625)\"/>\n     </defs>\n     <use xlink:href=\"#DejaVuSans-66\"/>\n     <use x=\"35.205078\" xlink:href=\"#DejaVuSans-69\"/>\n     <use x=\"62.988281\" xlink:href=\"#DejaVuSans-72\"/>\n     <use x=\"101.851562\" xlink:href=\"#DejaVuSans-65\"/>\n    </g>\n   </g>\n   <g id=\"text_19\">\n    <!-- old -->\n    <g transform=\"translate(311.454824 53.544709)scale(0.1 -0.1)\">\n     <use xlink:href=\"#DejaVuSans-6f\"/>\n     <use x=\"61.181641\" xlink:href=\"#DejaVuSans-6c\"/>\n     <use x=\"88.964844\" xlink:href=\"#DejaVuSans-64\"/>\n    </g>\n   </g>\n   <g id=\"text_20\">\n    <!-- battery -->\n    <g transform=\"translate(277.164139 20.750485)scale(0.1 -0.1)\">\n     <use xlink:href=\"#DejaVuSans-62\"/>\n     <use x=\"63.476562\" xlink:href=\"#DejaVuSans-61\"/>\n     <use x=\"124.755859\" xlink:href=\"#DejaVuSans-74\"/>\n     <use x=\"163.964844\" xlink:href=\"#DejaVuSans-74\"/>\n     <use x=\"203.173828\" xlink:href=\"#DejaVuSans-65\"/>\n     <use x=\"264.697266\" xlink:href=\"#DejaVuSans-72\"/>\n     <use x=\"305.810547\" xlink:href=\"#DejaVuSans-79\"/>\n    </g>\n   </g>\n  </g>\n </g>\n <defs>\n  <clipPath id=\"pc311ca0a05\">\n   <rect height=\"217.44\" width=\"334.8\" x=\"7.2\" y=\"7.2\"/>\n  </clipPath>\n </defs>\n</svg>\n",
      "image/png": "[encoded data removed]"
     },
     "metadata": {
      "needs_background": "light"
     }
    }
   ],
   "source": [
    "wc = count(df['spacy_tokens_v2'])\n",
    "print(wc.shape)\n",
    "\n",
    "wc_top20 = wc[wc['rank'] <= 20]\n",
    "\n",
    "squarify.plot(sizes=wc_top20['pct_total'], label=wc_top20['word'], alpha=.8 )\n",
    "plt.axis('off')\n",
    "plt.show()"
   ]
  },
  {
   "cell_type": "markdown",
   "metadata": {
    "id": "wW7qoSu_GEsD"
   },
   "source": [
    "### Extending Stop Words"
   ]
  },
  {
   "cell_type": "code",
   "execution_count": 69,
   "metadata": {
    "colab": {
     "base_uri": "https://localhost:8080/",
     "height": 34
    },
    "id": "MxLUxpRvGEsD",
    "outputId": "b30d3b87-1e0f-46f1-b444-51a475803152"
   },
   "outputs": [
    {
     "output_type": "stream",
     "name": "stdout",
     "text": [
      "<class 'set'>\n"
     ]
    }
   ],
   "source": [
    "print(type(nlp.Defaults.stop_words))"
   ]
  },
  {
   "cell_type": "code",
   "execution_count": 70,
   "metadata": {
    "id": "7D6R_35SGEsF"
   },
   "outputs": [],
   "source": [
    "STOP_WORDS = nlp.Defaults.stop_words.union(['batteries','I', 'amazon', 'i', 'Amazon', 'it', \"it's\", 'it.', 'the', 'this',])"
   ]
  },
  {
   "cell_type": "code",
   "execution_count": 54,
   "metadata": {
    "deletable": false,
    "id": "0JOoLRyUGEsJ",
    "nbgrader": {
     "cell_type": "code",
     "checksum": "068a4f6cd4bebc5c8cbc74372c41a905",
     "grade": false,
     "grade_id": "cell-37cd0e460b63ff43",
     "locked": false,
     "schema_version": 3,
     "solution": true,
     "task": false
    }
   },
   "outputs": [
    {
     "output_type": "error",
     "ename": "NotImplementedError",
     "evalue": "",
     "traceback": [
      "\u001b[0;31m---------------------------------------------------------------------------\u001b[0m",
      "\u001b[0;31mNotImplementedError\u001b[0m                       Traceback (most recent call last)",
      "\u001b[0;32m<ipython-input-54-8d1d442ddacf>\u001b[0m in \u001b[0;36m<module>\u001b[0;34m\u001b[0m\n\u001b[1;32m      2\u001b[0m \u001b[0;34m\u001b[0m\u001b[0m\n\u001b[1;32m      3\u001b[0m \u001b[0;31m# YOUR CODE HERE\u001b[0m\u001b[0;34m\u001b[0m\u001b[0;34m\u001b[0m\u001b[0m\n\u001b[0;32m----> 4\u001b[0;31m \u001b[0;32mraise\u001b[0m \u001b[0mNotImplementedError\u001b[0m\u001b[0;34m(\u001b[0m\u001b[0;34m)\u001b[0m\u001b[0;34m\u001b[0m\u001b[0m\n\u001b[0m",
      "\u001b[0;31mNotImplementedError\u001b[0m: "
     ]
    }
   ],
   "source": [
    "# use spacy to create a tokenizer that removes stopwords using STOP_WORDS\n",
    "\n",
    "# nlp.disable_pipes('tagger', 'parser')\n",
    "\n",
    "# create a tokenizer using spacy\n",
    "tokens = []\n",
    "for doc in nlp.pipe(df['reviews.text'], disable=['parser', 'tagger']):\n",
    "    \n",
    "    doc_tokens = []\n",
    "    for token in doc:\n",
    "        if (token.text.lower() not in STOP_WORDS) & (token.is_punct == False):\n",
    "           doc_tokens.append(token.text.lower())\n",
    "\n",
    "    tokens.append(doc_tokens)\n",
    "\n",
    "df['spaCy_Tokens_v2'] = tokens\n",
    "\n",
    "wc = count(df['spaCy_Tokens_v2'])\n",
    "print(wc.shape)\n",
    "\n",
    "wc_top20 = wc[wc['rank'] <= 20]\n",
    "\n",
    "squarify.plot(sizes=wc_top20['pct_total'], label=wc_top20['word'], alpha=.8 )\n",
    "plt.axis('off')\n",
    "plt.show()"
   ]
  },
  {
   "cell_type": "markdown",
   "metadata": {
    "id": "55BKEXW6GEsQ"
   },
   "source": [
    "### Statistical Trimming\n",
    "\n",
    "So far, we have talked about stop word in relation to either broad english words or domain specific stop words. Another common approach to stop word removal is via statistical trimming. The basic idea: preserve the words that give the most about of variation in your data. \n",
    "\n",
    "Do you remember this graph?"
   ]
  },
  {
   "cell_type": "code",
   "execution_count": 71,
   "metadata": {
    "colab": {
     "base_uri": "https://localhost:8080/",
     "height": 279
    },
    "id": "m7M5bXwUGEsQ",
    "outputId": "841a517d-7e36-4410-d030-263eb09da596"
   },
   "outputs": [
    {
     "output_type": "display_data",
     "data": {
      "text/plain": "<Figure size 432x288 with 1 Axes>",
      "image/svg+xml": "<?xml version=\"1.0\" encoding=\"utf-8\" standalone=\"no\"?>\n<!DOCTYPE svg PUBLIC \"-//W3C//DTD SVG 1.1//EN\"\n  \"http://www.w3.org/Graphics/SVG/1.1/DTD/svg11.dtd\">\n<svg height=\"262.19625pt\" version=\"1.1\" viewBox=\"0 0 386.059375 262.19625\" width=\"386.059375pt\" xmlns=\"http://www.w3.org/2000/svg\" xmlns:xlink=\"http://www.w3.org/1999/xlink\">\n <metadata>\n  <rdf:RDF xmlns:cc=\"http://creativecommons.org/ns#\" xmlns:dc=\"http://purl.org/dc/elements/1.1/\" xmlns:rdf=\"http://www.w3.org/1999/02/22-rdf-syntax-ns#\">\n   <cc:Work>\n    <dc:type rdf:resource=\"http://purl.org/dc/dcmitype/StillImage\"/>\n    <dc:date>2021-05-05T22:50:11.608375</dc:date>\n    <dc:format>image/svg+xml</dc:format>\n    <dc:creator>\n     <cc:Agent>\n      <dc:title>Matplotlib v3.4.1, https://matplotlib.org/</dc:title>\n     </cc:Agent>\n    </dc:creator>\n   </cc:Work>\n  </rdf:RDF>\n </metadata>\n <defs>\n  <style type=\"text/css\">*{stroke-linecap:butt;stroke-linejoin:round;}</style>\n </defs>\n <g id=\"figure_1\">\n  <g id=\"patch_1\">\n   <path d=\"M 0 262.19625 \nL 386.059375 262.19625 \nL 386.059375 0 \nL 0 0 \nz\n\" style=\"fill:none;\"/>\n  </g>\n  <g id=\"axes_1\">\n   <g id=\"patch_2\">\n    <path d=\"M 44.059375 224.64 \nL 378.859375 224.64 \nL 378.859375 7.2 \nL 44.059375 7.2 \nz\n\" style=\"fill:#ffffff;\"/>\n   </g>\n   <g id=\"matplotlib.axis_1\">\n    <g id=\"xtick_1\">\n     <g id=\"line2d_1\">\n      <defs>\n       <path d=\"M 0 0 \nL 0 3.5 \n\" id=\"m82b6bc1853\" style=\"stroke:#000000;stroke-width:0.8;\"/>\n      </defs>\n      <g>\n       <use style=\"stroke:#000000;stroke-width:0.8;\" x=\"59.248745\" xlink:href=\"#m82b6bc1853\" y=\"224.64\"/>\n      </g>\n     </g>\n     <g id=\"text_1\">\n      <!-- 0 -->\n      <g transform=\"translate(56.067495 239.238437)scale(0.1 -0.1)\">\n       <defs>\n        <path d=\"M 2034 4250 \nQ 1547 4250 1301 3770 \nQ 1056 3291 1056 2328 \nQ 1056 1369 1301 889 \nQ 1547 409 2034 409 \nQ 2525 409 2770 889 \nQ 3016 1369 3016 2328 \nQ 3016 3291 2770 3770 \nQ 2525 4250 2034 4250 \nz\nM 2034 4750 \nQ 2819 4750 3233 4129 \nQ 3647 3509 3647 2328 \nQ 3647 1150 3233 529 \nQ 2819 -91 2034 -91 \nQ 1250 -91 836 529 \nQ 422 1150 422 2328 \nQ 422 3509 836 4129 \nQ 1250 4750 2034 4750 \nz\n\" id=\"DejaVuSans-30\" transform=\"scale(0.015625)\"/>\n       </defs>\n       <use xlink:href=\"#DejaVuSans-30\"/>\n      </g>\n     </g>\n    </g>\n    <g id=\"xtick_2\">\n     <g id=\"line2d_2\">\n      <g>\n       <use style=\"stroke:#000000;stroke-width:0.8;\" x=\"116.871547\" xlink:href=\"#m82b6bc1853\" y=\"224.64\"/>\n      </g>\n     </g>\n     <g id=\"text_2\">\n      <!-- 2000 -->\n      <g transform=\"translate(104.146547 239.238437)scale(0.1 -0.1)\">\n       <defs>\n        <path d=\"M 1228 531 \nL 3431 531 \nL 3431 0 \nL 469 0 \nL 469 531 \nQ 828 903 1448 1529 \nQ 2069 2156 2228 2338 \nQ 2531 2678 2651 2914 \nQ 2772 3150 2772 3378 \nQ 2772 3750 2511 3984 \nQ 2250 4219 1831 4219 \nQ 1534 4219 1204 4116 \nQ 875 4013 500 3803 \nL 500 4441 \nQ 881 4594 1212 4672 \nQ 1544 4750 1819 4750 \nQ 2544 4750 2975 4387 \nQ 3406 4025 3406 3419 \nQ 3406 3131 3298 2873 \nQ 3191 2616 2906 2266 \nQ 2828 2175 2409 1742 \nQ 1991 1309 1228 531 \nz\n\" id=\"DejaVuSans-32\" transform=\"scale(0.015625)\"/>\n       </defs>\n       <use xlink:href=\"#DejaVuSans-32\"/>\n       <use x=\"63.623047\" xlink:href=\"#DejaVuSans-30\"/>\n       <use x=\"127.246094\" xlink:href=\"#DejaVuSans-30\"/>\n       <use x=\"190.869141\" xlink:href=\"#DejaVuSans-30\"/>\n      </g>\n     </g>\n    </g>\n    <g id=\"xtick_3\">\n     <g id=\"line2d_3\">\n      <g>\n       <use style=\"stroke:#000000;stroke-width:0.8;\" x=\"174.494348\" xlink:href=\"#m82b6bc1853\" y=\"224.64\"/>\n      </g>\n     </g>\n     <g id=\"text_3\">\n      <!-- 4000 -->\n      <g transform=\"translate(161.769348 239.238437)scale(0.1 -0.1)\">\n       <defs>\n        <path d=\"M 2419 4116 \nL 825 1625 \nL 2419 1625 \nL 2419 4116 \nz\nM 2253 4666 \nL 3047 4666 \nL 3047 1625 \nL 3713 1625 \nL 3713 1100 \nL 3047 1100 \nL 3047 0 \nL 2419 0 \nL 2419 1100 \nL 313 1100 \nL 313 1709 \nL 2253 4666 \nz\n\" id=\"DejaVuSans-34\" transform=\"scale(0.015625)\"/>\n       </defs>\n       <use xlink:href=\"#DejaVuSans-34\"/>\n       <use x=\"63.623047\" xlink:href=\"#DejaVuSans-30\"/>\n       <use x=\"127.246094\" xlink:href=\"#DejaVuSans-30\"/>\n       <use x=\"190.869141\" xlink:href=\"#DejaVuSans-30\"/>\n      </g>\n     </g>\n    </g>\n    <g id=\"xtick_4\">\n     <g id=\"line2d_4\">\n      <g>\n       <use style=\"stroke:#000000;stroke-width:0.8;\" x=\"232.117149\" xlink:href=\"#m82b6bc1853\" y=\"224.64\"/>\n      </g>\n     </g>\n     <g id=\"text_4\">\n      <!-- 6000 -->\n      <g transform=\"translate(219.392149 239.238437)scale(0.1 -0.1)\">\n       <defs>\n        <path d=\"M 2113 2584 \nQ 1688 2584 1439 2293 \nQ 1191 2003 1191 1497 \nQ 1191 994 1439 701 \nQ 1688 409 2113 409 \nQ 2538 409 2786 701 \nQ 3034 994 3034 1497 \nQ 3034 2003 2786 2293 \nQ 2538 2584 2113 2584 \nz\nM 3366 4563 \nL 3366 3988 \nQ 3128 4100 2886 4159 \nQ 2644 4219 2406 4219 \nQ 1781 4219 1451 3797 \nQ 1122 3375 1075 2522 \nQ 1259 2794 1537 2939 \nQ 1816 3084 2150 3084 \nQ 2853 3084 3261 2657 \nQ 3669 2231 3669 1497 \nQ 3669 778 3244 343 \nQ 2819 -91 2113 -91 \nQ 1303 -91 875 529 \nQ 447 1150 447 2328 \nQ 447 3434 972 4092 \nQ 1497 4750 2381 4750 \nQ 2619 4750 2861 4703 \nQ 3103 4656 3366 4563 \nz\n\" id=\"DejaVuSans-36\" transform=\"scale(0.015625)\"/>\n       </defs>\n       <use xlink:href=\"#DejaVuSans-36\"/>\n       <use x=\"63.623047\" xlink:href=\"#DejaVuSans-30\"/>\n       <use x=\"127.246094\" xlink:href=\"#DejaVuSans-30\"/>\n       <use x=\"190.869141\" xlink:href=\"#DejaVuSans-30\"/>\n      </g>\n     </g>\n    </g>\n    <g id=\"xtick_5\">\n     <g id=\"line2d_5\">\n      <g>\n       <use style=\"stroke:#000000;stroke-width:0.8;\" x=\"289.739951\" xlink:href=\"#m82b6bc1853\" y=\"224.64\"/>\n      </g>\n     </g>\n     <g id=\"text_5\">\n      <!-- 8000 -->\n      <g transform=\"translate(277.014951 239.238437)scale(0.1 -0.1)\">\n       <defs>\n        <path d=\"M 2034 2216 \nQ 1584 2216 1326 1975 \nQ 1069 1734 1069 1313 \nQ 1069 891 1326 650 \nQ 1584 409 2034 409 \nQ 2484 409 2743 651 \nQ 3003 894 3003 1313 \nQ 3003 1734 2745 1975 \nQ 2488 2216 2034 2216 \nz\nM 1403 2484 \nQ 997 2584 770 2862 \nQ 544 3141 544 3541 \nQ 544 4100 942 4425 \nQ 1341 4750 2034 4750 \nQ 2731 4750 3128 4425 \nQ 3525 4100 3525 3541 \nQ 3525 3141 3298 2862 \nQ 3072 2584 2669 2484 \nQ 3125 2378 3379 2068 \nQ 3634 1759 3634 1313 \nQ 3634 634 3220 271 \nQ 2806 -91 2034 -91 \nQ 1263 -91 848 271 \nQ 434 634 434 1313 \nQ 434 1759 690 2068 \nQ 947 2378 1403 2484 \nz\nM 1172 3481 \nQ 1172 3119 1398 2916 \nQ 1625 2713 2034 2713 \nQ 2441 2713 2670 2916 \nQ 2900 3119 2900 3481 \nQ 2900 3844 2670 4047 \nQ 2441 4250 2034 4250 \nQ 1625 4250 1398 4047 \nQ 1172 3844 1172 3481 \nz\n\" id=\"DejaVuSans-38\" transform=\"scale(0.015625)\"/>\n       </defs>\n       <use xlink:href=\"#DejaVuSans-38\"/>\n       <use x=\"63.623047\" xlink:href=\"#DejaVuSans-30\"/>\n       <use x=\"127.246094\" xlink:href=\"#DejaVuSans-30\"/>\n       <use x=\"190.869141\" xlink:href=\"#DejaVuSans-30\"/>\n      </g>\n     </g>\n    </g>\n    <g id=\"xtick_6\">\n     <g id=\"line2d_6\">\n      <g>\n       <use style=\"stroke:#000000;stroke-width:0.8;\" x=\"347.362752\" xlink:href=\"#m82b6bc1853\" y=\"224.64\"/>\n      </g>\n     </g>\n     <g id=\"text_6\">\n      <!-- 10000 -->\n      <g transform=\"translate(331.456502 239.238437)scale(0.1 -0.1)\">\n       <defs>\n        <path d=\"M 794 531 \nL 1825 531 \nL 1825 4091 \nL 703 3866 \nL 703 4441 \nL 1819 4666 \nL 2450 4666 \nL 2450 531 \nL 3481 531 \nL 3481 0 \nL 794 0 \nL 794 531 \nz\n\" id=\"DejaVuSans-31\" transform=\"scale(0.015625)\"/>\n       </defs>\n       <use xlink:href=\"#DejaVuSans-31\"/>\n       <use x=\"63.623047\" xlink:href=\"#DejaVuSans-30\"/>\n       <use x=\"127.246094\" xlink:href=\"#DejaVuSans-30\"/>\n       <use x=\"190.869141\" xlink:href=\"#DejaVuSans-30\"/>\n       <use x=\"254.492188\" xlink:href=\"#DejaVuSans-30\"/>\n      </g>\n     </g>\n    </g>\n    <g id=\"text_7\">\n     <!-- rank -->\n     <g transform=\"translate(200.275781 252.916562)scale(0.1 -0.1)\">\n      <defs>\n       <path d=\"M 2631 2963 \nQ 2534 3019 2420 3045 \nQ 2306 3072 2169 3072 \nQ 1681 3072 1420 2755 \nQ 1159 2438 1159 1844 \nL 1159 0 \nL 581 0 \nL 581 3500 \nL 1159 3500 \nL 1159 2956 \nQ 1341 3275 1631 3429 \nQ 1922 3584 2338 3584 \nQ 2397 3584 2469 3576 \nQ 2541 3569 2628 3553 \nL 2631 2963 \nz\n\" id=\"DejaVuSans-72\" transform=\"scale(0.015625)\"/>\n       <path d=\"M 2194 1759 \nQ 1497 1759 1228 1600 \nQ 959 1441 959 1056 \nQ 959 750 1161 570 \nQ 1363 391 1709 391 \nQ 2188 391 2477 730 \nQ 2766 1069 2766 1631 \nL 2766 1759 \nL 2194 1759 \nz\nM 3341 1997 \nL 3341 0 \nL 2766 0 \nL 2766 531 \nQ 2569 213 2275 61 \nQ 1981 -91 1556 -91 \nQ 1019 -91 701 211 \nQ 384 513 384 1019 \nQ 384 1609 779 1909 \nQ 1175 2209 1959 2209 \nL 2766 2209 \nL 2766 2266 \nQ 2766 2663 2505 2880 \nQ 2244 3097 1772 3097 \nQ 1472 3097 1187 3025 \nQ 903 2953 641 2809 \nL 641 3341 \nQ 956 3463 1253 3523 \nQ 1550 3584 1831 3584 \nQ 2591 3584 2966 3190 \nQ 3341 2797 3341 1997 \nz\n\" id=\"DejaVuSans-61\" transform=\"scale(0.015625)\"/>\n       <path d=\"M 3513 2113 \nL 3513 0 \nL 2938 0 \nL 2938 2094 \nQ 2938 2591 2744 2837 \nQ 2550 3084 2163 3084 \nQ 1697 3084 1428 2787 \nQ 1159 2491 1159 1978 \nL 1159 0 \nL 581 0 \nL 581 3500 \nL 1159 3500 \nL 1159 2956 \nQ 1366 3272 1645 3428 \nQ 1925 3584 2291 3584 \nQ 2894 3584 3203 3211 \nQ 3513 2838 3513 2113 \nz\n\" id=\"DejaVuSans-6e\" transform=\"scale(0.015625)\"/>\n       <path d=\"M 581 4863 \nL 1159 4863 \nL 1159 1991 \nL 2875 3500 \nL 3609 3500 \nL 1753 1863 \nL 3688 0 \nL 2938 0 \nL 1159 1709 \nL 1159 0 \nL 581 0 \nL 581 4863 \nz\n\" id=\"DejaVuSans-6b\" transform=\"scale(0.015625)\"/>\n      </defs>\n      <use xlink:href=\"#DejaVuSans-72\"/>\n      <use x=\"41.113281\" xlink:href=\"#DejaVuSans-61\"/>\n      <use x=\"102.392578\" xlink:href=\"#DejaVuSans-6e\"/>\n      <use x=\"165.771484\" xlink:href=\"#DejaVuSans-6b\"/>\n     </g>\n    </g>\n   </g>\n   <g id=\"matplotlib.axis_2\">\n    <g id=\"ytick_1\">\n     <g id=\"line2d_7\">\n      <defs>\n       <path d=\"M 0 0 \nL -3.5 0 \n\" id=\"mfa129515e6\" style=\"stroke:#000000;stroke-width:0.8;\"/>\n      </defs>\n      <g>\n       <use style=\"stroke:#000000;stroke-width:0.8;\" x=\"44.059375\" xlink:href=\"#mfa129515e6\" y=\"220.800381\"/>\n      </g>\n     </g>\n     <g id=\"text_8\">\n      <!-- 0.0 -->\n      <g transform=\"translate(21.15625 224.599599)scale(0.1 -0.1)\">\n       <defs>\n        <path d=\"M 684 794 \nL 1344 794 \nL 1344 0 \nL 684 0 \nL 684 794 \nz\n\" id=\"DejaVuSans-2e\" transform=\"scale(0.015625)\"/>\n       </defs>\n       <use xlink:href=\"#DejaVuSans-30\"/>\n       <use x=\"63.623047\" xlink:href=\"#DejaVuSans-2e\"/>\n       <use x=\"95.410156\" xlink:href=\"#DejaVuSans-30\"/>\n      </g>\n     </g>\n    </g>\n    <g id=\"ytick_2\">\n     <g id=\"line2d_8\">\n      <g>\n       <use style=\"stroke:#000000;stroke-width:0.8;\" x=\"44.059375\" xlink:href=\"#mfa129515e6\" y=\"180.057032\"/>\n      </g>\n     </g>\n     <g id=\"text_9\">\n      <!-- 0.2 -->\n      <g transform=\"translate(21.15625 183.856251)scale(0.1 -0.1)\">\n       <use xlink:href=\"#DejaVuSans-30\"/>\n       <use x=\"63.623047\" xlink:href=\"#DejaVuSans-2e\"/>\n       <use x=\"95.410156\" xlink:href=\"#DejaVuSans-32\"/>\n      </g>\n     </g>\n    </g>\n    <g id=\"ytick_3\">\n     <g id=\"line2d_9\">\n      <g>\n       <use style=\"stroke:#000000;stroke-width:0.8;\" x=\"44.059375\" xlink:href=\"#mfa129515e6\" y=\"139.313683\"/>\n      </g>\n     </g>\n     <g id=\"text_10\">\n      <!-- 0.4 -->\n      <g transform=\"translate(21.15625 143.112902)scale(0.1 -0.1)\">\n       <use xlink:href=\"#DejaVuSans-30\"/>\n       <use x=\"63.623047\" xlink:href=\"#DejaVuSans-2e\"/>\n       <use x=\"95.410156\" xlink:href=\"#DejaVuSans-34\"/>\n      </g>\n     </g>\n    </g>\n    <g id=\"ytick_4\">\n     <g id=\"line2d_10\">\n      <g>\n       <use style=\"stroke:#000000;stroke-width:0.8;\" x=\"44.059375\" xlink:href=\"#mfa129515e6\" y=\"98.570334\"/>\n      </g>\n     </g>\n     <g id=\"text_11\">\n      <!-- 0.6 -->\n      <g transform=\"translate(21.15625 102.369553)scale(0.1 -0.1)\">\n       <use xlink:href=\"#DejaVuSans-30\"/>\n       <use x=\"63.623047\" xlink:href=\"#DejaVuSans-2e\"/>\n       <use x=\"95.410156\" xlink:href=\"#DejaVuSans-36\"/>\n      </g>\n     </g>\n    </g>\n    <g id=\"ytick_5\">\n     <g id=\"line2d_11\">\n      <g>\n       <use style=\"stroke:#000000;stroke-width:0.8;\" x=\"44.059375\" xlink:href=\"#mfa129515e6\" y=\"57.826985\"/>\n      </g>\n     </g>\n     <g id=\"text_12\">\n      <!-- 0.8 -->\n      <g transform=\"translate(21.15625 61.626204)scale(0.1 -0.1)\">\n       <use xlink:href=\"#DejaVuSans-30\"/>\n       <use x=\"63.623047\" xlink:href=\"#DejaVuSans-2e\"/>\n       <use x=\"95.410156\" xlink:href=\"#DejaVuSans-38\"/>\n      </g>\n     </g>\n    </g>\n    <g id=\"ytick_6\">\n     <g id=\"line2d_12\">\n      <g>\n       <use style=\"stroke:#000000;stroke-width:0.8;\" x=\"44.059375\" xlink:href=\"#mfa129515e6\" y=\"17.083636\"/>\n      </g>\n     </g>\n     <g id=\"text_13\">\n      <!-- 1.0 -->\n      <g transform=\"translate(21.15625 20.882855)scale(0.1 -0.1)\">\n       <use xlink:href=\"#DejaVuSans-31\"/>\n       <use x=\"63.623047\" xlink:href=\"#DejaVuSans-2e\"/>\n       <use x=\"95.410156\" xlink:href=\"#DejaVuSans-30\"/>\n      </g>\n     </g>\n    </g>\n    <g id=\"text_14\">\n     <!-- cul_pct_total -->\n     <g transform=\"translate(14.798438 147.543437)rotate(-90)scale(0.1 -0.1)\">\n      <defs>\n       <path d=\"M 3122 3366 \nL 3122 2828 \nQ 2878 2963 2633 3030 \nQ 2388 3097 2138 3097 \nQ 1578 3097 1268 2742 \nQ 959 2388 959 1747 \nQ 959 1106 1268 751 \nQ 1578 397 2138 397 \nQ 2388 397 2633 464 \nQ 2878 531 3122 666 \nL 3122 134 \nQ 2881 22 2623 -34 \nQ 2366 -91 2075 -91 \nQ 1284 -91 818 406 \nQ 353 903 353 1747 \nQ 353 2603 823 3093 \nQ 1294 3584 2113 3584 \nQ 2378 3584 2631 3529 \nQ 2884 3475 3122 3366 \nz\n\" id=\"DejaVuSans-63\" transform=\"scale(0.015625)\"/>\n       <path d=\"M 544 1381 \nL 544 3500 \nL 1119 3500 \nL 1119 1403 \nQ 1119 906 1312 657 \nQ 1506 409 1894 409 \nQ 2359 409 2629 706 \nQ 2900 1003 2900 1516 \nL 2900 3500 \nL 3475 3500 \nL 3475 0 \nL 2900 0 \nL 2900 538 \nQ 2691 219 2414 64 \nQ 2138 -91 1772 -91 \nQ 1169 -91 856 284 \nQ 544 659 544 1381 \nz\nM 1991 3584 \nL 1991 3584 \nz\n\" id=\"DejaVuSans-75\" transform=\"scale(0.015625)\"/>\n       <path d=\"M 603 4863 \nL 1178 4863 \nL 1178 0 \nL 603 0 \nL 603 4863 \nz\n\" id=\"DejaVuSans-6c\" transform=\"scale(0.015625)\"/>\n       <path d=\"M 3263 -1063 \nL 3263 -1509 \nL -63 -1509 \nL -63 -1063 \nL 3263 -1063 \nz\n\" id=\"DejaVuSans-5f\" transform=\"scale(0.015625)\"/>\n       <path d=\"M 1159 525 \nL 1159 -1331 \nL 581 -1331 \nL 581 3500 \nL 1159 3500 \nL 1159 2969 \nQ 1341 3281 1617 3432 \nQ 1894 3584 2278 3584 \nQ 2916 3584 3314 3078 \nQ 3713 2572 3713 1747 \nQ 3713 922 3314 415 \nQ 2916 -91 2278 -91 \nQ 1894 -91 1617 61 \nQ 1341 213 1159 525 \nz\nM 3116 1747 \nQ 3116 2381 2855 2742 \nQ 2594 3103 2138 3103 \nQ 1681 3103 1420 2742 \nQ 1159 2381 1159 1747 \nQ 1159 1113 1420 752 \nQ 1681 391 2138 391 \nQ 2594 391 2855 752 \nQ 3116 1113 3116 1747 \nz\n\" id=\"DejaVuSans-70\" transform=\"scale(0.015625)\"/>\n       <path d=\"M 1172 4494 \nL 1172 3500 \nL 2356 3500 \nL 2356 3053 \nL 1172 3053 \nL 1172 1153 \nQ 1172 725 1289 603 \nQ 1406 481 1766 481 \nL 2356 481 \nL 2356 0 \nL 1766 0 \nQ 1100 0 847 248 \nQ 594 497 594 1153 \nL 594 3053 \nL 172 3053 \nL 172 3500 \nL 594 3500 \nL 594 4494 \nL 1172 4494 \nz\n\" id=\"DejaVuSans-74\" transform=\"scale(0.015625)\"/>\n       <path d=\"M 1959 3097 \nQ 1497 3097 1228 2736 \nQ 959 2375 959 1747 \nQ 959 1119 1226 758 \nQ 1494 397 1959 397 \nQ 2419 397 2687 759 \nQ 2956 1122 2956 1747 \nQ 2956 2369 2687 2733 \nQ 2419 3097 1959 3097 \nz\nM 1959 3584 \nQ 2709 3584 3137 3096 \nQ 3566 2609 3566 1747 \nQ 3566 888 3137 398 \nQ 2709 -91 1959 -91 \nQ 1206 -91 779 398 \nQ 353 888 353 1747 \nQ 353 2609 779 3096 \nQ 1206 3584 1959 3584 \nz\n\" id=\"DejaVuSans-6f\" transform=\"scale(0.015625)\"/>\n      </defs>\n      <use xlink:href=\"#DejaVuSans-63\"/>\n      <use x=\"54.980469\" xlink:href=\"#DejaVuSans-75\"/>\n      <use x=\"118.359375\" xlink:href=\"#DejaVuSans-6c\"/>\n      <use x=\"146.142578\" xlink:href=\"#DejaVuSans-5f\"/>\n      <use x=\"196.142578\" xlink:href=\"#DejaVuSans-70\"/>\n      <use x=\"259.619141\" xlink:href=\"#DejaVuSans-63\"/>\n      <use x=\"314.599609\" xlink:href=\"#DejaVuSans-74\"/>\n      <use x=\"353.808594\" xlink:href=\"#DejaVuSans-5f\"/>\n      <use x=\"403.808594\" xlink:href=\"#DejaVuSans-74\"/>\n      <use x=\"443.017578\" xlink:href=\"#DejaVuSans-6f\"/>\n      <use x=\"504.199219\" xlink:href=\"#DejaVuSans-74\"/>\n      <use x=\"543.408203\" xlink:href=\"#DejaVuSans-61\"/>\n      <use x=\"604.6875\" xlink:href=\"#DejaVuSans-6c\"/>\n     </g>\n    </g>\n   </g>\n   <g id=\"line2d_13\">\n    <path clip-path=\"url(#p5528ea21b5)\" d=\"M 59.277557 214.756364 \nL 59.536859 186.632502 \nL 59.96903 165.436492 \nL 60.545258 149.362878 \nL 61.207921 136.874557 \nL 61.928206 128.309691 \nL 63.023039 117.635151 \nL 64.261929 107.808579 \nL 65.327951 100.88329 \nL 66.595653 93.940067 \nL 67.863354 88.147751 \nL 69.534415 81.66694 \nL 71.06142 76.570804 \nL 72.530801 72.44048 \nL 74.201862 68.435045 \nL 76.132226 64.411678 \nL 77.832099 61.290719 \nL 79.935331 57.8649 \nL 82.038563 54.884842 \nL 83.997739 52.453017 \nL 86.331462 49.973798 \nL 88.866865 47.64893 \nL 91.949685 45.188284 \nL 95.090128 43.021609 \nL 98.605119 40.887598 \nL 101.630316 39.267235 \nL 104.770758 37.784571 \nL 108.631486 36.187905 \nL 113.759915 34.36836 \nL 117.534209 33.22578 \nL 122.432147 31.925647 \nL 129.346883 30.348195 \nL 138.797023 28.570279 \nL 144.444057 27.678759 \nL 150.696131 26.817982 \nL 159.080249 25.81182 \nL 170.057392 24.703184 \nL 186.768005 23.328758 \nL 217.365712 21.399053 \nL 270.205821 19.160647 \nL 363.641193 17.083636 \nL 363.641193 17.083636 \n\" style=\"fill:none;stroke:#1f77b4;stroke-linecap:square;stroke-width:1.5;\"/>\n   </g>\n   <g id=\"patch_3\">\n    <path d=\"M 44.059375 224.64 \nL 44.059375 7.2 \n\" style=\"fill:none;stroke:#000000;stroke-linecap:square;stroke-linejoin:miter;stroke-width:0.8;\"/>\n   </g>\n   <g id=\"patch_4\">\n    <path d=\"M 378.859375 224.64 \nL 378.859375 7.2 \n\" style=\"fill:none;stroke:#000000;stroke-linecap:square;stroke-linejoin:miter;stroke-width:0.8;\"/>\n   </g>\n   <g id=\"patch_5\">\n    <path d=\"M 44.059375 224.64 \nL 378.859375 224.64 \n\" style=\"fill:none;stroke:#000000;stroke-linecap:square;stroke-linejoin:miter;stroke-width:0.8;\"/>\n   </g>\n   <g id=\"patch_6\">\n    <path d=\"M 44.059375 7.2 \nL 378.859375 7.2 \n\" style=\"fill:none;stroke:#000000;stroke-linecap:square;stroke-linejoin:miter;stroke-width:0.8;\"/>\n   </g>\n  </g>\n </g>\n <defs>\n  <clipPath id=\"p5528ea21b5\">\n   <rect height=\"217.44\" width=\"334.8\" x=\"44.059375\" y=\"7.2\"/>\n  </clipPath>\n </defs>\n</svg>\n",
      "image/png": "[encoded data removed]"
     },
     "metadata": {
      "needs_background": "light"
     }
    }
   ],
   "source": [
    "sns.lineplot(x='rank', y='cul_pct_total', data=wc);"
   ]
  },
  {
   "cell_type": "markdown",
   "metadata": {
    "id": "NSY5DHLKGEsS"
   },
   "source": [
    "This graph tells us that only a *handful* of words represented 80% of words in the overall corpus. We can interpret this in two ways: \n",
    "1. The words that appear most frequently may not provide any insight into the mean on the documents since they are so prevalent. \n",
    "2. Words that appear infrequency (at the end of the graph) also probably do not add much value, because the are mentioned so rarely. \n",
    "\n",
    "Let's take a look at the words at the bottom and the top and make a decision for ourselves:"
   ]
  },
  {
   "cell_type": "code",
   "execution_count": 72,
   "metadata": {
    "colab": {
     "base_uri": "https://localhost:8080/",
     "height": 280
    },
    "id": "evsmVP2VGEsV",
    "outputId": "e83b1d0c-1ddf-4310-b820-e82647c0fcef"
   },
   "outputs": [
    {
     "output_type": "display_data",
     "data": {
      "text/plain": "<Figure size 432x288 with 1 Axes>",
      "image/svg+xml": "<?xml version=\"1.0\" encoding=\"utf-8\" standalone=\"no\"?>\n<!DOCTYPE svg PUBLIC \"-//W3C//DTD SVG 1.1//EN\"\n  \"http://www.w3.org/Graphics/SVG/1.1/DTD/svg11.dtd\">\n<svg height=\"262.474375pt\" version=\"1.1\" viewBox=\"0 0 380.147942 262.474375\" width=\"380.147942pt\" xmlns=\"http://www.w3.org/2000/svg\" xmlns:xlink=\"http://www.w3.org/1999/xlink\">\n <metadata>\n  <rdf:RDF xmlns:cc=\"http://creativecommons.org/ns#\" xmlns:dc=\"http://purl.org/dc/elements/1.1/\" xmlns:rdf=\"http://www.w3.org/1999/02/22-rdf-syntax-ns#\">\n   <cc:Work>\n    <dc:type rdf:resource=\"http://purl.org/dc/dcmitype/StillImage\"/>\n    <dc:date>2021-05-05T22:50:19.732579</dc:date>\n    <dc:format>image/svg+xml</dc:format>\n    <dc:creator>\n     <cc:Agent>\n      <dc:title>Matplotlib v3.4.1, https://matplotlib.org/</dc:title>\n     </cc:Agent>\n    </dc:creator>\n   </cc:Work>\n  </rdf:RDF>\n </metadata>\n <defs>\n  <style type=\"text/css\">*{stroke-linecap:butt;stroke-linejoin:round;}</style>\n </defs>\n <g id=\"figure_1\">\n  <g id=\"patch_1\">\n   <path d=\"M 0 262.474375 \nL 380.147942 262.474375 \nL 380.147942 0 \nL 0 0 \nz\n\" style=\"fill:none;\"/>\n  </g>\n  <g id=\"axes_1\">\n   <g id=\"patch_2\">\n    <path d=\"M 33.2875 224.64 \nL 368.0875 224.64 \nL 368.0875 7.2 \nL 33.2875 7.2 \nz\n\" style=\"fill:#ffffff;\"/>\n   </g>\n   <g id=\"patch_3\">\n    <path clip-path=\"url(#p72bb4145da)\" d=\"M 51.626376 224.64 \nL 57.58882 224.64 \nL 57.58882 124.651122 \nL 51.626376 124.651122 \nz\n\" style=\"fill:#1f77b4;opacity:0.4;\"/>\n   </g>\n   <g id=\"patch_4\">\n    <path clip-path=\"url(#p72bb4145da)\" d=\"M 57.58882 224.64 \nL 63.551265 224.64 \nL 63.551265 222.969938 \nL 57.58882 222.969938 \nz\n\" style=\"fill:#1f77b4;opacity:0.4;\"/>\n   </g>\n   <g id=\"patch_5\">\n    <path clip-path=\"url(#p72bb4145da)\" d=\"M 63.551265 224.64 \nL 69.51371 224.64 \nL 69.51371 223.907517 \nL 63.551265 223.907517 \nz\n\" style=\"fill:#1f77b4;opacity:0.4;\"/>\n   </g>\n   <g id=\"patch_6\">\n    <path clip-path=\"url(#p72bb4145da)\" d=\"M 69.51371 224.64 \nL 75.476155 224.64 \nL 75.476155 224.47397 \nL 69.51371 224.47397 \nz\n\" style=\"fill:#1f77b4;opacity:0.4;\"/>\n   </g>\n   <g id=\"patch_7\">\n    <path clip-path=\"url(#p72bb4145da)\" d=\"M 75.476155 224.64 \nL 81.4386 224.64 \nL 81.4386 224.561868 \nL 75.476155 224.561868 \nz\n\" style=\"fill:#1f77b4;opacity:0.4;\"/>\n   </g>\n   <g id=\"patch_8\">\n    <path clip-path=\"url(#p72bb4145da)\" d=\"M 81.4386 224.64 \nL 87.401045 224.64 \nL 87.401045 224.513036 \nL 81.4386 224.513036 \nz\n\" style=\"fill:#1f77b4;opacity:0.4;\"/>\n   </g>\n   <g id=\"patch_9\">\n    <path clip-path=\"url(#p72bb4145da)\" d=\"M 87.401045 224.64 \nL 93.36349 224.64 \nL 93.36349 224.561868 \nL 87.401045 224.561868 \nz\n\" style=\"fill:#1f77b4;opacity:0.4;\"/>\n   </g>\n   <g id=\"patch_10\">\n    <path clip-path=\"url(#p72bb4145da)\" d=\"M 93.36349 224.64 \nL 99.325935 224.64 \nL 99.325935 224.561868 \nL 93.36349 224.561868 \nz\n\" style=\"fill:#1f77b4;opacity:0.4;\"/>\n   </g>\n   <g id=\"patch_11\">\n    <path clip-path=\"url(#p72bb4145da)\" d=\"M 99.325935 224.64 \nL 105.28838 224.64 \nL 105.28838 224.630234 \nL 99.325935 224.630234 \nz\n\" style=\"fill:#1f77b4;opacity:0.4;\"/>\n   </g>\n   <g id=\"patch_12\">\n    <path clip-path=\"url(#p72bb4145da)\" d=\"M 105.28838 224.64 \nL 111.250825 224.64 \nL 111.250825 224.600934 \nL 105.28838 224.600934 \nz\n\" style=\"fill:#1f77b4;opacity:0.4;\"/>\n   </g>\n   <g id=\"patch_13\">\n    <path clip-path=\"url(#p72bb4145da)\" d=\"M 111.250825 224.64 \nL 117.21327 224.64 \nL 117.21327 224.64 \nL 111.250825 224.64 \nz\n\" style=\"fill:#1f77b4;opacity:0.4;\"/>\n   </g>\n   <g id=\"patch_14\">\n    <path clip-path=\"url(#p72bb4145da)\" d=\"M 117.21327 224.64 \nL 123.175715 224.64 \nL 123.175715 224.600934 \nL 117.21327 224.600934 \nz\n\" style=\"fill:#1f77b4;opacity:0.4;\"/>\n   </g>\n   <g id=\"patch_15\">\n    <path clip-path=\"url(#p72bb4145da)\" d=\"M 123.175715 224.64 \nL 129.13816 224.64 \nL 129.13816 224.600934 \nL 123.175715 224.600934 \nz\n\" style=\"fill:#1f77b4;opacity:0.4;\"/>\n   </g>\n   <g id=\"patch_16\">\n    <path clip-path=\"url(#p72bb4145da)\" d=\"M 129.13816 224.64 \nL 135.100605 224.64 \nL 135.100605 224.610701 \nL 129.13816 224.610701 \nz\n\" style=\"fill:#1f77b4;opacity:0.4;\"/>\n   </g>\n   <g id=\"patch_17\">\n    <path clip-path=\"url(#p72bb4145da)\" d=\"M 135.100605 224.64 \nL 141.06305 224.64 \nL 141.06305 224.630234 \nL 135.100605 224.630234 \nz\n\" style=\"fill:#1f77b4;opacity:0.4;\"/>\n   </g>\n   <g id=\"patch_18\">\n    <path clip-path=\"url(#p72bb4145da)\" d=\"M 141.06305 224.64 \nL 147.025495 224.64 \nL 147.025495 224.64 \nL 141.06305 224.64 \nz\n\" style=\"fill:#1f77b4;opacity:0.4;\"/>\n   </g>\n   <g id=\"patch_19\">\n    <path clip-path=\"url(#p72bb4145da)\" d=\"M 147.025495 224.64 \nL 152.98794 224.64 \nL 152.98794 224.630234 \nL 147.025495 224.630234 \nz\n\" style=\"fill:#1f77b4;opacity:0.4;\"/>\n   </g>\n   <g id=\"patch_20\">\n    <path clip-path=\"url(#p72bb4145da)\" d=\"M 152.98794 224.64 \nL 158.950385 224.64 \nL 158.950385 224.64 \nL 152.98794 224.64 \nz\n\" style=\"fill:#1f77b4;opacity:0.4;\"/>\n   </g>\n   <g id=\"patch_21\">\n    <path clip-path=\"url(#p72bb4145da)\" d=\"M 158.950385 224.64 \nL 164.91283 224.64 \nL 164.91283 224.630234 \nL 158.950385 224.630234 \nz\n\" style=\"fill:#1f77b4;opacity:0.4;\"/>\n   </g>\n   <g id=\"patch_22\">\n    <path clip-path=\"url(#p72bb4145da)\" d=\"M 164.91283 224.64 \nL 170.875275 224.64 \nL 170.875275 224.620467 \nL 164.91283 224.620467 \nz\n\" style=\"fill:#1f77b4;opacity:0.4;\"/>\n   </g>\n   <g id=\"patch_23\">\n    <path clip-path=\"url(#p72bb4145da)\" d=\"M 170.875275 224.64 \nL 176.83772 224.64 \nL 176.83772 224.64 \nL 170.875275 224.64 \nz\n\" style=\"fill:#1f77b4;opacity:0.4;\"/>\n   </g>\n   <g id=\"patch_24\">\n    <path clip-path=\"url(#p72bb4145da)\" d=\"M 176.83772 224.64 \nL 182.800165 224.64 \nL 182.800165 224.64 \nL 176.83772 224.64 \nz\n\" style=\"fill:#1f77b4;opacity:0.4;\"/>\n   </g>\n   <g id=\"patch_25\">\n    <path clip-path=\"url(#p72bb4145da)\" d=\"M 182.800165 224.64 \nL 188.76261 224.64 \nL 188.76261 224.64 \nL 182.800165 224.64 \nz\n\" style=\"fill:#1f77b4;opacity:0.4;\"/>\n   </g>\n   <g id=\"patch_26\">\n    <path clip-path=\"url(#p72bb4145da)\" d=\"M 188.76261 224.64 \nL 194.725055 224.64 \nL 194.725055 224.64 \nL 188.76261 224.64 \nz\n\" style=\"fill:#1f77b4;opacity:0.4;\"/>\n   </g>\n   <g id=\"patch_27\">\n    <path clip-path=\"url(#p72bb4145da)\" d=\"M 194.725055 224.64 \nL 200.6875 224.64 \nL 200.6875 224.630234 \nL 194.725055 224.630234 \nz\n\" style=\"fill:#1f77b4;opacity:0.4;\"/>\n   </g>\n   <g id=\"patch_28\">\n    <path clip-path=\"url(#p72bb4145da)\" d=\"M 200.6875 224.64 \nL 206.649945 224.64 \nL 206.649945 224.64 \nL 200.6875 224.64 \nz\n\" style=\"fill:#1f77b4;opacity:0.4;\"/>\n   </g>\n   <g id=\"patch_29\">\n    <path clip-path=\"url(#p72bb4145da)\" d=\"M 206.649945 224.64 \nL 212.61239 224.64 \nL 212.61239 224.64 \nL 206.649945 224.64 \nz\n\" style=\"fill:#1f77b4;opacity:0.4;\"/>\n   </g>\n   <g id=\"patch_30\">\n    <path clip-path=\"url(#p72bb4145da)\" d=\"M 212.61239 224.64 \nL 218.574835 224.64 \nL 218.574835 224.64 \nL 212.61239 224.64 \nz\n\" style=\"fill:#1f77b4;opacity:0.4;\"/>\n   </g>\n   <g id=\"patch_31\">\n    <path clip-path=\"url(#p72bb4145da)\" d=\"M 218.574835 224.64 \nL 224.53728 224.64 \nL 224.53728 224.64 \nL 218.574835 224.64 \nz\n\" style=\"fill:#1f77b4;opacity:0.4;\"/>\n   </g>\n   <g id=\"patch_32\">\n    <path clip-path=\"url(#p72bb4145da)\" d=\"M 224.53728 224.64 \nL 230.499725 224.64 \nL 230.499725 224.64 \nL 224.53728 224.64 \nz\n\" style=\"fill:#1f77b4;opacity:0.4;\"/>\n   </g>\n   <g id=\"patch_33\">\n    <path clip-path=\"url(#p72bb4145da)\" d=\"M 230.499725 224.64 \nL 236.46217 224.64 \nL 236.46217 224.630234 \nL 230.499725 224.630234 \nz\n\" style=\"fill:#1f77b4;opacity:0.4;\"/>\n   </g>\n   <g id=\"patch_34\">\n    <path clip-path=\"url(#p72bb4145da)\" d=\"M 236.46217 224.64 \nL 242.424615 224.64 \nL 242.424615 224.630234 \nL 236.46217 224.630234 \nz\n\" style=\"fill:#1f77b4;opacity:0.4;\"/>\n   </g>\n   <g id=\"patch_35\">\n    <path clip-path=\"url(#p72bb4145da)\" d=\"M 242.424615 224.64 \nL 248.38706 224.64 \nL 248.38706 224.630234 \nL 242.424615 224.630234 \nz\n\" style=\"fill:#1f77b4;opacity:0.4;\"/>\n   </g>\n   <g id=\"patch_36\">\n    <path clip-path=\"url(#p72bb4145da)\" d=\"M 248.38706 224.64 \nL 254.349505 224.64 \nL 254.349505 224.630234 \nL 248.38706 224.630234 \nz\n\" style=\"fill:#1f77b4;opacity:0.4;\"/>\n   </g>\n   <g id=\"patch_37\">\n    <path clip-path=\"url(#p72bb4145da)\" d=\"M 254.349505 224.64 \nL 260.31195 224.64 \nL 260.31195 224.64 \nL 254.349505 224.64 \nz\n\" style=\"fill:#1f77b4;opacity:0.4;\"/>\n   </g>\n   <g id=\"patch_38\">\n    <path clip-path=\"url(#p72bb4145da)\" d=\"M 260.31195 224.64 \nL 266.274395 224.64 \nL 266.274395 224.64 \nL 260.31195 224.64 \nz\n\" style=\"fill:#1f77b4;opacity:0.4;\"/>\n   </g>\n   <g id=\"patch_39\">\n    <path clip-path=\"url(#p72bb4145da)\" d=\"M 266.274395 224.64 \nL 272.23684 224.64 \nL 272.23684 224.64 \nL 266.274395 224.64 \nz\n\" style=\"fill:#1f77b4;opacity:0.4;\"/>\n   </g>\n   <g id=\"patch_40\">\n    <path clip-path=\"url(#p72bb4145da)\" d=\"M 272.23684 224.64 \nL 278.199285 224.64 \nL 278.199285 224.64 \nL 272.23684 224.64 \nz\n\" style=\"fill:#1f77b4;opacity:0.4;\"/>\n   </g>\n   <g id=\"patch_41\">\n    <path clip-path=\"url(#p72bb4145da)\" d=\"M 278.199285 224.64 \nL 284.16173 224.64 \nL 284.16173 224.64 \nL 278.199285 224.64 \nz\n\" style=\"fill:#1f77b4;opacity:0.4;\"/>\n   </g>\n   <g id=\"patch_42\">\n    <path clip-path=\"url(#p72bb4145da)\" d=\"M 284.16173 224.64 \nL 290.124175 224.64 \nL 290.124175 224.64 \nL 284.16173 224.64 \nz\n\" style=\"fill:#1f77b4;opacity:0.4;\"/>\n   </g>\n   <g id=\"patch_43\">\n    <path clip-path=\"url(#p72bb4145da)\" d=\"M 290.124175 224.64 \nL 296.08662 224.64 \nL 296.08662 224.64 \nL 290.124175 224.64 \nz\n\" style=\"fill:#1f77b4;opacity:0.4;\"/>\n   </g>\n   <g id=\"patch_44\">\n    <path clip-path=\"url(#p72bb4145da)\" d=\"M 296.08662 224.64 \nL 302.049065 224.64 \nL 302.049065 224.64 \nL 296.08662 224.64 \nz\n\" style=\"fill:#1f77b4;opacity:0.4;\"/>\n   </g>\n   <g id=\"patch_45\">\n    <path clip-path=\"url(#p72bb4145da)\" d=\"M 302.049065 224.64 \nL 308.01151 224.64 \nL 308.01151 224.64 \nL 302.049065 224.64 \nz\n\" style=\"fill:#1f77b4;opacity:0.4;\"/>\n   </g>\n   <g id=\"patch_46\">\n    <path clip-path=\"url(#p72bb4145da)\" d=\"M 308.01151 224.64 \nL 313.973955 224.64 \nL 313.973955 224.64 \nL 308.01151 224.64 \nz\n\" style=\"fill:#1f77b4;opacity:0.4;\"/>\n   </g>\n   <g id=\"patch_47\">\n    <path clip-path=\"url(#p72bb4145da)\" d=\"M 313.973955 224.64 \nL 319.9364 224.64 \nL 319.9364 224.64 \nL 313.973955 224.64 \nz\n\" style=\"fill:#1f77b4;opacity:0.4;\"/>\n   </g>\n   <g id=\"patch_48\">\n    <path clip-path=\"url(#p72bb4145da)\" d=\"M 319.9364 224.64 \nL 325.898845 224.64 \nL 325.898845 224.64 \nL 319.9364 224.64 \nz\n\" style=\"fill:#1f77b4;opacity:0.4;\"/>\n   </g>\n   <g id=\"patch_49\">\n    <path clip-path=\"url(#p72bb4145da)\" d=\"M 325.898845 224.64 \nL 331.86129 224.64 \nL 331.86129 224.64 \nL 325.898845 224.64 \nz\n\" style=\"fill:#1f77b4;opacity:0.4;\"/>\n   </g>\n   <g id=\"patch_50\">\n    <path clip-path=\"url(#p72bb4145da)\" d=\"M 331.86129 224.64 \nL 337.823735 224.64 \nL 337.823735 224.64 \nL 331.86129 224.64 \nz\n\" style=\"fill:#1f77b4;opacity:0.4;\"/>\n   </g>\n   <g id=\"patch_51\">\n    <path clip-path=\"url(#p72bb4145da)\" d=\"M 337.823735 224.64 \nL 343.78618 224.64 \nL 343.78618 224.64 \nL 337.823735 224.64 \nz\n\" style=\"fill:#1f77b4;opacity:0.4;\"/>\n   </g>\n   <g id=\"patch_52\">\n    <path clip-path=\"url(#p72bb4145da)\" d=\"M 343.78618 224.64 \nL 349.748624 224.64 \nL 349.748624 224.630234 \nL 343.78618 224.630234 \nz\n\" style=\"fill:#1f77b4;opacity:0.4;\"/>\n   </g>\n   <g id=\"matplotlib.axis_1\">\n    <g id=\"xtick_1\">\n     <g id=\"line2d_1\">\n      <defs>\n       <path d=\"M 0 0 \nL 0 3.5 \n\" id=\"m44f2ffec88\" style=\"stroke:#000000;stroke-width:0.8;\"/>\n      </defs>\n      <g>\n       <use style=\"stroke:#000000;stroke-width:0.8;\" x=\"51.589877\" xlink:href=\"#m44f2ffec88\" y=\"224.64\"/>\n      </g>\n     </g>\n     <g id=\"text_1\">\n      <!-- 0.00 -->\n      <g transform=\"translate(40.457064 239.238438)scale(0.1 -0.1)\">\n       <defs>\n        <path d=\"M 2034 4250 \nQ 1547 4250 1301 3770 \nQ 1056 3291 1056 2328 \nQ 1056 1369 1301 889 \nQ 1547 409 2034 409 \nQ 2525 409 2770 889 \nQ 3016 1369 3016 2328 \nQ 3016 3291 2770 3770 \nQ 2525 4250 2034 4250 \nz\nM 2034 4750 \nQ 2819 4750 3233 4129 \nQ 3647 3509 3647 2328 \nQ 3647 1150 3233 529 \nQ 2819 -91 2034 -91 \nQ 1250 -91 836 529 \nQ 422 1150 422 2328 \nQ 422 3509 836 4129 \nQ 1250 4750 2034 4750 \nz\n\" id=\"DejaVuSans-30\" transform=\"scale(0.015625)\"/>\n        <path d=\"M 684 794 \nL 1344 794 \nL 1344 0 \nL 684 0 \nL 684 794 \nz\n\" id=\"DejaVuSans-2e\" transform=\"scale(0.015625)\"/>\n       </defs>\n       <use xlink:href=\"#DejaVuSans-30\"/>\n       <use x=\"63.623047\" xlink:href=\"#DejaVuSans-2e\"/>\n       <use x=\"95.410156\" xlink:href=\"#DejaVuSans-30\"/>\n       <use x=\"159.033203\" xlink:href=\"#DejaVuSans-30\"/>\n      </g>\n     </g>\n    </g>\n    <g id=\"xtick_2\">\n     <g id=\"line2d_2\">\n      <g>\n       <use style=\"stroke:#000000;stroke-width:0.8;\" x=\"103.294086\" xlink:href=\"#m44f2ffec88\" y=\"224.64\"/>\n      </g>\n     </g>\n     <g id=\"text_2\">\n      <!-- 0.05 -->\n      <g transform=\"translate(92.161273 239.238438)scale(0.1 -0.1)\">\n       <defs>\n        <path d=\"M 691 4666 \nL 3169 4666 \nL 3169 4134 \nL 1269 4134 \nL 1269 2991 \nQ 1406 3038 1543 3061 \nQ 1681 3084 1819 3084 \nQ 2600 3084 3056 2656 \nQ 3513 2228 3513 1497 \nQ 3513 744 3044 326 \nQ 2575 -91 1722 -91 \nQ 1428 -91 1123 -41 \nQ 819 9 494 109 \nL 494 744 \nQ 775 591 1075 516 \nQ 1375 441 1709 441 \nQ 2250 441 2565 725 \nQ 2881 1009 2881 1497 \nQ 2881 1984 2565 2268 \nQ 2250 2553 1709 2553 \nQ 1456 2553 1204 2497 \nQ 953 2441 691 2322 \nL 691 4666 \nz\n\" id=\"DejaVuSans-35\" transform=\"scale(0.015625)\"/>\n       </defs>\n       <use xlink:href=\"#DejaVuSans-30\"/>\n       <use x=\"63.623047\" xlink:href=\"#DejaVuSans-2e\"/>\n       <use x=\"95.410156\" xlink:href=\"#DejaVuSans-30\"/>\n       <use x=\"159.033203\" xlink:href=\"#DejaVuSans-35\"/>\n      </g>\n     </g>\n    </g>\n    <g id=\"xtick_3\">\n     <g id=\"line2d_3\">\n      <g>\n       <use style=\"stroke:#000000;stroke-width:0.8;\" x=\"154.998294\" xlink:href=\"#m44f2ffec88\" y=\"224.64\"/>\n      </g>\n     </g>\n     <g id=\"text_3\">\n      <!-- 0.10 -->\n      <g transform=\"translate(143.865482 239.238438)scale(0.1 -0.1)\">\n       <defs>\n        <path d=\"M 794 531 \nL 1825 531 \nL 1825 4091 \nL 703 3866 \nL 703 4441 \nL 1819 4666 \nL 2450 4666 \nL 2450 531 \nL 3481 531 \nL 3481 0 \nL 794 0 \nL 794 531 \nz\n\" id=\"DejaVuSans-31\" transform=\"scale(0.015625)\"/>\n       </defs>\n       <use xlink:href=\"#DejaVuSans-30\"/>\n       <use x=\"63.623047\" xlink:href=\"#DejaVuSans-2e\"/>\n       <use x=\"95.410156\" xlink:href=\"#DejaVuSans-31\"/>\n       <use x=\"159.033203\" xlink:href=\"#DejaVuSans-30\"/>\n      </g>\n     </g>\n    </g>\n    <g id=\"xtick_4\">\n     <g id=\"line2d_4\">\n      <g>\n       <use style=\"stroke:#000000;stroke-width:0.8;\" x=\"206.702503\" xlink:href=\"#m44f2ffec88\" y=\"224.64\"/>\n      </g>\n     </g>\n     <g id=\"text_4\">\n      <!-- 0.15 -->\n      <g transform=\"translate(195.569691 239.238438)scale(0.1 -0.1)\">\n       <use xlink:href=\"#DejaVuSans-30\"/>\n       <use x=\"63.623047\" xlink:href=\"#DejaVuSans-2e\"/>\n       <use x=\"95.410156\" xlink:href=\"#DejaVuSans-31\"/>\n       <use x=\"159.033203\" xlink:href=\"#DejaVuSans-35\"/>\n      </g>\n     </g>\n    </g>\n    <g id=\"xtick_5\">\n     <g id=\"line2d_5\">\n      <g>\n       <use style=\"stroke:#000000;stroke-width:0.8;\" x=\"258.406712\" xlink:href=\"#m44f2ffec88\" y=\"224.64\"/>\n      </g>\n     </g>\n     <g id=\"text_5\">\n      <!-- 0.20 -->\n      <g transform=\"translate(247.2739 239.238438)scale(0.1 -0.1)\">\n       <defs>\n        <path d=\"M 1228 531 \nL 3431 531 \nL 3431 0 \nL 469 0 \nL 469 531 \nQ 828 903 1448 1529 \nQ 2069 2156 2228 2338 \nQ 2531 2678 2651 2914 \nQ 2772 3150 2772 3378 \nQ 2772 3750 2511 3984 \nQ 2250 4219 1831 4219 \nQ 1534 4219 1204 4116 \nQ 875 4013 500 3803 \nL 500 4441 \nQ 881 4594 1212 4672 \nQ 1544 4750 1819 4750 \nQ 2544 4750 2975 4387 \nQ 3406 4025 3406 3419 \nQ 3406 3131 3298 2873 \nQ 3191 2616 2906 2266 \nQ 2828 2175 2409 1742 \nQ 1991 1309 1228 531 \nz\n\" id=\"DejaVuSans-32\" transform=\"scale(0.015625)\"/>\n       </defs>\n       <use xlink:href=\"#DejaVuSans-30\"/>\n       <use x=\"63.623047\" xlink:href=\"#DejaVuSans-2e\"/>\n       <use x=\"95.410156\" xlink:href=\"#DejaVuSans-32\"/>\n       <use x=\"159.033203\" xlink:href=\"#DejaVuSans-30\"/>\n      </g>\n     </g>\n    </g>\n    <g id=\"xtick_6\">\n     <g id=\"line2d_6\">\n      <g>\n       <use style=\"stroke:#000000;stroke-width:0.8;\" x=\"310.110921\" xlink:href=\"#m44f2ffec88\" y=\"224.64\"/>\n      </g>\n     </g>\n     <g id=\"text_6\">\n      <!-- 0.25 -->\n      <g transform=\"translate(298.978108 239.238438)scale(0.1 -0.1)\">\n       <use xlink:href=\"#DejaVuSans-30\"/>\n       <use x=\"63.623047\" xlink:href=\"#DejaVuSans-2e\"/>\n       <use x=\"95.410156\" xlink:href=\"#DejaVuSans-32\"/>\n       <use x=\"159.033203\" xlink:href=\"#DejaVuSans-35\"/>\n      </g>\n     </g>\n    </g>\n    <g id=\"xtick_7\">\n     <g id=\"line2d_7\">\n      <g>\n       <use style=\"stroke:#000000;stroke-width:0.8;\" x=\"361.81513\" xlink:href=\"#m44f2ffec88\" y=\"224.64\"/>\n      </g>\n     </g>\n     <g id=\"text_7\">\n      <!-- 0.30 -->\n      <g transform=\"translate(350.682317 239.238438)scale(0.1 -0.1)\">\n       <defs>\n        <path d=\"M 2597 2516 \nQ 3050 2419 3304 2112 \nQ 3559 1806 3559 1356 \nQ 3559 666 3084 287 \nQ 2609 -91 1734 -91 \nQ 1441 -91 1130 -33 \nQ 819 25 488 141 \nL 488 750 \nQ 750 597 1062 519 \nQ 1375 441 1716 441 \nQ 2309 441 2620 675 \nQ 2931 909 2931 1356 \nQ 2931 1769 2642 2001 \nQ 2353 2234 1838 2234 \nL 1294 2234 \nL 1294 2753 \nL 1863 2753 \nQ 2328 2753 2575 2939 \nQ 2822 3125 2822 3475 \nQ 2822 3834 2567 4026 \nQ 2313 4219 1838 4219 \nQ 1578 4219 1281 4162 \nQ 984 4106 628 3988 \nL 628 4550 \nQ 988 4650 1302 4700 \nQ 1616 4750 1894 4750 \nQ 2613 4750 3031 4423 \nQ 3450 4097 3450 3541 \nQ 3450 3153 3228 2886 \nQ 3006 2619 2597 2516 \nz\n\" id=\"DejaVuSans-33\" transform=\"scale(0.015625)\"/>\n       </defs>\n       <use xlink:href=\"#DejaVuSans-30\"/>\n       <use x=\"63.623047\" xlink:href=\"#DejaVuSans-2e\"/>\n       <use x=\"95.410156\" xlink:href=\"#DejaVuSans-33\"/>\n       <use x=\"159.033203\" xlink:href=\"#DejaVuSans-30\"/>\n      </g>\n     </g>\n    </g>\n    <g id=\"text_8\">\n     <!-- appears_in_pct -->\n     <g transform=\"translate(163.032813 252.916562)scale(0.1 -0.1)\">\n      <defs>\n       <path d=\"M 2194 1759 \nQ 1497 1759 1228 1600 \nQ 959 1441 959 1056 \nQ 959 750 1161 570 \nQ 1363 391 1709 391 \nQ 2188 391 2477 730 \nQ 2766 1069 2766 1631 \nL 2766 1759 \nL 2194 1759 \nz\nM 3341 1997 \nL 3341 0 \nL 2766 0 \nL 2766 531 \nQ 2569 213 2275 61 \nQ 1981 -91 1556 -91 \nQ 1019 -91 701 211 \nQ 384 513 384 1019 \nQ 384 1609 779 1909 \nQ 1175 2209 1959 2209 \nL 2766 2209 \nL 2766 2266 \nQ 2766 2663 2505 2880 \nQ 2244 3097 1772 3097 \nQ 1472 3097 1187 3025 \nQ 903 2953 641 2809 \nL 641 3341 \nQ 956 3463 1253 3523 \nQ 1550 3584 1831 3584 \nQ 2591 3584 2966 3190 \nQ 3341 2797 3341 1997 \nz\n\" id=\"DejaVuSans-61\" transform=\"scale(0.015625)\"/>\n       <path d=\"M 1159 525 \nL 1159 -1331 \nL 581 -1331 \nL 581 3500 \nL 1159 3500 \nL 1159 2969 \nQ 1341 3281 1617 3432 \nQ 1894 3584 2278 3584 \nQ 2916 3584 3314 3078 \nQ 3713 2572 3713 1747 \nQ 3713 922 3314 415 \nQ 2916 -91 2278 -91 \nQ 1894 -91 1617 61 \nQ 1341 213 1159 525 \nz\nM 3116 1747 \nQ 3116 2381 2855 2742 \nQ 2594 3103 2138 3103 \nQ 1681 3103 1420 2742 \nQ 1159 2381 1159 1747 \nQ 1159 1113 1420 752 \nQ 1681 391 2138 391 \nQ 2594 391 2855 752 \nQ 3116 1113 3116 1747 \nz\n\" id=\"DejaVuSans-70\" transform=\"scale(0.015625)\"/>\n       <path d=\"M 3597 1894 \nL 3597 1613 \nL 953 1613 \nQ 991 1019 1311 708 \nQ 1631 397 2203 397 \nQ 2534 397 2845 478 \nQ 3156 559 3463 722 \nL 3463 178 \nQ 3153 47 2828 -22 \nQ 2503 -91 2169 -91 \nQ 1331 -91 842 396 \nQ 353 884 353 1716 \nQ 353 2575 817 3079 \nQ 1281 3584 2069 3584 \nQ 2775 3584 3186 3129 \nQ 3597 2675 3597 1894 \nz\nM 3022 2063 \nQ 3016 2534 2758 2815 \nQ 2500 3097 2075 3097 \nQ 1594 3097 1305 2825 \nQ 1016 2553 972 2059 \nL 3022 2063 \nz\n\" id=\"DejaVuSans-65\" transform=\"scale(0.015625)\"/>\n       <path d=\"M 2631 2963 \nQ 2534 3019 2420 3045 \nQ 2306 3072 2169 3072 \nQ 1681 3072 1420 2755 \nQ 1159 2438 1159 1844 \nL 1159 0 \nL 581 0 \nL 581 3500 \nL 1159 3500 \nL 1159 2956 \nQ 1341 3275 1631 3429 \nQ 1922 3584 2338 3584 \nQ 2397 3584 2469 3576 \nQ 2541 3569 2628 3553 \nL 2631 2963 \nz\n\" id=\"DejaVuSans-72\" transform=\"scale(0.015625)\"/>\n       <path d=\"M 2834 3397 \nL 2834 2853 \nQ 2591 2978 2328 3040 \nQ 2066 3103 1784 3103 \nQ 1356 3103 1142 2972 \nQ 928 2841 928 2578 \nQ 928 2378 1081 2264 \nQ 1234 2150 1697 2047 \nL 1894 2003 \nQ 2506 1872 2764 1633 \nQ 3022 1394 3022 966 \nQ 3022 478 2636 193 \nQ 2250 -91 1575 -91 \nQ 1294 -91 989 -36 \nQ 684 19 347 128 \nL 347 722 \nQ 666 556 975 473 \nQ 1284 391 1588 391 \nQ 1994 391 2212 530 \nQ 2431 669 2431 922 \nQ 2431 1156 2273 1281 \nQ 2116 1406 1581 1522 \nL 1381 1569 \nQ 847 1681 609 1914 \nQ 372 2147 372 2553 \nQ 372 3047 722 3315 \nQ 1072 3584 1716 3584 \nQ 2034 3584 2315 3537 \nQ 2597 3491 2834 3397 \nz\n\" id=\"DejaVuSans-73\" transform=\"scale(0.015625)\"/>\n       <path d=\"M 3263 -1063 \nL 3263 -1509 \nL -63 -1509 \nL -63 -1063 \nL 3263 -1063 \nz\n\" id=\"DejaVuSans-5f\" transform=\"scale(0.015625)\"/>\n       <path d=\"M 603 3500 \nL 1178 3500 \nL 1178 0 \nL 603 0 \nL 603 3500 \nz\nM 603 4863 \nL 1178 4863 \nL 1178 4134 \nL 603 4134 \nL 603 4863 \nz\n\" id=\"DejaVuSans-69\" transform=\"scale(0.015625)\"/>\n       <path d=\"M 3513 2113 \nL 3513 0 \nL 2938 0 \nL 2938 2094 \nQ 2938 2591 2744 2837 \nQ 2550 3084 2163 3084 \nQ 1697 3084 1428 2787 \nQ 1159 2491 1159 1978 \nL 1159 0 \nL 581 0 \nL 581 3500 \nL 1159 3500 \nL 1159 2956 \nQ 1366 3272 1645 3428 \nQ 1925 3584 2291 3584 \nQ 2894 3584 3203 3211 \nQ 3513 2838 3513 2113 \nz\n\" id=\"DejaVuSans-6e\" transform=\"scale(0.015625)\"/>\n       <path d=\"M 3122 3366 \nL 3122 2828 \nQ 2878 2963 2633 3030 \nQ 2388 3097 2138 3097 \nQ 1578 3097 1268 2742 \nQ 959 2388 959 1747 \nQ 959 1106 1268 751 \nQ 1578 397 2138 397 \nQ 2388 397 2633 464 \nQ 2878 531 3122 666 \nL 3122 134 \nQ 2881 22 2623 -34 \nQ 2366 -91 2075 -91 \nQ 1284 -91 818 406 \nQ 353 903 353 1747 \nQ 353 2603 823 3093 \nQ 1294 3584 2113 3584 \nQ 2378 3584 2631 3529 \nQ 2884 3475 3122 3366 \nz\n\" id=\"DejaVuSans-63\" transform=\"scale(0.015625)\"/>\n       <path d=\"M 1172 4494 \nL 1172 3500 \nL 2356 3500 \nL 2356 3053 \nL 1172 3053 \nL 1172 1153 \nQ 1172 725 1289 603 \nQ 1406 481 1766 481 \nL 2356 481 \nL 2356 0 \nL 1766 0 \nQ 1100 0 847 248 \nQ 594 497 594 1153 \nL 594 3053 \nL 172 3053 \nL 172 3500 \nL 594 3500 \nL 594 4494 \nL 1172 4494 \nz\n\" id=\"DejaVuSans-74\" transform=\"scale(0.015625)\"/>\n      </defs>\n      <use xlink:href=\"#DejaVuSans-61\"/>\n      <use x=\"61.279297\" xlink:href=\"#DejaVuSans-70\"/>\n      <use x=\"124.755859\" xlink:href=\"#DejaVuSans-70\"/>\n      <use x=\"188.232422\" xlink:href=\"#DejaVuSans-65\"/>\n      <use x=\"249.755859\" xlink:href=\"#DejaVuSans-61\"/>\n      <use x=\"311.035156\" xlink:href=\"#DejaVuSans-72\"/>\n      <use x=\"352.148438\" xlink:href=\"#DejaVuSans-73\"/>\n      <use x=\"404.248047\" xlink:href=\"#DejaVuSans-5f\"/>\n      <use x=\"454.248047\" xlink:href=\"#DejaVuSans-69\"/>\n      <use x=\"482.03125\" xlink:href=\"#DejaVuSans-6e\"/>\n      <use x=\"545.410156\" xlink:href=\"#DejaVuSans-5f\"/>\n      <use x=\"595.410156\" xlink:href=\"#DejaVuSans-70\"/>\n      <use x=\"658.886719\" xlink:href=\"#DejaVuSans-63\"/>\n      <use x=\"713.867188\" xlink:href=\"#DejaVuSans-74\"/>\n     </g>\n    </g>\n   </g>\n   <g id=\"matplotlib.axis_2\">\n    <g id=\"ytick_1\">\n     <g id=\"line2d_8\">\n      <defs>\n       <path d=\"M 0 0 \nL -3.5 0 \n\" id=\"mb16a738bc3\" style=\"stroke:#000000;stroke-width:0.8;\"/>\n      </defs>\n      <g>\n       <use style=\"stroke:#000000;stroke-width:0.8;\" x=\"33.2875\" xlink:href=\"#mb16a738bc3\" y=\"224.64\"/>\n      </g>\n     </g>\n     <g id=\"text_9\">\n      <!-- 0 -->\n      <g transform=\"translate(19.925 228.439219)scale(0.1 -0.1)\">\n       <use xlink:href=\"#DejaVuSans-30\"/>\n      </g>\n     </g>\n    </g>\n    <g id=\"ytick_2\">\n     <g id=\"line2d_9\">\n      <g>\n       <use style=\"stroke:#000000;stroke-width:0.8;\" x=\"33.2875\" xlink:href=\"#mb16a738bc3\" y=\"194.892905\"/>\n      </g>\n     </g>\n     <g id=\"text_10\">\n      <!-- 50 -->\n      <g transform=\"translate(13.5625 198.692123)scale(0.1 -0.1)\">\n       <use xlink:href=\"#DejaVuSans-35\"/>\n       <use x=\"63.623047\" xlink:href=\"#DejaVuSans-30\"/>\n      </g>\n     </g>\n    </g>\n    <g id=\"ytick_3\">\n     <g id=\"line2d_10\">\n      <g>\n       <use style=\"stroke:#000000;stroke-width:0.8;\" x=\"33.2875\" xlink:href=\"#mb16a738bc3\" y=\"165.145809\"/>\n      </g>\n     </g>\n     <g id=\"text_11\">\n      <!-- 100 -->\n      <g transform=\"translate(7.2 168.945028)scale(0.1 -0.1)\">\n       <use xlink:href=\"#DejaVuSans-31\"/>\n       <use x=\"63.623047\" xlink:href=\"#DejaVuSans-30\"/>\n       <use x=\"127.246094\" xlink:href=\"#DejaVuSans-30\"/>\n      </g>\n     </g>\n    </g>\n    <g id=\"ytick_4\">\n     <g id=\"line2d_11\">\n      <g>\n       <use style=\"stroke:#000000;stroke-width:0.8;\" x=\"33.2875\" xlink:href=\"#mb16a738bc3\" y=\"135.398714\"/>\n      </g>\n     </g>\n     <g id=\"text_12\">\n      <!-- 150 -->\n      <g transform=\"translate(7.2 139.197932)scale(0.1 -0.1)\">\n       <use xlink:href=\"#DejaVuSans-31\"/>\n       <use x=\"63.623047\" xlink:href=\"#DejaVuSans-35\"/>\n       <use x=\"127.246094\" xlink:href=\"#DejaVuSans-30\"/>\n      </g>\n     </g>\n    </g>\n    <g id=\"ytick_5\">\n     <g id=\"line2d_12\">\n      <g>\n       <use style=\"stroke:#000000;stroke-width:0.8;\" x=\"33.2875\" xlink:href=\"#mb16a738bc3\" y=\"105.651618\"/>\n      </g>\n     </g>\n     <g id=\"text_13\">\n      <!-- 200 -->\n      <g transform=\"translate(7.2 109.450837)scale(0.1 -0.1)\">\n       <use xlink:href=\"#DejaVuSans-32\"/>\n       <use x=\"63.623047\" xlink:href=\"#DejaVuSans-30\"/>\n       <use x=\"127.246094\" xlink:href=\"#DejaVuSans-30\"/>\n      </g>\n     </g>\n    </g>\n    <g id=\"ytick_6\">\n     <g id=\"line2d_13\">\n      <g>\n       <use style=\"stroke:#000000;stroke-width:0.8;\" x=\"33.2875\" xlink:href=\"#mb16a738bc3\" y=\"75.904523\"/>\n      </g>\n     </g>\n     <g id=\"text_14\">\n      <!-- 250 -->\n      <g transform=\"translate(7.2 79.703742)scale(0.1 -0.1)\">\n       <use xlink:href=\"#DejaVuSans-32\"/>\n       <use x=\"63.623047\" xlink:href=\"#DejaVuSans-35\"/>\n       <use x=\"127.246094\" xlink:href=\"#DejaVuSans-30\"/>\n      </g>\n     </g>\n    </g>\n    <g id=\"ytick_7\">\n     <g id=\"line2d_14\">\n      <g>\n       <use style=\"stroke:#000000;stroke-width:0.8;\" x=\"33.2875\" xlink:href=\"#mb16a738bc3\" y=\"46.157427\"/>\n      </g>\n     </g>\n     <g id=\"text_15\">\n      <!-- 300 -->\n      <g transform=\"translate(7.2 49.956646)scale(0.1 -0.1)\">\n       <use xlink:href=\"#DejaVuSans-33\"/>\n       <use x=\"63.623047\" xlink:href=\"#DejaVuSans-30\"/>\n       <use x=\"127.246094\" xlink:href=\"#DejaVuSans-30\"/>\n      </g>\n     </g>\n    </g>\n    <g id=\"ytick_8\">\n     <g id=\"line2d_15\">\n      <g>\n       <use style=\"stroke:#000000;stroke-width:0.8;\" x=\"33.2875\" xlink:href=\"#mb16a738bc3\" y=\"16.410332\"/>\n      </g>\n     </g>\n     <g id=\"text_16\">\n      <!-- 350 -->\n      <g transform=\"translate(7.2 20.209551)scale(0.1 -0.1)\">\n       <use xlink:href=\"#DejaVuSans-33\"/>\n       <use x=\"63.623047\" xlink:href=\"#DejaVuSans-35\"/>\n       <use x=\"127.246094\" xlink:href=\"#DejaVuSans-30\"/>\n      </g>\n     </g>\n    </g>\n   </g>\n   <g id=\"line2d_16\">\n    <path clip-path=\"url(#p72bb4145da)\" d=\"M 48.505682 222.818996 \nL 51.580062 17.554286 \nL 54.654442 209.673678 \nL 57.728822 221.357352 \nL 60.803202 223.154504 \nL 63.877583 223.733011 \nL 66.951963 223.934054 \nL 70.026343 224.275111 \nL 73.100723 224.51679 \nL 76.175103 224.569358 \nL 79.249483 224.565407 \nL 82.323864 224.521656 \nL 85.398244 224.516992 \nL 88.472624 224.574092 \nL 91.547004 224.54722 \nL 94.621384 224.575318 \nL 97.695764 224.552352 \nL 100.770145 224.61511 \nL 103.844525 224.634981 \nL 106.918905 224.593606 \nL 109.993285 224.619556 \nL 113.067665 224.639985 \nL 116.142045 224.633051 \nL 119.216426 224.588169 \nL 122.290806 224.60926 \nL 125.365186 224.626014 \nL 128.439566 224.587464 \nL 131.513946 224.583081 \nL 134.588326 224.635322 \nL 137.662707 224.620126 \nL 140.737087 224.638949 \nL 143.811467 224.64 \nL 146.885847 224.63974 \nL 149.960227 224.617678 \nL 153.034607 224.639691 \nL 156.108988 224.639995 \nL 159.183368 224.628174 \nL 162.257748 224.63566 \nL 165.332128 224.618171 \nL 168.406508 224.618309 \nL 171.480888 224.639286 \nL 174.555269 224.64 \nL 177.629649 224.64 \nL 180.704029 224.64 \nL 183.778409 224.64 \nL 186.852789 224.64 \nL 189.927169 224.64 \nL 193.00155 224.639727 \nL 196.07593 224.61767 \nL 199.15031 224.639706 \nL 202.22469 224.64 \nL 205.29907 224.64 \nL 208.37345 224.64 \nL 211.447831 224.64 \nL 214.522211 224.64 \nL 217.596591 224.64 \nL 220.670971 224.64 \nL 223.745351 224.64 \nL 226.819731 224.639978 \nL 229.894112 224.623329 \nL 232.968492 224.637973 \nL 236.042872 224.64 \nL 239.117252 224.639326 \nL 242.191632 224.599814 \nL 245.266012 224.638493 \nL 248.340393 224.623153 \nL 251.414773 224.638034 \nL 254.489153 224.64 \nL 257.563533 224.64 \nL 260.637913 224.64 \nL 263.712293 224.64 \nL 266.786674 224.64 \nL 269.861054 224.64 \nL 272.935434 224.64 \nL 276.009814 224.64 \nL 279.084194 224.64 \nL 282.158574 224.64 \nL 285.232955 224.64 \nL 288.307335 224.64 \nL 291.381715 224.64 \nL 294.456095 224.64 \nL 297.530475 224.64 \nL 300.604855 224.64 \nL 303.679236 224.64 \nL 306.753616 224.64 \nL 309.827996 224.64 \nL 312.902376 224.64 \nL 315.976756 224.64 \nL 319.051136 224.64 \nL 322.125517 224.64 \nL 325.199897 224.64 \nL 328.274277 224.64 \nL 331.348657 224.64 \nL 334.423037 224.64 \nL 337.497417 224.64 \nL 340.571798 224.64 \nL 343.646178 224.64 \nL 346.720558 224.639677 \nL 349.794938 224.61769 \nL 352.869318 224.639752 \n\" style=\"fill:none;stroke:#1f77b4;stroke-linecap:square;stroke-width:1.5;\"/>\n   </g>\n   <g id=\"patch_53\">\n    <path d=\"M 33.2875 224.64 \nL 33.2875 7.2 \n\" style=\"fill:none;stroke:#000000;stroke-linecap:square;stroke-linejoin:miter;stroke-width:0.8;\"/>\n   </g>\n   <g id=\"patch_54\">\n    <path d=\"M 368.0875 224.64 \nL 368.0875 7.2 \n\" style=\"fill:none;stroke:#000000;stroke-linecap:square;stroke-linejoin:miter;stroke-width:0.8;\"/>\n   </g>\n   <g id=\"patch_55\">\n    <path d=\"M 33.2875 224.64 \nL 368.0875 224.64 \n\" style=\"fill:none;stroke:#000000;stroke-linecap:square;stroke-linejoin:miter;stroke-width:0.8;\"/>\n   </g>\n   <g id=\"patch_56\">\n    <path d=\"M 33.2875 7.2 \nL 368.0875 7.2 \n\" style=\"fill:none;stroke:#000000;stroke-linecap:square;stroke-linejoin:miter;stroke-width:0.8;\"/>\n   </g>\n  </g>\n </g>\n <defs>\n  <clipPath id=\"p72bb4145da\">\n   <rect height=\"217.44\" width=\"334.8\" x=\"33.2875\" y=\"7.2\"/>\n  </clipPath>\n </defs>\n</svg>\n",
      "image/png": "[encoded data removed]"
     },
     "metadata": {
      "needs_background": "light"
     }
    }
   ],
   "source": [
    "# Frequency of appears in documents\n",
    "sns.distplot(wc['appears_in_pct']);"
   ]
  },
  {
   "cell_type": "code",
   "execution_count": 73,
   "metadata": {},
   "outputs": [
    {
     "output_type": "execute_result",
     "data": {
      "text/plain": [
       "                word  appears_in  count     rank  pct_total  cul_pct_total  \\\n",
       "10556         mounts           1      1  10556.0   0.000003       0.999972   \n",
       "10554   magnetically           1      1  10557.0   0.000003       0.999975   \n",
       "10557           vent           1      1  10558.0   0.000003       0.999978   \n",
       "10558  kindlelishous           1      1  10559.0   0.000003       0.999981   \n",
       "10559      competent           1      1  10560.0   0.000003       0.999984   \n",
       "10560         relies           1      1  10561.0   0.000003       0.999987   \n",
       "10561          readi           1      1  10562.0   0.000003       0.999991   \n",
       "10562       blanking           1      1  10563.0   0.000003       0.999994   \n",
       "10563         moztly           1      1  10564.0   0.000003       0.999997   \n",
       "10564     bookreader           1      1  10565.0   0.000003       1.000000   \n",
       "\n",
       "       appears_in_pct  \n",
       "10556        0.000035  \n",
       "10554        0.000035  \n",
       "10557        0.000035  \n",
       "10558        0.000035  \n",
       "10559        0.000035  \n",
       "10560        0.000035  \n",
       "10561        0.000035  \n",
       "10562        0.000035  \n",
       "10563        0.000035  \n",
       "10564        0.000035  "
      ],
      "text/html": "<div>\n<style scoped>\n    .dataframe tbody tr th:only-of-type {\n        vertical-align: middle;\n    }\n\n    .dataframe tbody tr th {\n        vertical-align: top;\n    }\n\n    .dataframe thead th {\n        text-align: right;\n    }\n</style>\n<table border=\"1\" class=\"dataframe\">\n  <thead>\n    <tr style=\"text-align: right;\">\n      <th></th>\n      <th>word</th>\n      <th>appears_in</th>\n      <th>count</th>\n      <th>rank</th>\n      <th>pct_total</th>\n      <th>cul_pct_total</th>\n      <th>appears_in_pct</th>\n    </tr>\n  </thead>\n  <tbody>\n    <tr>\n      <th>10556</th>\n      <td>mounts</td>\n      <td>1</td>\n      <td>1</td>\n      <td>10556.0</td>\n      <td>0.000003</td>\n      <td>0.999972</td>\n      <td>0.000035</td>\n    </tr>\n    <tr>\n      <th>10554</th>\n      <td>magnetically</td>\n      <td>1</td>\n      <td>1</td>\n      <td>10557.0</td>\n      <td>0.000003</td>\n      <td>0.999975</td>\n      <td>0.000035</td>\n    </tr>\n    <tr>\n      <th>10557</th>\n      <td>vent</td>\n      <td>1</td>\n      <td>1</td>\n      <td>10558.0</td>\n      <td>0.000003</td>\n      <td>0.999978</td>\n      <td>0.000035</td>\n    </tr>\n    <tr>\n      <th>10558</th>\n      <td>kindlelishous</td>\n      <td>1</td>\n      <td>1</td>\n      <td>10559.0</td>\n      <td>0.000003</td>\n      <td>0.999981</td>\n      <td>0.000035</td>\n    </tr>\n    <tr>\n      <th>10559</th>\n      <td>competent</td>\n      <td>1</td>\n      <td>1</td>\n      <td>10560.0</td>\n      <td>0.000003</td>\n      <td>0.999984</td>\n      <td>0.000035</td>\n    </tr>\n    <tr>\n      <th>10560</th>\n      <td>relies</td>\n      <td>1</td>\n      <td>1</td>\n      <td>10561.0</td>\n      <td>0.000003</td>\n      <td>0.999987</td>\n      <td>0.000035</td>\n    </tr>\n    <tr>\n      <th>10561</th>\n      <td>readi</td>\n      <td>1</td>\n      <td>1</td>\n      <td>10562.0</td>\n      <td>0.000003</td>\n      <td>0.999991</td>\n      <td>0.000035</td>\n    </tr>\n    <tr>\n      <th>10562</th>\n      <td>blanking</td>\n      <td>1</td>\n      <td>1</td>\n      <td>10563.0</td>\n      <td>0.000003</td>\n      <td>0.999994</td>\n      <td>0.000035</td>\n    </tr>\n    <tr>\n      <th>10563</th>\n      <td>moztly</td>\n      <td>1</td>\n      <td>1</td>\n      <td>10564.0</td>\n      <td>0.000003</td>\n      <td>0.999997</td>\n      <td>0.000035</td>\n    </tr>\n    <tr>\n      <th>10564</th>\n      <td>bookreader</td>\n      <td>1</td>\n      <td>1</td>\n      <td>10565.0</td>\n      <td>0.000003</td>\n      <td>1.000000</td>\n      <td>0.000035</td>\n    </tr>\n  </tbody>\n</table>\n</div>"
     },
     "metadata": {},
     "execution_count": 73
    }
   ],
   "source": [
    "wc.tail(10)"
   ]
  },
  {
   "cell_type": "code",
   "execution_count": 75,
   "metadata": {},
   "outputs": [
    {
     "output_type": "execute_result",
     "data": {
      "text/plain": [
       "(385, 7)"
      ]
     },
     "metadata": {},
     "execution_count": 75
    }
   ],
   "source": [
    "wc[wc['appears_in_pct'] >= 0.005].shape"
   ]
  },
  {
   "cell_type": "code",
   "execution_count": 80,
   "metadata": {},
   "outputs": [
    {
     "output_type": "execute_result",
     "data": {
      "text/plain": [
       "            word  appears_in  count   rank  pct_total  cul_pct_total  \\\n",
       "1011   primarily          73     73  681.0   0.000230       0.791577   \n",
       "1208     require          73     73  682.0   0.000230       0.791806   \n",
       "1405        mind          71     73  684.0   0.000230       0.792265   \n",
       "1484     excited          73     73  685.0   0.000230       0.792495   \n",
       "2800  responsive          72     73  689.0   0.000230       0.793413   \n",
       "710     operated          71     72  691.0   0.000226       0.793866   \n",
       "2316       sharp          72     72  694.0   0.000226       0.794545   \n",
       "379   electronic          71     71  695.0   0.000223       0.794768   \n",
       "928       prefer          71     71  697.0   0.000223       0.795214   \n",
       "1125       given          71     71  698.0   0.000223       0.795438   \n",
       "\n",
       "      appears_in_pct  \n",
       "1011        0.002577  \n",
       "1208        0.002577  \n",
       "1405        0.002506  \n",
       "1484        0.002577  \n",
       "2800        0.002541  \n",
       "710         0.002506  \n",
       "2316        0.002541  \n",
       "379         0.002506  \n",
       "928         0.002506  \n",
       "1125        0.002506  "
      ],
      "text/html": "<div>\n<style scoped>\n    .dataframe tbody tr th:only-of-type {\n        vertical-align: middle;\n    }\n\n    .dataframe tbody tr th {\n        vertical-align: top;\n    }\n\n    .dataframe thead th {\n        text-align: right;\n    }\n</style>\n<table border=\"1\" class=\"dataframe\">\n  <thead>\n    <tr style=\"text-align: right;\">\n      <th></th>\n      <th>word</th>\n      <th>appears_in</th>\n      <th>count</th>\n      <th>rank</th>\n      <th>pct_total</th>\n      <th>cul_pct_total</th>\n      <th>appears_in_pct</th>\n    </tr>\n  </thead>\n  <tbody>\n    <tr>\n      <th>1011</th>\n      <td>primarily</td>\n      <td>73</td>\n      <td>73</td>\n      <td>681.0</td>\n      <td>0.000230</td>\n      <td>0.791577</td>\n      <td>0.002577</td>\n    </tr>\n    <tr>\n      <th>1208</th>\n      <td>require</td>\n      <td>73</td>\n      <td>73</td>\n      <td>682.0</td>\n      <td>0.000230</td>\n      <td>0.791806</td>\n      <td>0.002577</td>\n    </tr>\n    <tr>\n      <th>1405</th>\n      <td>mind</td>\n      <td>71</td>\n      <td>73</td>\n      <td>684.0</td>\n      <td>0.000230</td>\n      <td>0.792265</td>\n      <td>0.002506</td>\n    </tr>\n    <tr>\n      <th>1484</th>\n      <td>excited</td>\n      <td>73</td>\n      <td>73</td>\n      <td>685.0</td>\n      <td>0.000230</td>\n      <td>0.792495</td>\n      <td>0.002577</td>\n    </tr>\n    <tr>\n      <th>2800</th>\n      <td>responsive</td>\n      <td>72</td>\n      <td>73</td>\n      <td>689.0</td>\n      <td>0.000230</td>\n      <td>0.793413</td>\n      <td>0.002541</td>\n    </tr>\n    <tr>\n      <th>710</th>\n      <td>operated</td>\n      <td>71</td>\n      <td>72</td>\n      <td>691.0</td>\n      <td>0.000226</td>\n      <td>0.793866</td>\n      <td>0.002506</td>\n    </tr>\n    <tr>\n      <th>2316</th>\n      <td>sharp</td>\n      <td>72</td>\n      <td>72</td>\n      <td>694.0</td>\n      <td>0.000226</td>\n      <td>0.794545</td>\n      <td>0.002541</td>\n    </tr>\n    <tr>\n      <th>379</th>\n      <td>electronic</td>\n      <td>71</td>\n      <td>71</td>\n      <td>695.0</td>\n      <td>0.000223</td>\n      <td>0.794768</td>\n      <td>0.002506</td>\n    </tr>\n    <tr>\n      <th>928</th>\n      <td>prefer</td>\n      <td>71</td>\n      <td>71</td>\n      <td>697.0</td>\n      <td>0.000223</td>\n      <td>0.795214</td>\n      <td>0.002506</td>\n    </tr>\n    <tr>\n      <th>1125</th>\n      <td>given</td>\n      <td>71</td>\n      <td>71</td>\n      <td>698.0</td>\n      <td>0.000223</td>\n      <td>0.795438</td>\n      <td>0.002506</td>\n    </tr>\n  </tbody>\n</table>\n</div>"
     },
     "metadata": {},
     "execution_count": 80
    }
   ],
   "source": [
    "wc.tail(10)"
   ]
  },
  {
   "cell_type": "code",
   "execution_count": 78,
   "metadata": {
    "colab": {
     "base_uri": "https://localhost:8080/",
     "height": 280
    },
    "id": "dJkyvXn0GEsX",
    "outputId": "dbfefb88-13d1-4152-f804-ea063f73f631"
   },
   "outputs": [
    {
     "output_type": "stream",
     "name": "stdout",
     "text": [
      "(675, 7)\n"
     ]
    },
    {
     "output_type": "display_data",
     "data": {
      "text/plain": "<Figure size 432x288 with 1 Axes>",
      "image/svg+xml": "<?xml version=\"1.0\" encoding=\"utf-8\" standalone=\"no\"?>\n<!DOCTYPE svg PUBLIC \"-//W3C//DTD SVG 1.1//EN\"\n  \"http://www.w3.org/Graphics/SVG/1.1/DTD/svg11.dtd\">\n<svg height=\"264.312957pt\" version=\"1.1\" viewBox=\"0 0 375.2875 264.312957\" width=\"375.2875pt\" xmlns=\"http://www.w3.org/2000/svg\" xmlns:xlink=\"http://www.w3.org/1999/xlink\">\n <metadata>\n  <rdf:RDF xmlns:cc=\"http://creativecommons.org/ns#\" xmlns:dc=\"http://purl.org/dc/elements/1.1/\" xmlns:rdf=\"http://www.w3.org/1999/02/22-rdf-syntax-ns#\">\n   <cc:Work>\n    <dc:type rdf:resource=\"http://purl.org/dc/dcmitype/StillImage\"/>\n    <dc:date>2021-05-05T22:55:11.271147</dc:date>\n    <dc:format>image/svg+xml</dc:format>\n    <dc:creator>\n     <cc:Agent>\n      <dc:title>Matplotlib v3.4.1, https://matplotlib.org/</dc:title>\n     </cc:Agent>\n    </dc:creator>\n   </cc:Work>\n  </rdf:RDF>\n </metadata>\n <defs>\n  <style type=\"text/css\">*{stroke-linecap:butt;stroke-linejoin:round;}</style>\n </defs>\n <g id=\"figure_1\">\n  <g id=\"patch_1\">\n   <path d=\"M 0 264.312957 \nL 375.2875 264.312957 \nL 375.2875 0 \nL 0 0 \nz\n\" style=\"fill:none;\"/>\n  </g>\n  <g id=\"axes_1\">\n   <g id=\"patch_2\">\n    <path d=\"M 33.2875 226.478582 \nL 368.0875 226.478582 \nL 368.0875 9.038582 \nL 33.2875 9.038582 \nz\n\" style=\"fill:#ffffff;\"/>\n   </g>\n   <g id=\"patch_3\">\n    <path clip-path=\"url(#p8a9eb78207)\" d=\"M 65.933915 226.478582 \nL 71.324058 226.478582 \nL 71.324058 19.392868 \nL 65.933915 19.392868 \nz\n\" style=\"fill:#1f77b4;opacity:0.4;\"/>\n   </g>\n   <g id=\"patch_4\">\n    <path clip-path=\"url(#p8a9eb78207)\" d=\"M 71.324058 226.478582 \nL 76.714202 226.478582 \nL 76.714202 175.288855 \nL 71.324058 175.288855 \nz\n\" style=\"fill:#1f77b4;opacity:0.4;\"/>\n   </g>\n   <g id=\"patch_5\">\n    <path clip-path=\"url(#p8a9eb78207)\" d=\"M 76.714202 226.478582 \nL 82.104345 226.478582 \nL 82.104345 203.210524 \nL 76.714202 203.210524 \nz\n\" style=\"fill:#1f77b4;opacity:0.4;\"/>\n   </g>\n   <g id=\"patch_6\">\n    <path clip-path=\"url(#p8a9eb78207)\" d=\"M 82.104345 226.478582 \nL 87.494489 226.478582 \nL 87.494489 222.290331 \nL 82.104345 222.290331 \nz\n\" style=\"fill:#1f77b4;opacity:0.4;\"/>\n   </g>\n   <g id=\"patch_7\">\n    <path clip-path=\"url(#p8a9eb78207)\" d=\"M 87.494489 226.478582 \nL 92.884632 226.478582 \nL 92.884632 221.359609 \nL 87.494489 221.359609 \nz\n\" style=\"fill:#1f77b4;opacity:0.4;\"/>\n   </g>\n   <g id=\"patch_8\">\n    <path clip-path=\"url(#p8a9eb78207)\" d=\"M 92.884632 226.478582 \nL 98.274775 226.478582 \nL 98.274775 222.290331 \nL 92.884632 222.290331 \nz\n\" style=\"fill:#1f77b4;opacity:0.4;\"/>\n   </g>\n   <g id=\"patch_9\">\n    <path clip-path=\"url(#p8a9eb78207)\" d=\"M 98.274775 226.478582 \nL 103.664919 226.478582 \nL 103.664919 222.290331 \nL 98.274775 222.290331 \nz\n\" style=\"fill:#1f77b4;opacity:0.4;\"/>\n   </g>\n   <g id=\"patch_10\">\n    <path clip-path=\"url(#p8a9eb78207)\" d=\"M 103.664919 226.478582 \nL 109.055062 226.478582 \nL 109.055062 223.686415 \nL 103.664919 223.686415 \nz\n\" style=\"fill:#1f77b4;opacity:0.4;\"/>\n   </g>\n   <g id=\"patch_11\">\n    <path clip-path=\"url(#p8a9eb78207)\" d=\"M 109.055062 226.478582 \nL 114.445206 226.478582 \nL 114.445206 225.54786 \nL 109.055062 225.54786 \nz\n\" style=\"fill:#1f77b4;opacity:0.4;\"/>\n   </g>\n   <g id=\"patch_12\">\n    <path clip-path=\"url(#p8a9eb78207)\" d=\"M 114.445206 226.478582 \nL 119.835349 226.478582 \nL 119.835349 225.54786 \nL 114.445206 225.54786 \nz\n\" style=\"fill:#1f77b4;opacity:0.4;\"/>\n   </g>\n   <g id=\"patch_13\">\n    <path clip-path=\"url(#p8a9eb78207)\" d=\"M 119.835349 226.478582 \nL 125.225492 226.478582 \nL 125.225492 226.013221 \nL 119.835349 226.013221 \nz\n\" style=\"fill:#1f77b4;opacity:0.4;\"/>\n   </g>\n   <g id=\"patch_14\">\n    <path clip-path=\"url(#p8a9eb78207)\" d=\"M 125.225492 226.478582 \nL 130.615636 226.478582 \nL 130.615636 224.617137 \nL 125.225492 224.617137 \nz\n\" style=\"fill:#1f77b4;opacity:0.4;\"/>\n   </g>\n   <g id=\"patch_15\">\n    <path clip-path=\"url(#p8a9eb78207)\" d=\"M 130.615636 226.478582 \nL 136.005779 226.478582 \nL 136.005779 225.082498 \nL 130.615636 225.082498 \nz\n\" style=\"fill:#1f77b4;opacity:0.4;\"/>\n   </g>\n   <g id=\"patch_16\">\n    <path clip-path=\"url(#p8a9eb78207)\" d=\"M 136.005779 226.478582 \nL 141.395923 226.478582 \nL 141.395923 225.082498 \nL 136.005779 225.082498 \nz\n\" style=\"fill:#1f77b4;opacity:0.4;\"/>\n   </g>\n   <g id=\"patch_17\">\n    <path clip-path=\"url(#p8a9eb78207)\" d=\"M 141.395923 226.478582 \nL 146.786066 226.478582 \nL 146.786066 226.013221 \nL 141.395923 226.013221 \nz\n\" style=\"fill:#1f77b4;opacity:0.4;\"/>\n   </g>\n   <g id=\"patch_18\">\n    <path clip-path=\"url(#p8a9eb78207)\" d=\"M 146.786066 226.478582 \nL 152.176209 226.478582 \nL 152.176209 226.478582 \nL 146.786066 226.478582 \nz\n\" style=\"fill:#1f77b4;opacity:0.4;\"/>\n   </g>\n   <g id=\"patch_19\">\n    <path clip-path=\"url(#p8a9eb78207)\" d=\"M 152.176209 226.478582 \nL 157.566353 226.478582 \nL 157.566353 226.013221 \nL 152.176209 226.013221 \nz\n\" style=\"fill:#1f77b4;opacity:0.4;\"/>\n   </g>\n   <g id=\"patch_20\">\n    <path clip-path=\"url(#p8a9eb78207)\" d=\"M 157.566353 226.478582 \nL 162.956496 226.478582 \nL 162.956496 226.013221 \nL 157.566353 226.013221 \nz\n\" style=\"fill:#1f77b4;opacity:0.4;\"/>\n   </g>\n   <g id=\"patch_21\">\n    <path clip-path=\"url(#p8a9eb78207)\" d=\"M 162.956496 226.478582 \nL 168.34664 226.478582 \nL 168.34664 226.013221 \nL 162.956496 226.013221 \nz\n\" style=\"fill:#1f77b4;opacity:0.4;\"/>\n   </g>\n   <g id=\"patch_22\">\n    <path clip-path=\"url(#p8a9eb78207)\" d=\"M 168.34664 226.478582 \nL 173.736783 226.478582 \nL 173.736783 226.013221 \nL 168.34664 226.013221 \nz\n\" style=\"fill:#1f77b4;opacity:0.4;\"/>\n   </g>\n   <g id=\"patch_23\">\n    <path clip-path=\"url(#p8a9eb78207)\" d=\"M 173.736783 226.478582 \nL 179.126926 226.478582 \nL 179.126926 226.478582 \nL 173.736783 226.478582 \nz\n\" style=\"fill:#1f77b4;opacity:0.4;\"/>\n   </g>\n   <g id=\"patch_24\">\n    <path clip-path=\"url(#p8a9eb78207)\" d=\"M 179.126926 226.478582 \nL 184.51707 226.478582 \nL 184.51707 226.478582 \nL 179.126926 226.478582 \nz\n\" style=\"fill:#1f77b4;opacity:0.4;\"/>\n   </g>\n   <g id=\"patch_25\">\n    <path clip-path=\"url(#p8a9eb78207)\" d=\"M 184.51707 226.478582 \nL 189.907213 226.478582 \nL 189.907213 226.478582 \nL 184.51707 226.478582 \nz\n\" style=\"fill:#1f77b4;opacity:0.4;\"/>\n   </g>\n   <g id=\"patch_26\">\n    <path clip-path=\"url(#p8a9eb78207)\" d=\"M 189.907213 226.478582 \nL 195.297357 226.478582 \nL 195.297357 226.478582 \nL 189.907213 226.478582 \nz\n\" style=\"fill:#1f77b4;opacity:0.4;\"/>\n   </g>\n   <g id=\"patch_27\">\n    <path clip-path=\"url(#p8a9eb78207)\" d=\"M 195.297357 226.478582 \nL 200.6875 226.478582 \nL 200.6875 226.013221 \nL 195.297357 226.013221 \nz\n\" style=\"fill:#1f77b4;opacity:0.4;\"/>\n   </g>\n   <g id=\"patch_28\">\n    <path clip-path=\"url(#p8a9eb78207)\" d=\"M 200.6875 226.478582 \nL 206.077643 226.478582 \nL 206.077643 226.478582 \nL 200.6875 226.478582 \nz\n\" style=\"fill:#1f77b4;opacity:0.4;\"/>\n   </g>\n   <g id=\"patch_29\">\n    <path clip-path=\"url(#p8a9eb78207)\" d=\"M 206.077643 226.478582 \nL 211.467787 226.478582 \nL 211.467787 226.478582 \nL 206.077643 226.478582 \nz\n\" style=\"fill:#1f77b4;opacity:0.4;\"/>\n   </g>\n   <g id=\"patch_30\">\n    <path clip-path=\"url(#p8a9eb78207)\" d=\"M 211.467787 226.478582 \nL 216.85793 226.478582 \nL 216.85793 226.478582 \nL 211.467787 226.478582 \nz\n\" style=\"fill:#1f77b4;opacity:0.4;\"/>\n   </g>\n   <g id=\"patch_31\">\n    <path clip-path=\"url(#p8a9eb78207)\" d=\"M 216.85793 226.478582 \nL 222.248074 226.478582 \nL 222.248074 226.478582 \nL 216.85793 226.478582 \nz\n\" style=\"fill:#1f77b4;opacity:0.4;\"/>\n   </g>\n   <g id=\"patch_32\">\n    <path clip-path=\"url(#p8a9eb78207)\" d=\"M 222.248074 226.478582 \nL 227.638217 226.478582 \nL 227.638217 226.013221 \nL 222.248074 226.013221 \nz\n\" style=\"fill:#1f77b4;opacity:0.4;\"/>\n   </g>\n   <g id=\"patch_33\">\n    <path clip-path=\"url(#p8a9eb78207)\" d=\"M 227.638217 226.478582 \nL 233.02836 226.478582 \nL 233.02836 226.478582 \nL 227.638217 226.478582 \nz\n\" style=\"fill:#1f77b4;opacity:0.4;\"/>\n   </g>\n   <g id=\"patch_34\">\n    <path clip-path=\"url(#p8a9eb78207)\" d=\"M 233.02836 226.478582 \nL 238.418504 226.478582 \nL 238.418504 225.54786 \nL 233.02836 225.54786 \nz\n\" style=\"fill:#1f77b4;opacity:0.4;\"/>\n   </g>\n   <g id=\"patch_35\">\n    <path clip-path=\"url(#p8a9eb78207)\" d=\"M 238.418504 226.478582 \nL 243.808647 226.478582 \nL 243.808647 226.013221 \nL 238.418504 226.013221 \nz\n\" style=\"fill:#1f77b4;opacity:0.4;\"/>\n   </g>\n   <g id=\"patch_36\">\n    <path clip-path=\"url(#p8a9eb78207)\" d=\"M 243.808647 226.478582 \nL 249.198791 226.478582 \nL 249.198791 226.478582 \nL 243.808647 226.478582 \nz\n\" style=\"fill:#1f77b4;opacity:0.4;\"/>\n   </g>\n   <g id=\"patch_37\">\n    <path clip-path=\"url(#p8a9eb78207)\" d=\"M 249.198791 226.478582 \nL 254.588934 226.478582 \nL 254.588934 226.478582 \nL 249.198791 226.478582 \nz\n\" style=\"fill:#1f77b4;opacity:0.4;\"/>\n   </g>\n   <g id=\"patch_38\">\n    <path clip-path=\"url(#p8a9eb78207)\" d=\"M 254.588934 226.478582 \nL 259.979077 226.478582 \nL 259.979077 226.478582 \nL 254.588934 226.478582 \nz\n\" style=\"fill:#1f77b4;opacity:0.4;\"/>\n   </g>\n   <g id=\"patch_39\">\n    <path clip-path=\"url(#p8a9eb78207)\" d=\"M 259.979077 226.478582 \nL 265.369221 226.478582 \nL 265.369221 226.478582 \nL 259.979077 226.478582 \nz\n\" style=\"fill:#1f77b4;opacity:0.4;\"/>\n   </g>\n   <g id=\"patch_40\">\n    <path clip-path=\"url(#p8a9eb78207)\" d=\"M 265.369221 226.478582 \nL 270.759364 226.478582 \nL 270.759364 226.478582 \nL 265.369221 226.478582 \nz\n\" style=\"fill:#1f77b4;opacity:0.4;\"/>\n   </g>\n   <g id=\"patch_41\">\n    <path clip-path=\"url(#p8a9eb78207)\" d=\"M 270.759364 226.478582 \nL 276.149508 226.478582 \nL 276.149508 226.478582 \nL 270.759364 226.478582 \nz\n\" style=\"fill:#1f77b4;opacity:0.4;\"/>\n   </g>\n   <g id=\"patch_42\">\n    <path clip-path=\"url(#p8a9eb78207)\" d=\"M 276.149508 226.478582 \nL 281.539651 226.478582 \nL 281.539651 226.478582 \nL 276.149508 226.478582 \nz\n\" style=\"fill:#1f77b4;opacity:0.4;\"/>\n   </g>\n   <g id=\"patch_43\">\n    <path clip-path=\"url(#p8a9eb78207)\" d=\"M 281.539651 226.478582 \nL 286.929794 226.478582 \nL 286.929794 226.478582 \nL 281.539651 226.478582 \nz\n\" style=\"fill:#1f77b4;opacity:0.4;\"/>\n   </g>\n   <g id=\"patch_44\">\n    <path clip-path=\"url(#p8a9eb78207)\" d=\"M 286.929794 226.478582 \nL 292.319938 226.478582 \nL 292.319938 226.478582 \nL 286.929794 226.478582 \nz\n\" style=\"fill:#1f77b4;opacity:0.4;\"/>\n   </g>\n   <g id=\"patch_45\">\n    <path clip-path=\"url(#p8a9eb78207)\" d=\"M 292.319938 226.478582 \nL 297.710081 226.478582 \nL 297.710081 226.478582 \nL 292.319938 226.478582 \nz\n\" style=\"fill:#1f77b4;opacity:0.4;\"/>\n   </g>\n   <g id=\"patch_46\">\n    <path clip-path=\"url(#p8a9eb78207)\" d=\"M 297.710081 226.478582 \nL 303.100225 226.478582 \nL 303.100225 226.478582 \nL 297.710081 226.478582 \nz\n\" style=\"fill:#1f77b4;opacity:0.4;\"/>\n   </g>\n   <g id=\"patch_47\">\n    <path clip-path=\"url(#p8a9eb78207)\" d=\"M 303.100225 226.478582 \nL 308.490368 226.478582 \nL 308.490368 226.478582 \nL 303.100225 226.478582 \nz\n\" style=\"fill:#1f77b4;opacity:0.4;\"/>\n   </g>\n   <g id=\"patch_48\">\n    <path clip-path=\"url(#p8a9eb78207)\" d=\"M 308.490368 226.478582 \nL 313.880511 226.478582 \nL 313.880511 226.478582 \nL 308.490368 226.478582 \nz\n\" style=\"fill:#1f77b4;opacity:0.4;\"/>\n   </g>\n   <g id=\"patch_49\">\n    <path clip-path=\"url(#p8a9eb78207)\" d=\"M 313.880511 226.478582 \nL 319.270655 226.478582 \nL 319.270655 226.478582 \nL 313.880511 226.478582 \nz\n\" style=\"fill:#1f77b4;opacity:0.4;\"/>\n   </g>\n   <g id=\"patch_50\">\n    <path clip-path=\"url(#p8a9eb78207)\" d=\"M 319.270655 226.478582 \nL 324.660798 226.478582 \nL 324.660798 226.478582 \nL 319.270655 226.478582 \nz\n\" style=\"fill:#1f77b4;opacity:0.4;\"/>\n   </g>\n   <g id=\"patch_51\">\n    <path clip-path=\"url(#p8a9eb78207)\" d=\"M 324.660798 226.478582 \nL 330.050942 226.478582 \nL 330.050942 226.478582 \nL 324.660798 226.478582 \nz\n\" style=\"fill:#1f77b4;opacity:0.4;\"/>\n   </g>\n   <g id=\"patch_52\">\n    <path clip-path=\"url(#p8a9eb78207)\" d=\"M 330.050942 226.478582 \nL 335.441085 226.478582 \nL 335.441085 226.013221 \nL 330.050942 226.013221 \nz\n\" style=\"fill:#1f77b4;opacity:0.4;\"/>\n   </g>\n   <g id=\"matplotlib.axis_1\">\n    <g id=\"xtick_1\">\n     <g id=\"line2d_1\">\n      <defs>\n       <path d=\"M 0 0 \nL 0 3.5 \n\" id=\"m0b4f0497a3\" style=\"stroke:#000000;stroke-width:0.8;\"/>\n      </defs>\n      <g>\n       <use style=\"stroke:#000000;stroke-width:0.8;\" x=\"63.570985\" xlink:href=\"#m0b4f0497a3\" y=\"226.478582\"/>\n      </g>\n     </g>\n     <g id=\"text_1\">\n      <!-- 0.00 -->\n      <g transform=\"translate(52.438172 241.077019)scale(0.1 -0.1)\">\n       <defs>\n        <path d=\"M 2034 4250 \nQ 1547 4250 1301 3770 \nQ 1056 3291 1056 2328 \nQ 1056 1369 1301 889 \nQ 1547 409 2034 409 \nQ 2525 409 2770 889 \nQ 3016 1369 3016 2328 \nQ 3016 3291 2770 3770 \nQ 2525 4250 2034 4250 \nz\nM 2034 4750 \nQ 2819 4750 3233 4129 \nQ 3647 3509 3647 2328 \nQ 3647 1150 3233 529 \nQ 2819 -91 2034 -91 \nQ 1250 -91 836 529 \nQ 422 1150 422 2328 \nQ 422 3509 836 4129 \nQ 1250 4750 2034 4750 \nz\n\" id=\"DejaVuSans-30\" transform=\"scale(0.015625)\"/>\n        <path d=\"M 684 794 \nL 1344 794 \nL 1344 0 \nL 684 0 \nL 684 794 \nz\n\" id=\"DejaVuSans-2e\" transform=\"scale(0.015625)\"/>\n       </defs>\n       <use xlink:href=\"#DejaVuSans-30\"/>\n       <use x=\"63.623047\" xlink:href=\"#DejaVuSans-2e\"/>\n       <use x=\"95.410156\" xlink:href=\"#DejaVuSans-30\"/>\n       <use x=\"159.033203\" xlink:href=\"#DejaVuSans-30\"/>\n      </g>\n     </g>\n    </g>\n    <g id=\"xtick_2\">\n     <g id=\"line2d_2\">\n      <g>\n       <use style=\"stroke:#000000;stroke-width:0.8;\" x=\"110.716435\" xlink:href=\"#m0b4f0497a3\" y=\"226.478582\"/>\n      </g>\n     </g>\n     <g id=\"text_2\">\n      <!-- 0.05 -->\n      <g transform=\"translate(99.583623 241.077019)scale(0.1 -0.1)\">\n       <defs>\n        <path d=\"M 691 4666 \nL 3169 4666 \nL 3169 4134 \nL 1269 4134 \nL 1269 2991 \nQ 1406 3038 1543 3061 \nQ 1681 3084 1819 3084 \nQ 2600 3084 3056 2656 \nQ 3513 2228 3513 1497 \nQ 3513 744 3044 326 \nQ 2575 -91 1722 -91 \nQ 1428 -91 1123 -41 \nQ 819 9 494 109 \nL 494 744 \nQ 775 591 1075 516 \nQ 1375 441 1709 441 \nQ 2250 441 2565 725 \nQ 2881 1009 2881 1497 \nQ 2881 1984 2565 2268 \nQ 2250 2553 1709 2553 \nQ 1456 2553 1204 2497 \nQ 953 2441 691 2322 \nL 691 4666 \nz\n\" id=\"DejaVuSans-35\" transform=\"scale(0.015625)\"/>\n       </defs>\n       <use xlink:href=\"#DejaVuSans-30\"/>\n       <use x=\"63.623047\" xlink:href=\"#DejaVuSans-2e\"/>\n       <use x=\"95.410156\" xlink:href=\"#DejaVuSans-30\"/>\n       <use x=\"159.033203\" xlink:href=\"#DejaVuSans-35\"/>\n      </g>\n     </g>\n    </g>\n    <g id=\"xtick_3\">\n     <g id=\"line2d_3\">\n      <g>\n       <use style=\"stroke:#000000;stroke-width:0.8;\" x=\"157.861885\" xlink:href=\"#m0b4f0497a3\" y=\"226.478582\"/>\n      </g>\n     </g>\n     <g id=\"text_3\">\n      <!-- 0.10 -->\n      <g transform=\"translate(146.729073 241.077019)scale(0.1 -0.1)\">\n       <defs>\n        <path d=\"M 794 531 \nL 1825 531 \nL 1825 4091 \nL 703 3866 \nL 703 4441 \nL 1819 4666 \nL 2450 4666 \nL 2450 531 \nL 3481 531 \nL 3481 0 \nL 794 0 \nL 794 531 \nz\n\" id=\"DejaVuSans-31\" transform=\"scale(0.015625)\"/>\n       </defs>\n       <use xlink:href=\"#DejaVuSans-30\"/>\n       <use x=\"63.623047\" xlink:href=\"#DejaVuSans-2e\"/>\n       <use x=\"95.410156\" xlink:href=\"#DejaVuSans-31\"/>\n       <use x=\"159.033203\" xlink:href=\"#DejaVuSans-30\"/>\n      </g>\n     </g>\n    </g>\n    <g id=\"xtick_4\">\n     <g id=\"line2d_4\">\n      <g>\n       <use style=\"stroke:#000000;stroke-width:0.8;\" x=\"205.007336\" xlink:href=\"#m0b4f0497a3\" y=\"226.478582\"/>\n      </g>\n     </g>\n     <g id=\"text_4\">\n      <!-- 0.15 -->\n      <g transform=\"translate(193.874523 241.077019)scale(0.1 -0.1)\">\n       <use xlink:href=\"#DejaVuSans-30\"/>\n       <use x=\"63.623047\" xlink:href=\"#DejaVuSans-2e\"/>\n       <use x=\"95.410156\" xlink:href=\"#DejaVuSans-31\"/>\n       <use x=\"159.033203\" xlink:href=\"#DejaVuSans-35\"/>\n      </g>\n     </g>\n    </g>\n    <g id=\"xtick_5\">\n     <g id=\"line2d_5\">\n      <g>\n       <use style=\"stroke:#000000;stroke-width:0.8;\" x=\"252.152786\" xlink:href=\"#m0b4f0497a3\" y=\"226.478582\"/>\n      </g>\n     </g>\n     <g id=\"text_5\">\n      <!-- 0.20 -->\n      <g transform=\"translate(241.019974 241.077019)scale(0.1 -0.1)\">\n       <defs>\n        <path d=\"M 1228 531 \nL 3431 531 \nL 3431 0 \nL 469 0 \nL 469 531 \nQ 828 903 1448 1529 \nQ 2069 2156 2228 2338 \nQ 2531 2678 2651 2914 \nQ 2772 3150 2772 3378 \nQ 2772 3750 2511 3984 \nQ 2250 4219 1831 4219 \nQ 1534 4219 1204 4116 \nQ 875 4013 500 3803 \nL 500 4441 \nQ 881 4594 1212 4672 \nQ 1544 4750 1819 4750 \nQ 2544 4750 2975 4387 \nQ 3406 4025 3406 3419 \nQ 3406 3131 3298 2873 \nQ 3191 2616 2906 2266 \nQ 2828 2175 2409 1742 \nQ 1991 1309 1228 531 \nz\n\" id=\"DejaVuSans-32\" transform=\"scale(0.015625)\"/>\n       </defs>\n       <use xlink:href=\"#DejaVuSans-30\"/>\n       <use x=\"63.623047\" xlink:href=\"#DejaVuSans-2e\"/>\n       <use x=\"95.410156\" xlink:href=\"#DejaVuSans-32\"/>\n       <use x=\"159.033203\" xlink:href=\"#DejaVuSans-30\"/>\n      </g>\n     </g>\n    </g>\n    <g id=\"xtick_6\">\n     <g id=\"line2d_6\">\n      <g>\n       <use style=\"stroke:#000000;stroke-width:0.8;\" x=\"299.298237\" xlink:href=\"#m0b4f0497a3\" y=\"226.478582\"/>\n      </g>\n     </g>\n     <g id=\"text_6\">\n      <!-- 0.25 -->\n      <g transform=\"translate(288.165424 241.077019)scale(0.1 -0.1)\">\n       <use xlink:href=\"#DejaVuSans-30\"/>\n       <use x=\"63.623047\" xlink:href=\"#DejaVuSans-2e\"/>\n       <use x=\"95.410156\" xlink:href=\"#DejaVuSans-32\"/>\n       <use x=\"159.033203\" xlink:href=\"#DejaVuSans-35\"/>\n      </g>\n     </g>\n    </g>\n    <g id=\"xtick_7\">\n     <g id=\"line2d_7\">\n      <g>\n       <use style=\"stroke:#000000;stroke-width:0.8;\" x=\"346.443687\" xlink:href=\"#m0b4f0497a3\" y=\"226.478582\"/>\n      </g>\n     </g>\n     <g id=\"text_7\">\n      <!-- 0.30 -->\n      <g transform=\"translate(335.310874 241.077019)scale(0.1 -0.1)\">\n       <defs>\n        <path d=\"M 2597 2516 \nQ 3050 2419 3304 2112 \nQ 3559 1806 3559 1356 \nQ 3559 666 3084 287 \nQ 2609 -91 1734 -91 \nQ 1441 -91 1130 -33 \nQ 819 25 488 141 \nL 488 750 \nQ 750 597 1062 519 \nQ 1375 441 1716 441 \nQ 2309 441 2620 675 \nQ 2931 909 2931 1356 \nQ 2931 1769 2642 2001 \nQ 2353 2234 1838 2234 \nL 1294 2234 \nL 1294 2753 \nL 1863 2753 \nQ 2328 2753 2575 2939 \nQ 2822 3125 2822 3475 \nQ 2822 3834 2567 4026 \nQ 2313 4219 1838 4219 \nQ 1578 4219 1281 4162 \nQ 984 4106 628 3988 \nL 628 4550 \nQ 988 4650 1302 4700 \nQ 1616 4750 1894 4750 \nQ 2613 4750 3031 4423 \nQ 3450 4097 3450 3541 \nQ 3450 3153 3228 2886 \nQ 3006 2619 2597 2516 \nz\n\" id=\"DejaVuSans-33\" transform=\"scale(0.015625)\"/>\n       </defs>\n       <use xlink:href=\"#DejaVuSans-30\"/>\n       <use x=\"63.623047\" xlink:href=\"#DejaVuSans-2e\"/>\n       <use x=\"95.410156\" xlink:href=\"#DejaVuSans-33\"/>\n       <use x=\"159.033203\" xlink:href=\"#DejaVuSans-30\"/>\n      </g>\n     </g>\n    </g>\n    <g id=\"text_8\">\n     <!-- appears_in_pct -->\n     <g transform=\"translate(163.032813 254.755144)scale(0.1 -0.1)\">\n      <defs>\n       <path d=\"M 2194 1759 \nQ 1497 1759 1228 1600 \nQ 959 1441 959 1056 \nQ 959 750 1161 570 \nQ 1363 391 1709 391 \nQ 2188 391 2477 730 \nQ 2766 1069 2766 1631 \nL 2766 1759 \nL 2194 1759 \nz\nM 3341 1997 \nL 3341 0 \nL 2766 0 \nL 2766 531 \nQ 2569 213 2275 61 \nQ 1981 -91 1556 -91 \nQ 1019 -91 701 211 \nQ 384 513 384 1019 \nQ 384 1609 779 1909 \nQ 1175 2209 1959 2209 \nL 2766 2209 \nL 2766 2266 \nQ 2766 2663 2505 2880 \nQ 2244 3097 1772 3097 \nQ 1472 3097 1187 3025 \nQ 903 2953 641 2809 \nL 641 3341 \nQ 956 3463 1253 3523 \nQ 1550 3584 1831 3584 \nQ 2591 3584 2966 3190 \nQ 3341 2797 3341 1997 \nz\n\" id=\"DejaVuSans-61\" transform=\"scale(0.015625)\"/>\n       <path d=\"M 1159 525 \nL 1159 -1331 \nL 581 -1331 \nL 581 3500 \nL 1159 3500 \nL 1159 2969 \nQ 1341 3281 1617 3432 \nQ 1894 3584 2278 3584 \nQ 2916 3584 3314 3078 \nQ 3713 2572 3713 1747 \nQ 3713 922 3314 415 \nQ 2916 -91 2278 -91 \nQ 1894 -91 1617 61 \nQ 1341 213 1159 525 \nz\nM 3116 1747 \nQ 3116 2381 2855 2742 \nQ 2594 3103 2138 3103 \nQ 1681 3103 1420 2742 \nQ 1159 2381 1159 1747 \nQ 1159 1113 1420 752 \nQ 1681 391 2138 391 \nQ 2594 391 2855 752 \nQ 3116 1113 3116 1747 \nz\n\" id=\"DejaVuSans-70\" transform=\"scale(0.015625)\"/>\n       <path d=\"M 3597 1894 \nL 3597 1613 \nL 953 1613 \nQ 991 1019 1311 708 \nQ 1631 397 2203 397 \nQ 2534 397 2845 478 \nQ 3156 559 3463 722 \nL 3463 178 \nQ 3153 47 2828 -22 \nQ 2503 -91 2169 -91 \nQ 1331 -91 842 396 \nQ 353 884 353 1716 \nQ 353 2575 817 3079 \nQ 1281 3584 2069 3584 \nQ 2775 3584 3186 3129 \nQ 3597 2675 3597 1894 \nz\nM 3022 2063 \nQ 3016 2534 2758 2815 \nQ 2500 3097 2075 3097 \nQ 1594 3097 1305 2825 \nQ 1016 2553 972 2059 \nL 3022 2063 \nz\n\" id=\"DejaVuSans-65\" transform=\"scale(0.015625)\"/>\n       <path d=\"M 2631 2963 \nQ 2534 3019 2420 3045 \nQ 2306 3072 2169 3072 \nQ 1681 3072 1420 2755 \nQ 1159 2438 1159 1844 \nL 1159 0 \nL 581 0 \nL 581 3500 \nL 1159 3500 \nL 1159 2956 \nQ 1341 3275 1631 3429 \nQ 1922 3584 2338 3584 \nQ 2397 3584 2469 3576 \nQ 2541 3569 2628 3553 \nL 2631 2963 \nz\n\" id=\"DejaVuSans-72\" transform=\"scale(0.015625)\"/>\n       <path d=\"M 2834 3397 \nL 2834 2853 \nQ 2591 2978 2328 3040 \nQ 2066 3103 1784 3103 \nQ 1356 3103 1142 2972 \nQ 928 2841 928 2578 \nQ 928 2378 1081 2264 \nQ 1234 2150 1697 2047 \nL 1894 2003 \nQ 2506 1872 2764 1633 \nQ 3022 1394 3022 966 \nQ 3022 478 2636 193 \nQ 2250 -91 1575 -91 \nQ 1294 -91 989 -36 \nQ 684 19 347 128 \nL 347 722 \nQ 666 556 975 473 \nQ 1284 391 1588 391 \nQ 1994 391 2212 530 \nQ 2431 669 2431 922 \nQ 2431 1156 2273 1281 \nQ 2116 1406 1581 1522 \nL 1381 1569 \nQ 847 1681 609 1914 \nQ 372 2147 372 2553 \nQ 372 3047 722 3315 \nQ 1072 3584 1716 3584 \nQ 2034 3584 2315 3537 \nQ 2597 3491 2834 3397 \nz\n\" id=\"DejaVuSans-73\" transform=\"scale(0.015625)\"/>\n       <path d=\"M 3263 -1063 \nL 3263 -1509 \nL -63 -1509 \nL -63 -1063 \nL 3263 -1063 \nz\n\" id=\"DejaVuSans-5f\" transform=\"scale(0.015625)\"/>\n       <path d=\"M 603 3500 \nL 1178 3500 \nL 1178 0 \nL 603 0 \nL 603 3500 \nz\nM 603 4863 \nL 1178 4863 \nL 1178 4134 \nL 603 4134 \nL 603 4863 \nz\n\" id=\"DejaVuSans-69\" transform=\"scale(0.015625)\"/>\n       <path d=\"M 3513 2113 \nL 3513 0 \nL 2938 0 \nL 2938 2094 \nQ 2938 2591 2744 2837 \nQ 2550 3084 2163 3084 \nQ 1697 3084 1428 2787 \nQ 1159 2491 1159 1978 \nL 1159 0 \nL 581 0 \nL 581 3500 \nL 1159 3500 \nL 1159 2956 \nQ 1366 3272 1645 3428 \nQ 1925 3584 2291 3584 \nQ 2894 3584 3203 3211 \nQ 3513 2838 3513 2113 \nz\n\" id=\"DejaVuSans-6e\" transform=\"scale(0.015625)\"/>\n       <path d=\"M 3122 3366 \nL 3122 2828 \nQ 2878 2963 2633 3030 \nQ 2388 3097 2138 3097 \nQ 1578 3097 1268 2742 \nQ 959 2388 959 1747 \nQ 959 1106 1268 751 \nQ 1578 397 2138 397 \nQ 2388 397 2633 464 \nQ 2878 531 3122 666 \nL 3122 134 \nQ 2881 22 2623 -34 \nQ 2366 -91 2075 -91 \nQ 1284 -91 818 406 \nQ 353 903 353 1747 \nQ 353 2603 823 3093 \nQ 1294 3584 2113 3584 \nQ 2378 3584 2631 3529 \nQ 2884 3475 3122 3366 \nz\n\" id=\"DejaVuSans-63\" transform=\"scale(0.015625)\"/>\n       <path d=\"M 1172 4494 \nL 1172 3500 \nL 2356 3500 \nL 2356 3053 \nL 1172 3053 \nL 1172 1153 \nQ 1172 725 1289 603 \nQ 1406 481 1766 481 \nL 2356 481 \nL 2356 0 \nL 1766 0 \nQ 1100 0 847 248 \nQ 594 497 594 1153 \nL 594 3053 \nL 172 3053 \nL 172 3500 \nL 594 3500 \nL 594 4494 \nL 1172 4494 \nz\n\" id=\"DejaVuSans-74\" transform=\"scale(0.015625)\"/>\n      </defs>\n      <use xlink:href=\"#DejaVuSans-61\"/>\n      <use x=\"61.279297\" xlink:href=\"#DejaVuSans-70\"/>\n      <use x=\"124.755859\" xlink:href=\"#DejaVuSans-70\"/>\n      <use x=\"188.232422\" xlink:href=\"#DejaVuSans-65\"/>\n      <use x=\"249.755859\" xlink:href=\"#DejaVuSans-61\"/>\n      <use x=\"311.035156\" xlink:href=\"#DejaVuSans-72\"/>\n      <use x=\"352.148438\" xlink:href=\"#DejaVuSans-73\"/>\n      <use x=\"404.248047\" xlink:href=\"#DejaVuSans-5f\"/>\n      <use x=\"454.248047\" xlink:href=\"#DejaVuSans-69\"/>\n      <use x=\"482.03125\" xlink:href=\"#DejaVuSans-6e\"/>\n      <use x=\"545.410156\" xlink:href=\"#DejaVuSans-5f\"/>\n      <use x=\"595.410156\" xlink:href=\"#DejaVuSans-70\"/>\n      <use x=\"658.886719\" xlink:href=\"#DejaVuSans-63\"/>\n      <use x=\"713.867188\" xlink:href=\"#DejaVuSans-74\"/>\n     </g>\n    </g>\n   </g>\n   <g id=\"matplotlib.axis_2\">\n    <g id=\"ytick_1\">\n     <g id=\"line2d_8\">\n      <defs>\n       <path d=\"M 0 0 \nL -3.5 0 \n\" id=\"me1c7086903\" style=\"stroke:#000000;stroke-width:0.8;\"/>\n      </defs>\n      <g>\n       <use style=\"stroke:#000000;stroke-width:0.8;\" x=\"33.2875\" xlink:href=\"#me1c7086903\" y=\"226.478582\"/>\n      </g>\n     </g>\n     <g id=\"text_9\">\n      <!-- 0 -->\n      <g transform=\"translate(19.925 230.277801)scale(0.1 -0.1)\">\n       <use xlink:href=\"#DejaVuSans-30\"/>\n      </g>\n     </g>\n    </g>\n    <g id=\"ytick_2\">\n     <g id=\"line2d_9\">\n      <g>\n       <use style=\"stroke:#000000;stroke-width:0.8;\" x=\"33.2875\" xlink:href=\"#me1c7086903\" y=\"190.565355\"/>\n      </g>\n     </g>\n     <g id=\"text_10\">\n      <!-- 20 -->\n      <g transform=\"translate(13.5625 194.364573)scale(0.1 -0.1)\">\n       <use xlink:href=\"#DejaVuSans-32\"/>\n       <use x=\"63.623047\" xlink:href=\"#DejaVuSans-30\"/>\n      </g>\n     </g>\n    </g>\n    <g id=\"ytick_3\">\n     <g id=\"line2d_10\">\n      <g>\n       <use style=\"stroke:#000000;stroke-width:0.8;\" x=\"33.2875\" xlink:href=\"#me1c7086903\" y=\"154.652127\"/>\n      </g>\n     </g>\n     <g id=\"text_11\">\n      <!-- 40 -->\n      <g transform=\"translate(13.5625 158.451346)scale(0.1 -0.1)\">\n       <defs>\n        <path d=\"M 2419 4116 \nL 825 1625 \nL 2419 1625 \nL 2419 4116 \nz\nM 2253 4666 \nL 3047 4666 \nL 3047 1625 \nL 3713 1625 \nL 3713 1100 \nL 3047 1100 \nL 3047 0 \nL 2419 0 \nL 2419 1100 \nL 313 1100 \nL 313 1709 \nL 2253 4666 \nz\n\" id=\"DejaVuSans-34\" transform=\"scale(0.015625)\"/>\n       </defs>\n       <use xlink:href=\"#DejaVuSans-34\"/>\n       <use x=\"63.623047\" xlink:href=\"#DejaVuSans-30\"/>\n      </g>\n     </g>\n    </g>\n    <g id=\"ytick_4\">\n     <g id=\"line2d_11\">\n      <g>\n       <use style=\"stroke:#000000;stroke-width:0.8;\" x=\"33.2875\" xlink:href=\"#me1c7086903\" y=\"118.7389\"/>\n      </g>\n     </g>\n     <g id=\"text_12\">\n      <!-- 60 -->\n      <g transform=\"translate(13.5625 122.538119)scale(0.1 -0.1)\">\n       <defs>\n        <path d=\"M 2113 2584 \nQ 1688 2584 1439 2293 \nQ 1191 2003 1191 1497 \nQ 1191 994 1439 701 \nQ 1688 409 2113 409 \nQ 2538 409 2786 701 \nQ 3034 994 3034 1497 \nQ 3034 2003 2786 2293 \nQ 2538 2584 2113 2584 \nz\nM 3366 4563 \nL 3366 3988 \nQ 3128 4100 2886 4159 \nQ 2644 4219 2406 4219 \nQ 1781 4219 1451 3797 \nQ 1122 3375 1075 2522 \nQ 1259 2794 1537 2939 \nQ 1816 3084 2150 3084 \nQ 2853 3084 3261 2657 \nQ 3669 2231 3669 1497 \nQ 3669 778 3244 343 \nQ 2819 -91 2113 -91 \nQ 1303 -91 875 529 \nQ 447 1150 447 2328 \nQ 447 3434 972 4092 \nQ 1497 4750 2381 4750 \nQ 2619 4750 2861 4703 \nQ 3103 4656 3366 4563 \nz\n\" id=\"DejaVuSans-36\" transform=\"scale(0.015625)\"/>\n       </defs>\n       <use xlink:href=\"#DejaVuSans-36\"/>\n       <use x=\"63.623047\" xlink:href=\"#DejaVuSans-30\"/>\n      </g>\n     </g>\n    </g>\n    <g id=\"ytick_5\">\n     <g id=\"line2d_12\">\n      <g>\n       <use style=\"stroke:#000000;stroke-width:0.8;\" x=\"33.2875\" xlink:href=\"#me1c7086903\" y=\"82.825673\"/>\n      </g>\n     </g>\n     <g id=\"text_13\">\n      <!-- 80 -->\n      <g transform=\"translate(13.5625 86.624892)scale(0.1 -0.1)\">\n       <defs>\n        <path d=\"M 2034 2216 \nQ 1584 2216 1326 1975 \nQ 1069 1734 1069 1313 \nQ 1069 891 1326 650 \nQ 1584 409 2034 409 \nQ 2484 409 2743 651 \nQ 3003 894 3003 1313 \nQ 3003 1734 2745 1975 \nQ 2488 2216 2034 2216 \nz\nM 1403 2484 \nQ 997 2584 770 2862 \nQ 544 3141 544 3541 \nQ 544 4100 942 4425 \nQ 1341 4750 2034 4750 \nQ 2731 4750 3128 4425 \nQ 3525 4100 3525 3541 \nQ 3525 3141 3298 2862 \nQ 3072 2584 2669 2484 \nQ 3125 2378 3379 2068 \nQ 3634 1759 3634 1313 \nQ 3634 634 3220 271 \nQ 2806 -91 2034 -91 \nQ 1263 -91 848 271 \nQ 434 634 434 1313 \nQ 434 1759 690 2068 \nQ 947 2378 1403 2484 \nz\nM 1172 3481 \nQ 1172 3119 1398 2916 \nQ 1625 2713 2034 2713 \nQ 2441 2713 2670 2916 \nQ 2900 3119 2900 3481 \nQ 2900 3844 2670 4047 \nQ 2441 4250 2034 4250 \nQ 1625 4250 1398 4047 \nQ 1172 3844 1172 3481 \nz\n\" id=\"DejaVuSans-38\" transform=\"scale(0.015625)\"/>\n       </defs>\n       <use xlink:href=\"#DejaVuSans-38\"/>\n       <use x=\"63.623047\" xlink:href=\"#DejaVuSans-30\"/>\n      </g>\n     </g>\n    </g>\n    <g id=\"ytick_6\">\n     <g id=\"line2d_13\">\n      <g>\n       <use style=\"stroke:#000000;stroke-width:0.8;\" x=\"33.2875\" xlink:href=\"#me1c7086903\" y=\"46.912446\"/>\n      </g>\n     </g>\n     <g id=\"text_14\">\n      <!-- 100 -->\n      <g transform=\"translate(7.2 50.711665)scale(0.1 -0.1)\">\n       <use xlink:href=\"#DejaVuSans-31\"/>\n       <use x=\"63.623047\" xlink:href=\"#DejaVuSans-30\"/>\n       <use x=\"127.246094\" xlink:href=\"#DejaVuSans-30\"/>\n      </g>\n     </g>\n    </g>\n    <g id=\"ytick_7\">\n     <g id=\"line2d_14\">\n      <g>\n       <use style=\"stroke:#000000;stroke-width:0.8;\" x=\"33.2875\" xlink:href=\"#me1c7086903\" y=\"10.999219\"/>\n      </g>\n     </g>\n     <g id=\"text_15\">\n      <!-- 120 -->\n      <g transform=\"translate(7.2 14.798438)scale(0.1 -0.1)\">\n       <use xlink:href=\"#DejaVuSans-31\"/>\n       <use x=\"63.623047\" xlink:href=\"#DejaVuSans-32\"/>\n       <use x=\"127.246094\" xlink:href=\"#DejaVuSans-30\"/>\n      </g>\n     </g>\n    </g>\n   </g>\n   <g id=\"line2d_15\">\n    <path clip-path=\"url(#p8a9eb78207)\" d=\"M 48.505682 226.058775 \nL 51.580062 224.524529 \nL 54.654442 219.518339 \nL 57.728822 207.443333 \nL 60.803202 186.316496 \nL 63.877583 160.638385 \nL 66.951963 141.692264 \nL 70.026343 139.249183 \nL 73.100723 152.932448 \nL 76.175103 173.839251 \nL 79.249483 193.115546 \nL 82.323864 206.871323 \nL 85.398244 215.115015 \nL 88.472624 219.308156 \nL 91.547004 221.112978 \nL 94.621384 221.877023 \nL 97.695764 222.373879 \nL 100.770145 222.873952 \nL 103.844525 223.418784 \nL 106.918905 223.992602 \nL 109.993285 224.541314 \nL 113.067665 224.991632 \nL 116.142045 225.294723 \nL 119.216426 225.427831 \nL 122.290806 225.393602 \nL 125.365186 225.248553 \nL 128.439566 225.093561 \nL 131.513946 225.023337 \nL 134.588326 225.095688 \nL 137.662707 225.314913 \nL 140.737087 225.618683 \nL 143.811467 225.906177 \nL 146.885847 226.101155 \nL 149.960227 226.190622 \nL 153.034607 226.208501 \nL 156.108988 226.18866 \nL 159.183368 226.141182 \nL 162.257748 226.074994 \nL 165.332128 226.024205 \nL 168.406508 226.033163 \nL 171.480888 226.116106 \nL 174.555269 226.240295 \nL 177.629649 226.353107 \nL 180.704029 226.42095 \nL 183.778409 226.438795 \nL 186.852789 226.415269 \nL 189.927169 226.366087 \nL 193.00155 226.319613 \nL 196.07593 226.307858 \nL 199.15031 226.339888 \nL 202.22469 226.393372 \nL 205.29907 226.438846 \nL 208.37345 226.463605 \nL 211.447831 226.469798 \nL 214.522211 226.459717 \nL 217.596591 226.429352 \nL 220.670971 226.375897 \nL 223.745351 226.308154 \nL 226.819731 226.240087 \nL 229.894112 226.171645 \nL 232.968492 226.09427 \nL 236.042872 226.023721 \nL 239.117252 226.002804 \nL 242.191632 226.057899 \nL 245.266012 226.169787 \nL 248.340393 226.292311 \nL 251.414773 226.38745 \nL 254.489153 226.443017 \nL 257.563533 226.46769 \nL 260.637913 226.475998 \nL 263.712293 226.478111 \nL 266.786674 226.478517 \nL 269.861054 226.478575 \nL 272.935434 226.478581 \nL 276.009814 226.478582 \nL 279.084194 226.478582 \nL 282.158574 226.478582 \nL 285.232955 226.478582 \nL 288.307335 226.478582 \nL 291.381715 226.478582 \nL 294.456095 226.478582 \nL 297.530475 226.478582 \nL 300.604855 226.478582 \nL 303.679236 226.478582 \nL 306.753616 226.478581 \nL 309.827996 226.478571 \nL 312.902376 226.478488 \nL 315.976756 226.477948 \nL 319.051136 226.475346 \nL 322.125517 226.466087 \nL 325.199897 226.442105 \nL 328.274277 226.39807 \nL 331.348657 226.344229 \nL 334.423037 226.309075 \nL 337.497417 226.316893 \nL 340.571798 226.361975 \nL 343.646178 226.415002 \nL 346.720558 226.452372 \nL 349.794938 226.470413 \nL 352.869318 226.476657 \n\" style=\"fill:none;stroke:#1f77b4;stroke-linecap:square;stroke-width:1.5;\"/>\n   </g>\n   <g id=\"patch_53\">\n    <path d=\"M 33.2875 226.478582 \nL 33.2875 9.038582 \n\" style=\"fill:none;stroke:#000000;stroke-linecap:square;stroke-linejoin:miter;stroke-width:0.8;\"/>\n   </g>\n   <g id=\"patch_54\">\n    <path d=\"M 368.0875 226.478582 \nL 368.0875 9.038582 \n\" style=\"fill:none;stroke:#000000;stroke-linecap:square;stroke-linejoin:miter;stroke-width:0.8;\"/>\n   </g>\n   <g id=\"patch_55\">\n    <path d=\"M 33.2875 226.478582 \nL 368.0875 226.478582 \n\" style=\"fill:none;stroke:#000000;stroke-linecap:square;stroke-linejoin:miter;stroke-width:0.8;\"/>\n   </g>\n   <g id=\"patch_56\">\n    <path d=\"M 33.2875 9.038582 \nL 368.0875 9.038582 \n\" style=\"fill:none;stroke:#000000;stroke-linecap:square;stroke-linejoin:miter;stroke-width:0.8;\"/>\n   </g>\n  </g>\n </g>\n <defs>\n  <clipPath id=\"p8a9eb78207\">\n   <rect height=\"217.44\" width=\"334.8\" x=\"33.2875\" y=\"9.038582\"/>\n  </clipPath>\n </defs>\n</svg>\n",
      "image/png": "[encoded data removed]"
     },
     "metadata": {
      "needs_background": "light"
     }
    }
   ],
   "source": [
    "# Tree-Map w/ Words that appear in a least 2.5% of documents. \n",
    "\n",
    "wc = wc[wc['appears_in_pct'] >= 0.0025]\n",
    "print(wc.shape)\n",
    "\n",
    "sns.distplot(wc['appears_in_pct']);"
   ]
  },
  {
   "cell_type": "code",
   "execution_count": 86,
   "metadata": {},
   "outputs": [
    {
     "output_type": "stream",
     "name": "stdout",
     "text": [
      "(675, 7)\n"
     ]
    },
    {
     "output_type": "execute_result",
     "data": {
      "text/plain": [
       "            word  appears_in  count   rank  pct_total  cul_pct_total  \\\n",
       "710     operated          71     72  691.0   0.000226       0.793866   \n",
       "2316       sharp          72     72  694.0   0.000226       0.794545   \n",
       "379   electronic          71     71  695.0   0.000223       0.794768   \n",
       "928       prefer          71     71  697.0   0.000223       0.795214   \n",
       "1125       given          71     71  698.0   0.000223       0.795438   \n",
       "\n",
       "      appears_in_pct  \n",
       "710         0.002506  \n",
       "2316        0.002541  \n",
       "379         0.002506  \n",
       "928         0.002506  \n",
       "1125        0.002506  "
      ],
      "text/html": "<div>\n<style scoped>\n    .dataframe tbody tr th:only-of-type {\n        vertical-align: middle;\n    }\n\n    .dataframe tbody tr th {\n        vertical-align: top;\n    }\n\n    .dataframe thead th {\n        text-align: right;\n    }\n</style>\n<table border=\"1\" class=\"dataframe\">\n  <thead>\n    <tr style=\"text-align: right;\">\n      <th></th>\n      <th>word</th>\n      <th>appears_in</th>\n      <th>count</th>\n      <th>rank</th>\n      <th>pct_total</th>\n      <th>cul_pct_total</th>\n      <th>appears_in_pct</th>\n    </tr>\n  </thead>\n  <tbody>\n    <tr>\n      <th>710</th>\n      <td>operated</td>\n      <td>71</td>\n      <td>72</td>\n      <td>691.0</td>\n      <td>0.000226</td>\n      <td>0.793866</td>\n      <td>0.002506</td>\n    </tr>\n    <tr>\n      <th>2316</th>\n      <td>sharp</td>\n      <td>72</td>\n      <td>72</td>\n      <td>694.0</td>\n      <td>0.000226</td>\n      <td>0.794545</td>\n      <td>0.002541</td>\n    </tr>\n    <tr>\n      <th>379</th>\n      <td>electronic</td>\n      <td>71</td>\n      <td>71</td>\n      <td>695.0</td>\n      <td>0.000223</td>\n      <td>0.794768</td>\n      <td>0.002506</td>\n    </tr>\n    <tr>\n      <th>928</th>\n      <td>prefer</td>\n      <td>71</td>\n      <td>71</td>\n      <td>697.0</td>\n      <td>0.000223</td>\n      <td>0.795214</td>\n      <td>0.002506</td>\n    </tr>\n    <tr>\n      <th>1125</th>\n      <td>given</td>\n      <td>71</td>\n      <td>71</td>\n      <td>698.0</td>\n      <td>0.000223</td>\n      <td>0.795438</td>\n      <td>0.002506</td>\n    </tr>\n  </tbody>\n</table>\n</div>"
     },
     "metadata": {},
     "execution_count": 86
    }
   ],
   "source": [
    "# preferred approach for statistical trimming\n",
    "# lower bound use counts(i.e. must appear in 2 docs)\n",
    "# upper bound use percentage (i.e. must not appear in more than 50%)\n",
    "wc = wc[wc['appears_in'] >= 2]\n",
    "print(wc.shape)\n",
    "wc.tail()"
   ]
  },
  {
   "cell_type": "markdown",
   "metadata": {
    "id": "riFOSWTuGEsa"
   },
   "source": [
    "## Challenge\n",
    "\n",
    "In the module project, you will apply stop word removal to a new corpus. You will focus on applying dictionary based stop word removal, but as a stretch goal, you should consider applying statistical stopword trimming. "
   ]
  },
  {
   "cell_type": "markdown",
   "metadata": {
    "id": "xh6NpgGhGEsa",
    "toc-hr-collapsed": true
   },
   "source": [
    "# Stemming & Lemmatization (Learn)\n",
    "<a id=\"p3\"></a>"
   ]
  },
  {
   "cell_type": "markdown",
   "metadata": {
    "id": "82BICah4GEsa",
    "toc-hr-collapsed": false
   },
   "source": [
    "## Overview\n",
    "\n",
    "You can see from our example above there is still some normalization to do to get a clean analysis. You notice that there many words (*i.e.* 'batteries', 'battery') which share the same root word. We can use either the process of stemming or lemmatization to trim our words down to the 'root' word. \n",
    "\n",
    "__Section Agenda__:\n",
    "\n",
    "- Which is which\n",
    "- why use one v. other\n",
    "- show side by side visualizations \n",
    "- how to do it in spacy & nltk\n",
    "- introduce PoS in here as well"
   ]
  },
  {
   "cell_type": "markdown",
   "metadata": {
    "id": "Unc5QrF4GEsb",
    "toc-hr-collapsed": true
   },
   "source": [
    "## Follow Along"
   ]
  },
  {
   "cell_type": "markdown",
   "metadata": {
    "id": "-2qObh4HGEsb",
    "toc-hr-collapsed": true
   },
   "source": [
    "### Stemming\n",
    "\n",
    "> *a process for removing the commoner morphological and inflexional endings from words in English. Its main use is as part of a term normalisation process that is usually done when setting up Information Retrieval systems.* - [Martin Porter](https://tartarus.org/martin/PorterStemmer/)\n",
    "\n",
    "Some examples include:\n",
    "- 'ing'\n",
    "- 'ed'\n",
    "- 's'\n",
    "\n",
    "These rules are by no means comprehensive, but they are somewhere to start. Most stemming is done by well documented algorithms such as Porter, Snowball, and Dawson. Porter and its newer version Snowball are the most popular stemming algorithms today. For more information on various stemming algorithms check out [*\"A Comparative Study of Stemming Algorithms\"*](https://pdfs.semanticscholar.org/1c0c/0fa35d4ff8a2f925eb955e48d655494bd167.pdf) \n",
    "\n",
    "\n",
    "Spacy does not do stemming out of the box, but instead uses a different technique called *lemmatization* which we will discuss in the next section. Let's turn to an antique python package `nltk` for stemming. "
   ]
  },
  {
   "cell_type": "code",
   "execution_count": 88,
   "metadata": {
    "colab": {
     "base_uri": "https://localhost:8080/",
     "height": 85
    },
    "id": "o7z49DWNGEsb",
    "outputId": "b181a9b8-ff70-4bd4-be2a-1cf92098710c"
   },
   "outputs": [
    {
     "output_type": "stream",
     "name": "stdout",
     "text": [
      "is\nwa\nbe\nare\n"
     ]
    }
   ],
   "source": [
    "from nltk.stem import PorterStemmer\n",
    "\n",
    "ps = PorterStemmer()\n",
    "\n",
    "words = [\"is\", \"was\", \"be\", \"are\"]\n",
    "\n",
    "for word in words:\n",
    "    print(ps.stem(word))"
   ]
  },
  {
   "cell_type": "markdown",
   "metadata": {
    "id": "xkPTDh-dGEsd"
   },
   "source": [
    "### Two Minute Challenge\n",
    "\n",
    "Apply the Porter stemming algorithm to the tokens in the `df` dataframe. Visualize the results in the tree graph we have been using for this session."
   ]
  },
  {
   "cell_type": "code",
   "execution_count": 92,
   "metadata": {},
   "outputs": [],
   "source": [
    "from tqdm import tqdm\n",
    "tqdm.pandas()"
   ]
  },
  {
   "cell_type": "code",
   "execution_count": 93,
   "metadata": {
    "deletable": false,
    "id": "sCrtEa_uGEsd",
    "nbgrader": {
     "cell_type": "code",
     "checksum": "492b5c13a834b2ce914c350efb369854",
     "grade": false,
     "grade_id": "cell-5944a38ffd47803f",
     "locked": false,
     "schema_version": 3,
     "solution": true,
     "task": false
    }
   },
   "outputs": [
    {
     "output_type": "stream",
     "name": "stderr",
     "text": [
      "100%|██████████| 28332/28332 [00:15<00:00, 1883.33it/s]\n",
      "(18679, 7)\n"
     ]
    },
    {
     "output_type": "display_data",
     "data": {
      "text/plain": "<Figure size 576x576 with 1 Axes>",
      "image/svg+xml": "<?xml version=\"1.0\" encoding=\"utf-8\" standalone=\"no\"?>\n<!DOCTYPE svg PUBLIC \"-//W3C//DTD SVG 1.1//EN\"\n  \"http://www.w3.org/Graphics/SVG/1.1/DTD/svg11.dtd\">\n<svg height=\"449.28pt\" version=\"1.1\" viewBox=\"0 0 460.8 449.28\" width=\"460.8pt\" xmlns=\"http://www.w3.org/2000/svg\" xmlns:xlink=\"http://www.w3.org/1999/xlink\">\n <metadata>\n  <rdf:RDF xmlns:cc=\"http://creativecommons.org/ns#\" xmlns:dc=\"http://purl.org/dc/elements/1.1/\" xmlns:rdf=\"http://www.w3.org/1999/02/22-rdf-syntax-ns#\">\n   <cc:Work>\n    <dc:type rdf:resource=\"http://purl.org/dc/dcmitype/StillImage\"/>\n    <dc:date>2021-05-05T23:17:32.362669</dc:date>\n    <dc:format>image/svg+xml</dc:format>\n    <dc:creator>\n     <cc:Agent>\n      <dc:title>Matplotlib v3.4.1, https://matplotlib.org/</dc:title>\n     </cc:Agent>\n    </dc:creator>\n   </cc:Work>\n  </rdf:RDF>\n </metadata>\n <defs>\n  <style type=\"text/css\">*{stroke-linecap:butt;stroke-linejoin:round;}</style>\n </defs>\n <g id=\"figure_1\">\n  <g id=\"patch_1\">\n   <path d=\"M 0 449.28 \nL 460.8 449.28 \nL 460.8 0 \nL 0 0 \nz\n\" style=\"fill:none;\"/>\n  </g>\n  <g id=\"axes_1\">\n   <g id=\"patch_2\">\n    <path clip-path=\"url(#p868f001206)\" d=\"M 7.2 442.08 \nL 133.848467 442.08 \nL 133.848467 259.738276 \nL 7.2 259.738276 \nz\n\" style=\"fill:#470d60;opacity:0.8;\"/>\n   </g>\n   <g id=\"patch_3\">\n    <path clip-path=\"url(#p868f001206)\" d=\"M 7.2 259.738276 \nL 133.848467 259.738276 \nL 133.848467 123.355131 \nL 7.2 123.355131 \nz\n\" style=\"fill:#38588c;opacity:0.8;\"/>\n   </g>\n   <g id=\"patch_4\">\n    <path clip-path=\"url(#p868f001206)\" d=\"M 7.2 123.355131 \nL 133.848467 123.355131 \nL 133.848467 7.2 \nL 7.2 7.2 \nz\n\" style=\"fill:#2e6f8e;opacity:0.8;\"/>\n   </g>\n   <g id=\"patch_5\">\n    <path clip-path=\"url(#p868f001206)\" d=\"M 133.848467 442.08 \nL 260.715639 442.08 \nL 260.715639 327.414978 \nL 133.848467 327.414978 \nz\n\" style=\"fill:#34618d;opacity:0.8;\"/>\n   </g>\n   <g id=\"patch_6\">\n    <path clip-path=\"url(#p868f001206)\" d=\"M 260.715639 442.08 \nL 360.910194 442.08 \nL 360.910194 327.414978 \nL 260.715639 327.414978 \nz\n\" style=\"fill:#440256;opacity:0.8;\"/>\n   </g>\n   <g id=\"patch_7\">\n    <path clip-path=\"url(#p868f001206)\" d=\"M 360.910194 442.08 \nL 453.6 442.08 \nL 453.6 327.414978 \nL 360.910194 327.414978 \nz\n\" style=\"fill:#287c8e;opacity:0.8;\"/>\n   </g>\n   <g id=\"patch_8\">\n    <path clip-path=\"url(#p868f001206)\" d=\"M 133.848467 327.414978 \nL 253.595531 327.414978 \nL 253.595531 241.321356 \nL 133.848467 241.321356 \nz\n\" style=\"fill:#cae11f;opacity:0.8;\"/>\n   </g>\n   <g id=\"patch_9\">\n    <path clip-path=\"url(#p868f001206)\" d=\"M 253.595531 327.414978 \nL 355.54767 327.414978 \nL 355.54767 241.321356 \nL 253.595531 241.321356 \nz\n\" style=\"fill:#8bd646;opacity:0.8;\"/>\n   </g>\n   <g id=\"patch_10\">\n    <path clip-path=\"url(#p868f001206)\" d=\"M 355.54767 327.414978 \nL 453.6 327.414978 \nL 453.6 241.321356 \nL 355.54767 241.321356 \nz\n\" style=\"fill:#bade28;opacity:0.8;\"/>\n   </g>\n   <g id=\"patch_11\">\n    <path clip-path=\"url(#p868f001206)\" d=\"M 133.848467 241.321356 \nL 235.258377 241.321356 \nL 235.258377 162.696644 \nL 133.848467 162.696644 \nz\n\" style=\"fill:#20938c;opacity:0.8;\"/>\n   </g>\n   <g id=\"patch_12\">\n    <path clip-path=\"url(#p868f001206)\" d=\"M 133.848467 162.696644 \nL 235.258377 162.696644 \nL 235.258377 84.238863 \nL 133.848467 84.238863 \nz\n\" style=\"fill:#2a778e;opacity:0.8;\"/>\n   </g>\n   <g id=\"patch_13\">\n    <path clip-path=\"url(#p868f001206)\" d=\"M 133.848467 84.238863 \nL 235.258377 84.238863 \nL 235.258377 7.2 \nL 133.848467 7.2 \nz\n\" style=\"fill:#3f4788;opacity:0.8;\"/>\n   </g>\n   <g id=\"patch_14\">\n    <path clip-path=\"url(#p868f001206)\" d=\"M 235.258377 241.321356 \nL 309.045646 241.321356 \nL 309.045646 146.0343 \nL 235.258377 146.0343 \nz\n\" style=\"fill:#31b57b;opacity:0.8;\"/>\n   </g>\n   <g id=\"patch_15\">\n    <path clip-path=\"url(#p868f001206)\" d=\"M 309.045646 241.321356 \nL 381.441262 241.321356 \nL 381.441262 146.0343 \nL 309.045646 146.0343 \nz\n\" style=\"fill:#3a548c;opacity:0.8;\"/>\n   </g>\n   <g id=\"patch_16\">\n    <path clip-path=\"url(#p868f001206)\" d=\"M 381.441262 241.321356 \nL 453.6 241.321356 \nL 453.6 146.0343 \nL 381.441262 146.0343 \nz\n\" style=\"fill:#238a8d;opacity:0.8;\"/>\n   </g>\n   <g id=\"patch_17\">\n    <path clip-path=\"url(#p868f001206)\" d=\"M 235.258377 146.0343 \nL 326.586305 146.0343 \nL 326.586305 74.979807 \nL 235.258377 74.979807 \nz\n\" style=\"fill:#89d548;opacity:0.8;\"/>\n   </g>\n   <g id=\"patch_18\">\n    <path clip-path=\"url(#p868f001206)\" d=\"M 235.258377 74.979807 \nL 326.586305 74.979807 \nL 326.586305 7.2 \nL 235.258377 7.2 \nz\n\" style=\"fill:#89d548;opacity:0.8;\"/>\n   </g>\n   <g id=\"patch_19\">\n    <path clip-path=\"url(#p868f001206)\" d=\"M 326.586305 146.0343 \nL 392.306931 146.0343 \nL 392.306931 52.360021 \nL 326.586305 52.360021 \nz\n\" style=\"fill:#34b679;opacity:0.8;\"/>\n   </g>\n   <g id=\"patch_20\">\n    <path clip-path=\"url(#p868f001206)\" d=\"M 392.306931 146.0343 \nL 453.6 146.0343 \nL 453.6 52.360021 \nL 392.306931 52.360021 \nz\n\" style=\"fill:#4ac16d;opacity:0.8;\"/>\n   </g>\n   <g id=\"patch_21\">\n    <path clip-path=\"url(#p868f001206)\" d=\"M 326.586305 52.360021 \nL 453.6 52.360021 \nL 453.6 7.2 \nL 326.586305 7.2 \nz\n\" style=\"fill:#482475;opacity:0.8;\"/>\n   </g>\n   <g id=\"text_1\">\n    <!-- great -->\n    <g transform=\"translate(57.306265 353.668513)scale(0.1 -0.1)\">\n     <defs>\n      <path d=\"M 2906 1791 \nQ 2906 2416 2648 2759 \nQ 2391 3103 1925 3103 \nQ 1463 3103 1205 2759 \nQ 947 2416 947 1791 \nQ 947 1169 1205 825 \nQ 1463 481 1925 481 \nQ 2391 481 2648 825 \nQ 2906 1169 2906 1791 \nz\nM 3481 434 \nQ 3481 -459 3084 -895 \nQ 2688 -1331 1869 -1331 \nQ 1566 -1331 1297 -1286 \nQ 1028 -1241 775 -1147 \nL 775 -588 \nQ 1028 -725 1275 -790 \nQ 1522 -856 1778 -856 \nQ 2344 -856 2625 -561 \nQ 2906 -266 2906 331 \nL 2906 616 \nQ 2728 306 2450 153 \nQ 2172 0 1784 0 \nQ 1141 0 747 490 \nQ 353 981 353 1791 \nQ 353 2603 747 3093 \nQ 1141 3584 1784 3584 \nQ 2172 3584 2450 3431 \nQ 2728 3278 2906 2969 \nL 2906 3500 \nL 3481 3500 \nL 3481 434 \nz\n\" id=\"DejaVuSans-67\" transform=\"scale(0.015625)\"/>\n      <path d=\"M 2631 2963 \nQ 2534 3019 2420 3045 \nQ 2306 3072 2169 3072 \nQ 1681 3072 1420 2755 \nQ 1159 2438 1159 1844 \nL 1159 0 \nL 581 0 \nL 581 3500 \nL 1159 3500 \nL 1159 2956 \nQ 1341 3275 1631 3429 \nQ 1922 3584 2338 3584 \nQ 2397 3584 2469 3576 \nQ 2541 3569 2628 3553 \nL 2631 2963 \nz\n\" id=\"DejaVuSans-72\" transform=\"scale(0.015625)\"/>\n      <path d=\"M 3597 1894 \nL 3597 1613 \nL 953 1613 \nQ 991 1019 1311 708 \nQ 1631 397 2203 397 \nQ 2534 397 2845 478 \nQ 3156 559 3463 722 \nL 3463 178 \nQ 3153 47 2828 -22 \nQ 2503 -91 2169 -91 \nQ 1331 -91 842 396 \nQ 353 884 353 1716 \nQ 353 2575 817 3079 \nQ 1281 3584 2069 3584 \nQ 2775 3584 3186 3129 \nQ 3597 2675 3597 1894 \nz\nM 3022 2063 \nQ 3016 2534 2758 2815 \nQ 2500 3097 2075 3097 \nQ 1594 3097 1305 2825 \nQ 1016 2553 972 2059 \nL 3022 2063 \nz\n\" id=\"DejaVuSans-65\" transform=\"scale(0.015625)\"/>\n      <path d=\"M 2194 1759 \nQ 1497 1759 1228 1600 \nQ 959 1441 959 1056 \nQ 959 750 1161 570 \nQ 1363 391 1709 391 \nQ 2188 391 2477 730 \nQ 2766 1069 2766 1631 \nL 2766 1759 \nL 2194 1759 \nz\nM 3341 1997 \nL 3341 0 \nL 2766 0 \nL 2766 531 \nQ 2569 213 2275 61 \nQ 1981 -91 1556 -91 \nQ 1019 -91 701 211 \nQ 384 513 384 1019 \nQ 384 1609 779 1909 \nQ 1175 2209 1959 2209 \nL 2766 2209 \nL 2766 2266 \nQ 2766 2663 2505 2880 \nQ 2244 3097 1772 3097 \nQ 1472 3097 1187 3025 \nQ 903 2953 641 2809 \nL 641 3341 \nQ 956 3463 1253 3523 \nQ 1550 3584 1831 3584 \nQ 2591 3584 2966 3190 \nQ 3341 2797 3341 1997 \nz\n\" id=\"DejaVuSans-61\" transform=\"scale(0.015625)\"/>\n      <path d=\"M 1172 4494 \nL 1172 3500 \nL 2356 3500 \nL 2356 3053 \nL 1172 3053 \nL 1172 1153 \nQ 1172 725 1289 603 \nQ 1406 481 1766 481 \nL 2356 481 \nL 2356 0 \nL 1766 0 \nQ 1100 0 847 248 \nQ 594 497 594 1153 \nL 594 3053 \nL 172 3053 \nL 172 3500 \nL 594 3500 \nL 594 4494 \nL 1172 4494 \nz\n\" id=\"DejaVuSans-74\" transform=\"scale(0.015625)\"/>\n     </defs>\n     <use xlink:href=\"#DejaVuSans-67\"/>\n     <use x=\"63.476562\" xlink:href=\"#DejaVuSans-72\"/>\n     <use x=\"102.339844\" xlink:href=\"#DejaVuSans-65\"/>\n     <use x=\"163.863281\" xlink:href=\"#DejaVuSans-61\"/>\n     <use x=\"225.142578\" xlink:href=\"#DejaVuSans-74\"/>\n    </g>\n   </g>\n   <g id=\"text_2\">\n    <!-- love -->\n    <g transform=\"translate(60.039858 194.306079)scale(0.1 -0.1)\">\n     <defs>\n      <path d=\"M 603 4863 \nL 1178 4863 \nL 1178 0 \nL 603 0 \nL 603 4863 \nz\n\" id=\"DejaVuSans-6c\" transform=\"scale(0.015625)\"/>\n      <path d=\"M 1959 3097 \nQ 1497 3097 1228 2736 \nQ 959 2375 959 1747 \nQ 959 1119 1226 758 \nQ 1494 397 1959 397 \nQ 2419 397 2687 759 \nQ 2956 1122 2956 1747 \nQ 2956 2369 2687 2733 \nQ 2419 3097 1959 3097 \nz\nM 1959 3584 \nQ 2709 3584 3137 3096 \nQ 3566 2609 3566 1747 \nQ 3566 888 3137 398 \nQ 2709 -91 1959 -91 \nQ 1206 -91 779 398 \nQ 353 888 353 1747 \nQ 353 2609 779 3096 \nQ 1206 3584 1959 3584 \nz\n\" id=\"DejaVuSans-6f\" transform=\"scale(0.015625)\"/>\n      <path d=\"M 191 3500 \nL 800 3500 \nL 1894 563 \nL 2988 3500 \nL 3597 3500 \nL 2284 0 \nL 1503 0 \nL 191 3500 \nz\n\" id=\"DejaVuSans-76\" transform=\"scale(0.015625)\"/>\n     </defs>\n     <use xlink:href=\"#DejaVuSans-6c\"/>\n     <use x=\"27.783203\" xlink:href=\"#DejaVuSans-6f\"/>\n     <use x=\"88.964844\" xlink:href=\"#DejaVuSans-76\"/>\n     <use x=\"148.144531\" xlink:href=\"#DejaVuSans-65\"/>\n    </g>\n   </g>\n   <g id=\"text_3\">\n    <!-- tablet -->\n    <g transform=\"translate(55.900015 68.036941)scale(0.1 -0.1)\">\n     <defs>\n      <path d=\"M 3116 1747 \nQ 3116 2381 2855 2742 \nQ 2594 3103 2138 3103 \nQ 1681 3103 1420 2742 \nQ 1159 2381 1159 1747 \nQ 1159 1113 1420 752 \nQ 1681 391 2138 391 \nQ 2594 391 2855 752 \nQ 3116 1113 3116 1747 \nz\nM 1159 2969 \nQ 1341 3281 1617 3432 \nQ 1894 3584 2278 3584 \nQ 2916 3584 3314 3078 \nQ 3713 2572 3713 1747 \nQ 3713 922 3314 415 \nQ 2916 -91 2278 -91 \nQ 1894 -91 1617 61 \nQ 1341 213 1159 525 \nL 1159 0 \nL 581 0 \nL 581 4863 \nL 1159 4863 \nL 1159 2969 \nz\n\" id=\"DejaVuSans-62\" transform=\"scale(0.015625)\"/>\n     </defs>\n     <use xlink:href=\"#DejaVuSans-74\"/>\n     <use x=\"39.208984\" xlink:href=\"#DejaVuSans-61\"/>\n     <use x=\"100.488281\" xlink:href=\"#DejaVuSans-62\"/>\n     <use x=\"163.964844\" xlink:href=\"#DejaVuSans-6c\"/>\n     <use x=\"191.748047\" xlink:href=\"#DejaVuSans-65\"/>\n     <use x=\"253.271484\" xlink:href=\"#DejaVuSans-74\"/>\n    </g>\n   </g>\n   <g id=\"text_4\">\n    <!-- good -->\n    <g transform=\"translate(184.814865 387.506864)scale(0.1 -0.1)\">\n     <defs>\n      <path d=\"M 2906 2969 \nL 2906 4863 \nL 3481 4863 \nL 3481 0 \nL 2906 0 \nL 2906 525 \nQ 2725 213 2448 61 \nQ 2172 -91 1784 -91 \nQ 1150 -91 751 415 \nQ 353 922 353 1747 \nQ 353 2572 751 3078 \nQ 1150 3584 1784 3584 \nQ 2172 3584 2448 3432 \nQ 2725 3281 2906 2969 \nz\nM 947 1747 \nQ 947 1113 1208 752 \nQ 1469 391 1925 391 \nQ 2381 391 2643 752 \nQ 2906 1113 2906 1747 \nQ 2906 2381 2643 2742 \nQ 2381 3103 1925 3103 \nQ 1469 3103 1208 2742 \nQ 947 2381 947 1747 \nz\n\" id=\"DejaVuSans-64\" transform=\"scale(0.015625)\"/>\n     </defs>\n     <use xlink:href=\"#DejaVuSans-67\"/>\n     <use x=\"63.476562\" xlink:href=\"#DejaVuSans-6f\"/>\n     <use x=\"124.658203\" xlink:href=\"#DejaVuSans-6f\"/>\n     <use x=\"185.839844\" xlink:href=\"#DejaVuSans-64\"/>\n    </g>\n   </g>\n   <g id=\"text_5\">\n    <!-- work -->\n    <g transform=\"translate(298.713698 387.506864)scale(0.1 -0.1)\">\n     <defs>\n      <path d=\"M 269 3500 \nL 844 3500 \nL 1563 769 \nL 2278 3500 \nL 2956 3500 \nL 3675 769 \nL 4391 3500 \nL 4966 3500 \nL 4050 0 \nL 3372 0 \nL 2619 2869 \nL 1863 0 \nL 1184 0 \nL 269 3500 \nz\n\" id=\"DejaVuSans-77\" transform=\"scale(0.015625)\"/>\n      <path d=\"M 581 4863 \nL 1159 4863 \nL 1159 1991 \nL 2875 3500 \nL 3609 3500 \nL 1753 1863 \nL 3688 0 \nL 2938 0 \nL 1159 1709 \nL 1159 0 \nL 581 0 \nL 581 4863 \nz\n\" id=\"DejaVuSans-6b\" transform=\"scale(0.015625)\"/>\n     </defs>\n     <use xlink:href=\"#DejaVuSans-77\"/>\n     <use x=\"81.787109\" xlink:href=\"#DejaVuSans-6f\"/>\n     <use x=\"142.96875\" xlink:href=\"#DejaVuSans-72\"/>\n     <use x=\"184.082031\" xlink:href=\"#DejaVuSans-6b\"/>\n    </g>\n   </g>\n   <g id=\"text_6\">\n    <!-- use -->\n    <g transform=\"translate(398.405097 387.506864)scale(0.1 -0.1)\">\n     <defs>\n      <path d=\"M 544 1381 \nL 544 3500 \nL 1119 3500 \nL 1119 1403 \nQ 1119 906 1312 657 \nQ 1506 409 1894 409 \nQ 2359 409 2629 706 \nQ 2900 1003 2900 1516 \nL 2900 3500 \nL 3475 3500 \nL 3475 0 \nL 2900 0 \nL 2900 538 \nQ 2691 219 2414 64 \nQ 2138 -91 1772 -91 \nQ 1169 -91 856 284 \nQ 544 659 544 1381 \nz\nM 1991 3584 \nL 1991 3584 \nz\n\" id=\"DejaVuSans-75\" transform=\"scale(0.015625)\"/>\n      <path d=\"M 2834 3397 \nL 2834 2853 \nQ 2591 2978 2328 3040 \nQ 2066 3103 1784 3103 \nQ 1356 3103 1142 2972 \nQ 928 2841 928 2578 \nQ 928 2378 1081 2264 \nQ 1234 2150 1697 2047 \nL 1894 2003 \nQ 2506 1872 2764 1633 \nQ 3022 1394 3022 966 \nQ 3022 478 2636 193 \nQ 2250 -91 1575 -91 \nQ 1294 -91 989 -36 \nQ 684 19 347 128 \nL 347 722 \nQ 666 556 975 473 \nQ 1284 391 1588 391 \nQ 1994 391 2212 530 \nQ 2431 669 2431 922 \nQ 2431 1156 2273 1281 \nQ 2116 1406 1581 1522 \nL 1381 1569 \nQ 847 1681 609 1914 \nQ 372 2147 372 2553 \nQ 372 3047 722 3315 \nQ 1072 3584 1716 3584 \nQ 2034 3584 2315 3537 \nQ 2597 3491 2834 3397 \nz\n\" id=\"DejaVuSans-73\" transform=\"scale(0.015625)\"/>\n     </defs>\n     <use xlink:href=\"#DejaVuSans-75\"/>\n     <use x=\"63.378906\" xlink:href=\"#DejaVuSans-73\"/>\n     <use x=\"115.478516\" xlink:href=\"#DejaVuSans-65\"/>\n    </g>\n   </g>\n   <g id=\"text_7\">\n    <!-- the -->\n    <g transform=\"translate(185.51653 287.127542)scale(0.1 -0.1)\">\n     <defs>\n      <path d=\"M 3513 2113 \nL 3513 0 \nL 2938 0 \nL 2938 2094 \nQ 2938 2591 2744 2837 \nQ 2550 3084 2163 3084 \nQ 1697 3084 1428 2787 \nQ 1159 2491 1159 1978 \nL 1159 0 \nL 581 0 \nL 581 4863 \nL 1159 4863 \nL 1159 2956 \nQ 1366 3272 1645 3428 \nQ 1925 3584 2291 3584 \nQ 2894 3584 3203 3211 \nQ 3513 2838 3513 2113 \nz\n\" id=\"DejaVuSans-68\" transform=\"scale(0.015625)\"/>\n     </defs>\n     <use xlink:href=\"#DejaVuSans-74\"/>\n     <use x=\"39.208984\" xlink:href=\"#DejaVuSans-68\"/>\n     <use x=\"102.587891\" xlink:href=\"#DejaVuSans-65\"/>\n    </g>\n   </g>\n   <g id=\"text_8\">\n    <!-- bought -->\n    <g transform=\"translate(286.866131 287.127542)scale(0.1 -0.1)\">\n     <use xlink:href=\"#DejaVuSans-62\"/>\n     <use x=\"63.476562\" xlink:href=\"#DejaVuSans-6f\"/>\n     <use x=\"124.658203\" xlink:href=\"#DejaVuSans-75\"/>\n     <use x=\"188.037109\" xlink:href=\"#DejaVuSans-67\"/>\n     <use x=\"251.513672\" xlink:href=\"#DejaVuSans-68\"/>\n     <use x=\"314.892578\" xlink:href=\"#DejaVuSans-74\"/>\n    </g>\n   </g>\n   <g id=\"text_9\">\n    <!-- price -->\n    <g transform=\"translate(392.129304 287.127542)scale(0.1 -0.1)\">\n     <defs>\n      <path d=\"M 1159 525 \nL 1159 -1331 \nL 581 -1331 \nL 581 3500 \nL 1159 3500 \nL 1159 2969 \nQ 1341 3281 1617 3432 \nQ 1894 3584 2278 3584 \nQ 2916 3584 3314 3078 \nQ 3713 2572 3713 1747 \nQ 3713 922 3314 415 \nQ 2916 -91 2278 -91 \nQ 1894 -91 1617 61 \nQ 1341 213 1159 525 \nz\nM 3116 1747 \nQ 3116 2381 2855 2742 \nQ 2594 3103 2138 3103 \nQ 1681 3103 1420 2742 \nQ 1159 2381 1159 1747 \nQ 1159 1113 1420 752 \nQ 1681 391 2138 391 \nQ 2594 391 2855 752 \nQ 3116 1113 3116 1747 \nz\n\" id=\"DejaVuSans-70\" transform=\"scale(0.015625)\"/>\n      <path d=\"M 603 3500 \nL 1178 3500 \nL 1178 0 \nL 603 0 \nL 603 3500 \nz\nM 603 4863 \nL 1178 4863 \nL 1178 4134 \nL 603 4134 \nL 603 4863 \nz\n\" id=\"DejaVuSans-69\" transform=\"scale(0.015625)\"/>\n      <path d=\"M 3122 3366 \nL 3122 2828 \nQ 2878 2963 2633 3030 \nQ 2388 3097 2138 3097 \nQ 1578 3097 1268 2742 \nQ 959 2388 959 1747 \nQ 959 1106 1268 751 \nQ 1578 397 2138 397 \nQ 2388 397 2633 464 \nQ 2878 531 3122 666 \nL 3122 134 \nQ 2881 22 2623 -34 \nQ 2366 -91 2075 -91 \nQ 1284 -91 818 406 \nQ 353 903 353 1747 \nQ 353 2603 823 3093 \nQ 1294 3584 2113 3584 \nQ 2378 3584 2631 3529 \nQ 2884 3475 3122 3366 \nz\n\" id=\"DejaVuSans-63\" transform=\"scale(0.015625)\"/>\n     </defs>\n     <use xlink:href=\"#DejaVuSans-70\"/>\n     <use x=\"63.476562\" xlink:href=\"#DejaVuSans-72\"/>\n     <use x=\"104.589844\" xlink:href=\"#DejaVuSans-69\"/>\n     <use x=\"132.373047\" xlink:href=\"#DejaVuSans-63\"/>\n     <use x=\"187.353516\" xlink:href=\"#DejaVuSans-65\"/>\n    </g>\n   </g>\n   <g id=\"text_10\">\n    <!-- easi -->\n    <g transform=\"translate(174.419047 204.768375)scale(0.1 -0.1)\">\n     <use xlink:href=\"#DejaVuSans-65\"/>\n     <use x=\"61.523438\" xlink:href=\"#DejaVuSans-61\"/>\n     <use x=\"122.802734\" xlink:href=\"#DejaVuSans-73\"/>\n     <use x=\"174.902344\" xlink:href=\"#DejaVuSans-69\"/>\n    </g>\n   </g>\n   <g id=\"text_11\">\n    <!-- thi -->\n    <g transform=\"translate(178.035453 126.227129)scale(0.1 -0.1)\">\n     <use xlink:href=\"#DejaVuSans-74\"/>\n     <use x=\"39.208984\" xlink:href=\"#DejaVuSans-68\"/>\n     <use x=\"102.587891\" xlink:href=\"#DejaVuSans-69\"/>\n    </g>\n   </g>\n   <g id=\"text_12\">\n    <!-- like -->\n    <g transform=\"translate(175.984672 48.478807)scale(0.1 -0.1)\">\n     <use xlink:href=\"#DejaVuSans-6c\"/>\n     <use x=\"27.783203\" xlink:href=\"#DejaVuSans-69\"/>\n     <use x=\"55.566406\" xlink:href=\"#DejaVuSans-6b\"/>\n     <use x=\"109.851562\" xlink:href=\"#DejaVuSans-65\"/>\n    </g>\n   </g>\n   <g id=\"text_13\">\n    <!-- it -->\n    <g transform=\"translate(268.802793 196.437203)scale(0.1 -0.1)\">\n     <use xlink:href=\"#DejaVuSans-69\"/>\n     <use x=\"27.783203\" xlink:href=\"#DejaVuSans-74\"/>\n    </g>\n   </g>\n   <g id=\"text_14\">\n    <!-- kindl -->\n    <g transform=\"translate(333.227048 196.437203)scale(0.1 -0.1)\">\n     <defs>\n      <path d=\"M 3513 2113 \nL 3513 0 \nL 2938 0 \nL 2938 2094 \nQ 2938 2591 2744 2837 \nQ 2550 3084 2163 3084 \nQ 1697 3084 1428 2787 \nQ 1159 2491 1159 1978 \nL 1159 0 \nL 581 0 \nL 581 3500 \nL 1159 3500 \nL 1159 2956 \nQ 1366 3272 1645 3428 \nQ 1925 3584 2291 3584 \nQ 2894 3584 3203 3211 \nQ 3513 2838 3513 2113 \nz\n\" id=\"DejaVuSans-6e\" transform=\"scale(0.015625)\"/>\n     </defs>\n     <use xlink:href=\"#DejaVuSans-6b\"/>\n     <use x=\"57.910156\" xlink:href=\"#DejaVuSans-69\"/>\n     <use x=\"85.693359\" xlink:href=\"#DejaVuSans-6e\"/>\n     <use x=\"149.072266\" xlink:href=\"#DejaVuSans-64\"/>\n     <use x=\"212.548828\" xlink:href=\"#DejaVuSans-6c\"/>\n    </g>\n   </g>\n   <g id=\"text_15\">\n    <!-- buy -->\n    <g transform=\"translate(408.218287 196.437203)scale(0.1 -0.1)\">\n     <defs>\n      <path d=\"M 2059 -325 \nQ 1816 -950 1584 -1140 \nQ 1353 -1331 966 -1331 \nL 506 -1331 \nL 506 -850 \nL 844 -850 \nQ 1081 -850 1212 -737 \nQ 1344 -625 1503 -206 \nL 1606 56 \nL 191 3500 \nL 800 3500 \nL 1894 763 \nL 2988 3500 \nL 3597 3500 \nL 2059 -325 \nz\n\" id=\"DejaVuSans-79\" transform=\"scale(0.015625)\"/>\n     </defs>\n     <use xlink:href=\"#DejaVuSans-62\"/>\n     <use x=\"63.476562\" xlink:href=\"#DejaVuSans-75\"/>\n     <use x=\"126.855469\" xlink:href=\"#DejaVuSans-79\"/>\n    </g>\n   </g>\n   <g id=\"text_16\">\n    <!-- kid -->\n    <g transform=\"translate(273.463747 113.266429)scale(0.1 -0.1)\">\n     <use xlink:href=\"#DejaVuSans-6b\"/>\n     <use x=\"57.910156\" xlink:href=\"#DejaVuSans-69\"/>\n     <use x=\"85.693359\" xlink:href=\"#DejaVuSans-64\"/>\n    </g>\n   </g>\n   <g id=\"text_17\">\n    <!-- long -->\n    <g transform=\"translate(270.130935 43.849279)scale(0.1 -0.1)\">\n     <use xlink:href=\"#DejaVuSans-6c\"/>\n     <use x=\"27.783203\" xlink:href=\"#DejaVuSans-6f\"/>\n     <use x=\"88.964844\" xlink:href=\"#DejaVuSans-6e\"/>\n     <use x=\"152.34375\" xlink:href=\"#DejaVuSans-67\"/>\n    </g>\n   </g>\n   <g id=\"text_18\">\n    <!-- batteri -->\n    <g transform=\"translate(342.766931 101.956536)scale(0.1 -0.1)\">\n     <use xlink:href=\"#DejaVuSans-62\"/>\n     <use x=\"63.476562\" xlink:href=\"#DejaVuSans-61\"/>\n     <use x=\"124.755859\" xlink:href=\"#DejaVuSans-74\"/>\n     <use x=\"163.964844\" xlink:href=\"#DejaVuSans-74\"/>\n     <use x=\"203.173828\" xlink:href=\"#DejaVuSans-65\"/>\n     <use x=\"264.697266\" xlink:href=\"#DejaVuSans-72\"/>\n     <use x=\"305.810547\" xlink:href=\"#DejaVuSans-69\"/>\n    </g>\n   </g>\n   <g id=\"text_19\">\n    <!-- purchas -->\n    <g transform=\"translate(403.080809 101.956536)scale(0.1 -0.1)\">\n     <use xlink:href=\"#DejaVuSans-70\"/>\n     <use x=\"63.476562\" xlink:href=\"#DejaVuSans-75\"/>\n     <use x=\"126.855469\" xlink:href=\"#DejaVuSans-72\"/>\n     <use x=\"165.71875\" xlink:href=\"#DejaVuSans-63\"/>\n     <use x=\"220.699219\" xlink:href=\"#DejaVuSans-68\"/>\n     <use x=\"284.078125\" xlink:href=\"#DejaVuSans-61\"/>\n     <use x=\"345.357422\" xlink:href=\"#DejaVuSans-73\"/>\n    </g>\n   </g>\n   <g id=\"text_20\">\n    <!-- my -->\n    <g transform=\"translate(382.263465 32.539386)scale(0.1 -0.1)\">\n     <defs>\n      <path d=\"M 3328 2828 \nQ 3544 3216 3844 3400 \nQ 4144 3584 4550 3584 \nQ 5097 3584 5394 3201 \nQ 5691 2819 5691 2113 \nL 5691 0 \nL 5113 0 \nL 5113 2094 \nQ 5113 2597 4934 2840 \nQ 4756 3084 4391 3084 \nQ 3944 3084 3684 2787 \nQ 3425 2491 3425 1978 \nL 3425 0 \nL 2847 0 \nL 2847 2094 \nQ 2847 2600 2669 2842 \nQ 2491 3084 2119 3084 \nQ 1678 3084 1418 2786 \nQ 1159 2488 1159 1978 \nL 1159 0 \nL 581 0 \nL 581 3500 \nL 1159 3500 \nL 1159 2956 \nQ 1356 3278 1631 3431 \nQ 1906 3584 2284 3584 \nQ 2666 3584 2933 3390 \nQ 3200 3197 3328 2828 \nz\n\" id=\"DejaVuSans-6d\" transform=\"scale(0.015625)\"/>\n     </defs>\n     <use xlink:href=\"#DejaVuSans-6d\"/>\n     <use x=\"97.412109\" xlink:href=\"#DejaVuSans-79\"/>\n    </g>\n   </g>\n  </g>\n </g>\n <defs>\n  <clipPath id=\"p868f001206\">\n   <rect height=\"434.88\" width=\"446.4\" x=\"7.2\" y=\"7.2\"/>\n  </clipPath>\n </defs>\n</svg>\n",
      "image/png": "[encoded data removed]"
     },
     "metadata": {
      "needs_background": "light"
     }
    }
   ],
   "source": [
    "def get_stems(text):\n",
    "    return [ps.stem(word.lower()) for word in text.split() if word not in STOP_WORDS]\n",
    "\n",
    "df['stems'] = df['reviews.text'].progress_apply(get_stems)\n",
    "\n",
    "wc = count(df['stems'])\n",
    "print(wc.shape)\n",
    "\n",
    "wc_top20 = wc[wc['rank'] <= 20]\n",
    "\n",
    "plt.figure(figsize= (8,8))\n",
    "squarify.plot(sizes=wc_top20['pct_total'], label=wc_top20['word'], alpha=.8 )\n",
    "plt.axis('off')\n",
    "plt.show()"
   ]
  },
  {
   "cell_type": "markdown",
   "metadata": {
    "id": "HU96W_PnGEsg",
    "toc-hr-collapsed": false
   },
   "source": [
    "### Lemmatization\n",
    "\n",
    "You notice immediately that results are kinda funky - words just oddly chopped off. The Porter algorithm did exactly what it knows to do: chop off endings. Stemming works well in applications where humans don't have to worry about reading the results. Search engines and more broadly information retrieval algorithms use stemming. Why? Because it's fast. \n",
    "\n",
    "Lemmatization on the other hand is more methodical. The goal is to transform a word into its base form called a lemma. Plural nouns with funky spellings get transformed to singular tense. Verbs are all transformed to the transitive. Nice tidy data for a visualization. :) However, this tidy data can come at computational cost. Spacy does a pretty freaking good job of it though. Let's take a look:"
   ]
  },
  {
   "cell_type": "code",
   "execution_count": 95,
   "metadata": {
    "colab": {
     "base_uri": "https://localhost:8080/",
     "height": 204
    },
    "id": "c1uvFqG9GEsg",
    "outputId": "fd1c2125-c6d9-44e8-a03c-edf3cb4006c0"
   },
   "outputs": [
    {
     "output_type": "stream",
     "name": "stdout",
     "text": [
      "men    man\nman    man\nwomen    woman\nwoman    woman\nwolf    wolf\nwolves    wolf\nrun    run\nruns    run\nrunning    run\nreplies    reply\n"
     ]
    }
   ],
   "source": [
    "sent = \"men man women woman wolf wolves run runs running replies\"\n",
    "doc = nlp(sent)\n",
    "\n",
    "# Lemma Attributes\n",
    "for token in doc:\n",
    "    print(token.text, \"  \", token.lemma_)"
   ]
  },
  {
   "cell_type": "code",
   "execution_count": 97,
   "metadata": {},
   "outputs": [],
   "source": [
    "\n",
    "# Re-load nlp without parser/tagger to speed up pipeline\n",
    "nlp = spacy.load('en_core_web_md', disable=['parser', 'tagger'])\n"
   ]
  },
  {
   "cell_type": "code",
   "execution_count": 98,
   "metadata": {
    "deletable": false,
    "id": "sjt7J4RsGEsh",
    "nbgrader": {
     "cell_type": "code",
     "checksum": "ca7ddfb773402c65d8f76dd921bd3389",
     "grade": false,
     "grade_id": "cell-792ac177c78518bc",
     "locked": false,
     "schema_version": 3,
     "solution": true,
     "task": false
    }
   },
   "outputs": [],
   "source": [
    "# Wrap it all in a function\n",
    "def get_lemmas(text):\n",
    "\n",
    "    lemmas = []\n",
    "    doc = nlp(text)\n",
    "    \n",
    "    for token in doc:\n",
    "        if ((token.is_stop == False) and (token.is_punct == False) and (token.pos_ != 'PRON')):\n",
    "            lemmas.append(token.lemma_.lower())\n",
    "    \n",
    "    return lemmas"
   ]
  },
  {
   "cell_type": "code",
   "execution_count": 100,
   "metadata": {
    "id": "P0RL6T5OGEsi"
   },
   "outputs": [
    {
     "output_type": "stream",
     "name": "stderr",
     "text": [
      "  6%|▌         | 1734/28332 [02:29<38:06, 11.63it/s]\n"
     ]
    },
    {
     "output_type": "error",
     "ename": "KeyboardInterrupt",
     "evalue": "",
     "traceback": [
      "\u001b[0;31m---------------------------------------------------------------------------\u001b[0m",
      "\u001b[0;31mKeyboardInterrupt\u001b[0m                         Traceback (most recent call last)",
      "\u001b[0;32m<ipython-input-100-919590d083c2>\u001b[0m in \u001b[0;36m<module>\u001b[0;34m\u001b[0m\n\u001b[0;32m----> 1\u001b[0;31m \u001b[0mdf\u001b[0m\u001b[0;34m[\u001b[0m\u001b[0;34m'lemmas'\u001b[0m\u001b[0;34m]\u001b[0m \u001b[0;34m=\u001b[0m \u001b[0mdf\u001b[0m\u001b[0;34m[\u001b[0m\u001b[0;34m'reviews.text'\u001b[0m\u001b[0;34m]\u001b[0m\u001b[0;34m.\u001b[0m\u001b[0mprogress_apply\u001b[0m\u001b[0;34m(\u001b[0m\u001b[0mget_lemmas\u001b[0m\u001b[0;34m)\u001b[0m  \u001b[0;31m# Might take a few minutes!\u001b[0m\u001b[0;34m\u001b[0m\u001b[0m\n\u001b[0m",
      "\u001b[0;32m~/opt/anaconda3/envs/U4-S1-NLP/lib/python3.7/site-packages/tqdm/std.py\u001b[0m in \u001b[0;36minner\u001b[0;34m(df, func, *args, **kwargs)\u001b[0m\n\u001b[1;32m    808\u001b[0m                 \u001b[0;31m# on the df using our wrapper (which provides bar updating)\u001b[0m\u001b[0;34m\u001b[0m\u001b[0;34m\u001b[0m\u001b[0m\n\u001b[1;32m    809\u001b[0m                 \u001b[0;32mtry\u001b[0m\u001b[0;34m:\u001b[0m\u001b[0;34m\u001b[0m\u001b[0m\n\u001b[0;32m--> 810\u001b[0;31m                     \u001b[0;32mreturn\u001b[0m \u001b[0mgetattr\u001b[0m\u001b[0;34m(\u001b[0m\u001b[0mdf\u001b[0m\u001b[0;34m,\u001b[0m \u001b[0mdf_function\u001b[0m\u001b[0;34m)\u001b[0m\u001b[0;34m(\u001b[0m\u001b[0mwrapper\u001b[0m\u001b[0;34m,\u001b[0m \u001b[0;34m**\u001b[0m\u001b[0mkwargs\u001b[0m\u001b[0;34m)\u001b[0m\u001b[0;34m\u001b[0m\u001b[0m\n\u001b[0m\u001b[1;32m    811\u001b[0m                 \u001b[0;32mfinally\u001b[0m\u001b[0;34m:\u001b[0m\u001b[0;34m\u001b[0m\u001b[0m\n\u001b[1;32m    812\u001b[0m                     \u001b[0mt\u001b[0m\u001b[0;34m.\u001b[0m\u001b[0mclose\u001b[0m\u001b[0;34m(\u001b[0m\u001b[0;34m)\u001b[0m\u001b[0;34m\u001b[0m\u001b[0m\n",
      "\u001b[0;32m~/opt/anaconda3/envs/U4-S1-NLP/lib/python3.7/site-packages/pandas/core/series.py\u001b[0m in \u001b[0;36mapply\u001b[0;34m(self, func, convert_dtype, args, **kwds)\u001b[0m\n\u001b[1;32m   4211\u001b[0m             \u001b[0;32melse\u001b[0m\u001b[0;34m:\u001b[0m\u001b[0;34m\u001b[0m\u001b[0m\n\u001b[1;32m   4212\u001b[0m                 \u001b[0mvalues\u001b[0m \u001b[0;34m=\u001b[0m \u001b[0mself\u001b[0m\u001b[0;34m.\u001b[0m\u001b[0mastype\u001b[0m\u001b[0;34m(\u001b[0m\u001b[0mobject\u001b[0m\u001b[0;34m)\u001b[0m\u001b[0;34m.\u001b[0m\u001b[0m_values\u001b[0m\u001b[0;34m\u001b[0m\u001b[0m\n\u001b[0;32m-> 4213\u001b[0;31m                 \u001b[0mmapped\u001b[0m \u001b[0;34m=\u001b[0m \u001b[0mlib\u001b[0m\u001b[0;34m.\u001b[0m\u001b[0mmap_infer\u001b[0m\u001b[0;34m(\u001b[0m\u001b[0mvalues\u001b[0m\u001b[0;34m,\u001b[0m \u001b[0mf\u001b[0m\u001b[0;34m,\u001b[0m \u001b[0mconvert\u001b[0m\u001b[0;34m=\u001b[0m\u001b[0mconvert_dtype\u001b[0m\u001b[0;34m)\u001b[0m\u001b[0;34m\u001b[0m\u001b[0m\n\u001b[0m\u001b[1;32m   4214\u001b[0m \u001b[0;34m\u001b[0m\u001b[0m\n\u001b[1;32m   4215\u001b[0m         \u001b[0;32mif\u001b[0m \u001b[0mlen\u001b[0m\u001b[0;34m(\u001b[0m\u001b[0mmapped\u001b[0m\u001b[0;34m)\u001b[0m \u001b[0;32mand\u001b[0m \u001b[0misinstance\u001b[0m\u001b[0;34m(\u001b[0m\u001b[0mmapped\u001b[0m\u001b[0;34m[\u001b[0m\u001b[0;36m0\u001b[0m\u001b[0;34m]\u001b[0m\u001b[0;34m,\u001b[0m \u001b[0mSeries\u001b[0m\u001b[0;34m)\u001b[0m\u001b[0;34m:\u001b[0m\u001b[0;34m\u001b[0m\u001b[0m\n",
      "\u001b[0;32mpandas/_libs/lib.pyx\u001b[0m in \u001b[0;36mpandas._libs.lib.map_infer\u001b[0;34m()\u001b[0m\n",
      "\u001b[0;32m~/opt/anaconda3/envs/U4-S1-NLP/lib/python3.7/site-packages/tqdm/std.py\u001b[0m in \u001b[0;36mwrapper\u001b[0;34m(*args, **kwargs)\u001b[0m\n\u001b[1;32m    803\u001b[0m                     \u001b[0;31m# take a fast or slow code path; so stop when t.total==t.n\u001b[0m\u001b[0;34m\u001b[0m\u001b[0;34m\u001b[0m\u001b[0m\n\u001b[1;32m    804\u001b[0m                     \u001b[0mt\u001b[0m\u001b[0;34m.\u001b[0m\u001b[0mupdate\u001b[0m\u001b[0;34m(\u001b[0m\u001b[0mn\u001b[0m\u001b[0;34m=\u001b[0m\u001b[0;36m1\u001b[0m \u001b[0;32mif\u001b[0m \u001b[0;32mnot\u001b[0m \u001b[0mt\u001b[0m\u001b[0;34m.\u001b[0m\u001b[0mtotal\u001b[0m \u001b[0;32mor\u001b[0m \u001b[0mt\u001b[0m\u001b[0;34m.\u001b[0m\u001b[0mn\u001b[0m \u001b[0;34m<\u001b[0m \u001b[0mt\u001b[0m\u001b[0;34m.\u001b[0m\u001b[0mtotal\u001b[0m \u001b[0;32melse\u001b[0m \u001b[0;36m0\u001b[0m\u001b[0;34m)\u001b[0m\u001b[0;34m\u001b[0m\u001b[0m\n\u001b[0;32m--> 805\u001b[0;31m                     \u001b[0;32mreturn\u001b[0m \u001b[0mfunc\u001b[0m\u001b[0;34m(\u001b[0m\u001b[0;34m*\u001b[0m\u001b[0margs\u001b[0m\u001b[0;34m,\u001b[0m \u001b[0;34m**\u001b[0m\u001b[0mkwargs\u001b[0m\u001b[0;34m)\u001b[0m\u001b[0;34m\u001b[0m\u001b[0m\n\u001b[0m\u001b[1;32m    806\u001b[0m \u001b[0;34m\u001b[0m\u001b[0m\n\u001b[1;32m    807\u001b[0m                 \u001b[0;31m# Apply the provided function (in **kwargs)\u001b[0m\u001b[0;34m\u001b[0m\u001b[0;34m\u001b[0m\u001b[0m\n",
      "\u001b[0;32m<ipython-input-98-8eaa9eca5716>\u001b[0m in \u001b[0;36mget_lemmas\u001b[0;34m(text)\u001b[0m\n\u001b[1;32m      3\u001b[0m \u001b[0;34m\u001b[0m\u001b[0m\n\u001b[1;32m      4\u001b[0m     \u001b[0mlemmas\u001b[0m \u001b[0;34m=\u001b[0m \u001b[0;34m[\u001b[0m\u001b[0;34m]\u001b[0m\u001b[0;34m\u001b[0m\u001b[0m\n\u001b[0;32m----> 5\u001b[0;31m     \u001b[0mdoc\u001b[0m \u001b[0;34m=\u001b[0m \u001b[0mnlp\u001b[0m\u001b[0;34m(\u001b[0m\u001b[0mtext\u001b[0m\u001b[0;34m)\u001b[0m\u001b[0;34m\u001b[0m\u001b[0m\n\u001b[0m\u001b[1;32m      6\u001b[0m \u001b[0;34m\u001b[0m\u001b[0m\n\u001b[1;32m      7\u001b[0m     \u001b[0;32mfor\u001b[0m \u001b[0mtoken\u001b[0m \u001b[0;32min\u001b[0m \u001b[0mdoc\u001b[0m\u001b[0;34m:\u001b[0m\u001b[0;34m\u001b[0m\u001b[0m\n",
      "\u001b[0;32m~/opt/anaconda3/envs/U4-S1-NLP/lib/python3.7/site-packages/spacy/language.py\u001b[0m in \u001b[0;36m__call__\u001b[0;34m(self, text, disable, component_cfg)\u001b[0m\n\u001b[1;32m    425\u001b[0m                 \u001b[0mErrors\u001b[0m\u001b[0;34m.\u001b[0m\u001b[0mE088\u001b[0m\u001b[0;34m.\u001b[0m\u001b[0mformat\u001b[0m\u001b[0;34m(\u001b[0m\u001b[0mlength\u001b[0m\u001b[0;34m=\u001b[0m\u001b[0mlen\u001b[0m\u001b[0;34m(\u001b[0m\u001b[0mtext\u001b[0m\u001b[0;34m)\u001b[0m\u001b[0;34m,\u001b[0m \u001b[0mmax_length\u001b[0m\u001b[0;34m=\u001b[0m\u001b[0mself\u001b[0m\u001b[0;34m.\u001b[0m\u001b[0mmax_length\u001b[0m\u001b[0;34m)\u001b[0m\u001b[0;34m\u001b[0m\u001b[0m\n\u001b[1;32m    426\u001b[0m             )\n\u001b[0;32m--> 427\u001b[0;31m         \u001b[0mdoc\u001b[0m \u001b[0;34m=\u001b[0m \u001b[0mself\u001b[0m\u001b[0;34m.\u001b[0m\u001b[0mmake_doc\u001b[0m\u001b[0;34m(\u001b[0m\u001b[0mtext\u001b[0m\u001b[0;34m)\u001b[0m\u001b[0;34m\u001b[0m\u001b[0m\n\u001b[0m\u001b[1;32m    428\u001b[0m         \u001b[0;32mif\u001b[0m \u001b[0mcomponent_cfg\u001b[0m \u001b[0;32mis\u001b[0m \u001b[0;32mNone\u001b[0m\u001b[0;34m:\u001b[0m\u001b[0;34m\u001b[0m\u001b[0m\n\u001b[1;32m    429\u001b[0m             \u001b[0mcomponent_cfg\u001b[0m \u001b[0;34m=\u001b[0m \u001b[0;34m{\u001b[0m\u001b[0;34m}\u001b[0m\u001b[0;34m\u001b[0m\u001b[0m\n",
      "\u001b[0;32m~/opt/anaconda3/envs/U4-S1-NLP/lib/python3.7/site-packages/spacy/language.py\u001b[0m in \u001b[0;36mmake_doc\u001b[0;34m(self, text)\u001b[0m\n\u001b[1;32m    451\u001b[0m \u001b[0;34m\u001b[0m\u001b[0m\n\u001b[1;32m    452\u001b[0m     \u001b[0;32mdef\u001b[0m \u001b[0mmake_doc\u001b[0m\u001b[0;34m(\u001b[0m\u001b[0mself\u001b[0m\u001b[0;34m,\u001b[0m \u001b[0mtext\u001b[0m\u001b[0;34m)\u001b[0m\u001b[0;34m:\u001b[0m\u001b[0;34m\u001b[0m\u001b[0m\n\u001b[0;32m--> 453\u001b[0;31m         \u001b[0;32mreturn\u001b[0m \u001b[0mself\u001b[0m\u001b[0;34m.\u001b[0m\u001b[0mtokenizer\u001b[0m\u001b[0;34m(\u001b[0m\u001b[0mtext\u001b[0m\u001b[0;34m)\u001b[0m\u001b[0;34m\u001b[0m\u001b[0m\n\u001b[0m\u001b[1;32m    454\u001b[0m \u001b[0;34m\u001b[0m\u001b[0m\n\u001b[1;32m    455\u001b[0m     \u001b[0;32mdef\u001b[0m \u001b[0m_format_docs_and_golds\u001b[0m\u001b[0;34m(\u001b[0m\u001b[0mself\u001b[0m\u001b[0;34m,\u001b[0m \u001b[0mdocs\u001b[0m\u001b[0;34m,\u001b[0m \u001b[0mgolds\u001b[0m\u001b[0;34m)\u001b[0m\u001b[0;34m:\u001b[0m\u001b[0;34m\u001b[0m\u001b[0m\n",
      "\u001b[0;32mtokenizer.pyx\u001b[0m in \u001b[0;36mspacy.tokenizer.Tokenizer.__call__\u001b[0;34m()\u001b[0m\n",
      "\u001b[0;32mdoc.pyx\u001b[0m in \u001b[0;36mspacy.tokens.doc.Doc.__init__\u001b[0;34m()\u001b[0m\n",
      "\u001b[0;32mdoc.pyx\u001b[0m in \u001b[0;36mspacy.tokens.doc._get_chunker\u001b[0;34m()\u001b[0m\n",
      "\u001b[0;32m~/opt/anaconda3/envs/U4-S1-NLP/lib/python3.7/site-packages/spacy/util.py\u001b[0m in \u001b[0;36mget_lang_class\u001b[0;34m(lang)\u001b[0m\n\u001b[1;32m     68\u001b[0m     \"\"\"\n\u001b[1;32m     69\u001b[0m     \u001b[0;31m# Check if language is registered / entry point is available\u001b[0m\u001b[0;34m\u001b[0m\u001b[0;34m\u001b[0m\u001b[0m\n\u001b[0;32m---> 70\u001b[0;31m     \u001b[0;32mif\u001b[0m \u001b[0mlang\u001b[0m \u001b[0;32min\u001b[0m \u001b[0mregistry\u001b[0m\u001b[0;34m.\u001b[0m\u001b[0mlanguages\u001b[0m\u001b[0;34m:\u001b[0m\u001b[0;34m\u001b[0m\u001b[0m\n\u001b[0m\u001b[1;32m     71\u001b[0m         \u001b[0;32mreturn\u001b[0m \u001b[0mregistry\u001b[0m\u001b[0;34m.\u001b[0m\u001b[0mlanguages\u001b[0m\u001b[0;34m.\u001b[0m\u001b[0mget\u001b[0m\u001b[0;34m(\u001b[0m\u001b[0mlang\u001b[0m\u001b[0;34m)\u001b[0m\u001b[0;34m\u001b[0m\u001b[0m\n\u001b[1;32m     72\u001b[0m     \u001b[0;32melse\u001b[0m\u001b[0;34m:\u001b[0m\u001b[0;34m\u001b[0m\u001b[0m\n",
      "\u001b[0;32m~/opt/anaconda3/envs/U4-S1-NLP/lib/python3.7/site-packages/catalogue.py\u001b[0m in \u001b[0;36m__contains__\u001b[0;34m(self, name)\u001b[0m\n\u001b[1;32m     54\u001b[0m         \"\"\"\n\u001b[1;32m     55\u001b[0m         \u001b[0mnamespace\u001b[0m \u001b[0;34m=\u001b[0m \u001b[0mtuple\u001b[0m\u001b[0;34m(\u001b[0m\u001b[0mlist\u001b[0m\u001b[0;34m(\u001b[0m\u001b[0mself\u001b[0m\u001b[0;34m.\u001b[0m\u001b[0mnamespace\u001b[0m\u001b[0;34m)\u001b[0m \u001b[0;34m+\u001b[0m \u001b[0;34m[\u001b[0m\u001b[0mname\u001b[0m\u001b[0;34m]\u001b[0m\u001b[0;34m)\u001b[0m\u001b[0;34m\u001b[0m\u001b[0m\n\u001b[0;32m---> 56\u001b[0;31m         \u001b[0mhas_entry_point\u001b[0m \u001b[0;34m=\u001b[0m \u001b[0mself\u001b[0m\u001b[0;34m.\u001b[0m\u001b[0mentry_points\u001b[0m \u001b[0;32mand\u001b[0m \u001b[0mself\u001b[0m\u001b[0;34m.\u001b[0m\u001b[0mget_entry_point\u001b[0m\u001b[0;34m(\u001b[0m\u001b[0mname\u001b[0m\u001b[0;34m)\u001b[0m\u001b[0;34m\u001b[0m\u001b[0m\n\u001b[0m\u001b[1;32m     57\u001b[0m         \u001b[0;32mreturn\u001b[0m \u001b[0mhas_entry_point\u001b[0m \u001b[0;32mor\u001b[0m \u001b[0mnamespace\u001b[0m \u001b[0;32min\u001b[0m \u001b[0mREGISTRY\u001b[0m\u001b[0;34m\u001b[0m\u001b[0m\n\u001b[1;32m     58\u001b[0m \u001b[0;34m\u001b[0m\u001b[0m\n",
      "\u001b[0;32m~/opt/anaconda3/envs/U4-S1-NLP/lib/python3.7/site-packages/catalogue.py\u001b[0m in \u001b[0;36mget_entry_point\u001b[0;34m(self, name, default)\u001b[0m\n\u001b[1;32m    136\u001b[0m         \u001b[0mRETURNS\u001b[0m \u001b[0;34m(\u001b[0m\u001b[0mAny\u001b[0m\u001b[0;34m)\u001b[0m\u001b[0;34m:\u001b[0m \u001b[0mThe\u001b[0m \u001b[0mloaded\u001b[0m \u001b[0mentry\u001b[0m \u001b[0mpoint\u001b[0m \u001b[0;32mor\u001b[0m \u001b[0mthe\u001b[0m \u001b[0mdefault\u001b[0m \u001b[0mvalue\u001b[0m\u001b[0;34m.\u001b[0m\u001b[0;34m\u001b[0m\u001b[0m\n\u001b[1;32m    137\u001b[0m         \"\"\"\n\u001b[0;32m--> 138\u001b[0;31m         \u001b[0;32mfor\u001b[0m \u001b[0mentry_point\u001b[0m \u001b[0;32min\u001b[0m \u001b[0mAVAILABLE_ENTRY_POINTS\u001b[0m\u001b[0;34m.\u001b[0m\u001b[0mget\u001b[0m\u001b[0;34m(\u001b[0m\u001b[0mself\u001b[0m\u001b[0;34m.\u001b[0m\u001b[0mentry_point_namespace\u001b[0m\u001b[0;34m,\u001b[0m \u001b[0;34m[\u001b[0m\u001b[0;34m]\u001b[0m\u001b[0;34m)\u001b[0m\u001b[0;34m:\u001b[0m\u001b[0;34m\u001b[0m\u001b[0m\n\u001b[0m\u001b[1;32m    139\u001b[0m             \u001b[0;32mif\u001b[0m \u001b[0mentry_point\u001b[0m\u001b[0;34m.\u001b[0m\u001b[0mname\u001b[0m \u001b[0;34m==\u001b[0m \u001b[0mname\u001b[0m\u001b[0;34m:\u001b[0m\u001b[0;34m\u001b[0m\u001b[0m\n\u001b[1;32m    140\u001b[0m                 \u001b[0;32mreturn\u001b[0m \u001b[0mentry_point\u001b[0m\u001b[0;34m.\u001b[0m\u001b[0mload\u001b[0m\u001b[0;34m(\u001b[0m\u001b[0;34m)\u001b[0m\u001b[0;34m\u001b[0m\u001b[0m\n",
      "\u001b[0;32m~/opt/anaconda3/envs/U4-S1-NLP/lib/python3.7/site-packages/importlib_metadata/__init__.py\u001b[0m in \u001b[0;36mget\u001b[0;34m(self, name, default)\u001b[0m\n\u001b[1;32m    309\u001b[0m \u001b[0;34m\u001b[0m\u001b[0m\n\u001b[1;32m    310\u001b[0m     \u001b[0;32mdef\u001b[0m \u001b[0mget\u001b[0m\u001b[0;34m(\u001b[0m\u001b[0mself\u001b[0m\u001b[0;34m,\u001b[0m \u001b[0mname\u001b[0m\u001b[0;34m,\u001b[0m \u001b[0mdefault\u001b[0m\u001b[0;34m=\u001b[0m\u001b[0;32mNone\u001b[0m\u001b[0;34m)\u001b[0m\u001b[0;34m:\u001b[0m\u001b[0;34m\u001b[0m\u001b[0m\n\u001b[0;32m--> 311\u001b[0;31m         \u001b[0mflake8_bypass\u001b[0m\u001b[0;34m(\u001b[0m\u001b[0mself\u001b[0m\u001b[0;34m.\u001b[0m\u001b[0m_warn\u001b[0m\u001b[0;34m)\u001b[0m\u001b[0;34m(\u001b[0m\u001b[0;34m)\u001b[0m\u001b[0;34m\u001b[0m\u001b[0m\n\u001b[0m\u001b[1;32m    312\u001b[0m         \u001b[0;32mreturn\u001b[0m \u001b[0msuper\u001b[0m\u001b[0;34m(\u001b[0m\u001b[0;34m)\u001b[0m\u001b[0;34m.\u001b[0m\u001b[0mget\u001b[0m\u001b[0;34m(\u001b[0m\u001b[0mname\u001b[0m\u001b[0;34m,\u001b[0m \u001b[0mdefault\u001b[0m\u001b[0;34m)\u001b[0m\u001b[0;34m\u001b[0m\u001b[0m\n\u001b[1;32m    313\u001b[0m \u001b[0;34m\u001b[0m\u001b[0m\n",
      "\u001b[0;32m~/opt/anaconda3/envs/U4-S1-NLP/lib/python3.7/site-packages/importlib_metadata/__init__.py\u001b[0m in \u001b[0;36mflake8_bypass\u001b[0;34m(func)\u001b[0m\n\u001b[1;32m    270\u001b[0m     \u001b[0;32mimport\u001b[0m \u001b[0minspect\u001b[0m\u001b[0;34m\u001b[0m\u001b[0m\n\u001b[1;32m    271\u001b[0m \u001b[0;34m\u001b[0m\u001b[0m\n\u001b[0;32m--> 272\u001b[0;31m     \u001b[0mis_flake8\u001b[0m \u001b[0;34m=\u001b[0m \u001b[0many\u001b[0m\u001b[0;34m(\u001b[0m\u001b[0;34m'flake8'\u001b[0m \u001b[0;32min\u001b[0m \u001b[0mstr\u001b[0m\u001b[0;34m(\u001b[0m\u001b[0mframe\u001b[0m\u001b[0;34m.\u001b[0m\u001b[0mfilename\u001b[0m\u001b[0;34m)\u001b[0m \u001b[0;32mfor\u001b[0m \u001b[0mframe\u001b[0m \u001b[0;32min\u001b[0m \u001b[0minspect\u001b[0m\u001b[0;34m.\u001b[0m\u001b[0mstack\u001b[0m\u001b[0;34m(\u001b[0m\u001b[0;34m)\u001b[0m\u001b[0;34m[\u001b[0m\u001b[0;34m:\u001b[0m\u001b[0;36m5\u001b[0m\u001b[0;34m]\u001b[0m\u001b[0;34m)\u001b[0m\u001b[0;34m\u001b[0m\u001b[0m\n\u001b[0m\u001b[1;32m    273\u001b[0m     \u001b[0;32mreturn\u001b[0m \u001b[0mfunc\u001b[0m \u001b[0;32mif\u001b[0m \u001b[0;32mnot\u001b[0m \u001b[0mis_flake8\u001b[0m \u001b[0;32melse\u001b[0m \u001b[0;32mlambda\u001b[0m\u001b[0;34m:\u001b[0m \u001b[0;32mNone\u001b[0m\u001b[0;34m\u001b[0m\u001b[0m\n\u001b[1;32m    274\u001b[0m \u001b[0;34m\u001b[0m\u001b[0m\n",
      "\u001b[0;32m~/opt/anaconda3/envs/U4-S1-NLP/lib/python3.7/inspect.py\u001b[0m in \u001b[0;36mstack\u001b[0;34m(context)\u001b[0m\n\u001b[1;32m   1504\u001b[0m \u001b[0;32mdef\u001b[0m \u001b[0mstack\u001b[0m\u001b[0;34m(\u001b[0m\u001b[0mcontext\u001b[0m\u001b[0;34m=\u001b[0m\u001b[0;36m1\u001b[0m\u001b[0;34m)\u001b[0m\u001b[0;34m:\u001b[0m\u001b[0;34m\u001b[0m\u001b[0m\n\u001b[1;32m   1505\u001b[0m     \u001b[0;34m\"\"\"Return a list of records for the stack above the caller's frame.\"\"\"\u001b[0m\u001b[0;34m\u001b[0m\u001b[0m\n\u001b[0;32m-> 1506\u001b[0;31m     \u001b[0;32mreturn\u001b[0m \u001b[0mgetouterframes\u001b[0m\u001b[0;34m(\u001b[0m\u001b[0msys\u001b[0m\u001b[0;34m.\u001b[0m\u001b[0m_getframe\u001b[0m\u001b[0;34m(\u001b[0m\u001b[0;36m1\u001b[0m\u001b[0;34m)\u001b[0m\u001b[0;34m,\u001b[0m \u001b[0mcontext\u001b[0m\u001b[0;34m)\u001b[0m\u001b[0;34m\u001b[0m\u001b[0m\n\u001b[0m\u001b[1;32m   1507\u001b[0m \u001b[0;34m\u001b[0m\u001b[0m\n\u001b[1;32m   1508\u001b[0m \u001b[0;32mdef\u001b[0m \u001b[0mtrace\u001b[0m\u001b[0;34m(\u001b[0m\u001b[0mcontext\u001b[0m\u001b[0;34m=\u001b[0m\u001b[0;36m1\u001b[0m\u001b[0;34m)\u001b[0m\u001b[0;34m:\u001b[0m\u001b[0;34m\u001b[0m\u001b[0m\n",
      "\u001b[0;32m~/opt/anaconda3/envs/U4-S1-NLP/lib/python3.7/inspect.py\u001b[0m in \u001b[0;36mgetouterframes\u001b[0;34m(frame, context)\u001b[0m\n\u001b[1;32m   1481\u001b[0m     \u001b[0mframelist\u001b[0m \u001b[0;34m=\u001b[0m \u001b[0;34m[\u001b[0m\u001b[0;34m]\u001b[0m\u001b[0;34m\u001b[0m\u001b[0m\n\u001b[1;32m   1482\u001b[0m     \u001b[0;32mwhile\u001b[0m \u001b[0mframe\u001b[0m\u001b[0;34m:\u001b[0m\u001b[0;34m\u001b[0m\u001b[0m\n\u001b[0;32m-> 1483\u001b[0;31m         \u001b[0mframeinfo\u001b[0m \u001b[0;34m=\u001b[0m \u001b[0;34m(\u001b[0m\u001b[0mframe\u001b[0m\u001b[0;34m,\u001b[0m\u001b[0;34m)\u001b[0m \u001b[0;34m+\u001b[0m \u001b[0mgetframeinfo\u001b[0m\u001b[0;34m(\u001b[0m\u001b[0mframe\u001b[0m\u001b[0;34m,\u001b[0m \u001b[0mcontext\u001b[0m\u001b[0;34m)\u001b[0m\u001b[0;34m\u001b[0m\u001b[0m\n\u001b[0m\u001b[1;32m   1484\u001b[0m         \u001b[0mframelist\u001b[0m\u001b[0;34m.\u001b[0m\u001b[0mappend\u001b[0m\u001b[0;34m(\u001b[0m\u001b[0mFrameInfo\u001b[0m\u001b[0;34m(\u001b[0m\u001b[0;34m*\u001b[0m\u001b[0mframeinfo\u001b[0m\u001b[0;34m)\u001b[0m\u001b[0;34m)\u001b[0m\u001b[0;34m\u001b[0m\u001b[0m\n\u001b[1;32m   1485\u001b[0m         \u001b[0mframe\u001b[0m \u001b[0;34m=\u001b[0m \u001b[0mframe\u001b[0m\u001b[0;34m.\u001b[0m\u001b[0mf_back\u001b[0m\u001b[0;34m\u001b[0m\u001b[0m\n",
      "\u001b[0;32m~/opt/anaconda3/envs/U4-S1-NLP/lib/python3.7/inspect.py\u001b[0m in \u001b[0;36mgetframeinfo\u001b[0;34m(frame, context)\u001b[0m\n\u001b[1;32m   1455\u001b[0m         \u001b[0mstart\u001b[0m \u001b[0;34m=\u001b[0m \u001b[0mlineno\u001b[0m \u001b[0;34m-\u001b[0m \u001b[0;36m1\u001b[0m \u001b[0;34m-\u001b[0m \u001b[0mcontext\u001b[0m\u001b[0;34m//\u001b[0m\u001b[0;36m2\u001b[0m\u001b[0;34m\u001b[0m\u001b[0m\n\u001b[1;32m   1456\u001b[0m         \u001b[0;32mtry\u001b[0m\u001b[0;34m:\u001b[0m\u001b[0;34m\u001b[0m\u001b[0m\n\u001b[0;32m-> 1457\u001b[0;31m             \u001b[0mlines\u001b[0m\u001b[0;34m,\u001b[0m \u001b[0mlnum\u001b[0m \u001b[0;34m=\u001b[0m \u001b[0mfindsource\u001b[0m\u001b[0;34m(\u001b[0m\u001b[0mframe\u001b[0m\u001b[0;34m)\u001b[0m\u001b[0;34m\u001b[0m\u001b[0m\n\u001b[0m\u001b[1;32m   1458\u001b[0m         \u001b[0;32mexcept\u001b[0m \u001b[0mOSError\u001b[0m\u001b[0;34m:\u001b[0m\u001b[0;34m\u001b[0m\u001b[0m\n\u001b[1;32m   1459\u001b[0m             \u001b[0mlines\u001b[0m \u001b[0;34m=\u001b[0m \u001b[0mindex\u001b[0m \u001b[0;34m=\u001b[0m \u001b[0;32mNone\u001b[0m\u001b[0;34m\u001b[0m\u001b[0m\n",
      "\u001b[0;32m~/opt/anaconda3/envs/U4-S1-NLP/lib/python3.7/inspect.py\u001b[0m in \u001b[0;36mfindsource\u001b[0;34m(object)\u001b[0m\n\u001b[1;32m    778\u001b[0m             \u001b[0;32mraise\u001b[0m \u001b[0mOSError\u001b[0m\u001b[0;34m(\u001b[0m\u001b[0;34m'source code not available'\u001b[0m\u001b[0;34m)\u001b[0m\u001b[0;34m\u001b[0m\u001b[0m\n\u001b[1;32m    779\u001b[0m \u001b[0;34m\u001b[0m\u001b[0m\n\u001b[0;32m--> 780\u001b[0;31m     \u001b[0mmodule\u001b[0m \u001b[0;34m=\u001b[0m \u001b[0mgetmodule\u001b[0m\u001b[0;34m(\u001b[0m\u001b[0mobject\u001b[0m\u001b[0;34m,\u001b[0m \u001b[0mfile\u001b[0m\u001b[0;34m)\u001b[0m\u001b[0;34m\u001b[0m\u001b[0m\n\u001b[0m\u001b[1;32m    781\u001b[0m     \u001b[0;32mif\u001b[0m \u001b[0mmodule\u001b[0m\u001b[0;34m:\u001b[0m\u001b[0;34m\u001b[0m\u001b[0m\n\u001b[1;32m    782\u001b[0m         \u001b[0mlines\u001b[0m \u001b[0;34m=\u001b[0m \u001b[0mlinecache\u001b[0m\u001b[0;34m.\u001b[0m\u001b[0mgetlines\u001b[0m\u001b[0;34m(\u001b[0m\u001b[0mfile\u001b[0m\u001b[0;34m,\u001b[0m \u001b[0mmodule\u001b[0m\u001b[0;34m.\u001b[0m\u001b[0m__dict__\u001b[0m\u001b[0;34m)\u001b[0m\u001b[0;34m\u001b[0m\u001b[0m\n",
      "\u001b[0;32m~/opt/anaconda3/envs/U4-S1-NLP/lib/python3.7/inspect.py\u001b[0m in \u001b[0;36mgetmodule\u001b[0;34m(object, _filename)\u001b[0m\n\u001b[1;32m    731\u001b[0m     \u001b[0;31m# Copy sys.modules in order to cope with changes while iterating\u001b[0m\u001b[0;34m\u001b[0m\u001b[0;34m\u001b[0m\u001b[0m\n\u001b[1;32m    732\u001b[0m     \u001b[0;32mfor\u001b[0m \u001b[0mmodname\u001b[0m\u001b[0;34m,\u001b[0m \u001b[0mmodule\u001b[0m \u001b[0;32min\u001b[0m \u001b[0mlist\u001b[0m\u001b[0;34m(\u001b[0m\u001b[0msys\u001b[0m\u001b[0;34m.\u001b[0m\u001b[0mmodules\u001b[0m\u001b[0;34m.\u001b[0m\u001b[0mitems\u001b[0m\u001b[0;34m(\u001b[0m\u001b[0;34m)\u001b[0m\u001b[0;34m)\u001b[0m\u001b[0;34m:\u001b[0m\u001b[0;34m\u001b[0m\u001b[0m\n\u001b[0;32m--> 733\u001b[0;31m         \u001b[0;32mif\u001b[0m \u001b[0mismodule\u001b[0m\u001b[0;34m(\u001b[0m\u001b[0mmodule\u001b[0m\u001b[0;34m)\u001b[0m \u001b[0;32mand\u001b[0m \u001b[0mhasattr\u001b[0m\u001b[0;34m(\u001b[0m\u001b[0mmodule\u001b[0m\u001b[0;34m,\u001b[0m \u001b[0;34m'__file__'\u001b[0m\u001b[0;34m)\u001b[0m\u001b[0;34m:\u001b[0m\u001b[0;34m\u001b[0m\u001b[0m\n\u001b[0m\u001b[1;32m    734\u001b[0m             \u001b[0mf\u001b[0m \u001b[0;34m=\u001b[0m \u001b[0mmodule\u001b[0m\u001b[0;34m.\u001b[0m\u001b[0m__file__\u001b[0m\u001b[0;34m\u001b[0m\u001b[0m\n\u001b[1;32m    735\u001b[0m             \u001b[0;32mif\u001b[0m \u001b[0mf\u001b[0m \u001b[0;34m==\u001b[0m \u001b[0m_filesbymodname\u001b[0m\u001b[0;34m.\u001b[0m\u001b[0mget\u001b[0m\u001b[0;34m(\u001b[0m\u001b[0mmodname\u001b[0m\u001b[0;34m,\u001b[0m \u001b[0;32mNone\u001b[0m\u001b[0;34m)\u001b[0m\u001b[0;34m:\u001b[0m\u001b[0;34m\u001b[0m\u001b[0m\n",
      "\u001b[0;31mKeyboardInterrupt\u001b[0m: "
     ]
    }
   ],
   "source": [
    "df['lemmas'] = df['reviews.text'].progress_apply(get_lemmas)  # Might take a few minutes!"
   ]
  },
  {
   "cell_type": "code",
   "execution_count": null,
   "metadata": {
    "colab": {
     "base_uri": "https://localhost:8080/",
     "height": 119
    },
    "id": "V50IDI9_GEsj",
    "outputId": "91cd8059-235e-4e4c-ec87-c67c962d3548"
   },
   "outputs": [],
   "source": [
    "cols = ['lemmas', 'reviews.text']\n",
    "df[cols].head()"
   ]
  },
  {
   "cell_type": "code",
   "execution_count": null,
   "metadata": {
    "colab": {
     "base_uri": "https://localhost:8080/",
     "height": 248
    },
    "id": "D4FNmpcNGEsl",
    "outputId": "5236c048-395c-408b-bf46-e6dbec91f2bc"
   },
   "outputs": [],
   "source": [
    "wc = count(df['lemmas'])\n",
    "wc_top20 = wc[wc['rank'] <= 20]\n",
    "\n",
    "squarify.plot(sizes=wc_top20['pct_total'], label=wc_top20['word'], alpha=.8 )\n",
    "plt.axis('off')\n",
    "plt.show()"
   ]
  },
  {
   "cell_type": "markdown",
   "metadata": {
    "id": "G_0hfUbGGEsn"
   },
   "source": [
    "## Challenge\n",
    "\n",
    "You should know how to apply lemmatization with Spacy to a corpus of text. "
   ]
  },
  {
   "cell_type": "markdown",
   "metadata": {
    "id": "TV0MV3qqGEso"
   },
   "source": [
    "# Review\n",
    "\n",
    "In this module project, you've seen us apply Natural Language Processing techniques (tokenization, stopword removal, and lemmatization) to a corpus of Amazon text reviews. We analyzed those reviews using these techniques and discovered that Amazon customers are generally satisfied with the battery life of Amazon products and generally appear satisfied. \n",
    "\n",
    "You will apply similar techniques to today's [module project assignment](LS_DS_411_Text_Data_Assignment.ipynb) to analyze coffee shop reviews from yelp. Remember that the techniques of processing the text are just the beginning. There are many ways to slice and dice the data. "
   ]
  },
  {
   "cell_type": "markdown",
   "metadata": {
    "id": "sf2wyGutGEso"
   },
   "source": [
    "# Sources\n",
    "\n",
    "* Spacy 101 - https://course.spacy.io\n",
    "* NLTK Book - https://www.nltk.org/book/\n",
    "* An Introduction to Information Retrieval - https://nlp.stanford.edu/IR-book/pdf/irbookonlinereading.pdf"
   ]
  },
  {
   "cell_type": "markdown",
   "metadata": {
    "id": "TIXFuZCEGEso",
    "toc-hr-collapsed": true
   },
   "source": [
    "## Advanced Resources & Techniques\n",
    "- Named Entity Recognition (NER)\n",
    "- Dependcy Trees \n",
    "- Generators\n",
    "- the major libraries (NLTK, Spacy, Gensim)"
   ]
  }
 ],
 "metadata": {
  "colab": {
   "collapsed_sections": [],
   "name": "COLAB VERSION LS_DS_411_Text Data_Lecture.ipynb",
   "provenance": []
  },
  "kernelspec": {
   "name": "python370jvsc74a57bd0c751e3dba1c0ae6d681c8fd9e4eb9597bc490d2dc541e0c49930039039a54e24",
   "display_name": "Python 3.7.0 64-bit ('U4-S1-NLP': conda)"
  },
  "language_info": {
   "codemirror_mode": {
    "name": "ipython",
    "version": 3
   },
   "file_extension": ".py",
   "mimetype": "text/x-python",
   "name": "python",
   "nbconvert_exporter": "python",
   "pygments_lexer": "ipython3",
   "version": "3.7.0"
  },
  "toc-autonumbering": false,
  "toc-showcode": false,
  "toc-showmarkdowntxt": false
 },
 "nbformat": 4,
 "nbformat_minor": 4
}
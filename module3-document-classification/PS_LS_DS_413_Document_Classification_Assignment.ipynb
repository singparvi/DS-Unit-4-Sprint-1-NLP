{
 "cells": [
  {
   "cell_type": "markdown",
   "metadata": {},
   "source": [
    "Lambda School Data Science\n",
    "\n",
    "*Unit 4, Sprint 1, Module 3*\n",
    "\n",
    "---"
   ]
  },
  {
   "cell_type": "markdown",
   "metadata": {},
   "source": [
    "# Document Classification (Assignment)\n",
    "\n",
    "This notebook is for you to practice skills during lecture.\n",
    "\n",
    "Today's guided module project and assignment will be different. You already know how to do classification. You ready know how to extract features from documents. So? That means you're ready to combine and practice those skills in a kaggle competition. We we will open with a five minute sprint explaining the competition, and then give you 25 minutes to work. After those twenty five minutes are up, I will give a 5-minute demo an NLP technique that will help you with document classification (*and **maybe** the competition*).\n",
    "\n",
    "Today's all about having fun and practicing your skills.\n",
    "\n",
    "## Sections\n",
    "* <a href=\"#p1\">Part 1</a>: Text Feature Extraction & Classification Pipelines\n",
    "* <a href=\"#p2\">Part 2</a>: Latent Semantic Indexing\n",
    "* <a href=\"#p3\">Part 3</a>: Word Embeddings with Spacy\n",
    "* <a href=\"#p4\">Part 4</a>: Post Lecture Assignment"
   ]
  },
  {
   "cell_type": "markdown",
   "metadata": {},
   "source": [
    "# Text Feature Extraction & Classification Pipelines (Learn)\n",
    "<a id=\"p1\"></a>"
   ]
  },
  {
   "cell_type": "markdown",
   "metadata": {
    "toc-hr-collapsed": true
   },
   "source": [
    "## Follow Along \n",
    "\n",
    "What you should be doing now:\n",
    "1. Join the Kaggle Competition\n",
    "2. Download the data\n",
    "3. Train a model (try using the pipe method I just demoed)"
   ]
  },
  {
   "cell_type": "markdown",
   "metadata": {},
   "source": [
    "### Load Competition Data"
   ]
  },
  {
   "cell_type": "code",
   "execution_count": 1,
   "metadata": {},
   "outputs": [],
   "source": [
    "import pandas as pd\n",
    "\n",
    "# You may need to change the path\n",
    "train = pd.read_csv('./data/train.csv')\n",
    "test = pd.read_csv('./data/test.csv')"
   ]
  },
  {
   "cell_type": "code",
   "execution_count": 2,
   "metadata": {},
   "outputs": [
    {
     "output_type": "execute_result",
     "data": {
      "text/plain": [
       "1    2881\n",
       "0    1141\n",
       "2      65\n",
       "Name: ratingCategory, dtype: int64"
      ]
     },
     "metadata": {},
     "execution_count": 2
    }
   ],
   "source": [
    "train.ratingCategory.value_counts()"
   ]
  },
  {
   "cell_type": "code",
   "execution_count": null,
   "metadata": {},
   "outputs": [],
   "source": []
  },
  {
   "cell_type": "code",
   "execution_count": 3,
   "metadata": {},
   "outputs": [
    {
     "output_type": "execute_result",
     "data": {
      "text/plain": [
       "     id                                        description  ratingCategory\n",
       "0  1321  \\nSometimes, when whisky is batched, a few lef...               1\n",
       "1  3861  \\nAn uncommon exclusive bottling of a 6 year o...               0\n",
       "2   655  \\nThis release is a port version of Amrut’s In...               1\n",
       "3   555  \\nThis 41 year old single cask was aged in a s...               1\n",
       "4  1965  \\nQuite herbal on the nose, with aromas of dri...               1"
      ],
      "text/html": "<div>\n<style scoped>\n    .dataframe tbody tr th:only-of-type {\n        vertical-align: middle;\n    }\n\n    .dataframe tbody tr th {\n        vertical-align: top;\n    }\n\n    .dataframe thead th {\n        text-align: right;\n    }\n</style>\n<table border=\"1\" class=\"dataframe\">\n  <thead>\n    <tr style=\"text-align: right;\">\n      <th></th>\n      <th>id</th>\n      <th>description</th>\n      <th>ratingCategory</th>\n    </tr>\n  </thead>\n  <tbody>\n    <tr>\n      <th>0</th>\n      <td>1321</td>\n      <td>\\nSometimes, when whisky is batched, a few lef...</td>\n      <td>1</td>\n    </tr>\n    <tr>\n      <th>1</th>\n      <td>3861</td>\n      <td>\\nAn uncommon exclusive bottling of a 6 year o...</td>\n      <td>0</td>\n    </tr>\n    <tr>\n      <th>2</th>\n      <td>655</td>\n      <td>\\nThis release is a port version of Amrut’s In...</td>\n      <td>1</td>\n    </tr>\n    <tr>\n      <th>3</th>\n      <td>555</td>\n      <td>\\nThis 41 year old single cask was aged in a s...</td>\n      <td>1</td>\n    </tr>\n    <tr>\n      <th>4</th>\n      <td>1965</td>\n      <td>\\nQuite herbal on the nose, with aromas of dri...</td>\n      <td>1</td>\n    </tr>\n  </tbody>\n</table>\n</div>"
     },
     "metadata": {},
     "execution_count": 3
    }
   ],
   "source": [
    "train.head()"
   ]
  },
  {
   "cell_type": "code",
   "execution_count": null,
   "metadata": {},
   "outputs": [],
   "source": []
  },
  {
   "cell_type": "markdown",
   "metadata": {},
   "source": [
    "### Define Pipeline Components"
   ]
  },
  {
   "cell_type": "code",
   "execution_count": 22,
   "metadata": {},
   "outputs": [],
   "source": [
    "from sklearn.feature_extraction.text import TfidfVectorizer\n",
    "from sklearn.svm import LinearSVC\n",
    "from sklearn.pipeline import Pipeline\n",
    "from sklearn.ensemble import RandomForestClassifier\n",
    "from sklearn.model_selection import GridSearchCV, RandomizedSearchCV\n",
    "\n",
    "vect = TfidfVectorizer(stop_words='english',\n",
    "                       ngram_range=(1,2),\n",
    "                       min_df=2,\n",
    "                       max_df=0.25)\n",
    "# clf = LinearSVC() # Linear Support Vector Classification\n",
    "clf = RandomForestClassifier(n_jobs=-1,\n",
    "                             random_state=42,\n",
    "                             verbose=1) # Linear Support Vector Classification\n",
    "\n",
    "\n",
    "pipe = Pipeline([('vect', vect), ('clf', clf)]) # First vectorize the data and then classify it similar to random forest"
   ]
  },
  {
   "cell_type": "markdown",
   "metadata": {},
   "source": [
    "### Define Your Search Space\n",
    "You're looking for both the best hyperparameters of your vectorizer and your classification model. "
   ]
  },
  {
   "cell_type": "code",
   "execution_count": 15,
   "metadata": {},
   "outputs": [
    {
     "output_type": "stream",
     "name": "stdout",
     "text": [
      "Fitting 5 folds for each of 8 candidates, totalling 40 fits\n",
      "[Parallel(n_jobs=-1)]: Using backend LokyBackend with 20 concurrent workers.\n",
      "[Parallel(n_jobs=-1)]: Done  40 out of  40 | elapsed:    6.1s finished\n",
      "[Parallel(n_jobs=-1)]: Using backend ThreadingBackend with 20 concurrent workers.\n",
      "[Parallel(n_jobs=-1)]: Done  10 tasks      | elapsed:    0.0s\n",
      "[Parallel(n_jobs=-1)]: Done 100 out of 100 | elapsed:    0.1s finished\n"
     ]
    },
    {
     "output_type": "execute_result",
     "data": {
      "text/plain": [
       "GridSearchCV(cv=5, error_score=nan,\n",
       "             estimator=Pipeline(memory=None,\n",
       "                                steps=[('vect',\n",
       "                                        TfidfVectorizer(analyzer='word',\n",
       "                                                        binary=False,\n",
       "                                                        decode_error='strict',\n",
       "                                                        dtype=<class 'numpy.float64'>,\n",
       "                                                        encoding='utf-8',\n",
       "                                                        input='content',\n",
       "                                                        lowercase=True,\n",
       "                                                        max_df=0.25,\n",
       "                                                        max_features=None,\n",
       "                                                        min_df=2,\n",
       "                                                        ngram_range=(1, 2),\n",
       "                                                        norm='l2',\n",
       "                                                        preprocessor=None,\n",
       "                                                        smooth_idf=True,\n",
       "                                                        stop_words='english',\n",
       "                                                        stri...\n",
       "                                                               min_samples_leaf=1,\n",
       "                                                               min_samples_split=2,\n",
       "                                                               min_weight_fraction_leaf=0.0,\n",
       "                                                               n_estimators=100,\n",
       "                                                               n_jobs=-1,\n",
       "                                                               oob_score=False,\n",
       "                                                               random_state=42,\n",
       "                                                               verbose=1,\n",
       "                                                               warm_start=False))],\n",
       "                                verbose=False),\n",
       "             iid='deprecated', n_jobs=-1,\n",
       "             param_grid={'clf__max_depth': (5, 10, 15, 20),\n",
       "                         'vect__max_df': (0.75, 1.0)},\n",
       "             pre_dispatch='2*n_jobs', refit=True, return_train_score=False,\n",
       "             scoring=None, verbose=1)"
      ]
     },
     "metadata": {},
     "execution_count": 15
    }
   ],
   "source": [
    "parameters = {\n",
    "    'vect__max_df': (0.75, 1.0),\n",
    "    'clf__max_depth':(5,10,15,20)\n",
    "}\n",
    "\n",
    "grid_search = GridSearchCV(pipe,parameters, cv=5, n_jobs=-1, verbose=1)\n",
    "grid_search.fit(train.description, train.ratingCategory)"
   ]
  },
  {
   "source": [
    "## Using RandomizedSearchCV Now"
   ],
   "cell_type": "markdown",
   "metadata": {}
  },
  {
   "cell_type": "code",
   "execution_count": 26,
   "metadata": {},
   "outputs": [
    {
     "output_type": "stream",
     "name": "stderr",
     "text": [
      "/Users/rob/opt/anaconda3/envs/U4-S1-NLP/lib/python3.7/site-packages/sklearn/model_selection/_search.py:281: UserWarning: The total space of parameters 8 is smaller than n_iter=100. Running 8 iterations. For exhaustive searches, use GridSearchCV.\n",
      "  % (grid_size, self.n_iter, grid_size), UserWarning)\n",
      "[Parallel(n_jobs=-1)]: Using backend LokyBackend with 20 concurrent workers.\n",
      "Fitting 5 folds for each of 8 candidates, totalling 40 fits\n",
      "[Parallel(n_jobs=-1)]: Done  40 out of  40 | elapsed:    4.8s finished\n",
      "[Parallel(n_jobs=-1)]: Using backend ThreadingBackend with 20 concurrent workers.\n",
      "[Parallel(n_jobs=-1)]: Done  10 tasks      | elapsed:    0.0s\n",
      "[Parallel(n_jobs=-1)]: Done 100 out of 100 | elapsed:    0.1s finished\n"
     ]
    },
    {
     "output_type": "execute_result",
     "data": {
      "text/plain": [
       "RandomizedSearchCV(cv=5, error_score=nan,\n",
       "                   estimator=Pipeline(memory=None,\n",
       "                                      steps=[('vect',\n",
       "                                              TfidfVectorizer(analyzer='word',\n",
       "                                                              binary=False,\n",
       "                                                              decode_error='strict',\n",
       "                                                              dtype=<class 'numpy.float64'>,\n",
       "                                                              encoding='utf-8',\n",
       "                                                              input='content',\n",
       "                                                              lowercase=True,\n",
       "                                                              max_df=0.25,\n",
       "                                                              max_features=None,\n",
       "                                                              min_df=2,\n",
       "                                                              ngram_range=(1,\n",
       "                                                                           2),\n",
       "                                                              norm='l2',\n",
       "                                                              preprocessor=None,\n",
       "                                                              smooth_idf=True,\n",
       "                                                              stop_words='english...\n",
       "                                                                     min_weight_fraction_leaf=0.0,\n",
       "                                                                     n_estimators=100,\n",
       "                                                                     n_jobs=-1,\n",
       "                                                                     oob_score=False,\n",
       "                                                                     random_state=42,\n",
       "                                                                     verbose=1,\n",
       "                                                                     warm_start=False))],\n",
       "                                      verbose=False),\n",
       "                   iid='deprecated', n_iter=100, n_jobs=-1,\n",
       "                   param_distributions={'clf__max_depth': (5, 10, 15, 20),\n",
       "                                        'vect__max_df': (0.75, 1.0)},\n",
       "                   pre_dispatch='2*n_jobs', random_state=None, refit=True,\n",
       "                   return_train_score=False, scoring=None, verbose=1)"
      ]
     },
     "metadata": {},
     "execution_count": 26
    }
   ],
   "source": [
    "randomized_searchCV = RandomizedSearchCV(pipe,parameters, n_jobs=-1, verbose=1, cv=5, n_iter=100)\n",
    "randomized_searchCV.fit(train.description, train.ratingCategory)"
   ]
  },
  {
   "cell_type": "markdown",
   "metadata": {},
   "source": [
    "### Make a Submission File\n",
    "*Note:* In a typical Kaggle competition, you are only allowed two submissions a day, so you only submit if you feel you cannot achieve higher test accuracy. For this competition the max daily submissions are capped at **20**. Submit for each demo and for your assignment. "
   ]
  },
  {
   "cell_type": "code",
   "execution_count": 32,
   "metadata": {},
   "outputs": [
    {
     "output_type": "stream",
     "name": "stderr",
     "text": [
      "[Parallel(n_jobs=20)]: Using backend ThreadingBackend with 20 concurrent workers.\n[Parallel(n_jobs=20)]: Done  10 tasks      | elapsed:    0.0s\n[Parallel(n_jobs=20)]: Done 100 out of 100 | elapsed:    0.0s finished\n"
     ]
    }
   ],
   "source": [
    "# Predictions on test sample\n",
    "pred = randomized_searchCV.predict(test['description'])"
   ]
  },
  {
   "cell_type": "code",
   "execution_count": 33,
   "metadata": {},
   "outputs": [],
   "source": [
    "submission = pd.DataFrame({'id': test['id'], 'ratingCategory':pred})\n",
    "submission['ratingCategory'] = submission['ratingCategory'].astype('int64')"
   ]
  },
  {
   "cell_type": "code",
   "execution_count": 34,
   "metadata": {},
   "outputs": [
    {
     "output_type": "execute_result",
     "data": {
      "text/plain": [
       "     id  ratingCategory\n",
       "0  3461               1\n",
       "1  2604               1\n",
       "2  3341               1\n",
       "3  3764               1\n",
       "4  2306               1"
      ],
      "text/html": "<div>\n<style scoped>\n    .dataframe tbody tr th:only-of-type {\n        vertical-align: middle;\n    }\n\n    .dataframe tbody tr th {\n        vertical-align: top;\n    }\n\n    .dataframe thead th {\n        text-align: right;\n    }\n</style>\n<table border=\"1\" class=\"dataframe\">\n  <thead>\n    <tr style=\"text-align: right;\">\n      <th></th>\n      <th>id</th>\n      <th>ratingCategory</th>\n    </tr>\n  </thead>\n  <tbody>\n    <tr>\n      <th>0</th>\n      <td>3461</td>\n      <td>1</td>\n    </tr>\n    <tr>\n      <th>1</th>\n      <td>2604</td>\n      <td>1</td>\n    </tr>\n    <tr>\n      <th>2</th>\n      <td>3341</td>\n      <td>1</td>\n    </tr>\n    <tr>\n      <th>3</th>\n      <td>3764</td>\n      <td>1</td>\n    </tr>\n    <tr>\n      <th>4</th>\n      <td>2306</td>\n      <td>1</td>\n    </tr>\n  </tbody>\n</table>\n</div>"
     },
     "metadata": {},
     "execution_count": 34
    }
   ],
   "source": [
    "# Make Sure the Category is an Integer\n",
    "submission.head()"
   ]
  },
  {
   "cell_type": "code",
   "execution_count": 35,
   "metadata": {},
   "outputs": [
    {
     "output_type": "execute_result",
     "data": {
      "text/plain": [
       "1    1007\n",
       "0      15\n",
       "Name: ratingCategory, dtype: int64"
      ]
     },
     "metadata": {},
     "execution_count": 35
    }
   ],
   "source": [
    "submission.ratingCategory.value_counts()"
   ]
  },
  {
   "cell_type": "code",
   "execution_count": 20,
   "metadata": {},
   "outputs": [],
   "source": [
    "subNumber = 0"
   ]
  },
  {
   "cell_type": "code",
   "execution_count": 36,
   "metadata": {},
   "outputs": [],
   "source": [
    "# Save your Submission File\n",
    "# Best to Use an Integer or Timestamp for different versions of your model\n",
    "\n",
    "submission.to_csv(f'./data/submission{subNumber}.csv', index=False)\n",
    "subNumber += 1"
   ]
  },
  {
   "cell_type": "markdown",
   "metadata": {},
   "source": [
    "## Challenge\n",
    "\n",
    "You're trying to achieve a minimum of 80% Accuracy on your model."
   ]
  },
  {
   "cell_type": "markdown",
   "metadata": {},
   "source": [
    "## Latent Semantic Indexing (Learn)\n",
    "<a id=\"p2\"></a>"
   ]
  },
  {
   "cell_type": "markdown",
   "metadata": {
    "toc-hr-collapsed": true
   },
   "source": [
    "## Follow Along\n",
    "1. Join the Kaggle Competition\n",
    "2. Download the data\n",
    "3. Train a model & try: \n",
    "    - Creating a Text Extraction & Classification Pipeline\n",
    "    - Tune the pipeline with a `GridSearchCV` or `RandomizedSearchCV`\n",
    "    - Add some Latent Semantic Indexing (lsi) into your pipeline. *Note:* You can grid search a nested pipeline, but you have to use double underscores ie `lsi__svd__n_components`\n",
    "4. Make a submission to Kaggle \n"
   ]
  },
  {
   "cell_type": "markdown",
   "metadata": {},
   "source": [
    "### Define Pipeline Components"
   ]
  },
  {
   "cell_type": "code",
   "execution_count": 50,
   "metadata": {},
   "outputs": [
    {
     "output_type": "execute_result",
     "data": {
      "text/plain": [
       "Pipeline(memory=None,\n",
       "         steps=[('lsi',\n",
       "                 Pipeline(memory=None,\n",
       "                          steps=[('vect',\n",
       "                                  TfidfVectorizer(analyzer='word', binary=False,\n",
       "                                                  decode_error='strict',\n",
       "                                                  dtype=<class 'numpy.float64'>,\n",
       "                                                  encoding='utf-8',\n",
       "                                                  input='content',\n",
       "                                                  lowercase=True, max_df=0.25,\n",
       "                                                  max_features=None, min_df=2,\n",
       "                                                  ngram_range=(1, 2), norm='l2',\n",
       "                                                  preprocessor=None,\n",
       "                                                  smooth_idf=True,\n",
       "                                                  stop_words='english',\n",
       "                                                  strip_accents...\n",
       "                                                  tokenizer=None, use_idf=True,\n",
       "                                                  vocabulary=None)),\n",
       "                                 ('svd',\n",
       "                                  TruncatedSVD(algorithm='randomized',\n",
       "                                               n_components=2, n_iter=10,\n",
       "                                               random_state=42, tol=0.0))],\n",
       "                          verbose=False)),\n",
       "                ('clf',\n",
       "                 LinearSVC(C=0.5, class_weight=None, dual=True,\n",
       "                           fit_intercept=True, intercept_scaling=1,\n",
       "                           loss='squared_hinge', max_iter=1000,\n",
       "                           multi_class='ovr', penalty='l2', random_state=None,\n",
       "                           tol=0.0001, verbose=0))],\n",
       "         verbose=False)"
      ]
     },
     "metadata": {},
     "execution_count": 50
    }
   ],
   "source": [
    "from sklearn.decomposition import TruncatedSVD\n",
    "\n",
    "svd = TruncatedSVD(n_components=2, algorithm='randomized', n_iter=10, random_state=42) # Latent Semantic Indexing or Single Value Decomposition\n",
    "\n",
    "vect = TfidfVectorizer(stop_words='english',\n",
    "                       ngram_range=(1,2),\n",
    "                       min_df=2,\n",
    "                       max_df=0.25)\n",
    "\n",
    "lsi = Pipeline([('vect', vect), ('svd', svd)])\n",
    "# clf = LinearSVC() # Linear Support Vector Classification\n",
    "# clf = RandomForestClassifier(n_jobs=-1,\n",
    "#                              random_state=42,\n",
    "#                              verbose=1) # Linear Support Vector Classification\n",
    "clf = LinearSVC(C=0.5, penalty='l2') # Linear Support Vector Classification\n",
    "\n",
    "pipe = Pipeline([('lsi', lsi), ('clf', clf)])\n",
    "pipe"
   ]
  },
  {
   "cell_type": "markdown",
   "metadata": {},
   "source": [
    "### Define Your Search Space\n",
    "You're looking for both the best hyperparameters of your vectorizer and your classification model. "
   ]
  },
  {
   "cell_type": "code",
   "execution_count": 51,
   "metadata": {},
   "outputs": [
    {
     "output_type": "stream",
     "name": "stdout",
     "text": [
      "Fitting 5 folds for each of 24 candidates, totalling 120 fits\n",
      "[Parallel(n_jobs=-1)]: Using backend LokyBackend with 20 concurrent workers.\n",
      "[Parallel(n_jobs=-1)]: Done  10 tasks      | elapsed:    4.8s\n",
      "[Parallel(n_jobs=-1)]: Done 120 out of 120 | elapsed:  2.2min finished\n"
     ]
    },
    {
     "output_type": "execute_result",
     "data": {
      "text/plain": [
       "GridSearchCV(cv=5, error_score=nan,\n",
       "             estimator=Pipeline(memory=None,\n",
       "                                steps=[('lsi',\n",
       "                                        Pipeline(memory=None,\n",
       "                                                 steps=[('vect',\n",
       "                                                         TfidfVectorizer(analyzer='word',\n",
       "                                                                         binary=False,\n",
       "                                                                         decode_error='strict',\n",
       "                                                                         dtype=<class 'numpy.float64'>,\n",
       "                                                                         encoding='utf-8',\n",
       "                                                                         input='content',\n",
       "                                                                         lowercase=True,\n",
       "                                                                         max_df=0.25,\n",
       "                                                                         max_features=None,\n",
       "                                                                         min_df=2,\n",
       "                                                                         ngram_range=(1,\n",
       "                                                                                      2),\n",
       "                                                                         norm='l2',\n",
       "                                                                         preprocessor=None,\n",
       "                                                                         smooth...\n",
       "                                                  loss='squared_hinge',\n",
       "                                                  max_iter=1000,\n",
       "                                                  multi_class='ovr',\n",
       "                                                  penalty='l2',\n",
       "                                                  random_state=None, tol=0.0001,\n",
       "                                                  verbose=0))],\n",
       "                                verbose=False),\n",
       "             iid='deprecated', n_jobs=-1,\n",
       "             param_grid={'clf__C': (0.1, 0.5), 'clf__penalty': ('l1', 'l2'),\n",
       "                         'lsi__svd__n_components': [10, 100, 250],\n",
       "                         'lsi__vect__max_df': (0.75, 1.0)},\n",
       "             pre_dispatch='2*n_jobs', refit=True, return_train_score=False,\n",
       "             scoring=None, verbose=1)"
      ]
     },
     "metadata": {},
     "execution_count": 51
    }
   ],
   "source": [
    "parameters = {\n",
    "    'lsi__svd__n_components': [10,100,250],\n",
    "    'lsi__vect__max_df': (0.75, 1.0),\n",
    "    'clf__C': (0.1, 0.5),\n",
    "    'clf__penalty': ('l1','l2')\n",
    "}\n",
    "\n",
    "grid_search = GridSearchCV(pipe,parameters, cv=5, n_jobs=-1, verbose=1)\n",
    "grid_search.fit(train.description, train.ratingCategory)"
   ]
  },
  {
   "cell_type": "markdown",
   "metadata": {},
   "source": [
    "### Make a Submission File"
   ]
  },
  {
   "cell_type": "code",
   "execution_count": 52,
   "metadata": {},
   "outputs": [],
   "source": [
    "# Predictions on test sample\n",
    "pred = grid_search.predict(test['description'])"
   ]
  },
  {
   "cell_type": "code",
   "execution_count": 53,
   "metadata": {},
   "outputs": [],
   "source": [
    "submission = pd.DataFrame({'id': test['id'], 'ratingCategory':pred})\n",
    "submission['ratingCategory'] = submission['ratingCategory'].astype('int64')"
   ]
  },
  {
   "cell_type": "code",
   "execution_count": 54,
   "metadata": {},
   "outputs": [
    {
     "output_type": "execute_result",
     "data": {
      "text/plain": [
       "     id  ratingCategory\n",
       "0  3461               1\n",
       "1  2604               1\n",
       "2  3341               1\n",
       "3  3764               1\n",
       "4  2306               1"
      ],
      "text/html": "<div>\n<style scoped>\n    .dataframe tbody tr th:only-of-type {\n        vertical-align: middle;\n    }\n\n    .dataframe tbody tr th {\n        vertical-align: top;\n    }\n\n    .dataframe thead th {\n        text-align: right;\n    }\n</style>\n<table border=\"1\" class=\"dataframe\">\n  <thead>\n    <tr style=\"text-align: right;\">\n      <th></th>\n      <th>id</th>\n      <th>ratingCategory</th>\n    </tr>\n  </thead>\n  <tbody>\n    <tr>\n      <th>0</th>\n      <td>3461</td>\n      <td>1</td>\n    </tr>\n    <tr>\n      <th>1</th>\n      <td>2604</td>\n      <td>1</td>\n    </tr>\n    <tr>\n      <th>2</th>\n      <td>3341</td>\n      <td>1</td>\n    </tr>\n    <tr>\n      <th>3</th>\n      <td>3764</td>\n      <td>1</td>\n    </tr>\n    <tr>\n      <th>4</th>\n      <td>2306</td>\n      <td>1</td>\n    </tr>\n  </tbody>\n</table>\n</div>"
     },
     "metadata": {},
     "execution_count": 54
    }
   ],
   "source": [
    "# Make Sure the Category is an Integer\n",
    "submission.head()"
   ]
  },
  {
   "cell_type": "code",
   "execution_count": 55,
   "metadata": {},
   "outputs": [
    {
     "output_type": "execute_result",
     "data": {
      "text/plain": [
       "1    895\n",
       "0    127\n",
       "Name: ratingCategory, dtype: int64"
      ]
     },
     "metadata": {},
     "execution_count": 55
    }
   ],
   "source": [
    "submission.ratingCategory.value_counts()"
   ]
  },
  {
   "cell_type": "code",
   "execution_count": 56,
   "metadata": {},
   "outputs": [],
   "source": [
    "# Save your Submission File\n",
    "# Best to Use an Integer or Timestamp for different versions of your model\n",
    "\n",
    "submission.to_csv(f'./data/submission{subNumber}.csv', index=False)\n",
    "subNumber += 1"
   ]
  },
  {
   "cell_type": "markdown",
   "metadata": {},
   "source": [
    "## Challenge\n",
    "\n",
    "Continue to apply Latent Semantic Indexing (LSI) to various datasets. "
   ]
  },
  {
   "cell_type": "markdown",
   "metadata": {},
   "source": [
    "# Word Embeddings with Spacy (Learn)\n",
    "<a id=\"p3\"></a>"
   ]
  },
  {
   "cell_type": "markdown",
   "metadata": {},
   "source": [
    "## Follow Along"
   ]
  },
  {
   "cell_type": "code",
   "execution_count": 58,
   "metadata": {},
   "outputs": [],
   "source": [
    "# Apply to your Dataset\n",
    "\n",
    "from sklearn.model_selection import RandomizedSearchCV\n",
    "from sklearn.ensemble import GradientBoostingClassifier\n",
    "import spacy\n",
    "\n",
    "from scipy.stats import randint\n",
    "\n",
    "param_dist = {\n",
    "    \n",
    "    'max_depth' : randint(3,10),\n",
    "    'min_samples_leaf': randint(2,15)\n",
    "}\n",
    "\n",
    "nlp = spacy.load('en_core_web_md')"
   ]
  },
  {
   "cell_type": "code",
   "execution_count": 60,
   "metadata": {},
   "outputs": [
    {
     "output_type": "execute_result",
     "data": {
      "text/plain": [
       "009404e-01,  7.28200227e-02, -9.32652950e-02,  2.59151906e-02,\n",
       "        -1.29636809e-01, -3.61423455e-02, -3.40910889e-02, -7.90156871e-02,\n",
       "        -5.95584325e-02, -8.37172102e-03, -1.16994698e-02,  3.40520330e-02,\n",
       "        -7.58568347e-02, -1.73330873e-01,  6.62418157e-02, -1.38810128e-01,\n",
       "         9.73456874e-02, -1.10896071e-03,  9.26513076e-02,  2.28492580e-02,\n",
       "         6.01781905e-02, -2.67910045e-02, -7.87620246e-02,  6.90619275e-03,\n",
       "         1.29252197e-02, -1.13729283e-01,  4.00023982e-02, -1.12288855e-01,\n",
       "        -4.60671000e-02, -1.18340746e-01, -6.82902262e-02, -1.09687023e-01,\n",
       "        -6.08449318e-02, -2.64737234e-02, -4.59848158e-02,  4.31203581e-02,\n",
       "         2.20451951e-02, -6.37698695e-02, -4.97988313e-02,  1.64611023e-02,\n",
       "        -6.92388266e-02,  3.54065634e-02,  3.71085666e-02,  6.71951175e-02,\n",
       "        -2.22293343e-02, -6.56967685e-02, -5.30965589e-02,  7.96928927e-02,\n",
       "        -8.35288465e-02,  3.10131181e-02, -1.94478884e-01, -4.01238762e-02,\n",
       "         1.30171642e-01,  6.47391379e-02,  6.52265251e-02,  4.04607542e-02,\n",
       "         5.74464090e-02,  8.55215173e-03, -1.51672006e-01, -4.44475636e-02,\n",
       "        -2.87686195e-02, -1.47696808e-01,  4.89747748e-02,  2.04908818e-01,\n",
       "        -2.21397486e-02,  3.74037027e-02, -1.39840782e-01,  1.18387882e-02,\n",
       "        -4.54880446e-02,  4.31022719e-02, -1.52517958e-02,  5.67011647e-02,\n",
       "         7.10276738e-02, -4.52436246e-02,  3.39958409e-04,  1.20783769e-01,\n",
       "        -4.30712616e-03,  8.53279531e-02, -6.27344996e-02,  4.20927592e-02,\n",
       "         4.60127788e-03,  6.31598085e-02, -8.16129074e-02, -2.69617308e-02,\n",
       "        -5.97348548e-02, -1.42430872e-01, -2.99176965e-02,  5.90075478e-02,\n",
       "         3.06488536e-02, -1.71199965e-03, -5.01758084e-02, -4.76514846e-02,\n",
       "         2.54236292e-02,  3.33772823e-02, -8.55836198e-02, -1.88154191e-01,\n",
       "        -4.61261049e-02,  9.11350921e-02,  1.70901082e-02, -4.66010496e-02,\n",
       "        -5.94962435e-03,  9.98311397e-03, -3.10438871e-02,  2.77271479e-01,\n",
       "         1.81850687e-01, -1.14236407e-01, -1.27203958e-02,  1.14953168e-01,\n",
       "         8.68909713e-03,  6.20779954e-02,  4.35835682e-02,  2.72872541e-02,\n",
       "         3.20101269e-02, -4.95628379e-02, -4.43441421e-02, -5.61616085e-02,\n",
       "         1.95586026e-01,  1.35556832e-02,  7.88118690e-02, -1.65250292e-03,\n",
       "        -4.74442989e-02, -2.02968419e-01, -1.16454519e-01, -1.12914955e-02,\n",
       "        -1.32569438e-02,  4.98238057e-02,  6.29385235e-03,  2.44528159e-01,\n",
       "         2.11412072e-01,  2.14413367e-02,  5.34163192e-02, -1.19678706e-01,\n",
       "        -8.66124555e-02, -1.43248141e-02,  1.43807858e-01, -6.26814216e-02,\n",
       "         1.26397625e-01, -1.32456403e-02, -1.40613198e-01,  6.30398840e-02,\n",
       "        -1.57758258e-02, -1.10830352e-01, -1.05253696e-01,  5.98448776e-02,\n",
       "        -2.90473625e-02, -1.12494603e-01, -4.94960248e-02,  4.22623903e-02],\n",
       "       dtype=float32),\n",
       " array([-1.13206413e-02,  1.39405310e-01, -8.48306417e-02, -8.32741261e-02,\n",
       "         2.63048932e-02,  9.23768058e-03, -1.99908274e-03, -7.90590495e-02,\n",
       "        -4.27310541e-02,  1.87739277e+00, -1.28696024e-01, -1.94879211e-02,\n",
       "        -7.11501092e-02, -8.56302679e-02, -1.65363446e-01, -9.46246460e-02,\n",
       "        -2.48180032e-02,  1.03630149e+00, -9.98172238e-02, -4.11774926e-02,\n",
       "        -3.50956693e-02,  2.47389246e-02, -7.01858029e-02, -2.68533304e-02,\n",
       "         4.35329974e-03, -4.81425412e-02, -3.48500125e-02,  2.80315354e-02,\n",
       "         9.09689963e-02, -1.48049235e-01, -1.84797999e-02,  6.00237660e-02,\n",
       "        -9.88199785e-02,  3.82714602e-03,  1.40631974e-01, -5.00187911e-02,\n",
       "         3.28264534e-02,  2.82382146e-02, -1.84061583e-02, -3.65913361e-02,\n",
       "         3.01278923e-02,  5.17024361e-02,  2.97330096e-02, -1.07377842e-01,\n",
       "         9.29561406e-02,  5.64394258e-02, -1.50116906e-01, -5.91867566e-02,\n",
       "        -1.93129014e-03,  4.20692042e-02,  5.59064467e-03,  6.23049997e-02,\n",
       "        -5.13643138e-02,  6.99281618e-02,  7.40579739e-02, -6.40920876e-03,\n",
       "        -1.57569405e-02, -6.38481528e-02, -7.54054170e-03, -4.41040397e-02,\n",
       "         2.61953641e-02,  4.78930213e-02, -2.62091942e-02,  1.24382764e-01,\n",
       "        -4.68010306e-02, -1.11887984e-01,  1.87587291e-02, -3.90187502e-02,\n",
       "        -6.20692000e-02,  1.47660628e-01, -1.10887391e-02,  8.09847564e-02,\n",
       "         1.42639846e-01,  9.68352135e-04,  2.32657455e-02,  4.42203879e-02,\n",
       "         6.03292473e-02, -4.61573945e-03,  1.59050617e-02,  4.48362343e-02,\n",
       "        -7.67817274e-02,  4.38221097e-02, -4.12398130e-02, -3.69891524e-02,\n",
       "        -8.14811233e-03, -2.95542359e-01,  1.21570341e-01,  1.72307283e-01,\n",
       "         1.10402346e-01,  1.21805437e-01, -3.68768559e-03,  5.52248321e-02,\n",
       "         7.02242479e-02,  3.78485844e-02,  7.54194483e-02, -2.13968437e-02,\n",
       "        -3.20359319e-02, -4.22994234e-03, -8.38271305e-02, -7.55868480e-02,\n",
       "         4.65660691e-02,  7.83588365e-03, -1.58867940e-01, -6.70879558e-02,\n",
       "        -4.21345644e-02, -6.57618046e-01,  6.79549873e-02,  6.39282018e-02,\n",
       "         5.40490933e-02, -8.45817551e-02,  1.12207895e-02, -1.07123993e-01,\n",
       "        -7.98887573e-03, -1.28928602e-01, -9.31785926e-02,  2.83903442e-02,\n",
       "         3.98994014e-02,  2.65079103e-02, -2.40037334e-03, -2.13173442e-02,\n",
       "         4.28969190e-02, -3.97583563e-03, -7.18365535e-02, -6.17291406e-02,\n",
       "        -1.21286280e-01,  6.69382885e-02, -4.63999920e-02, -5.66848777e-02,\n",
       "         2.86167115e-02, -5.37332846e-03, -3.71592045e-02, -1.11132830e-01,\n",
       "         1.14933783e-02,  5.62741794e-02,  4.31300588e-02,  2.15566382e-02,\n",
       "        -1.45342397e-02,  1.92075763e-02,  1.06598288e-02, -5.05461078e-03,\n",
       "        -1.21259069e+00,  1.72338709e-01,  1.64647147e-01,  2.80735549e-02,\n",
       "        -2.03285217e-02, -5.71109820e-03, -3.83077115e-02,  4.88704741e-02,\n",
       "         1.23758249e-01, -6.43299818e-02,  1.39242020e-02, -1.05539355e-02,\n",
       "         1.61878496e-01,  1.15911514e-01, -9.99822095e-02,  4.77665290e-02,\n",
       "        -1.16714746e-01, -2.34305318e-02,  3.00733885e-03, -1.93857923e-02,\n",
       "        -2.90600695e-02,  6.78834096e-02, -8.45440254e-02,  1.08114570e-01,\n",
       "        -6.84943572e-02, -1.58467218e-01,  7.70323351e-02, -8.66705626e-02,\n",
       "         7.51552284e-02,  3.73701565e-02,  4.40626144e-02,  2.36751083e-02,\n",
       "         2.31195278e-02, -2.67213322e-02, -1.28552005e-01,  7.78032318e-02,\n",
       "         2.81249806e-02, -1.06725574e-01,  2.69068182e-02, -1.52890220e-01,\n",
       "         1.05088027e-02, -1.03605792e-01, -8.31081644e-02, -7.07455501e-02,\n",
       "         2.01957729e-02, -3.76677774e-02, -2.94445865e-02,  7.12293619e-03,\n",
       "         6.21720478e-02, -3.04147899e-02, -7.76340365e-02,  2.73144264e-02,\n",
       "        -8.01225975e-02,  9.54386294e-02,  1.65780336e-02,  9.88017693e-02,\n",
       "         1.42370267e-02, -3.61417718e-02, -1.21991269e-01,  4.41234000e-02,\n",
       "        -6.20899089e-02, -1.91999953e-02, -1.23744316e-01, -1.19030410e-02,\n",
       "         1.30511060e-01,  6.34025633e-02,  7.21218660e-02, -1.09442547e-02,\n",
       "         6.30964618e-03, -5.45527972e-02, -1.43678173e-01, -8.95623341e-02,\n",
       "        -2.79250424e-02, -9.28629488e-02,  7.09414035e-02,  1.52292237e-01,\n",
       "        -2.56909560e-02,  2.53136493e-02, -6.35802895e-02, -1.58756226e-02,\n",
       "        -1.73124147e-03,  4.17409502e-02,  7.43522635e-03,  4.77185734e-02,\n",
       "        -9.46749654e-03, -8.37428421e-02, -3.26489136e-02,  1.37671605e-01,\n",
       "        -1.90263614e-02,  1.31043658e-01, -2.25912780e-02,  2.12598592e-02,\n",
       "        -7.04871044e-02,  4.48946059e-02, -8.28864574e-02, -2.63410136e-02,\n",
       "        -6.82496512e-03, -1.33403242e-01, -9.93456133e-03,  6.14864752e-02,\n",
       "         2.17725746e-02,  1.69973448e-02, -4.08801921e-02, -9.03560966e-02,\n",
       "         4.74603586e-02, -6.88463775e-03, -9.44112390e-02, -1.55004665e-01,\n",
       "        -6.20795824e-02,  7.59036690e-02,  2.11256626e-03, -8.08515027e-02,\n",
       "         1.27186263e-02,  3.45996991e-02, -3.12224589e-02,  2.35317245e-01,\n",
       "         1.26553610e-01, -1.02308184e-01, -4.25401330e-02,  1.00556038e-01,\n",
       "         3.77239212e-02,  3.82544436e-02,  6.39758259e-02,  2.40529329e-02,\n",
       "         8.36597234e-02, -4.89849485e-02, -2.33965311e-02, -3.07850763e-02,\n",
       "         1.19223788e-01,  1.48516074e-02, -7.19863968e-03, -2.38373801e-02,\n",
       "        -6.49964884e-02, -1.38870716e-01, -1.14480153e-01, -1.43505912e-02,\n",
       "        -1.32949455e-02,  5.84151521e-02,  6.23643026e-03,  1.74831554e-01,\n",
       "         2.26740614e-01, -1.64254978e-02,  2.84826215e-02, -4.85620499e-02,\n",
       "        -6.81777894e-02, -2.27691829e-02,  1.60941839e-01, -1.24651611e-01,\n",
       "         1.55925289e-01, -9.93222892e-02, -1.63250610e-01,  3.72301340e-02,\n",
       "         1.33685181e-02, -9.83190760e-02, -1.59498483e-01,  6.22949190e-02,\n",
       "         5.63181154e-02, -6.50617331e-02, -7.07603395e-02, -1.91331888e-03],\n",
       "       dtype=float32),\n",
       " array([-1.10696666e-02,  1.90490499e-01, -9.23087150e-02, -6.10997155e-02,\n",
       "         9.00894701e-02, -3.81484330e-02, -3.81412283e-02, -6.28655329e-02,\n",
       "         1.22248325e-02,  1.82085013e+00, -1.86435118e-01,  6.43791333e-02,\n",
       "        -2.00453736e-02, -9.90096182e-02, -4.25925516e-02, -8.45907703e-02,\n",
       "        -1.18878819e-02,  1.14701581e+00, -7.75404274e-02, -4.17165086e-02,\n",
       "        -5.25405072e-02, -2.29059961e-02,  6.49503991e-02,  4.53591347e-02,\n",
       "         4.70677577e-03, -3.33111547e-02, -2.92997323e-02, -2.61647701e-02,\n",
       "         5.97359724e-02, -7.92420655e-02,  4.24142405e-02,  7.85439909e-02,\n",
       "        -1.68693885e-02,  2.43954156e-02,  9.07711089e-02, -1.88359036e-03,\n",
       "        -1.11937979e-02,  1.20751308e-02,  3.32184732e-02, -2.29644086e-02,\n",
       "        -8.03558063e-03,  1.12809055e-01,  6.97309226e-02, -4.65703756e-02,\n",
       "         1.13006763e-01,  1.12803258e-01, -1.73268199e-01, -2.07987260e-02,\n",
       "        -1.76453236e-02,  1.30424080e-02, -4.93800081e-02,  5.55269569e-02,\n",
       "        -2.10074913e-02,  1.26154348e-02,  4.73550484e-02, -4.30042408e-02,\n",
       "        -6.11945661e-03, -4.91263643e-02, -2.29952596e-02, -1.23047158e-01,\n",
       "         3.69611979e-02, -8.62249285e-02,  1.62984375e-02,  2.78876156e-01,\n",
       "        -1.13784701e-01, -1.34182155e-01,  4.57232073e-02, -4.77951393e-02,\n",
       "        -5.92036173e-02,  1.97881281e-01,  8.20546299e-02,  1.13467820e-01,\n",
       "         6.64697662e-02,  4.49910611e-02,  6.36233657e-04,  8.72935727e-02,\n",
       "         4.44826819e-02,  2.64418833e-02, -8.69694650e-02,  7.47050643e-02,\n",
       "        -3.54064554e-02,  7.00977296e-02, -3.09688393e-02,  4.27228361e-02,\n",
       "         5.94720393e-02, -2.04071939e-01,  1.48948863e-01,  1.38922334e-01,\n",
       "         1.13987908e-01,  2.22586095e-02,  1.95718389e-02,  2.72775404e-02,\n",
       "         4.14295681e-02, -2.96024252e-02,  9.73145962e-02, -2.47485936e-02,\n",
       "         2.89721433e-02, -6.70323893e-02, -7.34087229e-02, -4.36522812e-02,\n",
       "         5.33747226e-02, -3.15111279e-02, -1.55613497e-01, -7.93285854e-03,\n",
       "        -3.16763185e-02, -5.10497034e-01,  1.06071562e-01,  1.82061177e-02,\n",
       "         1.65882230e-01, -7.66539574e-02, -2.92493403e-02, -1.02029085e-01,\n",
       "        -5.01809195e-02, -1.11170923e-02, -7.95104504e-02,  4.50887159e-02,\n",
       "        -6.57769060e-03,  2.42447648e-02,  4.63563129e-02,  4.40416597e-02,\n",
       "         1.04167156e-01,  3.46834399e-02, -6.67008013e-02, -3.11521962e-02,\n",
       "        -7.07296357e-02,  8.80509391e-02,  4.83382586e-03, -9.25194100e-02,\n",
       "         1.79781523e-02, -1.80649813e-02, -4.51880842e-02, -7.40202367e-02,\n",
       "        -3.58117893e-02,  7.21439719e-02,  3.01381052e-02, -5.32498234e-04,\n",
       "         2.88072601e-02,  2.12865863e-02,  1.76650166e-04, -2.83992849e-02,\n",
       "        -1.18442857e+00,  2.01468363e-01,  2.32905418e-01,  2.41484493e-02,\n",
       "        -6.07756898e-02, -8.59373286e-02, -4.30258587e-02,  3.65688466e-02,\n",
       "         1.38690621e-01, -6.06558248e-02,  1.31166326e-02, -4.84973378e-02,\n",
       "         1.70596302e-01,  1.46072149e-01, -1.11049749e-01, -1.33266263e-02,\n",
       "        -1.34934396e-01,  4.08699084e-03,  8.03660136e-03, -2.10678726e-02,\n",
       "        -4.28637713e-02,  1.21994078e-01, -4.40274626e-02, -5.18341139e-02,\n",
       "        -1.39822423e-01, -1.34160772e-01,  2.02391017e-02, -7.18269646e-02,\n",
       "         1.91552341e-01,  2.00658161e-02,  1.34339571e-01,  7.82599673e-03,\n",
       "         1.66570786e-02, -3.95577587e-02, -1.61868721e-01, -6.35737041e-03,\n",
       "        -1.91738587e-02, -1.41537547e-01,  3.98379751e-02, -1.25505731e-01,\n",
       "        -2.86667747e-03, -7.98747167e-02, -5.99480309e-02, -1.43010274e-01,\n",
       "        -3.54214199e-02, -6.36840984e-02,  1.40141137e-02,  2.50180773e-02,\n",
       "         5.51955868e-03, -4.47150879e-02, -5.49162142e-02, -4.74337675e-02,\n",
       "        -3.10638975e-02,  6.58905208e-02, -9.85905342e-03,  2.39936374e-02,\n",
       "        -1.05436677e-02, -6.41361699e-02, -1.34117380e-01,  6.73538521e-02,\n",
       "        -9.59521681e-02, -5.19996732e-02, -1.47735268e-01,  4.72881552e-03,\n",
       "         1.79254681e-01,  1.34913009e-02,  1.89821981e-02, -1.57638285e-02,\n",
       "         1.18563464e-02, -9.38552339e-03, -1.40624136e-01,  3.23650837e-02,\n",
       "        -4.78940345e-02, -1.79955110e-01,  1.99869275e-02,  1.81534186e-01,\n",
       "        -5.51642179e-02, -1.90871917e-02, -2.56329477e-02,  1.25863403e-01,\n",
       "        -6.97249323e-02,  2.64847893e-02, -3.25441808e-02,  4.73326631e-02,\n",
       "         8.89471322e-02, -1.09810077e-01, -2.05622297e-02,  1.39840677e-01,\n",
       "         8.93834513e-03,  1.77338123e-01, -9.66584086e-02, -3.45077813e-02,\n",
       "        -2.99460883e-03,  6.11230619e-02, -1.58277988e-01, -1.33719131e-01,\n",
       "        -1.07724994e-01, -9.11497027e-02,  2.28699744e-02,  4.76624034e-02,\n",
       "        -1.31292278e-02,  1.29047651e-02, -1.00170702e-01,  4.39378135e-02,\n",
       "        -1.44162644e-02, -8.33989680e-02, -5.47259562e-02, -4.57325764e-02,\n",
       "        -8.60069320e-02,  4.99352217e-02,  6.47993907e-02, -2.72405241e-02,\n",
       "        -2.42491290e-02,  4.18471135e-02, -1.64633095e-02,  2.77460635e-01,\n",
       "         1.27717197e-01, -1.14809051e-01, -8.19008984e-03,  1.08753391e-01,\n",
       "         1.17871344e-01,  3.37975211e-02,  1.71933211e-02,  5.30347005e-02,\n",
       "        -3.92580172e-03, -1.13727793e-01, -6.80234432e-02, -6.79057315e-02,\n",
       "         1.22259818e-01,  5.01118042e-03,  2.82625537e-02, -5.02743833e-02,\n",
       "        -7.92246405e-03, -1.93402931e-01, -1.88556775e-01, -1.00426599e-02,\n",
       "         4.84562367e-02,  6.02038689e-02, -1.62644163e-02,  1.60936311e-01,\n",
       "         1.79497167e-01,  2.95208115e-02,  5.88837117e-02, -1.44411147e-01,\n",
       "        -3.27426307e-02, -2.12659482e-02,  1.35404080e-01, -7.82622173e-02,\n",
       "         1.22094996e-01,  4.63400707e-02, -1.22813992e-01,  4.94314060e-02,\n",
       "        -7.87259564e-02, -6.53401613e-02, -1.30272806e-01, -6.11666357e-03,\n",
       "         1.86274163e-02, -1.70494482e-01, -6.52003810e-02,  1.11700468e-01],\n",
       "       dtype=float32),\n",
       " array([-1.01287611e-01,  1.89101249e-01, -1.28530383e-01, -5.32311238e-02,\n",
       "         1.15408689e-01, -4.03067805e-02, -4.34548296e-02, -7.45335743e-02,\n",
       "        -9.98580083e-02,  1.74415457e+00, -1.78027824e-01,  6.97596297e-02,\n",
       "        -1.02791131e-01, -1.66373000e-01, -8.64110515e-02, -1.26405418e-01,\n",
       "        -7.38037459e-04,  1.08637416e+00, -9.00629386e-02, -1.05872877e-01,\n",
       "        -4.82800044e-02, -1.08658010e-02, -2.50545889e-02, -3.48954797e-02,\n",
       "        -3.11326813e-02, -8.94536898e-02,  2.48172274e-03,  7.99168497e-02,\n",
       "         1.68201923e-01, -2.22302675e-01, -3.52357551e-02,  8.32682773e-02,\n",
       "        -4.70020436e-02, -2.46964023e-02,  8.81536081e-02, -8.06267709e-02,\n",
       "         8.94410163e-02, -1.39355641e-02, -3.55469063e-02, -6.53909892e-02,\n",
       "        -2.59851348e-02,  7.26049989e-02,  8.85594711e-02, -1.20238945e-01,\n",
       "         9.02466625e-02,  1.54370502e-01, -1.38989151e-01, -7.97269866e-03,\n",
       "         6.29930794e-02,  9.86453611e-03, -8.74723718e-02,  4.91260514e-02,\n",
       "        -2.98739336e-02,  2.28132289e-02,  7.00754449e-02, -9.47384760e-02,\n",
       "        -9.03513376e-03, -6.26596287e-02, -1.28716649e-02, -1.09846435e-01,\n",
       "        -1.37780630e-03, -6.43275380e-02,  1.89721752e-02,  1.33520663e-01,\n",
       "        -7.82942027e-02, -1.17341869e-01, -1.45999296e-02, -3.45800333e-02,\n",
       "        -5.79030029e-02,  2.44797722e-01,  4.12994847e-02,  1.69788241e-01,\n",
       "         1.11216359e-01,  1.88495573e-02,  4.69392389e-02,  1.19639307e-01,\n",
       "         6.53178915e-02, -3.62679772e-02, -8.37112144e-02,  6.13820739e-02,\n",
       "        -6.84540048e-02,  4.51431610e-02, -4.59766388e-02,  5.45743182e-02,\n",
       "         3.63574848e-02, -2.95580477e-01,  2.79142708e-01,  2.40628466e-01,\n",
       "         1.62943721e-01,  1.25156701e-01, -1.20966388e-02,  2.88428050e-02,\n",
       "         1.25285193e-01,  1.16545185e-01,  1.12912014e-01,  2.85774563e-02,\n",
       "        -1.13548692e-02, -3.52619216e-02, -1.29890352e-01, -8.49419162e-02,\n",
       "         6.03427552e-02,  4.97001745e-02, -1.70608684e-01, -5.51102757e-02,\n",
       "         1.54968426e-02, -5.90293586e-01,  6.91249594e-02,  2.33600121e-02,\n",
       "         2.29715735e-01, -5.22841588e-02,  6.32800953e-03, -2.04345331e-01,\n",
       "        -8.24748203e-02, -1.62537798e-01, -1.05275765e-01,  4.90815518e-03,\n",
       "         3.52751799e-02, -9.82514676e-03,  5.43214269e-02,  2.05281805e-02,\n",
       "         8.29375312e-02,  3.69203761e-02, -9.46355015e-02,  2.76644691e-03,\n",
       "        -7.28564858e-02,  4.12852764e-02,  5.83383031e-02, -7.89928287e-02,\n",
       "         1.22907925e-02, -5.18793426e-02, -4.79292423e-02, -8.87573138e-02,\n",
       "        -4.14098091e-02,  8.75661150e-02,  7.08739981e-02,  5.97951747e-03,\n",
       "         2.66086888e-02, -6.05026856e-02,  2.80884886e-03, -2.27734484e-02,\n",
       "        -1.26175070e+00,  2.12501049e-01,  2.73837388e-01,  6.08698763e-02,\n",
       "        -3.81598398e-02, -9.24086198e-02, -1.38014585e-01,  1.56412032e-02,\n",
       "         1.90443113e-01, -1.00909937e-02,  8.08610693e-02, -1.72210280e-02,\n",
       "         2.20544130e-01,  1.09926946e-01, -1.39185101e-01,  2.07562353e-02,\n",
       "        -6.72373548e-02, -4.81754914e-02, -3.96890454e-02, -4.29750979e-02,\n",
       "        -6.49524182e-02,  8.77673104e-02, -1.36867277e-02,  4.93007004e-02,\n",
       "        -9.54969153e-02, -1.69434443e-01,  4.35498208e-02, -1.64178789e-01,\n",
       "         1.03927828e-01,  5.61941154e-02,  5.58189414e-02,  5.14502749e-02,\n",
       "         5.79993147e-03, -1.78862661e-02, -1.42814517e-01,  1.65370107e-02,\n",
       "        -2.42356788e-02, -1.63230017e-01,  1.06742516e-01, -1.49270818e-01,\n",
       "        -9.84037817e-02, -9.27205756e-02, -6.77656978e-02, -7.31235072e-02,\n",
       "        -8.57275128e-02,  1.63148949e-03, -4.66370657e-02, -7.45607354e-03,\n",
       "         1.97153743e-02, -3.86429355e-02, -5.01356982e-02,  8.04968700e-02,\n",
       "         6.39574835e-03,  4.53143800e-03, -1.13190562e-02,  2.95818858e-02,\n",
       "        -5.06299315e-03, -6.34642765e-02, -1.10768527e-01,  1.89217087e-02,\n",
       "        -1.02667518e-01,  1.40045420e-04, -1.26579180e-01,  2.49934085e-02,\n",
       "         1.09743655e-01,  8.10188130e-02,  4.28159535e-02, -2.25242451e-02,\n",
       "        -3.55813913e-02,  8.06178991e-03, -1.47579253e-01, -1.44185144e-02,\n",
       "         3.29713896e-03, -2.26384491e-01,  6.30999207e-02,  1.67641670e-01,\n",
       "        -4.54526544e-02,  4.93497355e-04, -4.59216721e-02,  3.37174274e-02,\n",
       "        -4.91948836e-02,  7.23484829e-02, -2.98946956e-03,  8.48843604e-02,\n",
       "         9.25868750e-02, -9.67728160e-03, -3.65269929e-02,  1.03953555e-01,\n",
       "        -6.87598586e-02,  1.17132924e-01, -1.07927859e-01,  1.39163462e-02,\n",
       "        -1.09488526e-02,  9.50270593e-02, -8.13834146e-02, -4.00971286e-02,\n",
       "        -9.90354121e-02, -1.44523546e-01,  5.19924164e-02,  8.27769712e-02,\n",
       "        -1.51267741e-02,  8.23458508e-02, -1.24665022e-01, -6.24104477e-02,\n",
       "         6.69329688e-02,  3.06588020e-02, -1.59349874e-01, -6.67239651e-02,\n",
       "        -9.21525732e-02,  7.63573796e-02,  7.44533464e-02, -7.61258528e-02,\n",
       "        -1.13311730e-01, -2.30496097e-02,  2.29224376e-02,  2.02150479e-01,\n",
       "         1.40434235e-01, -8.67057219e-02, -3.48513834e-02,  1.75126299e-01,\n",
       "         7.24468231e-02,  6.10897839e-02,  2.31807139e-02,  1.46900147e-01,\n",
       "         4.06929851e-02, -5.90098910e-02, -1.00366592e-01, -6.21541031e-02,\n",
       "         4.31714840e-02,  5.49196564e-02, -3.24442200e-02, -1.78377144e-02,\n",
       "         6.75019696e-02, -2.16419354e-01, -2.27908611e-01, -1.15945106e-02,\n",
       "         5.29558808e-02,  5.85307106e-02, -7.50255957e-02,  3.00173044e-01,\n",
       "         2.85961658e-01,  3.46418805e-02,  2.04725601e-02, -1.40684649e-01,\n",
       "        -7.41765425e-02, -3.55374515e-02,  2.05266863e-01, -5.71440794e-02,\n",
       "         1.52343675e-01, -5.74605316e-02, -1.67515740e-01,  4.67198938e-02,\n",
       "        -3.94233204e-02, -8.60502198e-02, -1.32445619e-01,  6.76907077e-02,\n",
       "         2.80239899e-02, -1.98439270e-01, -4.56099398e-02,  8.28622803e-02],\n",
       "       dtype=float32),\n",
       " ...]"
      ]
     },
     "metadata": {},
     "execution_count": 60
    }
   ],
   "source": [
    "# Continue Word Embedding Work Here\n",
    "def get_avg_word_vectors(docs):\n",
    "    return [nlp(doc).vector for doc in docs]\n",
    "\n",
    "X_train = get_avg_word_vectors(train.description)\n",
    "X_train"
   ]
  },
  {
   "cell_type": "code",
   "execution_count": 61,
   "metadata": {},
   "outputs": [
    {
     "output_type": "execute_result",
     "data": {
      "text/plain": [
       "True"
      ]
     },
     "metadata": {},
     "execution_count": 61
    }
   ],
   "source": [
    "len(X_train) == len(train.description)\n"
   ]
  },
  {
   "cell_type": "code",
   "execution_count": 62,
   "metadata": {},
   "outputs": [
    {
     "output_type": "execute_result",
     "data": {
      "text/plain": [
       "4087"
      ]
     },
     "metadata": {},
     "execution_count": 62
    }
   ],
   "source": [
    "len(X_train)"
   ]
  },
  {
   "cell_type": "code",
   "execution_count": 63,
   "metadata": {},
   "outputs": [
    {
     "output_type": "execute_result",
     "data": {
      "text/plain": [
       "LinearSVC(C=0.5, class_weight=None, dual=True, fit_intercept=True,\n",
       "          intercept_scaling=1, loss='squared_hinge', max_iter=1000,\n",
       "          multi_class='ovr', penalty='l2', random_state=None, tol=0.0001,\n",
       "          verbose=0)"
      ]
     },
     "metadata": {},
     "execution_count": 63
    }
   ],
   "source": [
    "svm = LinearSVC(C=0.5, penalty='l2')\n",
    "svm.fit(X_train, train.ratingCategory)"
   ]
  },
  {
   "cell_type": "code",
   "execution_count": 64,
   "metadata": {},
   "outputs": [],
   "source": [
    "X_test = get_avg_word_vectors(test.description)"
   ]
  },
  {
   "cell_type": "code",
   "execution_count": 67,
   "metadata": {},
   "outputs": [],
   "source": [
    "y_test = svm.predict(X_test)"
   ]
  },
  {
   "cell_type": "code",
   "execution_count": null,
   "metadata": {},
   "outputs": [],
   "source": []
  },
  {
   "cell_type": "code",
   "execution_count": null,
   "metadata": {},
   "outputs": [],
   "source": []
  },
  {
   "cell_type": "markdown",
   "metadata": {},
   "source": [
    "### Make a Submission File"
   ]
  },
  {
   "cell_type": "code",
   "execution_count": 71,
   "metadata": {},
   "outputs": [
    {
     "output_type": "execute_result",
     "data": {
      "text/plain": [
       "array([1, 1, 1, ..., 1, 1, 0])"
      ]
     },
     "metadata": {},
     "execution_count": 71
    }
   ],
   "source": [
    "# Predictions on test sample\n",
    "# pred = ...predict(test['description'])\n",
    "pred = y_test\n",
    "pred"
   ]
  },
  {
   "cell_type": "code",
   "execution_count": 72,
   "metadata": {},
   "outputs": [],
   "source": [
    "submission = pd.DataFrame({'id': test['id'], 'ratingCategory':pred})\n",
    "submission['ratingCategory'] = submission['ratingCategory'].astype('int64')"
   ]
  },
  {
   "cell_type": "code",
   "execution_count": 73,
   "metadata": {},
   "outputs": [
    {
     "output_type": "execute_result",
     "data": {
      "text/plain": [
       "1    857\n",
       "0    165\n",
       "Name: ratingCategory, dtype: int64"
      ]
     },
     "metadata": {},
     "execution_count": 73
    }
   ],
   "source": [
    "submission.ratingCategory.value_counts()"
   ]
  },
  {
   "cell_type": "code",
   "execution_count": 74,
   "metadata": {},
   "outputs": [
    {
     "output_type": "execute_result",
     "data": {
      "text/plain": [
       "     id  ratingCategory\n",
       "0  3461               1\n",
       "1  2604               1\n",
       "2  3341               1\n",
       "3  3764               1\n",
       "4  2306               1"
      ],
      "text/html": "<div>\n<style scoped>\n    .dataframe tbody tr th:only-of-type {\n        vertical-align: middle;\n    }\n\n    .dataframe tbody tr th {\n        vertical-align: top;\n    }\n\n    .dataframe thead th {\n        text-align: right;\n    }\n</style>\n<table border=\"1\" class=\"dataframe\">\n  <thead>\n    <tr style=\"text-align: right;\">\n      <th></th>\n      <th>id</th>\n      <th>ratingCategory</th>\n    </tr>\n  </thead>\n  <tbody>\n    <tr>\n      <th>0</th>\n      <td>3461</td>\n      <td>1</td>\n    </tr>\n    <tr>\n      <th>1</th>\n      <td>2604</td>\n      <td>1</td>\n    </tr>\n    <tr>\n      <th>2</th>\n      <td>3341</td>\n      <td>1</td>\n    </tr>\n    <tr>\n      <th>3</th>\n      <td>3764</td>\n      <td>1</td>\n    </tr>\n    <tr>\n      <th>4</th>\n      <td>2306</td>\n      <td>1</td>\n    </tr>\n  </tbody>\n</table>\n</div>"
     },
     "metadata": {},
     "execution_count": 74
    }
   ],
   "source": [
    "# Make Sure the Category is an Integer\n",
    "submission.head()"
   ]
  },
  {
   "cell_type": "code",
   "execution_count": 75,
   "metadata": {},
   "outputs": [],
   "source": [
    "# Save your Submission File\n",
    "# Best to Use an Integer or Timestamp for different versions of your model\n",
    "\n",
    "submission.to_csv(f'./data/submission{subNumber}.csv', index=False)\n",
    "subNumber += 1"
   ]
  },
  {
   "cell_type": "markdown",
   "metadata": {},
   "source": [
    "## Challenge\n",
    "\n",
    "What you should be doing now:\n",
    "1. Join the Kaggle Competition\n",
    "2. Download the data\n",
    "3. Train a model & try: \n",
    "    - Creating a Text Extraction & Classification Pipeline\n",
    "    - Tune the pipeline with a `GridSearchCV` or `RandomizedSearchCV`\n",
    "    - Add some Latent Semantic Indexing (lsi) into your pipeline. *Note:* You can grid search a nested pipeline, but you have to use double underscores ie `lsi__svd__n_components`\n",
    "    - Try to extract word embeddings with Spacy and use those embeddings as your features for a classification model.\n",
    "4. Make a submission to Kaggle "
   ]
  },
  {
   "cell_type": "markdown",
   "metadata": {},
   "source": [
    "# Post Lecture Assignment\n",
    "<a id=\"p4\"></a>\n",
    "\n",
    "Your primary assignment this afternoon is to achieve a minimum of 80% accuracy on the Kaggle competition. Once you have achieved 70% accuracy, please work on the following: \n",
    "\n",
    "1. Research \"Sentiment Analysis\". Provide answers in markdown to the following questions: \n",
    "    - What is \"Sentiment Analysis\"? \n",
    "    - Is Document Classification different than \"Sentiment Analysis\"? Provide evidence for your response\n",
    "    - How do create labeled sentiment data? Are those labels really sentiment?\n",
    "    - What are common applications of sentiment analysis?\n",
    "2. Research our why word embeddings worked better for the lecture notebook than on the whiskey competition.\n",
    "    - This [text classification documentation](https://developers.google.com/machine-learning/guides/text-classification/step-2-5) from Google might be of interest\n",
    "    - Neural Networks are becoming more popular for document classification. Why is that the case?"
   ]
  },
  {
   "cell_type": "code",
   "execution_count": null,
   "metadata": {},
   "outputs": [],
   "source": []
  }
 ],
 "metadata": {
  "kernelspec": {
   "name": "python370jvsc74a57bd0c751e3dba1c0ae6d681c8fd9e4eb9597bc490d2dc541e0c49930039039a54e24",
   "display_name": "Python 3.7.0 64-bit ('U4-S1-NLP': conda)"
  },
  "language_info": {
   "codemirror_mode": {
    "name": "ipython",
    "version": 3
   },
   "file_extension": ".py",
   "mimetype": "text/x-python",
   "name": "python",
   "nbconvert_exporter": "python",
   "pygments_lexer": "ipython3",
   "version": "3.7.0"
  }
 },
 "nbformat": 4,
 "nbformat_minor": 4
}
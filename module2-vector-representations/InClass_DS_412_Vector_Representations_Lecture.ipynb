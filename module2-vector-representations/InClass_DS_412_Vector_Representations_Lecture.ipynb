{
 "cells": [
  {
   "cell_type": "markdown",
   "metadata": {},
   "source": [
    "Lambda School Data Science\n",
    "\n",
    "*Unit 4, Sprint 1, Module 2*\n",
    "\n",
    "---\n",
    "\n",
    "# Vector Representations (Prepare)\n",
    "\n",
    "\n",
    "As we learned yesterday, machines cannot interpret raw text. We need to transform that text into something we/machines can more readily analyze. Yesterday, we did simple counts of counts to summarize the content of Amazon reviews. Today, we'll extend those concepts to talk about vector representations such as Bag of Words (BoW) and word embedding models. We'll use those representations for search, visualization, and prepare for our classification day tomorrow. \n",
    "\n",
    "Processing text data to prepare it for machine learning models often means translating the information from documents into a numerical format. Bag-of-Words approaches (sometimes referred to as Frequency-Based word embeddings) accomplish this by \"vectorizing\" tokenized documents. This is done by representing each document as a row in a DataFrame and creating a column for each unique word in the corpora (group of documents). The presence or lack of a given word in a document is then represented either as a raw count of how many times a given word appears in a document (CountVectorizer) or as that word's TF-IDF score (TfidfVectorizer).\n",
    "\n",
    "On the python side, we will be focusing on `sklearn` and `spacy` today.  \n",
    "\n",
    "## Case Study\n",
    "\n",
    "We're going to pretend we're on the datascience team at the BBC. We want to recommend articles to visitors to on the BBC website based on the article they just read. Our team wants \n",
    "\n",
    "**Dataset:**\n",
    "\n",
    "[D. Greene and P. Cunningham. \"Practical Solutions to the Problem of Diagonal Dominance in Kernel Document Clustering\", Proc. ICML 2006.](http://mlg.ucd.ie/datasets/bbc.html)\n",
    "*Please note that the dataset has been sampled down to tech articles only.* \n",
    "\n",
    "## Learning Objectives\n",
    "* <a href=\"#p1\">Part 1</a>: Represent a document as a vector\n",
    "* <a href=\"#p2\">Part 2</a>: Query Documents by Similarity\n",
    "* <a href=\"#p3\">Part 3</a>: Apply word embedding models to create document vectors"
   ]
  },
  {
   "cell_type": "markdown",
   "metadata": {},
   "source": [
    "### Let's start with an analogy\n",
    "\n",
    "![](https://peterbeshai.com/static/d9c3868cc1becd7648da453597a5d616/36dbb/DER_cube.jpg)\n",
    "\n",
    "Pretend that the objecting floating in the room is our raw text dataset (i.e. a collection of documents). \n",
    "\n",
    "A vectorizer is a mathamatical transformation that takes our raw text data and transforms it into a numerical representation (i.e. numbers inside of vectors). \n",
    "\n",
    "Depending on which vectorizer you use, you will be capturing some of the information encoded in the text but not other information. \n",
    "\n",
    "So, as the analogy goes, depending which side of the floating object you stand and shine a light from, you will only see a portion of the information that exists in your text data set. Apply one vectorizer and you'll get word counts but not the contextual meaning; apply another vectorizer and you'll get the contextual meaning of the words but not the counts. \n",
    "\n",
    "**Take Away:** Understand the benefits and limitations of using each of the vectorizers that we'll be learning today. \n",
    "\n",
    "----"
   ]
  },
  {
   "cell_type": "markdown",
   "metadata": {},
   "source": [
    "# Represent a document as a vector (Learn)\n",
    "<a id=\"p1\"></a>"
   ]
  },
  {
   "cell_type": "markdown",
   "metadata": {},
   "source": [
    "## Overview\n",
    "\n",
    "In this section, we are going to create Document Term Matrices (DTM). Each column represents a word. Each row represents a document. The value in each cell can be range of different things. The most traditional: counts of appearances of words, does the word appear at all (binary), and term-frequency inverse-document frequency (TF-IDF). \n",
    "\n",
    "**Discussion:** Don't we loose all the context and grammar if we do this? So Why does it work?"
   ]
  },
  {
   "cell_type": "markdown",
   "metadata": {
    "toc-hr-collapsed": true
   },
   "source": [
    "## Follow Along"
   ]
  },
  {
   "cell_type": "code",
   "execution_count": 27,
   "metadata": {},
   "outputs": [],
   "source": [
    "\"\"\" Import Statements \"\"\"\n",
    "\n",
    "# Classics\n",
    "import numpy as np\n",
    "import pandas as pd\n",
    "import seaborn as sns\n",
    "import matplotlib.pyplot as plt\n",
    "\n",
    "from sklearn.feature_extraction.text import CountVectorizer, TfidfVectorizer\n",
    "from sklearn.metrics.pairwise import cosine_similarity\n",
    "from sklearn.neighbors import NearestNeighbors\n",
    "from sklearn.decomposition import PCA\n",
    "\n",
    "import spacy\n",
    "nlp = spacy.load(\"en_core_web_md\")"
   ]
  },
  {
   "cell_type": "code",
   "execution_count": 28,
   "metadata": {},
   "outputs": [],
   "source": [
    "# import en_core_web_lg\n",
    "# nlp = en_core_web_lg.load()"
   ]
  },
  {
   "cell_type": "markdown",
   "metadata": {},
   "source": [
    "**Warm Up (_3 Minutes_)**\n",
    "\n",
    "Extract the tokens from this sentence using Spacy. Text is from [OpenAI](https://openai.com/blog/better-language-models/)"
   ]
  },
  {
   "cell_type": "code",
   "execution_count": 29,
   "metadata": {},
   "outputs": [],
   "source": [
    "text = \"\"\"GPT-2 displays a broad set of capabilities, including the ability to generate conditional synthetic text samples of unprecedented quality, where we prime the model with an input and have it generate a lengthy continuation. In addition, GPT-2 outperforms other language models trained on specific domains (like Wikipedia, news, or books) without needing to use these domain-specific training datasets. On language tasks like question answering, reading comprehension, summarization, and translation, GPT-2 begins to learn these tasks from the raw text, using no task-specific training data. While scores on these downstream tasks are far from state-of-the-art, they suggest that the tasks can benefit from unsupervised techniques, given sufficient (unlabeled) data and compute.\"\"\""
   ]
  },
  {
   "cell_type": "code",
   "execution_count": 30,
   "metadata": {
    "deletable": false,
    "nbgrader": {
     "cell_type": "code",
     "checksum": "21108a65ea86a234118bdede0d48717b",
     "grade": false,
     "grade_id": "cell-58c44a23c3dcfc31",
     "locked": false,
     "schema_version": 3,
     "solution": true,
     "task": false
    }
   },
   "outputs": [
    {
     "output_type": "stream",
     "name": "stdout",
     "text": [
      "['GPT-2', 'display', 'broad', 'set', 'capability', 'include', 'ability', 'generate', 'conditional', 'synthetic', 'text', 'sample', 'unprecedented', 'quality', 'prime', 'model', 'input', 'generate', 'lengthy', 'continuation', 'addition', 'GPT-2', 'outperform', 'language', 'model', 'train', 'specific', 'domain', 'like', 'Wikipedia', 'news', 'book', 'need', 'use', 'domain', 'specific', 'training', 'dataset', 'language', 'task', 'like', 'question', 'answering', 'reading', 'comprehension', 'summarization', 'translation', 'GPT-2', 'begin', 'learn', 'task', 'raw', 'text', 'task', 'specific', 'training', 'datum', 'score', 'downstream', 'task', 'far', 'state', 'art', 'suggest', 'task', 'benefit', 'unsupervised', 'technique', 'give', 'sufficient', 'unlabeled', 'datum', 'compute']\n"
     ]
    }
   ],
   "source": [
    "doc = nlp(text)\n",
    "\n",
    "print([token.lemma_ for token in doc if (token.is_stop != True) and (token.is_punct != True)])"
   ]
  },
  {
   "cell_type": "code",
   "execution_count": 31,
   "metadata": {},
   "outputs": [],
   "source": [
    "import os \n",
    "\n",
    "def gather_data(filefolder):\n",
    "    \"\"\" Produces List of Documents from a Directory\n",
    "    \n",
    "    filefolder (str): a path of .txt files\n",
    "    \n",
    "    returns list of strings \n",
    "    \"\"\"\n",
    "    \n",
    "    data = []\n",
    "    \n",
    "    files = os.listdir(filefolder) # Causes variation across machines\n",
    "    \n",
    "    for article in files: \n",
    "        \n",
    "        path = os.path.join(filefolder, article)\n",
    "                    \n",
    "        if  path[-3:] == 'txt': # os ~endswith('txt')\n",
    "            with open(path, 'rb') as f:\n",
    "                data.append(f.read())\n",
    "    \n",
    "    return data"
   ]
  },
  {
   "cell_type": "code",
   "execution_count": 32,
   "metadata": {},
   "outputs": [
    {
     "output_type": "stream",
     "name": "stdout",
     "text": [
      "401\n"
     ]
    }
   ],
   "source": [
    "data = gather_data('./data')\n",
    "print(len(data))"
   ]
  },
  {
   "cell_type": "markdown",
   "metadata": {},
   "source": [
    "-----\n",
    "# CountVectorizer\n",
    "\n",
    "![](https://images4.programmersought.com/947/0a/0acb9279d17a1631bcfb154583cca443.JPEG)"
   ]
  },
  {
   "cell_type": "code",
   "execution_count": 33,
   "metadata": {
    "deletable": false,
    "nbgrader": {
     "cell_type": "code",
     "checksum": "52cdea7487759eb9a9c010ef2dee663a",
     "grade": false,
     "grade_id": "cell-c6a74f21ed3917ee",
     "locked": false,
     "schema_version": 3,
     "solution": true,
     "task": false
    }
   },
   "outputs": [],
   "source": [
    "from sklearn.feature_extraction.text import CountVectorizer\n",
    "\n",
    "\n",
    "# list of text documents\n",
    "text = [\"We created a new dataset which emphasizes diversity of content, by scraping content from the Internet.\", \" In order to preserve document quality, we used only pages which have been curated/filtered by humans—specifically, we used outbound links from Reddit which received at least 3 karma.\", \" This can be thought of as a heuristic indicator for whether other users found the link interesting (whether educational or funny), leading to higher data quality than other similar datasets, such as CommonCrawl.\"]\n",
    "\n",
    "# create the transformer\n",
    "vect= CountVectorizer()\n",
    "\n",
    "# build vocab\n",
    "vect.fit(text) # learning the document\n",
    "\n",
    "# transform text\n",
    "dtm = vect.transform(text)# transforming to the numeric \n"
   ]
  },
  {
   "cell_type": "code",
   "execution_count": 34,
   "metadata": {},
   "outputs": [
    {
     "output_type": "execute_result",
     "data": {
      "text/plain": [
       "(3, 61)"
      ]
     },
     "metadata": {},
     "execution_count": 34
    }
   ],
   "source": [
    "dtm.shape # 3 document and 61 unique words"
   ]
  },
  {
   "cell_type": "code",
   "execution_count": 35,
   "metadata": {},
   "outputs": [
    {
     "output_type": "execute_result",
     "data": {
      "text/plain": [
       "183"
      ]
     },
     "metadata": {},
     "execution_count": 35
    }
   ],
   "source": [
    "3 * 61 # total number of words"
   ]
  },
  {
   "cell_type": "code",
   "execution_count": 36,
   "metadata": {},
   "outputs": [
    {
     "output_type": "execute_result",
     "data": {
      "text/plain": [
       "<3x61 sparse matrix of type '<class 'numpy.int64'>'\n",
       "\twith 69 stored elements in Compressed Sparse Row format>"
      ]
     },
     "metadata": {},
     "execution_count": 36
    }
   ],
   "source": [
    "dtm # sparce representation non zero representation matrix "
   ]
  },
  {
   "cell_type": "code",
   "execution_count": 37,
   "metadata": {},
   "outputs": [
    {
     "output_type": "stream",
     "name": "stdout",
     "text": [
      "  (0, 4)\t1\n  (0, 7)\t2\n  (0, 8)\t1\n  (0, 11)\t1\n  (0, 13)\t1\n  (0, 16)\t1\n  (0, 20)\t1\n  (0, 29)\t1\n  (0, 35)\t1\n  (0, 36)\t1\n  (0, 47)\t1\n  (0, 52)\t1\n  (0, 58)\t1\n  (0, 60)\t1\n  (1, 1)\t1\n  (1, 3)\t1\n  (1, 4)\t1\n  (1, 9)\t1\n  (1, 14)\t1\n  (1, 17)\t1\n  (1, 20)\t1\n  (1, 22)\t1\n  (1, 25)\t1\n  (1, 26)\t1\n  (1, 30)\t1\n  :\t:\n  (2, 10)\t1\n  (2, 12)\t1\n  (2, 15)\t1\n  (2, 18)\t1\n  (2, 19)\t1\n  (2, 21)\t1\n  (2, 23)\t1\n  (2, 24)\t1\n  (2, 27)\t1\n  (2, 28)\t1\n  (2, 31)\t1\n  (2, 33)\t1\n  (2, 36)\t1\n  (2, 38)\t1\n  (2, 40)\t2\n  (2, 44)\t1\n  (2, 48)\t1\n  (2, 50)\t1\n  (2, 51)\t1\n  (2, 52)\t1\n  (2, 53)\t1\n  (2, 54)\t1\n  (2, 55)\t1\n  (2, 57)\t1\n  (2, 59)\t2\n"
     ]
    }
   ],
   "source": [
    "print(dtm) # document 0 word id 4 happened 1 times"
   ]
  },
  {
   "cell_type": "code",
   "execution_count": 38,
   "metadata": {},
   "outputs": [
    {
     "output_type": "execute_result",
     "data": {
      "text/plain": [
       "['__abs__',\n",
       " '__add__',\n",
       " '__array_priority__',\n",
       " '__bool__',\n",
       " '__class__',\n",
       " '__delattr__',\n",
       " '__dict__',\n",
       " '__dir__',\n",
       " '__div__',\n",
       " '__doc__',\n",
       " '__eq__',\n",
       " '__format__',\n",
       " '__ge__',\n",
       " '__getattr__',\n",
       " '__getattribute__',\n",
       " '__getitem__',\n",
       " '__gt__',\n",
       " '__hash__',\n",
       " '__iadd__',\n",
       " '__idiv__',\n",
       " '__imul__',\n",
       " '__init__',\n",
       " '__init_subclass__',\n",
       " '__isub__',\n",
       " '__iter__',\n",
       " '__itruediv__',\n",
       " '__le__',\n",
       " '__len__',\n",
       " '__lt__',\n",
       " '__matmul__',\n",
       " '__module__',\n",
       " '__mul__',\n",
       " '__ne__',\n",
       " '__neg__',\n",
       " '__new__',\n",
       " '__nonzero__',\n",
       " '__pow__',\n",
       " '__radd__',\n",
       " '__rdiv__',\n",
       " '__reduce__',\n",
       " '__reduce_ex__',\n",
       " '__repr__',\n",
       " '__rmatmul__',\n",
       " '__rmul__',\n",
       " '__round__',\n",
       " '__rsub__',\n",
       " '__rtruediv__',\n",
       " '__setattr__',\n",
       " '__setitem__',\n",
       " '__sizeof__',\n",
       " '__str__',\n",
       " '__sub__',\n",
       " '__subclasshook__',\n",
       " '__truediv__',\n",
       " '__weakref__',\n",
       " '_add_dense',\n",
       " '_add_sparse',\n",
       " '_arg_min_or_max',\n",
       " '_arg_min_or_max_axis',\n",
       " '_asindices',\n",
       " '_binopt',\n",
       " '_cs_matrix__get_has_canonical_format',\n",
       " '_cs_matrix__get_sorted',\n",
       " '_cs_matrix__set_has_canonical_format',\n",
       " '_cs_matrix__set_sorted',\n",
       " '_deduped_data',\n",
       " '_divide',\n",
       " '_divide_sparse',\n",
       " '_get_arrayXarray',\n",
       " '_get_arrayXint',\n",
       " '_get_arrayXslice',\n",
       " '_get_columnXarray',\n",
       " '_get_dtype',\n",
       " '_get_intXarray',\n",
       " '_get_intXint',\n",
       " '_get_intXslice',\n",
       " '_get_sliceXarray',\n",
       " '_get_sliceXint',\n",
       " '_get_sliceXslice',\n",
       " '_get_submatrix',\n",
       " '_has_sorted_indices',\n",
       " '_imag',\n",
       " '_inequality',\n",
       " '_insert_many',\n",
       " '_major_index_fancy',\n",
       " '_major_slice',\n",
       " '_maximum_minimum',\n",
       " '_min_or_max',\n",
       " '_min_or_max_axis',\n",
       " '_minor_index_fancy',\n",
       " '_minor_reduce',\n",
       " '_minor_slice',\n",
       " '_mul_multivector',\n",
       " '_mul_scalar',\n",
       " '_mul_sparse_matrix',\n",
       " '_mul_vector',\n",
       " '_prepare_indices',\n",
       " '_process_toarray_args',\n",
       " '_real',\n",
       " '_rsub_dense',\n",
       " '_scalar_binopt',\n",
       " '_set_arrayXarray',\n",
       " '_set_arrayXarray_sparse',\n",
       " '_set_dtype',\n",
       " '_set_intXint',\n",
       " '_set_many',\n",
       " '_set_self',\n",
       " '_setdiag',\n",
       " '_shape',\n",
       " '_sub_dense',\n",
       " '_sub_sparse',\n",
       " '_swap',\n",
       " '_validate_indices',\n",
       " '_with_data',\n",
       " '_zero_many',\n",
       " 'arcsin',\n",
       " 'arcsinh',\n",
       " 'arctan',\n",
       " 'arctanh',\n",
       " 'argmax',\n",
       " 'argmin',\n",
       " 'asformat',\n",
       " 'asfptype',\n",
       " 'astype',\n",
       " 'ceil',\n",
       " 'check_format',\n",
       " 'conj',\n",
       " 'conjugate',\n",
       " 'copy',\n",
       " 'count_nonzero',\n",
       " 'data',\n",
       " 'deg2rad',\n",
       " 'diagonal',\n",
       " 'dot',\n",
       " 'dtype',\n",
       " 'eliminate_zeros',\n",
       " 'expm1',\n",
       " 'floor',\n",
       " 'format',\n",
       " 'getH',\n",
       " 'get_shape',\n",
       " 'getcol',\n",
       " 'getformat',\n",
       " 'getmaxprint',\n",
       " 'getnnz',\n",
       " 'getrow',\n",
       " 'has_canonical_format',\n",
       " 'has_sorted_indices',\n",
       " 'indices',\n",
       " 'indptr',\n",
       " 'log1p',\n",
       " 'max',\n",
       " 'maximum',\n",
       " 'maxprint',\n",
       " 'mean',\n",
       " 'min',\n",
       " 'minimum',\n",
       " 'multiply',\n",
       " 'ndim',\n",
       " 'nnz',\n",
       " 'nonzero',\n",
       " 'power',\n",
       " 'prune',\n",
       " 'rad2deg',\n",
       " 'reshape',\n",
       " 'resize',\n",
       " 'rint',\n",
       " 'set_shape',\n",
       " 'setdiag',\n",
       " 'shape',\n",
       " 'sign',\n",
       " 'sin',\n",
       " 'sinh',\n",
       " 'sort_indices',\n",
       " 'sorted_indices',\n",
       " 'sqrt',\n",
       " 'sum',\n",
       " 'sum_duplicates',\n",
       " 'tan',\n",
       " 'tanh',\n",
       " 'toarray',\n",
       " 'tobsr',\n",
       " 'tocoo',\n",
       " 'tocsc',\n",
       " 'tocsr',\n",
       " 'todense',\n",
       " 'todia',\n",
       " 'todok',\n",
       " 'tolil',\n",
       " 'transpose',\n",
       " 'trunc']"
      ]
     },
     "metadata": {},
     "execution_count": 38
    }
   ],
   "source": [
    "dir(dtm)"
   ]
  },
  {
   "cell_type": "code",
   "execution_count": 39,
   "metadata": {},
   "outputs": [
    {
     "output_type": "execute_result",
     "data": {
      "text/plain": [
       "matrix([[0, 0, 0, 0, 1, 0, 0, 2, 1, 0, 0, 1, 0, 1, 0, 0, 1, 0, 0, 0, 1,\n",
       "         0, 0, 0, 0, 0, 0, 0, 0, 1, 0, 0, 0, 0, 0, 1, 1, 0, 0, 0, 0, 0,\n",
       "         0, 0, 0, 0, 0, 1, 0, 0, 0, 0, 1, 0, 0, 0, 0, 0, 1, 0, 1],\n",
       "        [0, 1, 0, 1, 1, 0, 0, 0, 0, 1, 0, 0, 0, 0, 1, 0, 0, 1, 0, 0, 1,\n",
       "         0, 1, 0, 0, 1, 1, 0, 0, 0, 1, 0, 1, 0, 1, 0, 0, 1, 0, 1, 0, 1,\n",
       "         1, 1, 1, 1, 1, 0, 0, 1, 0, 0, 0, 0, 0, 1, 2, 0, 2, 0, 2],\n",
       "        [2, 0, 1, 0, 0, 1, 1, 0, 0, 0, 1, 0, 1, 0, 0, 1, 0, 0, 1, 1, 0,\n",
       "         1, 0, 1, 1, 0, 0, 1, 1, 0, 0, 1, 0, 1, 0, 0, 1, 0, 1, 0, 2, 0,\n",
       "         0, 0, 1, 0, 0, 0, 1, 0, 1, 1, 1, 1, 1, 1, 0, 1, 0, 2, 0]])"
      ]
     },
     "metadata": {},
     "execution_count": 39
    }
   ],
   "source": [
    "dtm.todense()"
   ]
  },
  {
   "cell_type": "code",
   "execution_count": 40,
   "metadata": {},
   "outputs": [
    {
     "output_type": "execute_result",
     "data": {
      "text/plain": [
       "['as',\n",
       " 'at',\n",
       " 'be',\n",
       " 'been',\n",
       " 'by',\n",
       " 'can',\n",
       " 'commoncrawl',\n",
       " 'content',\n",
       " 'created',\n",
       " 'curated',\n",
       " 'data',\n",
       " 'dataset',\n",
       " 'datasets',\n",
       " 'diversity',\n",
       " 'document',\n",
       " 'educational',\n",
       " 'emphasizes',\n",
       " 'filtered',\n",
       " 'for',\n",
       " 'found',\n",
       " 'from',\n",
       " 'funny',\n",
       " 'have',\n",
       " 'heuristic',\n",
       " 'higher',\n",
       " 'humans',\n",
       " 'in',\n",
       " 'indicator',\n",
       " 'interesting',\n",
       " 'internet',\n",
       " 'karma',\n",
       " 'leading',\n",
       " 'least',\n",
       " 'link',\n",
       " 'links',\n",
       " 'new',\n",
       " 'of',\n",
       " 'only',\n",
       " 'or',\n",
       " 'order',\n",
       " 'other',\n",
       " 'outbound',\n",
       " 'pages',\n",
       " 'preserve',\n",
       " 'quality',\n",
       " 'received',\n",
       " 'reddit',\n",
       " 'scraping',\n",
       " 'similar',\n",
       " 'specifically',\n",
       " 'such',\n",
       " 'than',\n",
       " 'the',\n",
       " 'this',\n",
       " 'thought',\n",
       " 'to',\n",
       " 'used',\n",
       " 'users',\n",
       " 'we',\n",
       " 'whether',\n",
       " 'which']"
      ]
     },
     "metadata": {},
     "execution_count": 40
    }
   ],
   "source": [
    "vect.get_feature_names() # word by appears 1 time in the first document\n",
    "# seventh word content appeared twice in the first document"
   ]
  },
  {
   "cell_type": "code",
   "execution_count": 41,
   "metadata": {},
   "outputs": [
    {
     "output_type": "execute_result",
     "data": {
      "text/plain": [
       "'We created a new dataset which emphasizes diversity of content, by scraping content from the Internet.'"
      ]
     },
     "metadata": {},
     "execution_count": 41
    }
   ],
   "source": [
    "text[0]"
   ]
  },
  {
   "cell_type": "code",
   "execution_count": 42,
   "metadata": {},
   "outputs": [
    {
     "output_type": "stream",
     "name": "stdout",
     "text": [
      "(3, 61)\n"
     ]
    }
   ],
   "source": [
    "dtm = pd.DataFrame(dtm.todense(), columns=vect.get_feature_names())\n",
    "print(dtm.shape)"
   ]
  },
  {
   "cell_type": "code",
   "execution_count": 44,
   "metadata": {},
   "outputs": [
    {
     "output_type": "execute_result",
     "data": {
      "text/plain": [
       "   as  at  be  been  by  can  commoncrawl  content  created  curated  ...  \\\n",
       "0   0   0   0     0   1    0            0        2        1        0  ...   \n",
       "1   0   1   0     1   1    0            0        0        0        1  ...   \n",
       "2   2   0   1     0   0    1            1        0        0        0  ...   \n",
       "\n",
       "   than  the  this  thought  to  used  users  we  whether  which  \n",
       "0     0    1     0        0   0     0      0   1        0      1  \n",
       "1     0    0     0        0   1     2      0   2        0      2  \n",
       "2     1    1     1        1   1     0      1   0        2      0  \n",
       "\n",
       "[3 rows x 61 columns]"
      ],
      "text/html": "<div>\n<style scoped>\n    .dataframe tbody tr th:only-of-type {\n        vertical-align: middle;\n    }\n\n    .dataframe tbody tr th {\n        vertical-align: top;\n    }\n\n    .dataframe thead th {\n        text-align: right;\n    }\n</style>\n<table border=\"1\" class=\"dataframe\">\n  <thead>\n    <tr style=\"text-align: right;\">\n      <th></th>\n      <th>as</th>\n      <th>at</th>\n      <th>be</th>\n      <th>been</th>\n      <th>by</th>\n      <th>can</th>\n      <th>commoncrawl</th>\n      <th>content</th>\n      <th>created</th>\n      <th>curated</th>\n      <th>...</th>\n      <th>than</th>\n      <th>the</th>\n      <th>this</th>\n      <th>thought</th>\n      <th>to</th>\n      <th>used</th>\n      <th>users</th>\n      <th>we</th>\n      <th>whether</th>\n      <th>which</th>\n    </tr>\n  </thead>\n  <tbody>\n    <tr>\n      <th>0</th>\n      <td>0</td>\n      <td>0</td>\n      <td>0</td>\n      <td>0</td>\n      <td>1</td>\n      <td>0</td>\n      <td>0</td>\n      <td>2</td>\n      <td>1</td>\n      <td>0</td>\n      <td>...</td>\n      <td>0</td>\n      <td>1</td>\n      <td>0</td>\n      <td>0</td>\n      <td>0</td>\n      <td>0</td>\n      <td>0</td>\n      <td>1</td>\n      <td>0</td>\n      <td>1</td>\n    </tr>\n    <tr>\n      <th>1</th>\n      <td>0</td>\n      <td>1</td>\n      <td>0</td>\n      <td>1</td>\n      <td>1</td>\n      <td>0</td>\n      <td>0</td>\n      <td>0</td>\n      <td>0</td>\n      <td>1</td>\n      <td>...</td>\n      <td>0</td>\n      <td>0</td>\n      <td>0</td>\n      <td>0</td>\n      <td>1</td>\n      <td>2</td>\n      <td>0</td>\n      <td>2</td>\n      <td>0</td>\n      <td>2</td>\n    </tr>\n    <tr>\n      <th>2</th>\n      <td>2</td>\n      <td>0</td>\n      <td>1</td>\n      <td>0</td>\n      <td>0</td>\n      <td>1</td>\n      <td>1</td>\n      <td>0</td>\n      <td>0</td>\n      <td>0</td>\n      <td>...</td>\n      <td>1</td>\n      <td>1</td>\n      <td>1</td>\n      <td>1</td>\n      <td>1</td>\n      <td>0</td>\n      <td>1</td>\n      <td>0</td>\n      <td>2</td>\n      <td>0</td>\n    </tr>\n  </tbody>\n</table>\n<p>3 rows × 61 columns</p>\n</div>"
     },
     "metadata": {},
     "execution_count": 44
    }
   ],
   "source": [
    "dtm.head(3)"
   ]
  },
  {
   "cell_type": "code",
   "execution_count": 48,
   "metadata": {},
   "outputs": [
    {
     "output_type": "execute_result",
     "data": {
      "text/plain": [
       "which          3\n",
       "we             3\n",
       "quality        2\n",
       "by             2\n",
       "content        2\n",
       "              ..\n",
       "thought        1\n",
       "internet       1\n",
       "interesting    1\n",
       "indicator      1\n",
       "karma          1\n",
       "Length: 61, dtype: int64"
      ]
     },
     "metadata": {},
     "execution_count": 48
    }
   ],
   "source": [
    "dtm.sum(axis=0).sort_values(ascending=False)"
   ]
  },
  {
   "cell_type": "code",
   "execution_count": 49,
   "metadata": {},
   "outputs": [
    {
     "output_type": "execute_result",
     "data": {
      "text/plain": [
       "b'Mobiles rack up 20 years of use\\n\\nMobile phones in the UK are celebrating their 20th anniversary this weekend.\\n\\nBritain\\'s first mobile phone call was made across the Vodafone network on 1 January 1985 by veteran comedian Ernie Wise. In the 20 years since that day, mobile phones have become an integral part of modern life and now almost 90% of Britons own a handset. Mobiles have become so popular that many people use their handset as their only phone and rarely use a landline.\\n\\nThe first ever call over a portable phone was made in 1973 in New York but it took 10 years for the first commercial mobile service to be launched. The UK was not far behind the rest of the world in setting up networks in 1985 that let people make calls while they walked. The first call was made from St Katherine\\'s dock to Vodafone\\'s head office in Newbury which at the time was over a curry house. For the first nine days of 1985 Vodafone was the only firm with a mobile network in the UK. Then on 10 January Cellnet (now O2) launched its service. Mike Caudwell, spokesman for Vodafone, said that when phones were launched they were the size of a briefcase, cost about \\xc2\\xa32,000 and had a battery life of little more than 20 minutes.\\n\\n\"Despite that they were hugely popular in the mid-80s,\" he said. \"They became a yuppy must-have and a status symbol among young wealthy business folk.\" This was also despite the fact that the phones used analogue radio signals to communicate which made them very easy to eavesdrop on. He said it took Vodafone almost nine years to rack up its first million customers but only 18 months to get the second million. \"It\\'s very easy to forget that in 1983 when we put the bid document in we were forecasting that the total market would be two million people,\" he said. \"Cellnet was forecasting half that.\" Now Vodafone has 14m customers in the UK alone. Cellnet and Vodafone were the only mobile phone operators in the UK until 1993 when One2One (now T-Mobile) was launched. Orange had its UK launch in 1994. Both newcomers operated digital mobile networks and now all operators use this technology. The analogue spectrum for the old phones has been retired. Called Global System for Mobiles (GSM) this is now the most widely used phone technology on the planet and is used to help more than 1.2 billion people make calls. Mr Caudwell said the advent of digital technology also helped to introduce all those things, such as text messaging and roaming that have made mobiles so popular.\\n'"
      ]
     },
     "metadata": {},
     "execution_count": 49
    }
   ],
   "source": [
    "data[0]"
   ]
  },
  {
   "cell_type": "code",
   "execution_count": null,
   "metadata": {
    "deletable": false,
    "nbgrader": {
     "cell_type": "code",
     "checksum": "b643c1a5b8797cc327b062bc1785b1d3",
     "grade": false,
     "grade_id": "cell-93323028a4bfd7e7",
     "locked": false,
     "schema_version": 3,
     "solution": true,
     "task": false
    }
   },
   "outputs": [],
   "source": [
    "# explore the document-term matrix \n",
    "\n",
    "# Get feature names\n",
    "\n",
    "# print out raw text for comparison with  indexing \n",
    "\n",
    "# show indexing of token count \n",
    "\n",
    "# Dealing with Sparse Matrix\n",
    "\n",
    "# Get Word Counts for each document\n",
    "\n",
    "# YOUR CODE HERE\n",
    "raise NotImplementedError()"
   ]
  },
  {
   "cell_type": "markdown",
   "metadata": {},
   "source": [
    "**Three Minute Challenge:** \n",
    "* Apply CountVectorizer to our BBC Data\n",
    "* Store results in a dataframe called `dtm`\n",
    "* Extra Challenge - Try to Customize CountVectorizer with Spacy Processing"
   ]
  },
  {
   "cell_type": "code",
   "execution_count": 62,
   "metadata": {
    "deletable": false,
    "nbgrader": {
     "cell_type": "code",
     "checksum": "a4ac8970215fdb46a14765a414991e5d",
     "grade": false,
     "grade_id": "cell-3a7cd500efe1978b",
     "locked": false,
     "schema_version": 3,
     "solution": true,
     "task": false
    }
   },
   "outputs": [
    {
     "output_type": "stream",
     "name": "stdout",
     "text": [
      "(401, 9065)\n"
     ]
    },
    {
     "output_type": "execute_result",
     "data": {
      "text/plain": [
       "     000 000  000 broadband  000 copies  000 mobile  000 new  000 new gadgets  \\\n",
       "0          0              0           0           0        0                0   \n",
       "1          0              0           0           0        0                0   \n",
       "2          0              0           0           0        0                0   \n",
       "3          0              0           0           0        0                0   \n",
       "4          0              0           0           0        0                0   \n",
       "..       ...            ...         ...         ...      ...              ...   \n",
       "396        0              0           0           0        0                0   \n",
       "397        0              0           0           0        0                0   \n",
       "398        0              0           0           0        0                0   \n",
       "399        0              0           0           0        0                0   \n",
       "400        0              0           0           0        0                0   \n",
       "\n",
       "     000 new products  000 people  000 people expected  000 readers  ...  \\\n",
       "0                   0           0                    0            0  ...   \n",
       "1                   0           0                    0            0  ...   \n",
       "2                   0           0                    0            0  ...   \n",
       "3                   0           0                    0            0  ...   \n",
       "4                   0           0                    0            0  ...   \n",
       "..                ...         ...                  ...          ...  ...   \n",
       "396                 0           0                    0            0  ...   \n",
       "397                 0           0                    0            0  ...   \n",
       "398                 0           0                    0            0  ...   \n",
       "399                 0           0                    0            0  ...   \n",
       "400                 0           0                    0            0  ...   \n",
       "\n",
       "     younger users  youngsters  youth  zelda  zen  zen micro  zip  zombies  \\\n",
       "0                0           0      0      0    0          0    0        0   \n",
       "1                0           0      0      0    0          0    0        0   \n",
       "2                0           0      0      0    0          0    0        0   \n",
       "3                0           0      0      0    0          0    0        0   \n",
       "4                0           0      0      0    0          0    0        0   \n",
       "..             ...         ...    ...    ...  ...        ...  ...      ...   \n",
       "396              0           0      0      0    0          0    0        0   \n",
       "397              0           0      0      0    0          0    0        0   \n",
       "398              0           0      0      0    0          0    0        0   \n",
       "399              0           0      0      0    0          0    0        0   \n",
       "400              0           0      0      0    0          0    0        0   \n",
       "\n",
       "     zone  zoom  \n",
       "0       0     0  \n",
       "1       0     0  \n",
       "2       0     0  \n",
       "3       0     0  \n",
       "4       0     0  \n",
       "..    ...   ...  \n",
       "396     0     0  \n",
       "397     0     0  \n",
       "398     0     0  \n",
       "399     0     0  \n",
       "400     0     0  \n",
       "\n",
       "[401 rows x 9065 columns]"
      ],
      "text/html": "<div>\n<style scoped>\n    .dataframe tbody tr th:only-of-type {\n        vertical-align: middle;\n    }\n\n    .dataframe tbody tr th {\n        vertical-align: top;\n    }\n\n    .dataframe thead th {\n        text-align: right;\n    }\n</style>\n<table border=\"1\" class=\"dataframe\">\n  <thead>\n    <tr style=\"text-align: right;\">\n      <th></th>\n      <th>000 000</th>\n      <th>000 broadband</th>\n      <th>000 copies</th>\n      <th>000 mobile</th>\n      <th>000 new</th>\n      <th>000 new gadgets</th>\n      <th>000 new products</th>\n      <th>000 people</th>\n      <th>000 people expected</th>\n      <th>000 readers</th>\n      <th>...</th>\n      <th>younger users</th>\n      <th>youngsters</th>\n      <th>youth</th>\n      <th>zelda</th>\n      <th>zen</th>\n      <th>zen micro</th>\n      <th>zip</th>\n      <th>zombies</th>\n      <th>zone</th>\n      <th>zoom</th>\n    </tr>\n  </thead>\n  <tbody>\n    <tr>\n      <th>0</th>\n      <td>0</td>\n      <td>0</td>\n      <td>0</td>\n      <td>0</td>\n      <td>0</td>\n      <td>0</td>\n      <td>0</td>\n      <td>0</td>\n      <td>0</td>\n      <td>0</td>\n      <td>...</td>\n      <td>0</td>\n      <td>0</td>\n      <td>0</td>\n      <td>0</td>\n      <td>0</td>\n      <td>0</td>\n      <td>0</td>\n      <td>0</td>\n      <td>0</td>\n      <td>0</td>\n    </tr>\n    <tr>\n      <th>1</th>\n      <td>0</td>\n      <td>0</td>\n      <td>0</td>\n      <td>0</td>\n      <td>0</td>\n      <td>0</td>\n      <td>0</td>\n      <td>0</td>\n      <td>0</td>\n      <td>0</td>\n      <td>...</td>\n      <td>0</td>\n      <td>0</td>\n      <td>0</td>\n      <td>0</td>\n      <td>0</td>\n      <td>0</td>\n      <td>0</td>\n      <td>0</td>\n      <td>0</td>\n      <td>0</td>\n    </tr>\n    <tr>\n      <th>2</th>\n      <td>0</td>\n      <td>0</td>\n      <td>0</td>\n      <td>0</td>\n      <td>0</td>\n      <td>0</td>\n      <td>0</td>\n      <td>0</td>\n      <td>0</td>\n      <td>0</td>\n      <td>...</td>\n      <td>0</td>\n      <td>0</td>\n      <td>0</td>\n      <td>0</td>\n      <td>0</td>\n      <td>0</td>\n      <td>0</td>\n      <td>0</td>\n      <td>0</td>\n      <td>0</td>\n    </tr>\n    <tr>\n      <th>3</th>\n      <td>0</td>\n      <td>0</td>\n      <td>0</td>\n      <td>0</td>\n      <td>0</td>\n      <td>0</td>\n      <td>0</td>\n      <td>0</td>\n      <td>0</td>\n      <td>0</td>\n      <td>...</td>\n      <td>0</td>\n      <td>0</td>\n      <td>0</td>\n      <td>0</td>\n      <td>0</td>\n      <td>0</td>\n      <td>0</td>\n      <td>0</td>\n      <td>0</td>\n      <td>0</td>\n    </tr>\n    <tr>\n      <th>4</th>\n      <td>0</td>\n      <td>0</td>\n      <td>0</td>\n      <td>0</td>\n      <td>0</td>\n      <td>0</td>\n      <td>0</td>\n      <td>0</td>\n      <td>0</td>\n      <td>0</td>\n      <td>...</td>\n      <td>0</td>\n      <td>0</td>\n      <td>0</td>\n      <td>0</td>\n      <td>0</td>\n      <td>0</td>\n      <td>0</td>\n      <td>0</td>\n      <td>0</td>\n      <td>0</td>\n    </tr>\n    <tr>\n      <th>...</th>\n      <td>...</td>\n      <td>...</td>\n      <td>...</td>\n      <td>...</td>\n      <td>...</td>\n      <td>...</td>\n      <td>...</td>\n      <td>...</td>\n      <td>...</td>\n      <td>...</td>\n      <td>...</td>\n      <td>...</td>\n      <td>...</td>\n      <td>...</td>\n      <td>...</td>\n      <td>...</td>\n      <td>...</td>\n      <td>...</td>\n      <td>...</td>\n      <td>...</td>\n      <td>...</td>\n    </tr>\n    <tr>\n      <th>396</th>\n      <td>0</td>\n      <td>0</td>\n      <td>0</td>\n      <td>0</td>\n      <td>0</td>\n      <td>0</td>\n      <td>0</td>\n      <td>0</td>\n      <td>0</td>\n      <td>0</td>\n      <td>...</td>\n      <td>0</td>\n      <td>0</td>\n      <td>0</td>\n      <td>0</td>\n      <td>0</td>\n      <td>0</td>\n      <td>0</td>\n      <td>0</td>\n      <td>0</td>\n      <td>0</td>\n    </tr>\n    <tr>\n      <th>397</th>\n      <td>0</td>\n      <td>0</td>\n      <td>0</td>\n      <td>0</td>\n      <td>0</td>\n      <td>0</td>\n      <td>0</td>\n      <td>0</td>\n      <td>0</td>\n      <td>0</td>\n      <td>...</td>\n      <td>0</td>\n      <td>0</td>\n      <td>0</td>\n      <td>0</td>\n      <td>0</td>\n      <td>0</td>\n      <td>0</td>\n      <td>0</td>\n      <td>0</td>\n      <td>0</td>\n    </tr>\n    <tr>\n      <th>398</th>\n      <td>0</td>\n      <td>0</td>\n      <td>0</td>\n      <td>0</td>\n      <td>0</td>\n      <td>0</td>\n      <td>0</td>\n      <td>0</td>\n      <td>0</td>\n      <td>0</td>\n      <td>...</td>\n      <td>0</td>\n      <td>0</td>\n      <td>0</td>\n      <td>0</td>\n      <td>0</td>\n      <td>0</td>\n      <td>0</td>\n      <td>0</td>\n      <td>0</td>\n      <td>0</td>\n    </tr>\n    <tr>\n      <th>399</th>\n      <td>0</td>\n      <td>0</td>\n      <td>0</td>\n      <td>0</td>\n      <td>0</td>\n      <td>0</td>\n      <td>0</td>\n      <td>0</td>\n      <td>0</td>\n      <td>0</td>\n      <td>...</td>\n      <td>0</td>\n      <td>0</td>\n      <td>0</td>\n      <td>0</td>\n      <td>0</td>\n      <td>0</td>\n      <td>0</td>\n      <td>0</td>\n      <td>0</td>\n      <td>0</td>\n    </tr>\n    <tr>\n      <th>400</th>\n      <td>0</td>\n      <td>0</td>\n      <td>0</td>\n      <td>0</td>\n      <td>0</td>\n      <td>0</td>\n      <td>0</td>\n      <td>0</td>\n      <td>0</td>\n      <td>0</td>\n      <td>...</td>\n      <td>0</td>\n      <td>0</td>\n      <td>0</td>\n      <td>0</td>\n      <td>0</td>\n      <td>0</td>\n      <td>0</td>\n      <td>0</td>\n      <td>0</td>\n      <td>0</td>\n    </tr>\n  </tbody>\n</table>\n<p>401 rows × 9065 columns</p>\n</div>"
     },
     "metadata": {},
     "execution_count": 62
    }
   ],
   "source": [
    "# Apply CountVectorizer to our Data\n",
    "# Use custom Spacy Vectorizer\n",
    "# BBC articles in `data` variable\n",
    "\n",
    "from sklearn.feature_extraction.text import CountVectorizer\n",
    "\n",
    "#Learn our Vocab\n",
    "vect = CountVectorizer(stop_words='english', ngram_range=(1,3), min_df=3, max_df=0.25)  # ngram bi gram or tri gram, min_df: minimum number of documents a word must appear in to be counted as a word, what is max a word can appear in before we trim that word, max_features the maximum number of times a word appears as a count\n",
    "\n",
    "# Get sparse dtm (i.e. transform the data)\n",
    "# fit the model first\n",
    "vect.fit(data)\n",
    "\n",
    "# transform\n",
    "dtm = vect.transform(data)\n",
    "\n",
    "# then convert to the dataframe\n",
    "dtm = pd.DataFrame(dtm.todense(), columns=vect.get_feature_names())\n",
    "print(dtm.shape)\n",
    "dtm\n",
    "\n",
    "# <NUM>, <DATE> etc. replace numbers with tokens that is an idea to manage the numbers in the documents\n"
   ]
  },
  {
   "cell_type": "code",
   "execution_count": null,
   "metadata": {},
   "outputs": [],
   "source": []
  },
  {
   "cell_type": "markdown",
   "metadata": {},
   "source": [
    "# TfidfVectorizer\n",
    "\n",
    "## Term Frequency - Inverse Document Frequency (TF-IDF)\n",
    "\n",
    "![](https://miro.medium.com/max/1404/1*mu6G-cBmWlENS4pWHEnGcg@2x.jpeg)\n",
    "\n",
    "\n",
    "**Term Frequency:** Percentage of words in document for each word\n",
    "\n",
    "**Document Frequency:** A penalty for the word existing in a high number of documents.\n",
    "\n",
    "The purpose of TF-IDF is to find what is **unique** to each document. Because of this we will penalize the term frequencies of words that are common across all documents which will allow for each document's most different topics to rise to the top.\n"
   ]
  },
  {
   "cell_type": "markdown",
   "metadata": {},
   "source": [
    "![](https://upload.wikimedia.org/wikipedia/commons/8/81/Logarithm_plots.png)\n",
    "\n",
    "It's useful to reference both the algebraic and geometric representations of a single mathematical ideal whenever possible in order to build the fullest understanding possible. "
   ]
  },
  {
   "cell_type": "markdown",
   "metadata": {},
   "source": [
    "The IDf portion of the TF-IDF equation has been coded up below so that we can play around with the values and get a better understanding of how this portion of the equation works. \n",
    "\n",
    "NOTE: There are many different ways that one could choose to construct the equation for the IDF term, don't let that trip you up; different constructions of the equation serve different purposes and which you ultimately use simply depends on your problem/task. You can [check out a few different ways to build that IDF term here](https://en.wikipedia.org/wiki/Tf%E2%80%93idf)\n",
    "\n",
    "In practice, you usually don't even have to think about the mathematical formulation of the IDF term. You simply import the tfidf vectorizer and use it's api. The rare exception to this would if you are working a very particular kind of problem where the open source implementation of tfidf doesn't suit your needs and so then you might consider creating your own equation or using a different one that you read about. "
   ]
  },
  {
   "cell_type": "code",
   "execution_count": 66,
   "metadata": {
    "deletable": false,
    "nbgrader": {
     "cell_type": "code",
     "checksum": "a0019ae3b41a0fb3ba320455234a91e6",
     "grade": false,
     "grade_id": "cell-42ea879566124b8c",
     "locked": false,
     "schema_version": 3,
     "solution": true,
     "task": false
    }
   },
   "outputs": [],
   "source": [
    "# inverse document frequency score \n",
    "# the plus ones are constants that shift the around the baseline value \n",
    "def idf(n, df):\n",
    "    \"\"\"\n",
    "    Parameters\n",
    "    ----------\n",
    "    n: int\n",
    "        num of docs in corpus \n",
    "        \n",
    "    df: int\n",
    "        num of docs that term t (i.e. a token) appears in \n",
    "\n",
    "    Returns\n",
    "    -------\n",
    "    inverse docuemnt frequency: float\n",
    "    \"\"\"\n",
    "    \n",
    "    # YOUR CODE HERE\n",
    "    return np.log(n/df)"
   ]
  },
  {
   "cell_type": "code",
   "execution_count": 69,
   "metadata": {
    "deletable": false,
    "nbgrader": {
     "cell_type": "code",
     "checksum": "201f7a5accf88d1f4e25c628a998a871",
     "grade": false,
     "grade_id": "cell-4e40eb25d7faed91",
     "locked": false,
     "schema_version": 3,
     "solution": true,
     "task": false
    }
   },
   "outputs": [
    {
     "output_type": "execute_result",
     "data": {
      "text/plain": [
       "[4.605170185988092,\n",
       " 3.912023005428146,\n",
       " 3.506557897319982,\n",
       " 3.2188758248682006,\n",
       " 2.995732273553991,\n",
       " 2.8134107167600364,\n",
       " 2.659260036932778,\n",
       " 2.5257286443082556,\n",
       " 2.407945608651872,\n",
       " 2.302585092994046,\n",
       " 2.207274913189721,\n",
       " 2.120263536200091,\n",
       " 2.0402208285265546,\n",
       " 1.9661128563728327,\n",
       " 1.8971199848858813,\n",
       " 1.8325814637483102,\n",
       " 1.7719568419318754,\n",
       " 1.7147984280919266,\n",
       " 1.6607312068216509,\n",
       " 1.6094379124341003,\n",
       " 1.5606477482646683,\n",
       " 1.5141277326297755,\n",
       " 1.4696759700589417,\n",
       " 1.4271163556401458,\n",
       " 1.3862943611198906,\n",
       " 1.3470736479666094,\n",
       " 1.3093333199837622,\n",
       " 1.2729656758128876,\n",
       " 1.2378743560016172,\n",
       " 1.2039728043259361,\n",
       " 1.171182981502945,\n",
       " 1.1394342831883648,\n",
       " 1.1086626245216111,\n",
       " 1.07880966137193,\n",
       " 1.0498221244986776,\n",
       " 1.0216512475319812,\n",
       " 0.9942522733438669,\n",
       " 0.9675840262617057,\n",
       " 0.9416085398584451,\n",
       " 0.9162907318741551,\n",
       " 0.8915981192837835,\n",
       " 0.8675005677047231,\n",
       " 0.843970070294529,\n",
       " 0.8209805520698303,\n",
       " 0.7985076962177716,\n",
       " 0.7765287894989963,\n",
       " 0.7550225842780328,\n",
       " 0.7339691750802005,\n",
       " 0.7133498878774648,\n",
       " 0.6931471805599453,\n",
       " 0.6733445532637655,\n",
       " 0.653926467406664,\n",
       " 0.6348782724359695,\n",
       " 0.616186139423817,\n",
       " 0.5978370007556204,\n",
       " 0.5798184952529422,\n",
       " 0.5621189181535412,\n",
       " 0.5447271754416719,\n",
       " 0.5276327420823719,\n",
       " 0.5108256237659907,\n",
       " 0.49429632181478017,\n",
       " 0.47803580094299974,\n",
       " 0.4620354595965586,\n",
       " 0.44628710262841953,\n",
       " 0.43078291609245434,\n",
       " 0.4155154439616658,\n",
       " 0.40047756659712536,\n",
       " 0.38566248081198473,\n",
       " 0.37106368139083196,\n",
       " 0.3566749439387324,\n",
       " 0.3424903089467759,\n",
       " 0.32850406697203605,\n",
       " 0.3147107448397002,\n",
       " 0.3011050927839216,\n",
       " 0.28768207245178085,\n",
       " 0.27443684570176036,\n",
       " 0.2613647641344075,\n",
       " 0.24846135929849972,\n",
       " 0.23572233352106994,\n",
       " 0.22314355131420976,\n",
       " 0.21072103131565253,\n",
       " 0.19845093872383823,\n",
       " 0.18632957819149354,\n",
       " 0.17435338714477774,\n",
       " 0.16251892949777494,\n",
       " 0.1508228897345837,\n",
       " 0.1392620673335076,\n",
       " 0.127833371509885,\n",
       " 0.1165338162559516,\n",
       " 0.10536051565782635,\n",
       " 0.09431067947124142,\n",
       " 0.083381608939051,\n",
       " 0.07257069283483537,\n",
       " 0.06187540371808745,\n",
       " 0.05129329438755048,\n",
       " 0.0408219945202552,\n",
       " 0.03045920748470844,\n",
       " 0.02020270731751947,\n",
       " 0.010050335853501506,\n",
       " 0.0]"
      ]
     },
     "metadata": {},
     "execution_count": 69
    }
   ],
   "source": [
    "n = 100 # number of document in corpus\n",
    "IDF = []\n",
    "\n",
    "for  df in range(1, n+1):       # df document frequency\n",
    "    idf_score = idf(n,df)\n",
    "    IDF.append(idf_score)\n",
    "IDF"
   ]
  },
  {
   "cell_type": "code",
   "execution_count": 68,
   "metadata": {},
   "outputs": [
    {
     "output_type": "display_data",
     "data": {
      "text/plain": "<Figure size 1080x432 with 1 Axes>",
      "image/svg+xml": "<?xml version=\"1.0\" encoding=\"utf-8\" standalone=\"no\"?>\n<!DOCTYPE svg PUBLIC \"-//W3C//DTD SVG 1.1//EN\"\n  \"http://www.w3.org/Graphics/SVG/1.1/DTD/svg11.dtd\">\n<svg height=\"386.034375pt\" version=\"1.1\" viewBox=\"0 0 878.440625 386.034375\" width=\"878.440625pt\" xmlns=\"http://www.w3.org/2000/svg\" xmlns:xlink=\"http://www.w3.org/1999/xlink\">\n <metadata>\n  <rdf:RDF xmlns:cc=\"http://creativecommons.org/ns#\" xmlns:dc=\"http://purl.org/dc/elements/1.1/\" xmlns:rdf=\"http://www.w3.org/1999/02/22-rdf-syntax-ns#\">\n   <cc:Work>\n    <dc:type rdf:resource=\"http://purl.org/dc/dcmitype/StillImage\"/>\n    <dc:date>2021-05-06T22:32:24.890818</dc:date>\n    <dc:format>image/svg+xml</dc:format>\n    <dc:creator>\n     <cc:Agent>\n      <dc:title>Matplotlib v3.4.1, https://matplotlib.org/</dc:title>\n     </cc:Agent>\n    </dc:creator>\n   </cc:Work>\n  </rdf:RDF>\n </metadata>\n <defs>\n  <style type=\"text/css\">*{stroke-linecap:butt;stroke-linejoin:round;}</style>\n </defs>\n <g id=\"figure_1\">\n  <g id=\"patch_1\">\n   <path d=\"M 0 386.034375 \nL 878.440625 386.034375 \nL 878.440625 0 \nL 0 0 \nz\n\" style=\"fill:none;\"/>\n  </g>\n  <g id=\"axes_1\">\n   <g id=\"patch_2\">\n    <path d=\"M 34.240625 348.478125 \nL 871.240625 348.478125 \nL 871.240625 22.318125 \nL 34.240625 22.318125 \nz\n\" style=\"fill:#ffffff;\"/>\n   </g>\n   <g id=\"matplotlib.axis_1\">\n    <g id=\"xtick_1\">\n     <g id=\"line2d_1\">\n      <path clip-path=\"url(#p5587c505f6)\" d=\"M 72.28608 348.478125 \nL 72.28608 22.318125 \n\" style=\"fill:none;stroke:#b0b0b0;stroke-linecap:square;stroke-width:0.8;\"/>\n     </g>\n     <g id=\"line2d_2\">\n      <defs>\n       <path d=\"M 0 0 \nL 0 3.5 \n\" id=\"m4ab2da0b03\" style=\"stroke:#000000;stroke-width:0.8;\"/>\n      </defs>\n      <g>\n       <use style=\"stroke:#000000;stroke-width:0.8;\" x=\"72.28608\" xlink:href=\"#m4ab2da0b03\" y=\"348.478125\"/>\n      </g>\n     </g>\n     <g id=\"text_1\">\n      <!-- 0 -->\n      <g transform=\"translate(69.10483 363.076562)scale(0.1 -0.1)\">\n       <defs>\n        <path d=\"M 2034 4250 \nQ 1547 4250 1301 3770 \nQ 1056 3291 1056 2328 \nQ 1056 1369 1301 889 \nQ 1547 409 2034 409 \nQ 2525 409 2770 889 \nQ 3016 1369 3016 2328 \nQ 3016 3291 2770 3770 \nQ 2525 4250 2034 4250 \nz\nM 2034 4750 \nQ 2819 4750 3233 4129 \nQ 3647 3509 3647 2328 \nQ 3647 1150 3233 529 \nQ 2819 -91 2034 -91 \nQ 1250 -91 836 529 \nQ 422 1150 422 2328 \nQ 422 3509 836 4129 \nQ 1250 4750 2034 4750 \nz\n\" id=\"DejaVuSans-30\" transform=\"scale(0.015625)\"/>\n       </defs>\n       <use xlink:href=\"#DejaVuSans-30\"/>\n      </g>\n     </g>\n    </g>\n    <g id=\"xtick_2\">\n     <g id=\"line2d_3\">\n      <path clip-path=\"url(#p5587c505f6)\" d=\"M 226.005088 348.478125 \nL 226.005088 22.318125 \n\" style=\"fill:none;stroke:#b0b0b0;stroke-linecap:square;stroke-width:0.8;\"/>\n     </g>\n     <g id=\"line2d_4\">\n      <g>\n       <use style=\"stroke:#000000;stroke-width:0.8;\" x=\"226.005088\" xlink:href=\"#m4ab2da0b03\" y=\"348.478125\"/>\n      </g>\n     </g>\n     <g id=\"text_2\">\n      <!-- 20 -->\n      <g transform=\"translate(219.642588 363.076562)scale(0.1 -0.1)\">\n       <defs>\n        <path d=\"M 1228 531 \nL 3431 531 \nL 3431 0 \nL 469 0 \nL 469 531 \nQ 828 903 1448 1529 \nQ 2069 2156 2228 2338 \nQ 2531 2678 2651 2914 \nQ 2772 3150 2772 3378 \nQ 2772 3750 2511 3984 \nQ 2250 4219 1831 4219 \nQ 1534 4219 1204 4116 \nQ 875 4013 500 3803 \nL 500 4441 \nQ 881 4594 1212 4672 \nQ 1544 4750 1819 4750 \nQ 2544 4750 2975 4387 \nQ 3406 4025 3406 3419 \nQ 3406 3131 3298 2873 \nQ 3191 2616 2906 2266 \nQ 2828 2175 2409 1742 \nQ 1991 1309 1228 531 \nz\n\" id=\"DejaVuSans-32\" transform=\"scale(0.015625)\"/>\n       </defs>\n       <use xlink:href=\"#DejaVuSans-32\"/>\n       <use x=\"63.623047\" xlink:href=\"#DejaVuSans-30\"/>\n      </g>\n     </g>\n    </g>\n    <g id=\"xtick_3\">\n     <g id=\"line2d_5\">\n      <path clip-path=\"url(#p5587c505f6)\" d=\"M 379.724096 348.478125 \nL 379.724096 22.318125 \n\" style=\"fill:none;stroke:#b0b0b0;stroke-linecap:square;stroke-width:0.8;\"/>\n     </g>\n     <g id=\"line2d_6\">\n      <g>\n       <use style=\"stroke:#000000;stroke-width:0.8;\" x=\"379.724096\" xlink:href=\"#m4ab2da0b03\" y=\"348.478125\"/>\n      </g>\n     </g>\n     <g id=\"text_3\">\n      <!-- 40 -->\n      <g transform=\"translate(373.361596 363.076562)scale(0.1 -0.1)\">\n       <defs>\n        <path d=\"M 2419 4116 \nL 825 1625 \nL 2419 1625 \nL 2419 4116 \nz\nM 2253 4666 \nL 3047 4666 \nL 3047 1625 \nL 3713 1625 \nL 3713 1100 \nL 3047 1100 \nL 3047 0 \nL 2419 0 \nL 2419 1100 \nL 313 1100 \nL 313 1709 \nL 2253 4666 \nz\n\" id=\"DejaVuSans-34\" transform=\"scale(0.015625)\"/>\n       </defs>\n       <use xlink:href=\"#DejaVuSans-34\"/>\n       <use x=\"63.623047\" xlink:href=\"#DejaVuSans-30\"/>\n      </g>\n     </g>\n    </g>\n    <g id=\"xtick_4\">\n     <g id=\"line2d_7\">\n      <path clip-path=\"url(#p5587c505f6)\" d=\"M 533.443104 348.478125 \nL 533.443104 22.318125 \n\" style=\"fill:none;stroke:#b0b0b0;stroke-linecap:square;stroke-width:0.8;\"/>\n     </g>\n     <g id=\"line2d_8\">\n      <g>\n       <use style=\"stroke:#000000;stroke-width:0.8;\" x=\"533.443104\" xlink:href=\"#m4ab2da0b03\" y=\"348.478125\"/>\n      </g>\n     </g>\n     <g id=\"text_4\">\n      <!-- 60 -->\n      <g transform=\"translate(527.080604 363.076562)scale(0.1 -0.1)\">\n       <defs>\n        <path d=\"M 2113 2584 \nQ 1688 2584 1439 2293 \nQ 1191 2003 1191 1497 \nQ 1191 994 1439 701 \nQ 1688 409 2113 409 \nQ 2538 409 2786 701 \nQ 3034 994 3034 1497 \nQ 3034 2003 2786 2293 \nQ 2538 2584 2113 2584 \nz\nM 3366 4563 \nL 3366 3988 \nQ 3128 4100 2886 4159 \nQ 2644 4219 2406 4219 \nQ 1781 4219 1451 3797 \nQ 1122 3375 1075 2522 \nQ 1259 2794 1537 2939 \nQ 1816 3084 2150 3084 \nQ 2853 3084 3261 2657 \nQ 3669 2231 3669 1497 \nQ 3669 778 3244 343 \nQ 2819 -91 2113 -91 \nQ 1303 -91 875 529 \nQ 447 1150 447 2328 \nQ 447 3434 972 4092 \nQ 1497 4750 2381 4750 \nQ 2619 4750 2861 4703 \nQ 3103 4656 3366 4563 \nz\n\" id=\"DejaVuSans-36\" transform=\"scale(0.015625)\"/>\n       </defs>\n       <use xlink:href=\"#DejaVuSans-36\"/>\n       <use x=\"63.623047\" xlink:href=\"#DejaVuSans-30\"/>\n      </g>\n     </g>\n    </g>\n    <g id=\"xtick_5\">\n     <g id=\"line2d_9\">\n      <path clip-path=\"url(#p5587c505f6)\" d=\"M 687.162113 348.478125 \nL 687.162113 22.318125 \n\" style=\"fill:none;stroke:#b0b0b0;stroke-linecap:square;stroke-width:0.8;\"/>\n     </g>\n     <g id=\"line2d_10\">\n      <g>\n       <use style=\"stroke:#000000;stroke-width:0.8;\" x=\"687.162113\" xlink:href=\"#m4ab2da0b03\" y=\"348.478125\"/>\n      </g>\n     </g>\n     <g id=\"text_5\">\n      <!-- 80 -->\n      <g transform=\"translate(680.799613 363.076562)scale(0.1 -0.1)\">\n       <defs>\n        <path d=\"M 2034 2216 \nQ 1584 2216 1326 1975 \nQ 1069 1734 1069 1313 \nQ 1069 891 1326 650 \nQ 1584 409 2034 409 \nQ 2484 409 2743 651 \nQ 3003 894 3003 1313 \nQ 3003 1734 2745 1975 \nQ 2488 2216 2034 2216 \nz\nM 1403 2484 \nQ 997 2584 770 2862 \nQ 544 3141 544 3541 \nQ 544 4100 942 4425 \nQ 1341 4750 2034 4750 \nQ 2731 4750 3128 4425 \nQ 3525 4100 3525 3541 \nQ 3525 3141 3298 2862 \nQ 3072 2584 2669 2484 \nQ 3125 2378 3379 2068 \nQ 3634 1759 3634 1313 \nQ 3634 634 3220 271 \nQ 2806 -91 2034 -91 \nQ 1263 -91 848 271 \nQ 434 634 434 1313 \nQ 434 1759 690 2068 \nQ 947 2378 1403 2484 \nz\nM 1172 3481 \nQ 1172 3119 1398 2916 \nQ 1625 2713 2034 2713 \nQ 2441 2713 2670 2916 \nQ 2900 3119 2900 3481 \nQ 2900 3844 2670 4047 \nQ 2441 4250 2034 4250 \nQ 1625 4250 1398 4047 \nQ 1172 3844 1172 3481 \nz\n\" id=\"DejaVuSans-38\" transform=\"scale(0.015625)\"/>\n       </defs>\n       <use xlink:href=\"#DejaVuSans-38\"/>\n       <use x=\"63.623047\" xlink:href=\"#DejaVuSans-30\"/>\n      </g>\n     </g>\n    </g>\n    <g id=\"xtick_6\">\n     <g id=\"line2d_11\">\n      <path clip-path=\"url(#p5587c505f6)\" d=\"M 840.881121 348.478125 \nL 840.881121 22.318125 \n\" style=\"fill:none;stroke:#b0b0b0;stroke-linecap:square;stroke-width:0.8;\"/>\n     </g>\n     <g id=\"line2d_12\">\n      <g>\n       <use style=\"stroke:#000000;stroke-width:0.8;\" x=\"840.881121\" xlink:href=\"#m4ab2da0b03\" y=\"348.478125\"/>\n      </g>\n     </g>\n     <g id=\"text_6\">\n      <!-- 100 -->\n      <g transform=\"translate(831.337371 363.076562)scale(0.1 -0.1)\">\n       <defs>\n        <path d=\"M 794 531 \nL 1825 531 \nL 1825 4091 \nL 703 3866 \nL 703 4441 \nL 1819 4666 \nL 2450 4666 \nL 2450 531 \nL 3481 531 \nL 3481 0 \nL 794 0 \nL 794 531 \nz\n\" id=\"DejaVuSans-31\" transform=\"scale(0.015625)\"/>\n       </defs>\n       <use xlink:href=\"#DejaVuSans-31\"/>\n       <use x=\"63.623047\" xlink:href=\"#DejaVuSans-30\"/>\n       <use x=\"127.246094\" xlink:href=\"#DejaVuSans-30\"/>\n      </g>\n     </g>\n    </g>\n    <g id=\"text_7\">\n     <!-- Document Frequency of Token -->\n     <g transform=\"translate(377.198438 376.754687)scale(0.1 -0.1)\">\n      <defs>\n       <path d=\"M 1259 4147 \nL 1259 519 \nL 2022 519 \nQ 2988 519 3436 956 \nQ 3884 1394 3884 2338 \nQ 3884 3275 3436 3711 \nQ 2988 4147 2022 4147 \nL 1259 4147 \nz\nM 628 4666 \nL 1925 4666 \nQ 3281 4666 3915 4102 \nQ 4550 3538 4550 2338 \nQ 4550 1131 3912 565 \nQ 3275 0 1925 0 \nL 628 0 \nL 628 4666 \nz\n\" id=\"DejaVuSans-44\" transform=\"scale(0.015625)\"/>\n       <path d=\"M 1959 3097 \nQ 1497 3097 1228 2736 \nQ 959 2375 959 1747 \nQ 959 1119 1226 758 \nQ 1494 397 1959 397 \nQ 2419 397 2687 759 \nQ 2956 1122 2956 1747 \nQ 2956 2369 2687 2733 \nQ 2419 3097 1959 3097 \nz\nM 1959 3584 \nQ 2709 3584 3137 3096 \nQ 3566 2609 3566 1747 \nQ 3566 888 3137 398 \nQ 2709 -91 1959 -91 \nQ 1206 -91 779 398 \nQ 353 888 353 1747 \nQ 353 2609 779 3096 \nQ 1206 3584 1959 3584 \nz\n\" id=\"DejaVuSans-6f\" transform=\"scale(0.015625)\"/>\n       <path d=\"M 3122 3366 \nL 3122 2828 \nQ 2878 2963 2633 3030 \nQ 2388 3097 2138 3097 \nQ 1578 3097 1268 2742 \nQ 959 2388 959 1747 \nQ 959 1106 1268 751 \nQ 1578 397 2138 397 \nQ 2388 397 2633 464 \nQ 2878 531 3122 666 \nL 3122 134 \nQ 2881 22 2623 -34 \nQ 2366 -91 2075 -91 \nQ 1284 -91 818 406 \nQ 353 903 353 1747 \nQ 353 2603 823 3093 \nQ 1294 3584 2113 3584 \nQ 2378 3584 2631 3529 \nQ 2884 3475 3122 3366 \nz\n\" id=\"DejaVuSans-63\" transform=\"scale(0.015625)\"/>\n       <path d=\"M 544 1381 \nL 544 3500 \nL 1119 3500 \nL 1119 1403 \nQ 1119 906 1312 657 \nQ 1506 409 1894 409 \nQ 2359 409 2629 706 \nQ 2900 1003 2900 1516 \nL 2900 3500 \nL 3475 3500 \nL 3475 0 \nL 2900 0 \nL 2900 538 \nQ 2691 219 2414 64 \nQ 2138 -91 1772 -91 \nQ 1169 -91 856 284 \nQ 544 659 544 1381 \nz\nM 1991 3584 \nL 1991 3584 \nz\n\" id=\"DejaVuSans-75\" transform=\"scale(0.015625)\"/>\n       <path d=\"M 3328 2828 \nQ 3544 3216 3844 3400 \nQ 4144 3584 4550 3584 \nQ 5097 3584 5394 3201 \nQ 5691 2819 5691 2113 \nL 5691 0 \nL 5113 0 \nL 5113 2094 \nQ 5113 2597 4934 2840 \nQ 4756 3084 4391 3084 \nQ 3944 3084 3684 2787 \nQ 3425 2491 3425 1978 \nL 3425 0 \nL 2847 0 \nL 2847 2094 \nQ 2847 2600 2669 2842 \nQ 2491 3084 2119 3084 \nQ 1678 3084 1418 2786 \nQ 1159 2488 1159 1978 \nL 1159 0 \nL 581 0 \nL 581 3500 \nL 1159 3500 \nL 1159 2956 \nQ 1356 3278 1631 3431 \nQ 1906 3584 2284 3584 \nQ 2666 3584 2933 3390 \nQ 3200 3197 3328 2828 \nz\n\" id=\"DejaVuSans-6d\" transform=\"scale(0.015625)\"/>\n       <path d=\"M 3597 1894 \nL 3597 1613 \nL 953 1613 \nQ 991 1019 1311 708 \nQ 1631 397 2203 397 \nQ 2534 397 2845 478 \nQ 3156 559 3463 722 \nL 3463 178 \nQ 3153 47 2828 -22 \nQ 2503 -91 2169 -91 \nQ 1331 -91 842 396 \nQ 353 884 353 1716 \nQ 353 2575 817 3079 \nQ 1281 3584 2069 3584 \nQ 2775 3584 3186 3129 \nQ 3597 2675 3597 1894 \nz\nM 3022 2063 \nQ 3016 2534 2758 2815 \nQ 2500 3097 2075 3097 \nQ 1594 3097 1305 2825 \nQ 1016 2553 972 2059 \nL 3022 2063 \nz\n\" id=\"DejaVuSans-65\" transform=\"scale(0.015625)\"/>\n       <path d=\"M 3513 2113 \nL 3513 0 \nL 2938 0 \nL 2938 2094 \nQ 2938 2591 2744 2837 \nQ 2550 3084 2163 3084 \nQ 1697 3084 1428 2787 \nQ 1159 2491 1159 1978 \nL 1159 0 \nL 581 0 \nL 581 3500 \nL 1159 3500 \nL 1159 2956 \nQ 1366 3272 1645 3428 \nQ 1925 3584 2291 3584 \nQ 2894 3584 3203 3211 \nQ 3513 2838 3513 2113 \nz\n\" id=\"DejaVuSans-6e\" transform=\"scale(0.015625)\"/>\n       <path d=\"M 1172 4494 \nL 1172 3500 \nL 2356 3500 \nL 2356 3053 \nL 1172 3053 \nL 1172 1153 \nQ 1172 725 1289 603 \nQ 1406 481 1766 481 \nL 2356 481 \nL 2356 0 \nL 1766 0 \nQ 1100 0 847 248 \nQ 594 497 594 1153 \nL 594 3053 \nL 172 3053 \nL 172 3500 \nL 594 3500 \nL 594 4494 \nL 1172 4494 \nz\n\" id=\"DejaVuSans-74\" transform=\"scale(0.015625)\"/>\n       <path id=\"DejaVuSans-20\" transform=\"scale(0.015625)\"/>\n       <path d=\"M 628 4666 \nL 3309 4666 \nL 3309 4134 \nL 1259 4134 \nL 1259 2759 \nL 3109 2759 \nL 3109 2228 \nL 1259 2228 \nL 1259 0 \nL 628 0 \nL 628 4666 \nz\n\" id=\"DejaVuSans-46\" transform=\"scale(0.015625)\"/>\n       <path d=\"M 2631 2963 \nQ 2534 3019 2420 3045 \nQ 2306 3072 2169 3072 \nQ 1681 3072 1420 2755 \nQ 1159 2438 1159 1844 \nL 1159 0 \nL 581 0 \nL 581 3500 \nL 1159 3500 \nL 1159 2956 \nQ 1341 3275 1631 3429 \nQ 1922 3584 2338 3584 \nQ 2397 3584 2469 3576 \nQ 2541 3569 2628 3553 \nL 2631 2963 \nz\n\" id=\"DejaVuSans-72\" transform=\"scale(0.015625)\"/>\n       <path d=\"M 947 1747 \nQ 947 1113 1208 752 \nQ 1469 391 1925 391 \nQ 2381 391 2643 752 \nQ 2906 1113 2906 1747 \nQ 2906 2381 2643 2742 \nQ 2381 3103 1925 3103 \nQ 1469 3103 1208 2742 \nQ 947 2381 947 1747 \nz\nM 2906 525 \nQ 2725 213 2448 61 \nQ 2172 -91 1784 -91 \nQ 1150 -91 751 415 \nQ 353 922 353 1747 \nQ 353 2572 751 3078 \nQ 1150 3584 1784 3584 \nQ 2172 3584 2448 3432 \nQ 2725 3281 2906 2969 \nL 2906 3500 \nL 3481 3500 \nL 3481 -1331 \nL 2906 -1331 \nL 2906 525 \nz\n\" id=\"DejaVuSans-71\" transform=\"scale(0.015625)\"/>\n       <path d=\"M 2059 -325 \nQ 1816 -950 1584 -1140 \nQ 1353 -1331 966 -1331 \nL 506 -1331 \nL 506 -850 \nL 844 -850 \nQ 1081 -850 1212 -737 \nQ 1344 -625 1503 -206 \nL 1606 56 \nL 191 3500 \nL 800 3500 \nL 1894 763 \nL 2988 3500 \nL 3597 3500 \nL 2059 -325 \nz\n\" id=\"DejaVuSans-79\" transform=\"scale(0.015625)\"/>\n       <path d=\"M 2375 4863 \nL 2375 4384 \nL 1825 4384 \nQ 1516 4384 1395 4259 \nQ 1275 4134 1275 3809 \nL 1275 3500 \nL 2222 3500 \nL 2222 3053 \nL 1275 3053 \nL 1275 0 \nL 697 0 \nL 697 3053 \nL 147 3053 \nL 147 3500 \nL 697 3500 \nL 697 3744 \nQ 697 4328 969 4595 \nQ 1241 4863 1831 4863 \nL 2375 4863 \nz\n\" id=\"DejaVuSans-66\" transform=\"scale(0.015625)\"/>\n       <path d=\"M -19 4666 \nL 3928 4666 \nL 3928 4134 \nL 2272 4134 \nL 2272 0 \nL 1638 0 \nL 1638 4134 \nL -19 4134 \nL -19 4666 \nz\n\" id=\"DejaVuSans-54\" transform=\"scale(0.015625)\"/>\n       <path d=\"M 581 4863 \nL 1159 4863 \nL 1159 1991 \nL 2875 3500 \nL 3609 3500 \nL 1753 1863 \nL 3688 0 \nL 2938 0 \nL 1159 1709 \nL 1159 0 \nL 581 0 \nL 581 4863 \nz\n\" id=\"DejaVuSans-6b\" transform=\"scale(0.015625)\"/>\n      </defs>\n      <use xlink:href=\"#DejaVuSans-44\"/>\n      <use x=\"77.001953\" xlink:href=\"#DejaVuSans-6f\"/>\n      <use x=\"138.183594\" xlink:href=\"#DejaVuSans-63\"/>\n      <use x=\"193.164062\" xlink:href=\"#DejaVuSans-75\"/>\n      <use x=\"256.542969\" xlink:href=\"#DejaVuSans-6d\"/>\n      <use x=\"353.955078\" xlink:href=\"#DejaVuSans-65\"/>\n      <use x=\"415.478516\" xlink:href=\"#DejaVuSans-6e\"/>\n      <use x=\"478.857422\" xlink:href=\"#DejaVuSans-74\"/>\n      <use x=\"518.066406\" xlink:href=\"#DejaVuSans-20\"/>\n      <use x=\"549.853516\" xlink:href=\"#DejaVuSans-46\"/>\n      <use x=\"600.123047\" xlink:href=\"#DejaVuSans-72\"/>\n      <use x=\"638.986328\" xlink:href=\"#DejaVuSans-65\"/>\n      <use x=\"700.509766\" xlink:href=\"#DejaVuSans-71\"/>\n      <use x=\"763.986328\" xlink:href=\"#DejaVuSans-75\"/>\n      <use x=\"827.365234\" xlink:href=\"#DejaVuSans-65\"/>\n      <use x=\"888.888672\" xlink:href=\"#DejaVuSans-6e\"/>\n      <use x=\"952.267578\" xlink:href=\"#DejaVuSans-63\"/>\n      <use x=\"1007.248047\" xlink:href=\"#DejaVuSans-79\"/>\n      <use x=\"1066.427734\" xlink:href=\"#DejaVuSans-20\"/>\n      <use x=\"1098.214844\" xlink:href=\"#DejaVuSans-6f\"/>\n      <use x=\"1159.396484\" xlink:href=\"#DejaVuSans-66\"/>\n      <use x=\"1194.601562\" xlink:href=\"#DejaVuSans-20\"/>\n      <use x=\"1226.388672\" xlink:href=\"#DejaVuSans-54\"/>\n      <use x=\"1270.472656\" xlink:href=\"#DejaVuSans-6f\"/>\n      <use x=\"1331.654297\" xlink:href=\"#DejaVuSans-6b\"/>\n      <use x=\"1385.939453\" xlink:href=\"#DejaVuSans-65\"/>\n      <use x=\"1447.462891\" xlink:href=\"#DejaVuSans-6e\"/>\n     </g>\n    </g>\n   </g>\n   <g id=\"matplotlib.axis_2\">\n    <g id=\"ytick_1\">\n     <g id=\"line2d_13\">\n      <path clip-path=\"url(#p5587c505f6)\" d=\"M 34.240625 333.65267 \nL 871.240625 333.65267 \n\" style=\"fill:none;stroke:#b0b0b0;stroke-linecap:square;stroke-width:0.8;\"/>\n     </g>\n     <g id=\"line2d_14\">\n      <defs>\n       <path d=\"M 0 0 \nL -3.5 0 \n\" id=\"m3f6f991cc8\" style=\"stroke:#000000;stroke-width:0.8;\"/>\n      </defs>\n      <g>\n       <use style=\"stroke:#000000;stroke-width:0.8;\" x=\"34.240625\" xlink:href=\"#m3f6f991cc8\" y=\"333.65267\"/>\n      </g>\n     </g>\n     <g id=\"text_8\">\n      <!-- 0 -->\n      <g transform=\"translate(20.878125 337.451889)scale(0.1 -0.1)\">\n       <use xlink:href=\"#DejaVuSans-30\"/>\n      </g>\n     </g>\n    </g>\n    <g id=\"ytick_2\">\n     <g id=\"line2d_15\">\n      <path clip-path=\"url(#p5587c505f6)\" d=\"M 34.240625 269.266539 \nL 871.240625 269.266539 \n\" style=\"fill:none;stroke:#b0b0b0;stroke-linecap:square;stroke-width:0.8;\"/>\n     </g>\n     <g id=\"line2d_16\">\n      <g>\n       <use style=\"stroke:#000000;stroke-width:0.8;\" x=\"34.240625\" xlink:href=\"#m3f6f991cc8\" y=\"269.266539\"/>\n      </g>\n     </g>\n     <g id=\"text_9\">\n      <!-- 1 -->\n      <g transform=\"translate(20.878125 273.065758)scale(0.1 -0.1)\">\n       <use xlink:href=\"#DejaVuSans-31\"/>\n      </g>\n     </g>\n    </g>\n    <g id=\"ytick_3\">\n     <g id=\"line2d_17\">\n      <path clip-path=\"url(#p5587c505f6)\" d=\"M 34.240625 204.880408 \nL 871.240625 204.880408 \n\" style=\"fill:none;stroke:#b0b0b0;stroke-linecap:square;stroke-width:0.8;\"/>\n     </g>\n     <g id=\"line2d_18\">\n      <g>\n       <use style=\"stroke:#000000;stroke-width:0.8;\" x=\"34.240625\" xlink:href=\"#m3f6f991cc8\" y=\"204.880408\"/>\n      </g>\n     </g>\n     <g id=\"text_10\">\n      <!-- 2 -->\n      <g transform=\"translate(20.878125 208.679627)scale(0.1 -0.1)\">\n       <use xlink:href=\"#DejaVuSans-32\"/>\n      </g>\n     </g>\n    </g>\n    <g id=\"ytick_4\">\n     <g id=\"line2d_19\">\n      <path clip-path=\"url(#p5587c505f6)\" d=\"M 34.240625 140.494277 \nL 871.240625 140.494277 \n\" style=\"fill:none;stroke:#b0b0b0;stroke-linecap:square;stroke-width:0.8;\"/>\n     </g>\n     <g id=\"line2d_20\">\n      <g>\n       <use style=\"stroke:#000000;stroke-width:0.8;\" x=\"34.240625\" xlink:href=\"#m3f6f991cc8\" y=\"140.494277\"/>\n      </g>\n     </g>\n     <g id=\"text_11\">\n      <!-- 3 -->\n      <g transform=\"translate(20.878125 144.293496)scale(0.1 -0.1)\">\n       <defs>\n        <path d=\"M 2597 2516 \nQ 3050 2419 3304 2112 \nQ 3559 1806 3559 1356 \nQ 3559 666 3084 287 \nQ 2609 -91 1734 -91 \nQ 1441 -91 1130 -33 \nQ 819 25 488 141 \nL 488 750 \nQ 750 597 1062 519 \nQ 1375 441 1716 441 \nQ 2309 441 2620 675 \nQ 2931 909 2931 1356 \nQ 2931 1769 2642 2001 \nQ 2353 2234 1838 2234 \nL 1294 2234 \nL 1294 2753 \nL 1863 2753 \nQ 2328 2753 2575 2939 \nQ 2822 3125 2822 3475 \nQ 2822 3834 2567 4026 \nQ 2313 4219 1838 4219 \nQ 1578 4219 1281 4162 \nQ 984 4106 628 3988 \nL 628 4550 \nQ 988 4650 1302 4700 \nQ 1616 4750 1894 4750 \nQ 2613 4750 3031 4423 \nQ 3450 4097 3450 3541 \nQ 3450 3153 3228 2886 \nQ 3006 2619 2597 2516 \nz\n\" id=\"DejaVuSans-33\" transform=\"scale(0.015625)\"/>\n       </defs>\n       <use xlink:href=\"#DejaVuSans-33\"/>\n      </g>\n     </g>\n    </g>\n    <g id=\"ytick_5\">\n     <g id=\"line2d_21\">\n      <path clip-path=\"url(#p5587c505f6)\" d=\"M 34.240625 76.108146 \nL 871.240625 76.108146 \n\" style=\"fill:none;stroke:#b0b0b0;stroke-linecap:square;stroke-width:0.8;\"/>\n     </g>\n     <g id=\"line2d_22\">\n      <g>\n       <use style=\"stroke:#000000;stroke-width:0.8;\" x=\"34.240625\" xlink:href=\"#m3f6f991cc8\" y=\"76.108146\"/>\n      </g>\n     </g>\n     <g id=\"text_12\">\n      <!-- 4 -->\n      <g transform=\"translate(20.878125 79.907365)scale(0.1 -0.1)\">\n       <use xlink:href=\"#DejaVuSans-34\"/>\n      </g>\n     </g>\n    </g>\n    <g id=\"text_13\">\n     <!-- Inverse Document Frequency Score -->\n     <g transform=\"translate(14.798438 274.316875)rotate(-90)scale(0.1 -0.1)\">\n      <defs>\n       <path d=\"M 628 4666 \nL 1259 4666 \nL 1259 0 \nL 628 0 \nL 628 4666 \nz\n\" id=\"DejaVuSans-49\" transform=\"scale(0.015625)\"/>\n       <path d=\"M 191 3500 \nL 800 3500 \nL 1894 563 \nL 2988 3500 \nL 3597 3500 \nL 2284 0 \nL 1503 0 \nL 191 3500 \nz\n\" id=\"DejaVuSans-76\" transform=\"scale(0.015625)\"/>\n       <path d=\"M 2834 3397 \nL 2834 2853 \nQ 2591 2978 2328 3040 \nQ 2066 3103 1784 3103 \nQ 1356 3103 1142 2972 \nQ 928 2841 928 2578 \nQ 928 2378 1081 2264 \nQ 1234 2150 1697 2047 \nL 1894 2003 \nQ 2506 1872 2764 1633 \nQ 3022 1394 3022 966 \nQ 3022 478 2636 193 \nQ 2250 -91 1575 -91 \nQ 1294 -91 989 -36 \nQ 684 19 347 128 \nL 347 722 \nQ 666 556 975 473 \nQ 1284 391 1588 391 \nQ 1994 391 2212 530 \nQ 2431 669 2431 922 \nQ 2431 1156 2273 1281 \nQ 2116 1406 1581 1522 \nL 1381 1569 \nQ 847 1681 609 1914 \nQ 372 2147 372 2553 \nQ 372 3047 722 3315 \nQ 1072 3584 1716 3584 \nQ 2034 3584 2315 3537 \nQ 2597 3491 2834 3397 \nz\n\" id=\"DejaVuSans-73\" transform=\"scale(0.015625)\"/>\n       <path d=\"M 3425 4513 \nL 3425 3897 \nQ 3066 4069 2747 4153 \nQ 2428 4238 2131 4238 \nQ 1616 4238 1336 4038 \nQ 1056 3838 1056 3469 \nQ 1056 3159 1242 3001 \nQ 1428 2844 1947 2747 \nL 2328 2669 \nQ 3034 2534 3370 2195 \nQ 3706 1856 3706 1288 \nQ 3706 609 3251 259 \nQ 2797 -91 1919 -91 \nQ 1588 -91 1214 -16 \nQ 841 59 441 206 \nL 441 856 \nQ 825 641 1194 531 \nQ 1563 422 1919 422 \nQ 2459 422 2753 634 \nQ 3047 847 3047 1241 \nQ 3047 1584 2836 1778 \nQ 2625 1972 2144 2069 \nL 1759 2144 \nQ 1053 2284 737 2584 \nQ 422 2884 422 3419 \nQ 422 4038 858 4394 \nQ 1294 4750 2059 4750 \nQ 2388 4750 2728 4690 \nQ 3069 4631 3425 4513 \nz\n\" id=\"DejaVuSans-53\" transform=\"scale(0.015625)\"/>\n      </defs>\n      <use xlink:href=\"#DejaVuSans-49\"/>\n      <use x=\"29.492188\" xlink:href=\"#DejaVuSans-6e\"/>\n      <use x=\"92.871094\" xlink:href=\"#DejaVuSans-76\"/>\n      <use x=\"152.050781\" xlink:href=\"#DejaVuSans-65\"/>\n      <use x=\"213.574219\" xlink:href=\"#DejaVuSans-72\"/>\n      <use x=\"254.6875\" xlink:href=\"#DejaVuSans-73\"/>\n      <use x=\"306.787109\" xlink:href=\"#DejaVuSans-65\"/>\n      <use x=\"368.310547\" xlink:href=\"#DejaVuSans-20\"/>\n      <use x=\"400.097656\" xlink:href=\"#DejaVuSans-44\"/>\n      <use x=\"477.099609\" xlink:href=\"#DejaVuSans-6f\"/>\n      <use x=\"538.28125\" xlink:href=\"#DejaVuSans-63\"/>\n      <use x=\"593.261719\" xlink:href=\"#DejaVuSans-75\"/>\n      <use x=\"656.640625\" xlink:href=\"#DejaVuSans-6d\"/>\n      <use x=\"754.052734\" xlink:href=\"#DejaVuSans-65\"/>\n      <use x=\"815.576172\" xlink:href=\"#DejaVuSans-6e\"/>\n      <use x=\"878.955078\" xlink:href=\"#DejaVuSans-74\"/>\n      <use x=\"918.164062\" xlink:href=\"#DejaVuSans-20\"/>\n      <use x=\"949.951172\" xlink:href=\"#DejaVuSans-46\"/>\n      <use x=\"1000.220703\" xlink:href=\"#DejaVuSans-72\"/>\n      <use x=\"1039.083984\" xlink:href=\"#DejaVuSans-65\"/>\n      <use x=\"1100.607422\" xlink:href=\"#DejaVuSans-71\"/>\n      <use x=\"1164.083984\" xlink:href=\"#DejaVuSans-75\"/>\n      <use x=\"1227.462891\" xlink:href=\"#DejaVuSans-65\"/>\n      <use x=\"1288.986328\" xlink:href=\"#DejaVuSans-6e\"/>\n      <use x=\"1352.365234\" xlink:href=\"#DejaVuSans-63\"/>\n      <use x=\"1407.345703\" xlink:href=\"#DejaVuSans-79\"/>\n      <use x=\"1466.525391\" xlink:href=\"#DejaVuSans-20\"/>\n      <use x=\"1498.3125\" xlink:href=\"#DejaVuSans-53\"/>\n      <use x=\"1561.789062\" xlink:href=\"#DejaVuSans-63\"/>\n      <use x=\"1616.769531\" xlink:href=\"#DejaVuSans-6f\"/>\n      <use x=\"1677.951172\" xlink:href=\"#DejaVuSans-72\"/>\n      <use x=\"1716.814453\" xlink:href=\"#DejaVuSans-65\"/>\n     </g>\n    </g>\n   </g>\n   <g id=\"line2d_23\">\n    <path clip-path=\"url(#p5587c505f6)\" d=\"M 72.28608 37.14358 \nL 79.97203 81.772645 \nL 87.65798 107.878974 \nL 95.343931 126.40171 \nL 103.029881 140.76906 \nL 110.715832 152.508039 \nL 118.401782 162.433205 \nL 126.087732 171.030775 \nL 133.773683 178.614369 \nL 141.459633 185.398125 \nL 149.145584 191.534779 \nL 156.831534 197.137105 \nL 164.517485 202.290745 \nL 172.203435 207.062271 \nL 179.889385 211.504455 \nL 187.575336 215.65984 \nL 195.261286 219.563225 \nL 202.947237 223.243434 \nL 210.633187 226.724613 \nL 218.319137 230.02719 \nL 226.005088 233.1686 \nL 233.691038 236.163844 \nL 241.376989 239.025921 \nL 249.062939 241.76617 \nL 256.748889 244.39454 \nL 264.43484 246.91981 \nL 272.12079 249.349764 \nL 279.806741 251.691336 \nL 287.492691 253.95073 \nL 295.178642 256.13352 \nL 302.864592 258.24473 \nL 310.550542 260.288905 \nL 318.236493 262.270173 \nL 325.922443 264.19229 \nL 333.608394 266.058686 \nL 341.294344 267.872499 \nL 348.980294 269.636613 \nL 356.666245 271.353679 \nL 364.352195 273.02614 \nL 372.038146 274.656255 \nL 379.724096 276.246117 \nL 387.410046 277.797665 \nL 395.095997 279.312703 \nL 402.781947 280.792909 \nL 410.467898 282.239849 \nL 418.153848 283.654986 \nL 425.839799 285.039687 \nL 433.525749 286.395235 \nL 441.211699 287.722831 \nL 448.89765 289.023605 \nL 456.5836 290.29862 \nL 464.269551 291.548875 \nL 471.955501 292.775315 \nL 479.641451 293.978829 \nL 487.327402 295.160259 \nL 495.013352 296.320401 \nL 502.699303 297.460008 \nL 510.385253 298.579795 \nL 518.071204 299.68044 \nL 525.757154 300.762585 \nL 533.443104 301.826843 \nL 541.129055 302.873795 \nL 548.815005 303.903995 \nL 556.500956 304.917971 \nL 564.186906 305.916225 \nL 571.872856 306.899239 \nL 579.558807 307.867469 \nL 587.244757 308.821355 \nL 594.930708 309.761316 \nL 602.616658 310.687751 \nL 610.302608 311.601045 \nL 617.988559 312.501565 \nL 625.674509 313.389663 \nL 633.36046 314.265679 \nL 641.04641 315.129935 \nL 648.732361 315.982744 \nL 656.418311 316.824405 \nL 664.104261 317.655205 \nL 671.790212 318.475421 \nL 679.476162 319.285321 \nL 687.162113 320.085159 \nL 694.848063 320.875182 \nL 702.534013 321.65563 \nL 710.219964 322.42673 \nL 717.905914 323.188705 \nL 725.591865 323.941768 \nL 733.277815 324.686125 \nL 740.963765 325.421974 \nL 748.649716 326.149509 \nL 756.335666 326.868914 \nL 764.021617 327.580371 \nL 771.707567 328.284051 \nL 779.393518 328.980124 \nL 787.079468 329.668753 \nL 794.765418 330.350094 \nL 802.451369 331.0243 \nL 810.137319 331.69152 \nL 817.82327 332.351896 \nL 825.50922 333.005568 \nL 833.19517 333.65267 \n\" style=\"fill:none;stroke:#1f77b4;stroke-linecap:square;stroke-width:1.5;\"/>\n   </g>\n   <g id=\"patch_3\">\n    <path d=\"M 34.240625 348.478125 \nL 34.240625 22.318125 \n\" style=\"fill:none;stroke:#000000;stroke-linecap:square;stroke-linejoin:miter;stroke-width:0.8;\"/>\n   </g>\n   <g id=\"patch_4\">\n    <path d=\"M 871.240625 348.478125 \nL 871.240625 22.318125 \n\" style=\"fill:none;stroke:#000000;stroke-linecap:square;stroke-linejoin:miter;stroke-width:0.8;\"/>\n   </g>\n   <g id=\"patch_5\">\n    <path d=\"M 34.240625 348.478125 \nL 871.240625 348.478125 \n\" style=\"fill:none;stroke:#000000;stroke-linecap:square;stroke-linejoin:miter;stroke-width:0.8;\"/>\n   </g>\n   <g id=\"patch_6\">\n    <path d=\"M 34.240625 22.318125 \nL 871.240625 22.318125 \n\" style=\"fill:none;stroke:#000000;stroke-linecap:square;stroke-linejoin:miter;stroke-width:0.8;\"/>\n   </g>\n   <g id=\"text_14\">\n    <!-- Inverse Document Frequency Score vs. Document Frequency of Token -->\n    <g transform=\"translate(242.99 16.318125)scale(0.12 -0.12)\">\n     <defs>\n      <path d=\"M 684 794 \nL 1344 794 \nL 1344 0 \nL 684 0 \nL 684 794 \nz\n\" id=\"DejaVuSans-2e\" transform=\"scale(0.015625)\"/>\n     </defs>\n     <use xlink:href=\"#DejaVuSans-49\"/>\n     <use x=\"29.492188\" xlink:href=\"#DejaVuSans-6e\"/>\n     <use x=\"92.871094\" xlink:href=\"#DejaVuSans-76\"/>\n     <use x=\"152.050781\" xlink:href=\"#DejaVuSans-65\"/>\n     <use x=\"213.574219\" xlink:href=\"#DejaVuSans-72\"/>\n     <use x=\"254.6875\" xlink:href=\"#DejaVuSans-73\"/>\n     <use x=\"306.787109\" xlink:href=\"#DejaVuSans-65\"/>\n     <use x=\"368.310547\" xlink:href=\"#DejaVuSans-20\"/>\n     <use x=\"400.097656\" xlink:href=\"#DejaVuSans-44\"/>\n     <use x=\"477.099609\" xlink:href=\"#DejaVuSans-6f\"/>\n     <use x=\"538.28125\" xlink:href=\"#DejaVuSans-63\"/>\n     <use x=\"593.261719\" xlink:href=\"#DejaVuSans-75\"/>\n     <use x=\"656.640625\" xlink:href=\"#DejaVuSans-6d\"/>\n     <use x=\"754.052734\" xlink:href=\"#DejaVuSans-65\"/>\n     <use x=\"815.576172\" xlink:href=\"#DejaVuSans-6e\"/>\n     <use x=\"878.955078\" xlink:href=\"#DejaVuSans-74\"/>\n     <use x=\"918.164062\" xlink:href=\"#DejaVuSans-20\"/>\n     <use x=\"949.951172\" xlink:href=\"#DejaVuSans-46\"/>\n     <use x=\"1000.220703\" xlink:href=\"#DejaVuSans-72\"/>\n     <use x=\"1039.083984\" xlink:href=\"#DejaVuSans-65\"/>\n     <use x=\"1100.607422\" xlink:href=\"#DejaVuSans-71\"/>\n     <use x=\"1164.083984\" xlink:href=\"#DejaVuSans-75\"/>\n     <use x=\"1227.462891\" xlink:href=\"#DejaVuSans-65\"/>\n     <use x=\"1288.986328\" xlink:href=\"#DejaVuSans-6e\"/>\n     <use x=\"1352.365234\" xlink:href=\"#DejaVuSans-63\"/>\n     <use x=\"1407.345703\" xlink:href=\"#DejaVuSans-79\"/>\n     <use x=\"1466.525391\" xlink:href=\"#DejaVuSans-20\"/>\n     <use x=\"1498.3125\" xlink:href=\"#DejaVuSans-53\"/>\n     <use x=\"1561.789062\" xlink:href=\"#DejaVuSans-63\"/>\n     <use x=\"1616.769531\" xlink:href=\"#DejaVuSans-6f\"/>\n     <use x=\"1677.951172\" xlink:href=\"#DejaVuSans-72\"/>\n     <use x=\"1716.814453\" xlink:href=\"#DejaVuSans-65\"/>\n     <use x=\"1778.337891\" xlink:href=\"#DejaVuSans-20\"/>\n     <use x=\"1810.125\" xlink:href=\"#DejaVuSans-76\"/>\n     <use x=\"1869.304688\" xlink:href=\"#DejaVuSans-73\"/>\n     <use x=\"1921.404297\" xlink:href=\"#DejaVuSans-2e\"/>\n     <use x=\"1953.191406\" xlink:href=\"#DejaVuSans-20\"/>\n     <use x=\"1984.978516\" xlink:href=\"#DejaVuSans-44\"/>\n     <use x=\"2061.980469\" xlink:href=\"#DejaVuSans-6f\"/>\n     <use x=\"2123.162109\" xlink:href=\"#DejaVuSans-63\"/>\n     <use x=\"2178.142578\" xlink:href=\"#DejaVuSans-75\"/>\n     <use x=\"2241.521484\" xlink:href=\"#DejaVuSans-6d\"/>\n     <use x=\"2338.933594\" xlink:href=\"#DejaVuSans-65\"/>\n     <use x=\"2400.457031\" xlink:href=\"#DejaVuSans-6e\"/>\n     <use x=\"2463.835938\" xlink:href=\"#DejaVuSans-74\"/>\n     <use x=\"2503.044922\" xlink:href=\"#DejaVuSans-20\"/>\n     <use x=\"2534.832031\" xlink:href=\"#DejaVuSans-46\"/>\n     <use x=\"2585.101562\" xlink:href=\"#DejaVuSans-72\"/>\n     <use x=\"2623.964844\" xlink:href=\"#DejaVuSans-65\"/>\n     <use x=\"2685.488281\" xlink:href=\"#DejaVuSans-71\"/>\n     <use x=\"2748.964844\" xlink:href=\"#DejaVuSans-75\"/>\n     <use x=\"2812.34375\" xlink:href=\"#DejaVuSans-65\"/>\n     <use x=\"2873.867188\" xlink:href=\"#DejaVuSans-6e\"/>\n     <use x=\"2937.246094\" xlink:href=\"#DejaVuSans-63\"/>\n     <use x=\"2992.226562\" xlink:href=\"#DejaVuSans-79\"/>\n     <use x=\"3051.40625\" xlink:href=\"#DejaVuSans-20\"/>\n     <use x=\"3083.193359\" xlink:href=\"#DejaVuSans-6f\"/>\n     <use x=\"3144.375\" xlink:href=\"#DejaVuSans-66\"/>\n     <use x=\"3179.580078\" xlink:href=\"#DejaVuSans-20\"/>\n     <use x=\"3211.367188\" xlink:href=\"#DejaVuSans-54\"/>\n     <use x=\"3255.451172\" xlink:href=\"#DejaVuSans-6f\"/>\n     <use x=\"3316.632812\" xlink:href=\"#DejaVuSans-6b\"/>\n     <use x=\"3370.917969\" xlink:href=\"#DejaVuSans-65\"/>\n     <use x=\"3432.441406\" xlink:href=\"#DejaVuSans-6e\"/>\n    </g>\n   </g>\n  </g>\n </g>\n <defs>\n  <clipPath id=\"p5587c505f6\">\n   <rect height=\"326.16\" width=\"837\" x=\"34.240625\" y=\"22.318125\"/>\n  </clipPath>\n </defs>\n</svg>\n",
      "image/png": "[encoded data removed]"
     },
     "metadata": {
      "needs_background": "light"
     }
    },
    {
     "output_type": "display_data",
     "data": {
      "text/plain": "<Figure size 1080x432 with 1 Axes>",
      "image/svg+xml": "<?xml version=\"1.0\" encoding=\"utf-8\" standalone=\"no\"?>\n<!DOCTYPE svg PUBLIC \"-//W3C//DTD SVG 1.1//EN\"\n  \"http://www.w3.org/Graphics/SVG/1.1/DTD/svg11.dtd\">\n<svg height=\"386.034375pt\" version=\"1.1\" viewBox=\"0 0 903.8875 386.034375\" width=\"903.8875pt\" xmlns=\"http://www.w3.org/2000/svg\" xmlns:xlink=\"http://www.w3.org/1999/xlink\">\n <metadata>\n  <rdf:RDF xmlns:cc=\"http://creativecommons.org/ns#\" xmlns:dc=\"http://purl.org/dc/elements/1.1/\" xmlns:rdf=\"http://www.w3.org/1999/02/22-rdf-syntax-ns#\">\n   <cc:Work>\n    <dc:type rdf:resource=\"http://purl.org/dc/dcmitype/StillImage\"/>\n    <dc:date>2021-05-06T22:32:25.441314</dc:date>\n    <dc:format>image/svg+xml</dc:format>\n    <dc:creator>\n     <cc:Agent>\n      <dc:title>Matplotlib v3.4.1, https://matplotlib.org/</dc:title>\n     </cc:Agent>\n    </dc:creator>\n   </cc:Work>\n  </rdf:RDF>\n </metadata>\n <defs>\n  <style type=\"text/css\">*{stroke-linecap:butt;stroke-linejoin:round;}</style>\n </defs>\n <g id=\"figure_1\">\n  <g id=\"patch_1\">\n   <path d=\"M 0 386.034375 \nL 903.8875 386.034375 \nL 903.8875 0 \nL 0 0 \nz\n\" style=\"fill:none;\"/>\n  </g>\n  <g id=\"axes_1\">\n   <g id=\"patch_2\">\n    <path d=\"M 50.14375 348.478125 \nL 887.14375 348.478125 \nL 887.14375 22.318125 \nL 50.14375 22.318125 \nz\n\" style=\"fill:#ffffff;\"/>\n   </g>\n   <g id=\"matplotlib.axis_1\">\n    <g id=\"xtick_1\">\n     <g id=\"line2d_1\">\n      <path clip-path=\"url(#p71716fa0d9)\" d=\"M 50.14375 348.478125 \nL 50.14375 22.318125 \n\" style=\"fill:none;stroke:#b0b0b0;stroke-linecap:square;stroke-width:0.8;\"/>\n     </g>\n     <g id=\"line2d_2\">\n      <defs>\n       <path d=\"M 0 0 \nL 0 3.5 \n\" id=\"ma2e85cdc0f\" style=\"stroke:#000000;stroke-width:0.8;\"/>\n      </defs>\n      <g>\n       <use style=\"stroke:#000000;stroke-width:0.8;\" x=\"50.14375\" xlink:href=\"#ma2e85cdc0f\" y=\"348.478125\"/>\n      </g>\n     </g>\n     <g id=\"text_1\">\n      <!-- 95 -->\n      <g transform=\"translate(43.78125 363.076562)scale(0.1 -0.1)\">\n       <defs>\n        <path d=\"M 703 97 \nL 703 672 \nQ 941 559 1184 500 \nQ 1428 441 1663 441 \nQ 2288 441 2617 861 \nQ 2947 1281 2994 2138 \nQ 2813 1869 2534 1725 \nQ 2256 1581 1919 1581 \nQ 1219 1581 811 2004 \nQ 403 2428 403 3163 \nQ 403 3881 828 4315 \nQ 1253 4750 1959 4750 \nQ 2769 4750 3195 4129 \nQ 3622 3509 3622 2328 \nQ 3622 1225 3098 567 \nQ 2575 -91 1691 -91 \nQ 1453 -91 1209 -44 \nQ 966 3 703 97 \nz\nM 1959 2075 \nQ 2384 2075 2632 2365 \nQ 2881 2656 2881 3163 \nQ 2881 3666 2632 3958 \nQ 2384 4250 1959 4250 \nQ 1534 4250 1286 3958 \nQ 1038 3666 1038 3163 \nQ 1038 2656 1286 2365 \nQ 1534 2075 1959 2075 \nz\n\" id=\"DejaVuSans-39\" transform=\"scale(0.015625)\"/>\n        <path d=\"M 691 4666 \nL 3169 4666 \nL 3169 4134 \nL 1269 4134 \nL 1269 2991 \nQ 1406 3038 1543 3061 \nQ 1681 3084 1819 3084 \nQ 2600 3084 3056 2656 \nQ 3513 2228 3513 1497 \nQ 3513 744 3044 326 \nQ 2575 -91 1722 -91 \nQ 1428 -91 1123 -41 \nQ 819 9 494 109 \nL 494 744 \nQ 775 591 1075 516 \nQ 1375 441 1709 441 \nQ 2250 441 2565 725 \nQ 2881 1009 2881 1497 \nQ 2881 1984 2565 2268 \nQ 2250 2553 1709 2553 \nQ 1456 2553 1204 2497 \nQ 953 2441 691 2322 \nL 691 4666 \nz\n\" id=\"DejaVuSans-35\" transform=\"scale(0.015625)\"/>\n       </defs>\n       <use xlink:href=\"#DejaVuSans-39\"/>\n       <use x=\"63.623047\" xlink:href=\"#DejaVuSans-35\"/>\n      </g>\n     </g>\n    </g>\n    <g id=\"xtick_2\">\n     <g id=\"line2d_3\">\n      <path clip-path=\"url(#p71716fa0d9)\" d=\"M 217.54375 348.478125 \nL 217.54375 22.318125 \n\" style=\"fill:none;stroke:#b0b0b0;stroke-linecap:square;stroke-width:0.8;\"/>\n     </g>\n     <g id=\"line2d_4\">\n      <g>\n       <use style=\"stroke:#000000;stroke-width:0.8;\" x=\"217.54375\" xlink:href=\"#ma2e85cdc0f\" y=\"348.478125\"/>\n      </g>\n     </g>\n     <g id=\"text_2\">\n      <!-- 96 -->\n      <g transform=\"translate(211.18125 363.076562)scale(0.1 -0.1)\">\n       <defs>\n        <path d=\"M 2113 2584 \nQ 1688 2584 1439 2293 \nQ 1191 2003 1191 1497 \nQ 1191 994 1439 701 \nQ 1688 409 2113 409 \nQ 2538 409 2786 701 \nQ 3034 994 3034 1497 \nQ 3034 2003 2786 2293 \nQ 2538 2584 2113 2584 \nz\nM 3366 4563 \nL 3366 3988 \nQ 3128 4100 2886 4159 \nQ 2644 4219 2406 4219 \nQ 1781 4219 1451 3797 \nQ 1122 3375 1075 2522 \nQ 1259 2794 1537 2939 \nQ 1816 3084 2150 3084 \nQ 2853 3084 3261 2657 \nQ 3669 2231 3669 1497 \nQ 3669 778 3244 343 \nQ 2819 -91 2113 -91 \nQ 1303 -91 875 529 \nQ 447 1150 447 2328 \nQ 447 3434 972 4092 \nQ 1497 4750 2381 4750 \nQ 2619 4750 2861 4703 \nQ 3103 4656 3366 4563 \nz\n\" id=\"DejaVuSans-36\" transform=\"scale(0.015625)\"/>\n       </defs>\n       <use xlink:href=\"#DejaVuSans-39\"/>\n       <use x=\"63.623047\" xlink:href=\"#DejaVuSans-36\"/>\n      </g>\n     </g>\n    </g>\n    <g id=\"xtick_3\">\n     <g id=\"line2d_5\">\n      <path clip-path=\"url(#p71716fa0d9)\" d=\"M 384.94375 348.478125 \nL 384.94375 22.318125 \n\" style=\"fill:none;stroke:#b0b0b0;stroke-linecap:square;stroke-width:0.8;\"/>\n     </g>\n     <g id=\"line2d_6\">\n      <g>\n       <use style=\"stroke:#000000;stroke-width:0.8;\" x=\"384.94375\" xlink:href=\"#ma2e85cdc0f\" y=\"348.478125\"/>\n      </g>\n     </g>\n     <g id=\"text_3\">\n      <!-- 97 -->\n      <g transform=\"translate(378.58125 363.076562)scale(0.1 -0.1)\">\n       <defs>\n        <path d=\"M 525 4666 \nL 3525 4666 \nL 3525 4397 \nL 1831 0 \nL 1172 0 \nL 2766 4134 \nL 525 4134 \nL 525 4666 \nz\n\" id=\"DejaVuSans-37\" transform=\"scale(0.015625)\"/>\n       </defs>\n       <use xlink:href=\"#DejaVuSans-39\"/>\n       <use x=\"63.623047\" xlink:href=\"#DejaVuSans-37\"/>\n      </g>\n     </g>\n    </g>\n    <g id=\"xtick_4\">\n     <g id=\"line2d_7\">\n      <path clip-path=\"url(#p71716fa0d9)\" d=\"M 552.34375 348.478125 \nL 552.34375 22.318125 \n\" style=\"fill:none;stroke:#b0b0b0;stroke-linecap:square;stroke-width:0.8;\"/>\n     </g>\n     <g id=\"line2d_8\">\n      <g>\n       <use style=\"stroke:#000000;stroke-width:0.8;\" x=\"552.34375\" xlink:href=\"#ma2e85cdc0f\" y=\"348.478125\"/>\n      </g>\n     </g>\n     <g id=\"text_4\">\n      <!-- 98 -->\n      <g transform=\"translate(545.98125 363.076562)scale(0.1 -0.1)\">\n       <defs>\n        <path d=\"M 2034 2216 \nQ 1584 2216 1326 1975 \nQ 1069 1734 1069 1313 \nQ 1069 891 1326 650 \nQ 1584 409 2034 409 \nQ 2484 409 2743 651 \nQ 3003 894 3003 1313 \nQ 3003 1734 2745 1975 \nQ 2488 2216 2034 2216 \nz\nM 1403 2484 \nQ 997 2584 770 2862 \nQ 544 3141 544 3541 \nQ 544 4100 942 4425 \nQ 1341 4750 2034 4750 \nQ 2731 4750 3128 4425 \nQ 3525 4100 3525 3541 \nQ 3525 3141 3298 2862 \nQ 3072 2584 2669 2484 \nQ 3125 2378 3379 2068 \nQ 3634 1759 3634 1313 \nQ 3634 634 3220 271 \nQ 2806 -91 2034 -91 \nQ 1263 -91 848 271 \nQ 434 634 434 1313 \nQ 434 1759 690 2068 \nQ 947 2378 1403 2484 \nz\nM 1172 3481 \nQ 1172 3119 1398 2916 \nQ 1625 2713 2034 2713 \nQ 2441 2713 2670 2916 \nQ 2900 3119 2900 3481 \nQ 2900 3844 2670 4047 \nQ 2441 4250 2034 4250 \nQ 1625 4250 1398 4047 \nQ 1172 3844 1172 3481 \nz\n\" id=\"DejaVuSans-38\" transform=\"scale(0.015625)\"/>\n       </defs>\n       <use xlink:href=\"#DejaVuSans-39\"/>\n       <use x=\"63.623047\" xlink:href=\"#DejaVuSans-38\"/>\n      </g>\n     </g>\n    </g>\n    <g id=\"xtick_5\">\n     <g id=\"line2d_9\">\n      <path clip-path=\"url(#p71716fa0d9)\" d=\"M 719.74375 348.478125 \nL 719.74375 22.318125 \n\" style=\"fill:none;stroke:#b0b0b0;stroke-linecap:square;stroke-width:0.8;\"/>\n     </g>\n     <g id=\"line2d_10\">\n      <g>\n       <use style=\"stroke:#000000;stroke-width:0.8;\" x=\"719.74375\" xlink:href=\"#ma2e85cdc0f\" y=\"348.478125\"/>\n      </g>\n     </g>\n     <g id=\"text_5\">\n      <!-- 99 -->\n      <g transform=\"translate(713.38125 363.076562)scale(0.1 -0.1)\">\n       <use xlink:href=\"#DejaVuSans-39\"/>\n       <use x=\"63.623047\" xlink:href=\"#DejaVuSans-39\"/>\n      </g>\n     </g>\n    </g>\n    <g id=\"xtick_6\">\n     <g id=\"line2d_11\">\n      <path clip-path=\"url(#p71716fa0d9)\" d=\"M 887.14375 348.478125 \nL 887.14375 22.318125 \n\" style=\"fill:none;stroke:#b0b0b0;stroke-linecap:square;stroke-width:0.8;\"/>\n     </g>\n     <g id=\"line2d_12\">\n      <g>\n       <use style=\"stroke:#000000;stroke-width:0.8;\" x=\"887.14375\" xlink:href=\"#ma2e85cdc0f\" y=\"348.478125\"/>\n      </g>\n     </g>\n     <g id=\"text_6\">\n      <!-- 100 -->\n      <g transform=\"translate(877.6 363.076562)scale(0.1 -0.1)\">\n       <defs>\n        <path d=\"M 794 531 \nL 1825 531 \nL 1825 4091 \nL 703 3866 \nL 703 4441 \nL 1819 4666 \nL 2450 4666 \nL 2450 531 \nL 3481 531 \nL 3481 0 \nL 794 0 \nL 794 531 \nz\n\" id=\"DejaVuSans-31\" transform=\"scale(0.015625)\"/>\n        <path d=\"M 2034 4250 \nQ 1547 4250 1301 3770 \nQ 1056 3291 1056 2328 \nQ 1056 1369 1301 889 \nQ 1547 409 2034 409 \nQ 2525 409 2770 889 \nQ 3016 1369 3016 2328 \nQ 3016 3291 2770 3770 \nQ 2525 4250 2034 4250 \nz\nM 2034 4750 \nQ 2819 4750 3233 4129 \nQ 3647 3509 3647 2328 \nQ 3647 1150 3233 529 \nQ 2819 -91 2034 -91 \nQ 1250 -91 836 529 \nQ 422 1150 422 2328 \nQ 422 3509 836 4129 \nQ 1250 4750 2034 4750 \nz\n\" id=\"DejaVuSans-30\" transform=\"scale(0.015625)\"/>\n       </defs>\n       <use xlink:href=\"#DejaVuSans-31\"/>\n       <use x=\"63.623047\" xlink:href=\"#DejaVuSans-30\"/>\n       <use x=\"127.246094\" xlink:href=\"#DejaVuSans-30\"/>\n      </g>\n     </g>\n    </g>\n    <g id=\"text_7\">\n     <!-- Document Frequency of Token -->\n     <g transform=\"translate(393.101562 376.754687)scale(0.1 -0.1)\">\n      <defs>\n       <path d=\"M 1259 4147 \nL 1259 519 \nL 2022 519 \nQ 2988 519 3436 956 \nQ 3884 1394 3884 2338 \nQ 3884 3275 3436 3711 \nQ 2988 4147 2022 4147 \nL 1259 4147 \nz\nM 628 4666 \nL 1925 4666 \nQ 3281 4666 3915 4102 \nQ 4550 3538 4550 2338 \nQ 4550 1131 3912 565 \nQ 3275 0 1925 0 \nL 628 0 \nL 628 4666 \nz\n\" id=\"DejaVuSans-44\" transform=\"scale(0.015625)\"/>\n       <path d=\"M 1959 3097 \nQ 1497 3097 1228 2736 \nQ 959 2375 959 1747 \nQ 959 1119 1226 758 \nQ 1494 397 1959 397 \nQ 2419 397 2687 759 \nQ 2956 1122 2956 1747 \nQ 2956 2369 2687 2733 \nQ 2419 3097 1959 3097 \nz\nM 1959 3584 \nQ 2709 3584 3137 3096 \nQ 3566 2609 3566 1747 \nQ 3566 888 3137 398 \nQ 2709 -91 1959 -91 \nQ 1206 -91 779 398 \nQ 353 888 353 1747 \nQ 353 2609 779 3096 \nQ 1206 3584 1959 3584 \nz\n\" id=\"DejaVuSans-6f\" transform=\"scale(0.015625)\"/>\n       <path d=\"M 3122 3366 \nL 3122 2828 \nQ 2878 2963 2633 3030 \nQ 2388 3097 2138 3097 \nQ 1578 3097 1268 2742 \nQ 959 2388 959 1747 \nQ 959 1106 1268 751 \nQ 1578 397 2138 397 \nQ 2388 397 2633 464 \nQ 2878 531 3122 666 \nL 3122 134 \nQ 2881 22 2623 -34 \nQ 2366 -91 2075 -91 \nQ 1284 -91 818 406 \nQ 353 903 353 1747 \nQ 353 2603 823 3093 \nQ 1294 3584 2113 3584 \nQ 2378 3584 2631 3529 \nQ 2884 3475 3122 3366 \nz\n\" id=\"DejaVuSans-63\" transform=\"scale(0.015625)\"/>\n       <path d=\"M 544 1381 \nL 544 3500 \nL 1119 3500 \nL 1119 1403 \nQ 1119 906 1312 657 \nQ 1506 409 1894 409 \nQ 2359 409 2629 706 \nQ 2900 1003 2900 1516 \nL 2900 3500 \nL 3475 3500 \nL 3475 0 \nL 2900 0 \nL 2900 538 \nQ 2691 219 2414 64 \nQ 2138 -91 1772 -91 \nQ 1169 -91 856 284 \nQ 544 659 544 1381 \nz\nM 1991 3584 \nL 1991 3584 \nz\n\" id=\"DejaVuSans-75\" transform=\"scale(0.015625)\"/>\n       <path d=\"M 3328 2828 \nQ 3544 3216 3844 3400 \nQ 4144 3584 4550 3584 \nQ 5097 3584 5394 3201 \nQ 5691 2819 5691 2113 \nL 5691 0 \nL 5113 0 \nL 5113 2094 \nQ 5113 2597 4934 2840 \nQ 4756 3084 4391 3084 \nQ 3944 3084 3684 2787 \nQ 3425 2491 3425 1978 \nL 3425 0 \nL 2847 0 \nL 2847 2094 \nQ 2847 2600 2669 2842 \nQ 2491 3084 2119 3084 \nQ 1678 3084 1418 2786 \nQ 1159 2488 1159 1978 \nL 1159 0 \nL 581 0 \nL 581 3500 \nL 1159 3500 \nL 1159 2956 \nQ 1356 3278 1631 3431 \nQ 1906 3584 2284 3584 \nQ 2666 3584 2933 3390 \nQ 3200 3197 3328 2828 \nz\n\" id=\"DejaVuSans-6d\" transform=\"scale(0.015625)\"/>\n       <path d=\"M 3597 1894 \nL 3597 1613 \nL 953 1613 \nQ 991 1019 1311 708 \nQ 1631 397 2203 397 \nQ 2534 397 2845 478 \nQ 3156 559 3463 722 \nL 3463 178 \nQ 3153 47 2828 -22 \nQ 2503 -91 2169 -91 \nQ 1331 -91 842 396 \nQ 353 884 353 1716 \nQ 353 2575 817 3079 \nQ 1281 3584 2069 3584 \nQ 2775 3584 3186 3129 \nQ 3597 2675 3597 1894 \nz\nM 3022 2063 \nQ 3016 2534 2758 2815 \nQ 2500 3097 2075 3097 \nQ 1594 3097 1305 2825 \nQ 1016 2553 972 2059 \nL 3022 2063 \nz\n\" id=\"DejaVuSans-65\" transform=\"scale(0.015625)\"/>\n       <path d=\"M 3513 2113 \nL 3513 0 \nL 2938 0 \nL 2938 2094 \nQ 2938 2591 2744 2837 \nQ 2550 3084 2163 3084 \nQ 1697 3084 1428 2787 \nQ 1159 2491 1159 1978 \nL 1159 0 \nL 581 0 \nL 581 3500 \nL 1159 3500 \nL 1159 2956 \nQ 1366 3272 1645 3428 \nQ 1925 3584 2291 3584 \nQ 2894 3584 3203 3211 \nQ 3513 2838 3513 2113 \nz\n\" id=\"DejaVuSans-6e\" transform=\"scale(0.015625)\"/>\n       <path d=\"M 1172 4494 \nL 1172 3500 \nL 2356 3500 \nL 2356 3053 \nL 1172 3053 \nL 1172 1153 \nQ 1172 725 1289 603 \nQ 1406 481 1766 481 \nL 2356 481 \nL 2356 0 \nL 1766 0 \nQ 1100 0 847 248 \nQ 594 497 594 1153 \nL 594 3053 \nL 172 3053 \nL 172 3500 \nL 594 3500 \nL 594 4494 \nL 1172 4494 \nz\n\" id=\"DejaVuSans-74\" transform=\"scale(0.015625)\"/>\n       <path id=\"DejaVuSans-20\" transform=\"scale(0.015625)\"/>\n       <path d=\"M 628 4666 \nL 3309 4666 \nL 3309 4134 \nL 1259 4134 \nL 1259 2759 \nL 3109 2759 \nL 3109 2228 \nL 1259 2228 \nL 1259 0 \nL 628 0 \nL 628 4666 \nz\n\" id=\"DejaVuSans-46\" transform=\"scale(0.015625)\"/>\n       <path d=\"M 2631 2963 \nQ 2534 3019 2420 3045 \nQ 2306 3072 2169 3072 \nQ 1681 3072 1420 2755 \nQ 1159 2438 1159 1844 \nL 1159 0 \nL 581 0 \nL 581 3500 \nL 1159 3500 \nL 1159 2956 \nQ 1341 3275 1631 3429 \nQ 1922 3584 2338 3584 \nQ 2397 3584 2469 3576 \nQ 2541 3569 2628 3553 \nL 2631 2963 \nz\n\" id=\"DejaVuSans-72\" transform=\"scale(0.015625)\"/>\n       <path d=\"M 947 1747 \nQ 947 1113 1208 752 \nQ 1469 391 1925 391 \nQ 2381 391 2643 752 \nQ 2906 1113 2906 1747 \nQ 2906 2381 2643 2742 \nQ 2381 3103 1925 3103 \nQ 1469 3103 1208 2742 \nQ 947 2381 947 1747 \nz\nM 2906 525 \nQ 2725 213 2448 61 \nQ 2172 -91 1784 -91 \nQ 1150 -91 751 415 \nQ 353 922 353 1747 \nQ 353 2572 751 3078 \nQ 1150 3584 1784 3584 \nQ 2172 3584 2448 3432 \nQ 2725 3281 2906 2969 \nL 2906 3500 \nL 3481 3500 \nL 3481 -1331 \nL 2906 -1331 \nL 2906 525 \nz\n\" id=\"DejaVuSans-71\" transform=\"scale(0.015625)\"/>\n       <path d=\"M 2059 -325 \nQ 1816 -950 1584 -1140 \nQ 1353 -1331 966 -1331 \nL 506 -1331 \nL 506 -850 \nL 844 -850 \nQ 1081 -850 1212 -737 \nQ 1344 -625 1503 -206 \nL 1606 56 \nL 191 3500 \nL 800 3500 \nL 1894 763 \nL 2988 3500 \nL 3597 3500 \nL 2059 -325 \nz\n\" id=\"DejaVuSans-79\" transform=\"scale(0.015625)\"/>\n       <path d=\"M 2375 4863 \nL 2375 4384 \nL 1825 4384 \nQ 1516 4384 1395 4259 \nQ 1275 4134 1275 3809 \nL 1275 3500 \nL 2222 3500 \nL 2222 3053 \nL 1275 3053 \nL 1275 0 \nL 697 0 \nL 697 3053 \nL 147 3053 \nL 147 3500 \nL 697 3500 \nL 697 3744 \nQ 697 4328 969 4595 \nQ 1241 4863 1831 4863 \nL 2375 4863 \nz\n\" id=\"DejaVuSans-66\" transform=\"scale(0.015625)\"/>\n       <path d=\"M -19 4666 \nL 3928 4666 \nL 3928 4134 \nL 2272 4134 \nL 2272 0 \nL 1638 0 \nL 1638 4134 \nL -19 4134 \nL -19 4666 \nz\n\" id=\"DejaVuSans-54\" transform=\"scale(0.015625)\"/>\n       <path d=\"M 581 4863 \nL 1159 4863 \nL 1159 1991 \nL 2875 3500 \nL 3609 3500 \nL 1753 1863 \nL 3688 0 \nL 2938 0 \nL 1159 1709 \nL 1159 0 \nL 581 0 \nL 581 4863 \nz\n\" id=\"DejaVuSans-6b\" transform=\"scale(0.015625)\"/>\n      </defs>\n      <use xlink:href=\"#DejaVuSans-44\"/>\n      <use x=\"77.001953\" xlink:href=\"#DejaVuSans-6f\"/>\n      <use x=\"138.183594\" xlink:href=\"#DejaVuSans-63\"/>\n      <use x=\"193.164062\" xlink:href=\"#DejaVuSans-75\"/>\n      <use x=\"256.542969\" xlink:href=\"#DejaVuSans-6d\"/>\n      <use x=\"353.955078\" xlink:href=\"#DejaVuSans-65\"/>\n      <use x=\"415.478516\" xlink:href=\"#DejaVuSans-6e\"/>\n      <use x=\"478.857422\" xlink:href=\"#DejaVuSans-74\"/>\n      <use x=\"518.066406\" xlink:href=\"#DejaVuSans-20\"/>\n      <use x=\"549.853516\" xlink:href=\"#DejaVuSans-46\"/>\n      <use x=\"600.123047\" xlink:href=\"#DejaVuSans-72\"/>\n      <use x=\"638.986328\" xlink:href=\"#DejaVuSans-65\"/>\n      <use x=\"700.509766\" xlink:href=\"#DejaVuSans-71\"/>\n      <use x=\"763.986328\" xlink:href=\"#DejaVuSans-75\"/>\n      <use x=\"827.365234\" xlink:href=\"#DejaVuSans-65\"/>\n      <use x=\"888.888672\" xlink:href=\"#DejaVuSans-6e\"/>\n      <use x=\"952.267578\" xlink:href=\"#DejaVuSans-63\"/>\n      <use x=\"1007.248047\" xlink:href=\"#DejaVuSans-79\"/>\n      <use x=\"1066.427734\" xlink:href=\"#DejaVuSans-20\"/>\n      <use x=\"1098.214844\" xlink:href=\"#DejaVuSans-6f\"/>\n      <use x=\"1159.396484\" xlink:href=\"#DejaVuSans-66\"/>\n      <use x=\"1194.601562\" xlink:href=\"#DejaVuSans-20\"/>\n      <use x=\"1226.388672\" xlink:href=\"#DejaVuSans-54\"/>\n      <use x=\"1270.472656\" xlink:href=\"#DejaVuSans-6f\"/>\n      <use x=\"1331.654297\" xlink:href=\"#DejaVuSans-6b\"/>\n      <use x=\"1385.939453\" xlink:href=\"#DejaVuSans-65\"/>\n      <use x=\"1447.462891\" xlink:href=\"#DejaVuSans-6e\"/>\n     </g>\n    </g>\n   </g>\n   <g id=\"matplotlib.axis_2\">\n    <g id=\"ytick_1\">\n     <g id=\"line2d_13\">\n      <path clip-path=\"url(#p71716fa0d9)\" d=\"M 50.14375 348.478125 \nL 887.14375 348.478125 \n\" style=\"fill:none;stroke:#b0b0b0;stroke-linecap:square;stroke-width:0.8;\"/>\n     </g>\n     <g id=\"line2d_14\">\n      <defs>\n       <path d=\"M 0 0 \nL -3.5 0 \n\" id=\"m50b03b119d\" style=\"stroke:#000000;stroke-width:0.8;\"/>\n      </defs>\n      <g>\n       <use style=\"stroke:#000000;stroke-width:0.8;\" x=\"50.14375\" xlink:href=\"#m50b03b119d\" y=\"348.478125\"/>\n      </g>\n     </g>\n     <g id=\"text_8\">\n      <!-- 0.00 -->\n      <g transform=\"translate(20.878125 352.277344)scale(0.1 -0.1)\">\n       <defs>\n        <path d=\"M 684 794 \nL 1344 794 \nL 1344 0 \nL 684 0 \nL 684 794 \nz\n\" id=\"DejaVuSans-2e\" transform=\"scale(0.015625)\"/>\n       </defs>\n       <use xlink:href=\"#DejaVuSans-30\"/>\n       <use x=\"63.623047\" xlink:href=\"#DejaVuSans-2e\"/>\n       <use x=\"95.410156\" xlink:href=\"#DejaVuSans-30\"/>\n       <use x=\"159.033203\" xlink:href=\"#DejaVuSans-30\"/>\n      </g>\n     </g>\n    </g>\n    <g id=\"ytick_2\">\n     <g id=\"line2d_15\">\n      <path clip-path=\"url(#p71716fa0d9)\" d=\"M 50.14375 283.246125 \nL 887.14375 283.246125 \n\" style=\"fill:none;stroke:#b0b0b0;stroke-linecap:square;stroke-width:0.8;\"/>\n     </g>\n     <g id=\"line2d_16\">\n      <g>\n       <use style=\"stroke:#000000;stroke-width:0.8;\" x=\"50.14375\" xlink:href=\"#m50b03b119d\" y=\"283.246125\"/>\n      </g>\n     </g>\n     <g id=\"text_9\">\n      <!-- 0.02 -->\n      <g transform=\"translate(20.878125 287.045344)scale(0.1 -0.1)\">\n       <defs>\n        <path d=\"M 1228 531 \nL 3431 531 \nL 3431 0 \nL 469 0 \nL 469 531 \nQ 828 903 1448 1529 \nQ 2069 2156 2228 2338 \nQ 2531 2678 2651 2914 \nQ 2772 3150 2772 3378 \nQ 2772 3750 2511 3984 \nQ 2250 4219 1831 4219 \nQ 1534 4219 1204 4116 \nQ 875 4013 500 3803 \nL 500 4441 \nQ 881 4594 1212 4672 \nQ 1544 4750 1819 4750 \nQ 2544 4750 2975 4387 \nQ 3406 4025 3406 3419 \nQ 3406 3131 3298 2873 \nQ 3191 2616 2906 2266 \nQ 2828 2175 2409 1742 \nQ 1991 1309 1228 531 \nz\n\" id=\"DejaVuSans-32\" transform=\"scale(0.015625)\"/>\n       </defs>\n       <use xlink:href=\"#DejaVuSans-30\"/>\n       <use x=\"63.623047\" xlink:href=\"#DejaVuSans-2e\"/>\n       <use x=\"95.410156\" xlink:href=\"#DejaVuSans-30\"/>\n       <use x=\"159.033203\" xlink:href=\"#DejaVuSans-32\"/>\n      </g>\n     </g>\n    </g>\n    <g id=\"ytick_3\">\n     <g id=\"line2d_17\">\n      <path clip-path=\"url(#p71716fa0d9)\" d=\"M 50.14375 218.014125 \nL 887.14375 218.014125 \n\" style=\"fill:none;stroke:#b0b0b0;stroke-linecap:square;stroke-width:0.8;\"/>\n     </g>\n     <g id=\"line2d_18\">\n      <g>\n       <use style=\"stroke:#000000;stroke-width:0.8;\" x=\"50.14375\" xlink:href=\"#m50b03b119d\" y=\"218.014125\"/>\n      </g>\n     </g>\n     <g id=\"text_10\">\n      <!-- 0.04 -->\n      <g transform=\"translate(20.878125 221.813344)scale(0.1 -0.1)\">\n       <defs>\n        <path d=\"M 2419 4116 \nL 825 1625 \nL 2419 1625 \nL 2419 4116 \nz\nM 2253 4666 \nL 3047 4666 \nL 3047 1625 \nL 3713 1625 \nL 3713 1100 \nL 3047 1100 \nL 3047 0 \nL 2419 0 \nL 2419 1100 \nL 313 1100 \nL 313 1709 \nL 2253 4666 \nz\n\" id=\"DejaVuSans-34\" transform=\"scale(0.015625)\"/>\n       </defs>\n       <use xlink:href=\"#DejaVuSans-30\"/>\n       <use x=\"63.623047\" xlink:href=\"#DejaVuSans-2e\"/>\n       <use x=\"95.410156\" xlink:href=\"#DejaVuSans-30\"/>\n       <use x=\"159.033203\" xlink:href=\"#DejaVuSans-34\"/>\n      </g>\n     </g>\n    </g>\n    <g id=\"ytick_4\">\n     <g id=\"line2d_19\">\n      <path clip-path=\"url(#p71716fa0d9)\" d=\"M 50.14375 152.782125 \nL 887.14375 152.782125 \n\" style=\"fill:none;stroke:#b0b0b0;stroke-linecap:square;stroke-width:0.8;\"/>\n     </g>\n     <g id=\"line2d_20\">\n      <g>\n       <use style=\"stroke:#000000;stroke-width:0.8;\" x=\"50.14375\" xlink:href=\"#m50b03b119d\" y=\"152.782125\"/>\n      </g>\n     </g>\n     <g id=\"text_11\">\n      <!-- 0.06 -->\n      <g transform=\"translate(20.878125 156.581344)scale(0.1 -0.1)\">\n       <use xlink:href=\"#DejaVuSans-30\"/>\n       <use x=\"63.623047\" xlink:href=\"#DejaVuSans-2e\"/>\n       <use x=\"95.410156\" xlink:href=\"#DejaVuSans-30\"/>\n       <use x=\"159.033203\" xlink:href=\"#DejaVuSans-36\"/>\n      </g>\n     </g>\n    </g>\n    <g id=\"ytick_5\">\n     <g id=\"line2d_21\">\n      <path clip-path=\"url(#p71716fa0d9)\" d=\"M 50.14375 87.550125 \nL 887.14375 87.550125 \n\" style=\"fill:none;stroke:#b0b0b0;stroke-linecap:square;stroke-width:0.8;\"/>\n     </g>\n     <g id=\"line2d_22\">\n      <g>\n       <use style=\"stroke:#000000;stroke-width:0.8;\" x=\"50.14375\" xlink:href=\"#m50b03b119d\" y=\"87.550125\"/>\n      </g>\n     </g>\n     <g id=\"text_12\">\n      <!-- 0.08 -->\n      <g transform=\"translate(20.878125 91.349344)scale(0.1 -0.1)\">\n       <use xlink:href=\"#DejaVuSans-30\"/>\n       <use x=\"63.623047\" xlink:href=\"#DejaVuSans-2e\"/>\n       <use x=\"95.410156\" xlink:href=\"#DejaVuSans-30\"/>\n       <use x=\"159.033203\" xlink:href=\"#DejaVuSans-38\"/>\n      </g>\n     </g>\n    </g>\n    <g id=\"ytick_6\">\n     <g id=\"line2d_23\">\n      <path clip-path=\"url(#p71716fa0d9)\" d=\"M 50.14375 22.318125 \nL 887.14375 22.318125 \n\" style=\"fill:none;stroke:#b0b0b0;stroke-linecap:square;stroke-width:0.8;\"/>\n     </g>\n     <g id=\"line2d_24\">\n      <g>\n       <use style=\"stroke:#000000;stroke-width:0.8;\" x=\"50.14375\" xlink:href=\"#m50b03b119d\" y=\"22.318125\"/>\n      </g>\n     </g>\n     <g id=\"text_13\">\n      <!-- 0.10 -->\n      <g transform=\"translate(20.878125 26.117344)scale(0.1 -0.1)\">\n       <use xlink:href=\"#DejaVuSans-30\"/>\n       <use x=\"63.623047\" xlink:href=\"#DejaVuSans-2e\"/>\n       <use x=\"95.410156\" xlink:href=\"#DejaVuSans-31\"/>\n       <use x=\"159.033203\" xlink:href=\"#DejaVuSans-30\"/>\n      </g>\n     </g>\n    </g>\n    <g id=\"text_14\">\n     <!-- Inverse Document Frequency Score -->\n     <g transform=\"translate(14.798438 274.316875)rotate(-90)scale(0.1 -0.1)\">\n      <defs>\n       <path d=\"M 628 4666 \nL 1259 4666 \nL 1259 0 \nL 628 0 \nL 628 4666 \nz\n\" id=\"DejaVuSans-49\" transform=\"scale(0.015625)\"/>\n       <path d=\"M 191 3500 \nL 800 3500 \nL 1894 563 \nL 2988 3500 \nL 3597 3500 \nL 2284 0 \nL 1503 0 \nL 191 3500 \nz\n\" id=\"DejaVuSans-76\" transform=\"scale(0.015625)\"/>\n       <path d=\"M 2834 3397 \nL 2834 2853 \nQ 2591 2978 2328 3040 \nQ 2066 3103 1784 3103 \nQ 1356 3103 1142 2972 \nQ 928 2841 928 2578 \nQ 928 2378 1081 2264 \nQ 1234 2150 1697 2047 \nL 1894 2003 \nQ 2506 1872 2764 1633 \nQ 3022 1394 3022 966 \nQ 3022 478 2636 193 \nQ 2250 -91 1575 -91 \nQ 1294 -91 989 -36 \nQ 684 19 347 128 \nL 347 722 \nQ 666 556 975 473 \nQ 1284 391 1588 391 \nQ 1994 391 2212 530 \nQ 2431 669 2431 922 \nQ 2431 1156 2273 1281 \nQ 2116 1406 1581 1522 \nL 1381 1569 \nQ 847 1681 609 1914 \nQ 372 2147 372 2553 \nQ 372 3047 722 3315 \nQ 1072 3584 1716 3584 \nQ 2034 3584 2315 3537 \nQ 2597 3491 2834 3397 \nz\n\" id=\"DejaVuSans-73\" transform=\"scale(0.015625)\"/>\n       <path d=\"M 3425 4513 \nL 3425 3897 \nQ 3066 4069 2747 4153 \nQ 2428 4238 2131 4238 \nQ 1616 4238 1336 4038 \nQ 1056 3838 1056 3469 \nQ 1056 3159 1242 3001 \nQ 1428 2844 1947 2747 \nL 2328 2669 \nQ 3034 2534 3370 2195 \nQ 3706 1856 3706 1288 \nQ 3706 609 3251 259 \nQ 2797 -91 1919 -91 \nQ 1588 -91 1214 -16 \nQ 841 59 441 206 \nL 441 856 \nQ 825 641 1194 531 \nQ 1563 422 1919 422 \nQ 2459 422 2753 634 \nQ 3047 847 3047 1241 \nQ 3047 1584 2836 1778 \nQ 2625 1972 2144 2069 \nL 1759 2144 \nQ 1053 2284 737 2584 \nQ 422 2884 422 3419 \nQ 422 4038 858 4394 \nQ 1294 4750 2059 4750 \nQ 2388 4750 2728 4690 \nQ 3069 4631 3425 4513 \nz\n\" id=\"DejaVuSans-53\" transform=\"scale(0.015625)\"/>\n      </defs>\n      <use xlink:href=\"#DejaVuSans-49\"/>\n      <use x=\"29.492188\" xlink:href=\"#DejaVuSans-6e\"/>\n      <use x=\"92.871094\" xlink:href=\"#DejaVuSans-76\"/>\n      <use x=\"152.050781\" xlink:href=\"#DejaVuSans-65\"/>\n      <use x=\"213.574219\" xlink:href=\"#DejaVuSans-72\"/>\n      <use x=\"254.6875\" xlink:href=\"#DejaVuSans-73\"/>\n      <use x=\"306.787109\" xlink:href=\"#DejaVuSans-65\"/>\n      <use x=\"368.310547\" xlink:href=\"#DejaVuSans-20\"/>\n      <use x=\"400.097656\" xlink:href=\"#DejaVuSans-44\"/>\n      <use x=\"477.099609\" xlink:href=\"#DejaVuSans-6f\"/>\n      <use x=\"538.28125\" xlink:href=\"#DejaVuSans-63\"/>\n      <use x=\"593.261719\" xlink:href=\"#DejaVuSans-75\"/>\n      <use x=\"656.640625\" xlink:href=\"#DejaVuSans-6d\"/>\n      <use x=\"754.052734\" xlink:href=\"#DejaVuSans-65\"/>\n      <use x=\"815.576172\" xlink:href=\"#DejaVuSans-6e\"/>\n      <use x=\"878.955078\" xlink:href=\"#DejaVuSans-74\"/>\n      <use x=\"918.164062\" xlink:href=\"#DejaVuSans-20\"/>\n      <use x=\"949.951172\" xlink:href=\"#DejaVuSans-46\"/>\n      <use x=\"1000.220703\" xlink:href=\"#DejaVuSans-72\"/>\n      <use x=\"1039.083984\" xlink:href=\"#DejaVuSans-65\"/>\n      <use x=\"1100.607422\" xlink:href=\"#DejaVuSans-71\"/>\n      <use x=\"1164.083984\" xlink:href=\"#DejaVuSans-75\"/>\n      <use x=\"1227.462891\" xlink:href=\"#DejaVuSans-65\"/>\n      <use x=\"1288.986328\" xlink:href=\"#DejaVuSans-6e\"/>\n      <use x=\"1352.365234\" xlink:href=\"#DejaVuSans-63\"/>\n      <use x=\"1407.345703\" xlink:href=\"#DejaVuSans-79\"/>\n      <use x=\"1466.525391\" xlink:href=\"#DejaVuSans-20\"/>\n      <use x=\"1498.3125\" xlink:href=\"#DejaVuSans-53\"/>\n      <use x=\"1561.789062\" xlink:href=\"#DejaVuSans-63\"/>\n      <use x=\"1616.769531\" xlink:href=\"#DejaVuSans-6f\"/>\n      <use x=\"1677.951172\" xlink:href=\"#DejaVuSans-72\"/>\n      <use x=\"1716.814453\" xlink:href=\"#DejaVuSans-65\"/>\n     </g>\n    </g>\n   </g>\n   <g id=\"line2d_25\">\n    <path clip-path=\"url(#p71716fa0d9)\" d=\"M -1 204.898685 \nL 50.14375 215.333108 \nL 217.54375 249.132374 \nL 384.94375 282.584975 \nL 552.34375 315.69795 \nL 719.74375 348.478125 \n\" style=\"fill:none;stroke:#1f77b4;stroke-linecap:square;stroke-width:1.5;\"/>\n   </g>\n   <g id=\"patch_3\">\n    <path d=\"M 50.14375 348.478125 \nL 50.14375 22.318125 \n\" style=\"fill:none;stroke:#000000;stroke-linecap:square;stroke-linejoin:miter;stroke-width:0.8;\"/>\n   </g>\n   <g id=\"patch_4\">\n    <path d=\"M 887.14375 348.478125 \nL 887.14375 22.318125 \n\" style=\"fill:none;stroke:#000000;stroke-linecap:square;stroke-linejoin:miter;stroke-width:0.8;\"/>\n   </g>\n   <g id=\"patch_5\">\n    <path d=\"M 50.14375 348.478125 \nL 887.14375 348.478125 \n\" style=\"fill:none;stroke:#000000;stroke-linecap:square;stroke-linejoin:miter;stroke-width:0.8;\"/>\n   </g>\n   <g id=\"patch_6\">\n    <path d=\"M 50.14375 22.318125 \nL 887.14375 22.318125 \n\" style=\"fill:none;stroke:#000000;stroke-linecap:square;stroke-linejoin:miter;stroke-width:0.8;\"/>\n   </g>\n   <g id=\"text_15\">\n    <!-- Inverse Document Frequency Score vs. Document Frequency of Token -->\n    <g transform=\"translate(258.893125 16.318125)scale(0.12 -0.12)\">\n     <use xlink:href=\"#DejaVuSans-49\"/>\n     <use x=\"29.492188\" xlink:href=\"#DejaVuSans-6e\"/>\n     <use x=\"92.871094\" xlink:href=\"#DejaVuSans-76\"/>\n     <use x=\"152.050781\" xlink:href=\"#DejaVuSans-65\"/>\n     <use x=\"213.574219\" xlink:href=\"#DejaVuSans-72\"/>\n     <use x=\"254.6875\" xlink:href=\"#DejaVuSans-73\"/>\n     <use x=\"306.787109\" xlink:href=\"#DejaVuSans-65\"/>\n     <use x=\"368.310547\" xlink:href=\"#DejaVuSans-20\"/>\n     <use x=\"400.097656\" xlink:href=\"#DejaVuSans-44\"/>\n     <use x=\"477.099609\" xlink:href=\"#DejaVuSans-6f\"/>\n     <use x=\"538.28125\" xlink:href=\"#DejaVuSans-63\"/>\n     <use x=\"593.261719\" xlink:href=\"#DejaVuSans-75\"/>\n     <use x=\"656.640625\" xlink:href=\"#DejaVuSans-6d\"/>\n     <use x=\"754.052734\" xlink:href=\"#DejaVuSans-65\"/>\n     <use x=\"815.576172\" xlink:href=\"#DejaVuSans-6e\"/>\n     <use x=\"878.955078\" xlink:href=\"#DejaVuSans-74\"/>\n     <use x=\"918.164062\" xlink:href=\"#DejaVuSans-20\"/>\n     <use x=\"949.951172\" xlink:href=\"#DejaVuSans-46\"/>\n     <use x=\"1000.220703\" xlink:href=\"#DejaVuSans-72\"/>\n     <use x=\"1039.083984\" xlink:href=\"#DejaVuSans-65\"/>\n     <use x=\"1100.607422\" xlink:href=\"#DejaVuSans-71\"/>\n     <use x=\"1164.083984\" xlink:href=\"#DejaVuSans-75\"/>\n     <use x=\"1227.462891\" xlink:href=\"#DejaVuSans-65\"/>\n     <use x=\"1288.986328\" xlink:href=\"#DejaVuSans-6e\"/>\n     <use x=\"1352.365234\" xlink:href=\"#DejaVuSans-63\"/>\n     <use x=\"1407.345703\" xlink:href=\"#DejaVuSans-79\"/>\n     <use x=\"1466.525391\" xlink:href=\"#DejaVuSans-20\"/>\n     <use x=\"1498.3125\" xlink:href=\"#DejaVuSans-53\"/>\n     <use x=\"1561.789062\" xlink:href=\"#DejaVuSans-63\"/>\n     <use x=\"1616.769531\" xlink:href=\"#DejaVuSans-6f\"/>\n     <use x=\"1677.951172\" xlink:href=\"#DejaVuSans-72\"/>\n     <use x=\"1716.814453\" xlink:href=\"#DejaVuSans-65\"/>\n     <use x=\"1778.337891\" xlink:href=\"#DejaVuSans-20\"/>\n     <use x=\"1810.125\" xlink:href=\"#DejaVuSans-76\"/>\n     <use x=\"1869.304688\" xlink:href=\"#DejaVuSans-73\"/>\n     <use x=\"1921.404297\" xlink:href=\"#DejaVuSans-2e\"/>\n     <use x=\"1953.191406\" xlink:href=\"#DejaVuSans-20\"/>\n     <use x=\"1984.978516\" xlink:href=\"#DejaVuSans-44\"/>\n     <use x=\"2061.980469\" xlink:href=\"#DejaVuSans-6f\"/>\n     <use x=\"2123.162109\" xlink:href=\"#DejaVuSans-63\"/>\n     <use x=\"2178.142578\" xlink:href=\"#DejaVuSans-75\"/>\n     <use x=\"2241.521484\" xlink:href=\"#DejaVuSans-6d\"/>\n     <use x=\"2338.933594\" xlink:href=\"#DejaVuSans-65\"/>\n     <use x=\"2400.457031\" xlink:href=\"#DejaVuSans-6e\"/>\n     <use x=\"2463.835938\" xlink:href=\"#DejaVuSans-74\"/>\n     <use x=\"2503.044922\" xlink:href=\"#DejaVuSans-20\"/>\n     <use x=\"2534.832031\" xlink:href=\"#DejaVuSans-46\"/>\n     <use x=\"2585.101562\" xlink:href=\"#DejaVuSans-72\"/>\n     <use x=\"2623.964844\" xlink:href=\"#DejaVuSans-65\"/>\n     <use x=\"2685.488281\" xlink:href=\"#DejaVuSans-71\"/>\n     <use x=\"2748.964844\" xlink:href=\"#DejaVuSans-75\"/>\n     <use x=\"2812.34375\" xlink:href=\"#DejaVuSans-65\"/>\n     <use x=\"2873.867188\" xlink:href=\"#DejaVuSans-6e\"/>\n     <use x=\"2937.246094\" xlink:href=\"#DejaVuSans-63\"/>\n     <use x=\"2992.226562\" xlink:href=\"#DejaVuSans-79\"/>\n     <use x=\"3051.40625\" xlink:href=\"#DejaVuSans-20\"/>\n     <use x=\"3083.193359\" xlink:href=\"#DejaVuSans-6f\"/>\n     <use x=\"3144.375\" xlink:href=\"#DejaVuSans-66\"/>\n     <use x=\"3179.580078\" xlink:href=\"#DejaVuSans-20\"/>\n     <use x=\"3211.367188\" xlink:href=\"#DejaVuSans-54\"/>\n     <use x=\"3255.451172\" xlink:href=\"#DejaVuSans-6f\"/>\n     <use x=\"3316.632812\" xlink:href=\"#DejaVuSans-6b\"/>\n     <use x=\"3370.917969\" xlink:href=\"#DejaVuSans-65\"/>\n     <use x=\"3432.441406\" xlink:href=\"#DejaVuSans-6e\"/>\n    </g>\n   </g>\n  </g>\n </g>\n <defs>\n  <clipPath id=\"p71716fa0d9\">\n   <rect height=\"326.16\" width=\"837\" x=\"50.14375\" y=\"22.318125\"/>\n  </clipPath>\n </defs>\n</svg>\n",
      "image/png": "[encoded data removed]"
     },
     "metadata": {
      "needs_background": "light"
     }
    }
   ],
   "source": [
    "plt.figure(figsize=(15,6))\n",
    "plt.title(\"Inverse Document Frequency Score vs. Document Frequency of Token\")\n",
    "plt.ylabel(\"Inverse Document Frequency Score\")\n",
    "plt.xlabel(\"Document Frequency of Token\")\n",
    "plt.grid()\n",
    "plt.plot(IDF);\n",
    "plt.show()\n",
    "\n",
    "plt.figure(figsize=(15,6))\n",
    "plt.title(\"Inverse Document Frequency Score vs. Document Frequency of Token\")\n",
    "plt.ylabel(\"Inverse Document Frequency Score\")\n",
    "plt.xlabel(\"Document Frequency of Token\")\n",
    "plt.xlim(95,100)\n",
    "plt.ylim(0,0.10)\n",
    "plt.grid()\n",
    "plt.plot(IDF);\n",
    "plt.show()"
   ]
  },
  {
   "cell_type": "markdown",
   "metadata": {},
   "source": [
    "Now that we have built some intuition on how tfidf works, let's use sklearn's implementations to vectorizer our dataset. "
   ]
  },
  {
   "cell_type": "code",
   "execution_count": 79,
   "metadata": {
    "deletable": false,
    "nbgrader": {
     "cell_type": "code",
     "checksum": "96e3f4d871a285043bb29736c6f35bb7",
     "grade": false,
     "grade_id": "cell-4ccfa3ef2d0404fc",
     "locked": false,
     "schema_version": 3,
     "solution": true,
     "task": false
    }
   },
   "outputs": [
    {
     "output_type": "stream",
     "name": "stdout",
     "text": [
      "(401, 9065)\n"
     ]
    },
    {
     "output_type": "execute_result",
     "data": {
      "text/plain": [
       "   000 000  000 broadband  000 copies  000 mobile  000 new  000 new gadgets  \\\n",
       "0        0              0           0           0        0                0   \n",
       "1        0              0           0           0        0                0   \n",
       "2        0              0           0           0        0                0   \n",
       "3        0              0           0           0        0                0   \n",
       "4        0              0           0           0        0                0   \n",
       "\n",
       "   000 new products  000 people  000 people expected  000 readers  ...  \\\n",
       "0                 0           0                    0            0  ...   \n",
       "1                 0           0                    0            0  ...   \n",
       "2                 0           0                    0            0  ...   \n",
       "3                 0           0                    0            0  ...   \n",
       "4                 0           0                    0            0  ...   \n",
       "\n",
       "   younger users  youngsters  youth  zelda  zen  zen micro  zip  zombies  \\\n",
       "0              0           0      0      0    0          0    0        0   \n",
       "1              0           0      0      0    0          0    0        0   \n",
       "2              0           0      0      0    0          0    0        0   \n",
       "3              0           0      0      0    0          0    0        0   \n",
       "4              0           0      0      0    0          0    0        0   \n",
       "\n",
       "   zone  zoom  \n",
       "0     0     0  \n",
       "1     0     0  \n",
       "2     0     0  \n",
       "3     0     0  \n",
       "4     0     0  \n",
       "\n",
       "[5 rows x 9065 columns]"
      ],
      "text/html": "<div>\n<style scoped>\n    .dataframe tbody tr th:only-of-type {\n        vertical-align: middle;\n    }\n\n    .dataframe tbody tr th {\n        vertical-align: top;\n    }\n\n    .dataframe thead th {\n        text-align: right;\n    }\n</style>\n<table border=\"1\" class=\"dataframe\">\n  <thead>\n    <tr style=\"text-align: right;\">\n      <th></th>\n      <th>000 000</th>\n      <th>000 broadband</th>\n      <th>000 copies</th>\n      <th>000 mobile</th>\n      <th>000 new</th>\n      <th>000 new gadgets</th>\n      <th>000 new products</th>\n      <th>000 people</th>\n      <th>000 people expected</th>\n      <th>000 readers</th>\n      <th>...</th>\n      <th>younger users</th>\n      <th>youngsters</th>\n      <th>youth</th>\n      <th>zelda</th>\n      <th>zen</th>\n      <th>zen micro</th>\n      <th>zip</th>\n      <th>zombies</th>\n      <th>zone</th>\n      <th>zoom</th>\n    </tr>\n  </thead>\n  <tbody>\n    <tr>\n      <th>0</th>\n      <td>0</td>\n      <td>0</td>\n      <td>0</td>\n      <td>0</td>\n      <td>0</td>\n      <td>0</td>\n      <td>0</td>\n      <td>0</td>\n      <td>0</td>\n      <td>0</td>\n      <td>...</td>\n      <td>0</td>\n      <td>0</td>\n      <td>0</td>\n      <td>0</td>\n      <td>0</td>\n      <td>0</td>\n      <td>0</td>\n      <td>0</td>\n      <td>0</td>\n      <td>0</td>\n    </tr>\n    <tr>\n      <th>1</th>\n      <td>0</td>\n      <td>0</td>\n      <td>0</td>\n      <td>0</td>\n      <td>0</td>\n      <td>0</td>\n      <td>0</td>\n      <td>0</td>\n      <td>0</td>\n      <td>0</td>\n      <td>...</td>\n      <td>0</td>\n      <td>0</td>\n      <td>0</td>\n      <td>0</td>\n      <td>0</td>\n      <td>0</td>\n      <td>0</td>\n      <td>0</td>\n      <td>0</td>\n      <td>0</td>\n    </tr>\n    <tr>\n      <th>2</th>\n      <td>0</td>\n      <td>0</td>\n      <td>0</td>\n      <td>0</td>\n      <td>0</td>\n      <td>0</td>\n      <td>0</td>\n      <td>0</td>\n      <td>0</td>\n      <td>0</td>\n      <td>...</td>\n      <td>0</td>\n      <td>0</td>\n      <td>0</td>\n      <td>0</td>\n      <td>0</td>\n      <td>0</td>\n      <td>0</td>\n      <td>0</td>\n      <td>0</td>\n      <td>0</td>\n    </tr>\n    <tr>\n      <th>3</th>\n      <td>0</td>\n      <td>0</td>\n      <td>0</td>\n      <td>0</td>\n      <td>0</td>\n      <td>0</td>\n      <td>0</td>\n      <td>0</td>\n      <td>0</td>\n      <td>0</td>\n      <td>...</td>\n      <td>0</td>\n      <td>0</td>\n      <td>0</td>\n      <td>0</td>\n      <td>0</td>\n      <td>0</td>\n      <td>0</td>\n      <td>0</td>\n      <td>0</td>\n      <td>0</td>\n    </tr>\n    <tr>\n      <th>4</th>\n      <td>0</td>\n      <td>0</td>\n      <td>0</td>\n      <td>0</td>\n      <td>0</td>\n      <td>0</td>\n      <td>0</td>\n      <td>0</td>\n      <td>0</td>\n      <td>0</td>\n      <td>...</td>\n      <td>0</td>\n      <td>0</td>\n      <td>0</td>\n      <td>0</td>\n      <td>0</td>\n      <td>0</td>\n      <td>0</td>\n      <td>0</td>\n      <td>0</td>\n      <td>0</td>\n    </tr>\n  </tbody>\n</table>\n<p>5 rows × 9065 columns</p>\n</div>"
     },
     "metadata": {},
     "execution_count": 79
    }
   ],
   "source": [
    "from sklearn.feature_extraction.text import TfidfVectorizer\n",
    "\n",
    "#  let's work through a couple of examples to help build intuition \n",
    "\n",
    "#Learn our Vocab\n",
    "vect = CountVectorizer(stop_words='english', ngram_range=(1,3), min_df=3, max_df=0.25)  # ngram bi gram or tri gram, min_df: minimum number of documents a word must appear in to be counted as a word, what is max a word can appear in before we trim that word, max_features the maximum number of times a word appears as a count\n",
    "\n",
    "# Get sparse dtm (i.e. transform the data)\n",
    "# fit the model first\n",
    "vect.fit(data)\n",
    "\n",
    "# transform\n",
    "dtm = vect.transform(data)\n",
    "\n",
    "# then convert to the dataframe\n",
    "dtm = pd.DataFrame(dtm.todense(), columns=vect.get_feature_names())\n",
    "print(dtm.shape)\n",
    "dtm.head()"
   ]
  },
  {
   "cell_type": "code",
   "execution_count": 80,
   "metadata": {},
   "outputs": [
    {
     "output_type": "execute_result",
     "data": {
      "text/plain": [
       "     000 new products\n",
       "0                   0\n",
       "1                   0\n",
       "2                   0\n",
       "3                   0\n",
       "4                   0\n",
       "..                ...\n",
       "396                 0\n",
       "397                 0\n",
       "398                 0\n",
       "399                 0\n",
       "400                 0\n",
       "\n",
       "[401 rows x 1 columns]"
      ],
      "text/html": "<div>\n<style scoped>\n    .dataframe tbody tr th:only-of-type {\n        vertical-align: middle;\n    }\n\n    .dataframe tbody tr th {\n        vertical-align: top;\n    }\n\n    .dataframe thead th {\n        text-align: right;\n    }\n</style>\n<table border=\"1\" class=\"dataframe\">\n  <thead>\n    <tr style=\"text-align: right;\">\n      <th></th>\n      <th>000 new products</th>\n    </tr>\n  </thead>\n  <tbody>\n    <tr>\n      <th>0</th>\n      <td>0</td>\n    </tr>\n    <tr>\n      <th>1</th>\n      <td>0</td>\n    </tr>\n    <tr>\n      <th>2</th>\n      <td>0</td>\n    </tr>\n    <tr>\n      <th>3</th>\n      <td>0</td>\n    </tr>\n    <tr>\n      <th>4</th>\n      <td>0</td>\n    </tr>\n    <tr>\n      <th>...</th>\n      <td>...</td>\n    </tr>\n    <tr>\n      <th>396</th>\n      <td>0</td>\n    </tr>\n    <tr>\n      <th>397</th>\n      <td>0</td>\n    </tr>\n    <tr>\n      <th>398</th>\n      <td>0</td>\n    </tr>\n    <tr>\n      <th>399</th>\n      <td>0</td>\n    </tr>\n    <tr>\n      <th>400</th>\n      <td>0</td>\n    </tr>\n  </tbody>\n</table>\n<p>401 rows × 1 columns</p>\n</div>"
     },
     "metadata": {},
     "execution_count": 80
    }
   ],
   "source": [
    "dtm.iloc[:, [6]]"
   ]
  },
  {
   "cell_type": "code",
   "execution_count": 91,
   "metadata": {},
   "outputs": [],
   "source": [
    "import re\n",
    "def tokenize(text):\n",
    "    \"\"\" This tokenizer removes punc etc\"\"\"\n",
    "    tokens = re.sub('[^a-zA-Z ]', '', text) # ^ is the doesn't match this pattern then replace\n",
    "    tokens = tokens.lower().split()\n",
    "\n",
    "    # stetch goal: Lemmatize each token (wordnet lemmatizer or stemmer)\n",
    "    # lemma_tokens = []\n",
    "    return tokens"
   ]
  },
  {
   "cell_type": "code",
   "execution_count": null,
   "metadata": {},
   "outputs": [],
   "source": [
    "# this takes time to run \n",
    "\n",
    "def tokenize(document):\n",
    "    \"\"\"\n",
    "    Takes a doc and returns a list of tokens in the form of lemmas.\n",
    "    Stop words and punctuation are filtered out. \n",
    "    \"\"\"\n",
    "    \n",
    "    doc = nlp(document)\n",
    "    \n",
    "    return [token.lemma_.strip() for token in doc if (token.is_stop != True) and (token.is_punct != True)]"
   ]
  },
  {
   "cell_type": "code",
   "execution_count": 95,
   "metadata": {
    "deletable": false,
    "nbgrader": {
     "cell_type": "code",
     "checksum": "94314eba76be22273e8b07247bb8b1f6",
     "grade": false,
     "grade_id": "cell-0667a7a2ebea2224",
     "locked": false,
     "schema_version": 3,
     "solution": true,
     "task": false
    }
   },
   "outputs": [
    {
     "output_type": "stream",
     "name": "stderr",
     "text": [
      "/Users/rob/opt/anaconda3/envs/U4-S1-NLP/lib/python3.7/site-packages/sklearn/feature_extraction/text.py:507: UserWarning: The parameter 'token_pattern' will not be used since 'tokenizer' is not None'\n",
      "  warnings.warn(\"The parameter 'token_pattern' will not be used\"\n",
      "(401, 3815)\n"
     ]
    },
    {
     "output_type": "execute_result",
     "data": {
      "text/plain": [
       "   ability  able access  able watch  abuse  academy  accept  accepted  \\\n",
       "0      0.0          0.0         0.0    0.0      0.0     0.0       0.0   \n",
       "1      0.0          0.0         0.0    0.0      0.0     0.0       0.0   \n",
       "2      0.0          0.0         0.0    0.0      0.0     0.0       0.0   \n",
       "\n",
       "     access  access home  access net  ...  yearold  years ago  yen  yes  \\\n",
       "0  0.000000          0.0         0.0  ...      0.0        0.0  0.0  0.0   \n",
       "1  0.055439          0.0         0.0  ...      0.0        0.0  0.0  0.0   \n",
       "2  0.000000          0.0         0.0  ...      0.0        0.0  0.0  0.0   \n",
       "\n",
       "       york     young  younger     youre  youth  zombies  \n",
       "0  0.069986  0.069986      0.0  0.000000    0.0      0.0  \n",
       "1  0.000000  0.000000      0.0  0.000000    0.0      0.0  \n",
       "2  0.000000  0.000000      0.0  0.051501    0.0      0.0  \n",
       "\n",
       "[3 rows x 3815 columns]"
      ],
      "text/html": "<div>\n<style scoped>\n    .dataframe tbody tr th:only-of-type {\n        vertical-align: middle;\n    }\n\n    .dataframe tbody tr th {\n        vertical-align: top;\n    }\n\n    .dataframe thead th {\n        text-align: right;\n    }\n</style>\n<table border=\"1\" class=\"dataframe\">\n  <thead>\n    <tr style=\"text-align: right;\">\n      <th></th>\n      <th>ability</th>\n      <th>able access</th>\n      <th>able watch</th>\n      <th>abuse</th>\n      <th>academy</th>\n      <th>accept</th>\n      <th>accepted</th>\n      <th>access</th>\n      <th>access home</th>\n      <th>access net</th>\n      <th>...</th>\n      <th>yearold</th>\n      <th>years ago</th>\n      <th>yen</th>\n      <th>yes</th>\n      <th>york</th>\n      <th>young</th>\n      <th>younger</th>\n      <th>youre</th>\n      <th>youth</th>\n      <th>zombies</th>\n    </tr>\n  </thead>\n  <tbody>\n    <tr>\n      <th>0</th>\n      <td>0.0</td>\n      <td>0.0</td>\n      <td>0.0</td>\n      <td>0.0</td>\n      <td>0.0</td>\n      <td>0.0</td>\n      <td>0.0</td>\n      <td>0.000000</td>\n      <td>0.0</td>\n      <td>0.0</td>\n      <td>...</td>\n      <td>0.0</td>\n      <td>0.0</td>\n      <td>0.0</td>\n      <td>0.0</td>\n      <td>0.069986</td>\n      <td>0.069986</td>\n      <td>0.0</td>\n      <td>0.000000</td>\n      <td>0.0</td>\n      <td>0.0</td>\n    </tr>\n    <tr>\n      <th>1</th>\n      <td>0.0</td>\n      <td>0.0</td>\n      <td>0.0</td>\n      <td>0.0</td>\n      <td>0.0</td>\n      <td>0.0</td>\n      <td>0.0</td>\n      <td>0.055439</td>\n      <td>0.0</td>\n      <td>0.0</td>\n      <td>...</td>\n      <td>0.0</td>\n      <td>0.0</td>\n      <td>0.0</td>\n      <td>0.0</td>\n      <td>0.000000</td>\n      <td>0.000000</td>\n      <td>0.0</td>\n      <td>0.000000</td>\n      <td>0.0</td>\n      <td>0.0</td>\n    </tr>\n    <tr>\n      <th>2</th>\n      <td>0.0</td>\n      <td>0.0</td>\n      <td>0.0</td>\n      <td>0.0</td>\n      <td>0.0</td>\n      <td>0.0</td>\n      <td>0.0</td>\n      <td>0.000000</td>\n      <td>0.0</td>\n      <td>0.0</td>\n      <td>...</td>\n      <td>0.0</td>\n      <td>0.0</td>\n      <td>0.0</td>\n      <td>0.0</td>\n      <td>0.000000</td>\n      <td>0.000000</td>\n      <td>0.0</td>\n      <td>0.051501</td>\n      <td>0.0</td>\n      <td>0.0</td>\n    </tr>\n  </tbody>\n</table>\n<p>3 rows × 3815 columns</p>\n</div>"
     },
     "metadata": {},
     "execution_count": 95
    }
   ],
   "source": [
    "# Tunning Parameters\n",
    "\n",
    "#Learn our Vocab\n",
    "vect = TfidfVectorizer(tokenizer=tokenize, stop_words='english', ngram_range=(1,3), min_df=5, max_df=0.25)  # ngram bi gram or tri gram, min_df: minimum number of documents a word must appear in to be counted as a word, what is max a word can appear in before we trim that word, max_features the maximum number of times a word appears as a count\n",
    "\n",
    "# Get sparse dtm (i.e. transform the data)\n",
    "# fit the model first\n",
    "vect.fit(data)\n",
    "\n",
    "# transform\n",
    "dtm = vect.transform(data)\n",
    "\n",
    "# then convert to the dataframe\n",
    "dtm = pd.DataFrame(dtm.todense(), columns=vect.get_feature_names())\n",
    "print(dtm.shape)\n",
    "dtm.head(3)\n",
    "\n"
   ]
  },
  {
   "cell_type": "markdown",
   "metadata": {},
   "source": [
    "## Challenge\n",
    "\n",
    "During this module's project assignment, you will transform data science job listings to vector representations for analysis downstream. "
   ]
  },
  {
   "cell_type": "markdown",
   "metadata": {},
   "source": [
    "# Query Documents by Similarity (Learn)\n",
    "<a id=\"p2\"></a>"
   ]
  },
  {
   "cell_type": "markdown",
   "metadata": {},
   "source": [
    "## Overview\n",
    "\n",
    "Have you ever considered how a search bar works? You may just think that search bars simply match your input text againist the documents. While there are many different mechanisms for the 'match', one of the most classic is to search by similarity. We will apply n-dimensional distance to measure similarity, and query for input and output. "
   ]
  },
  {
   "cell_type": "markdown",
   "metadata": {
    "toc-hr-collapsed": true
   },
   "source": [
    "## Follow Along"
   ]
  },
  {
   "cell_type": "markdown",
   "metadata": {},
   "source": [
    "### Cosine Similarity (Brute Force)"
   ]
  },
  {
   "cell_type": "code",
   "execution_count": 97,
   "metadata": {
    "deletable": false,
    "nbgrader": {
     "cell_type": "code",
     "checksum": "0d29446c9e0c303e7880c0d0b5331d13",
     "grade": false,
     "grade_id": "cell-76ce78f9798d38bc",
     "locked": false,
     "schema_version": 3,
     "solution": true,
     "task": false
    }
   },
   "outputs": [
    {
     "output_type": "stream",
     "name": "stdout",
     "text": [
      "(401, 401)\n"
     ]
    },
    {
     "output_type": "execute_result",
     "data": {
      "text/plain": [
       "        0         1         2         3         4         5         6    \\\n",
       "0  1.000000  0.043829  0.009631  0.003833  0.042603  0.005536  0.011841   \n",
       "1  0.043829  1.000000  0.009833  0.007620  0.047293  0.035060  0.011101   \n",
       "2  0.009631  0.009833  1.000000  0.006597  0.027166  0.019810  0.135137   \n",
       "3  0.003833  0.007620  0.006597  1.000000  0.010111  0.011584  0.021058   \n",
       "4  0.042603  0.047293  0.027166  0.010111  1.000000  0.010973  0.021799   \n",
       "\n",
       "        7         8         9    ...       391       392       393       394  \\\n",
       "0  0.020760  0.022015  0.022731  ...  0.025751  0.018332  0.052151  0.000000   \n",
       "1  0.006263  0.011244  0.104120  ...  0.014103  0.008309  0.009866  0.030419   \n",
       "2  0.183417  0.115057  0.012880  ...  0.125833  0.003931  0.019972  0.023324   \n",
       "3  0.014384  0.050064  0.203601  ...  0.020171  0.010747  0.002735  0.052044   \n",
       "4  0.017854  0.019185  0.042453  ...  0.018141  0.013494  0.026287  0.005967   \n",
       "\n",
       "        395       396       397       398       399       400  \n",
       "0  0.000000  0.035388  0.024782  0.010608  0.165775  0.023714  \n",
       "1  0.007971  0.016883  0.026531  0.005491  0.041752  0.006906  \n",
       "2  0.067604  0.007751  0.014939  0.083462  0.003725  0.009075  \n",
       "3  0.019309  0.092106  0.012078  0.037558  0.070711  0.098659  \n",
       "4  0.033378  0.036108  0.029073  0.010481  0.027888  0.004821  \n",
       "\n",
       "[5 rows x 401 columns]"
      ],
      "text/html": "<div>\n<style scoped>\n    .dataframe tbody tr th:only-of-type {\n        vertical-align: middle;\n    }\n\n    .dataframe tbody tr th {\n        vertical-align: top;\n    }\n\n    .dataframe thead th {\n        text-align: right;\n    }\n</style>\n<table border=\"1\" class=\"dataframe\">\n  <thead>\n    <tr style=\"text-align: right;\">\n      <th></th>\n      <th>0</th>\n      <th>1</th>\n      <th>2</th>\n      <th>3</th>\n      <th>4</th>\n      <th>5</th>\n      <th>6</th>\n      <th>7</th>\n      <th>8</th>\n      <th>9</th>\n      <th>...</th>\n      <th>391</th>\n      <th>392</th>\n      <th>393</th>\n      <th>394</th>\n      <th>395</th>\n      <th>396</th>\n      <th>397</th>\n      <th>398</th>\n      <th>399</th>\n      <th>400</th>\n    </tr>\n  </thead>\n  <tbody>\n    <tr>\n      <th>0</th>\n      <td>1.000000</td>\n      <td>0.043829</td>\n      <td>0.009631</td>\n      <td>0.003833</td>\n      <td>0.042603</td>\n      <td>0.005536</td>\n      <td>0.011841</td>\n      <td>0.020760</td>\n      <td>0.022015</td>\n      <td>0.022731</td>\n      <td>...</td>\n      <td>0.025751</td>\n      <td>0.018332</td>\n      <td>0.052151</td>\n      <td>0.000000</td>\n      <td>0.000000</td>\n      <td>0.035388</td>\n      <td>0.024782</td>\n      <td>0.010608</td>\n      <td>0.165775</td>\n      <td>0.023714</td>\n    </tr>\n    <tr>\n      <th>1</th>\n      <td>0.043829</td>\n      <td>1.000000</td>\n      <td>0.009833</td>\n      <td>0.007620</td>\n      <td>0.047293</td>\n      <td>0.035060</td>\n      <td>0.011101</td>\n      <td>0.006263</td>\n      <td>0.011244</td>\n      <td>0.104120</td>\n      <td>...</td>\n      <td>0.014103</td>\n      <td>0.008309</td>\n      <td>0.009866</td>\n      <td>0.030419</td>\n      <td>0.007971</td>\n      <td>0.016883</td>\n      <td>0.026531</td>\n      <td>0.005491</td>\n      <td>0.041752</td>\n      <td>0.006906</td>\n    </tr>\n    <tr>\n      <th>2</th>\n      <td>0.009631</td>\n      <td>0.009833</td>\n      <td>1.000000</td>\n      <td>0.006597</td>\n      <td>0.027166</td>\n      <td>0.019810</td>\n      <td>0.135137</td>\n      <td>0.183417</td>\n      <td>0.115057</td>\n      <td>0.012880</td>\n      <td>...</td>\n      <td>0.125833</td>\n      <td>0.003931</td>\n      <td>0.019972</td>\n      <td>0.023324</td>\n      <td>0.067604</td>\n      <td>0.007751</td>\n      <td>0.014939</td>\n      <td>0.083462</td>\n      <td>0.003725</td>\n      <td>0.009075</td>\n    </tr>\n    <tr>\n      <th>3</th>\n      <td>0.003833</td>\n      <td>0.007620</td>\n      <td>0.006597</td>\n      <td>1.000000</td>\n      <td>0.010111</td>\n      <td>0.011584</td>\n      <td>0.021058</td>\n      <td>0.014384</td>\n      <td>0.050064</td>\n      <td>0.203601</td>\n      <td>...</td>\n      <td>0.020171</td>\n      <td>0.010747</td>\n      <td>0.002735</td>\n      <td>0.052044</td>\n      <td>0.019309</td>\n      <td>0.092106</td>\n      <td>0.012078</td>\n      <td>0.037558</td>\n      <td>0.070711</td>\n      <td>0.098659</td>\n    </tr>\n    <tr>\n      <th>4</th>\n      <td>0.042603</td>\n      <td>0.047293</td>\n      <td>0.027166</td>\n      <td>0.010111</td>\n      <td>1.000000</td>\n      <td>0.010973</td>\n      <td>0.021799</td>\n      <td>0.017854</td>\n      <td>0.019185</td>\n      <td>0.042453</td>\n      <td>...</td>\n      <td>0.018141</td>\n      <td>0.013494</td>\n      <td>0.026287</td>\n      <td>0.005967</td>\n      <td>0.033378</td>\n      <td>0.036108</td>\n      <td>0.029073</td>\n      <td>0.010481</td>\n      <td>0.027888</td>\n      <td>0.004821</td>\n    </tr>\n  </tbody>\n</table>\n<p>5 rows × 401 columns</p>\n</div>"
     },
     "metadata": {},
     "execution_count": 97
    }
   ],
   "source": [
    "from sklearn.metrics.pairwise import cosine_similarity\n",
    "\n",
    "# Calculate Distance of TF-IDF Vectors\n",
    "dist_matrix = cosine_similarity(dtm)\n",
    "print(dist_matrix.shape)\n",
    "\n",
    "# Turn it into a DataFrame\n",
    "df = pd.DataFrame(dist_matrix)\n",
    "df.head()\n",
    "\n",
    "# Our Similarity Matrix is ? size \n",
    "\n",
    "# Each row is the similarity of one document to all other documents (including itself)\n",
    "\n",
    "# Grab the row and pick off the indicies of the most/least similar docs\n"
   ]
  },
  {
   "cell_type": "code",
   "execution_count": 102,
   "metadata": {},
   "outputs": [
    {
     "output_type": "execute_result",
     "data": {
      "text/plain": [
       "0      1.000000\n",
       "62     1.000000\n",
       "297    0.321148\n",
       "92     0.314076\n",
       "187    0.254474\n",
       "300    0.249233\n",
       "178    0.231860\n",
       "117    0.225613\n",
       "309    0.223863\n",
       "277    0.223774\n",
       "Name: 0, dtype: float64"
      ]
     },
     "metadata": {},
     "execution_count": 102
    }
   ],
   "source": [
    "df[0].sort_values(ascending=False)[:10]"
   ]
  },
  {
   "cell_type": "code",
   "execution_count": 103,
   "metadata": {},
   "outputs": [
    {
     "output_type": "execute_result",
     "data": {
      "text/plain": [
       "b\"Mobiles rack up 20 years of use\\n\\nMobile phones in the UK are celebrating their 20th anniversary this weekend.\\n\\nBritain's first mobile phone call was made across the Vodafone network on 1 January 1985 by veteran comedian Ernie Wise. In the 20 years since that day, mobile phones have become an integral part of modern life and now almost 90% of Britons own a handset. Mobiles have become so popular that many people use their handset as their only phone and rarely use a landline.\\n\\nThe first ever call\""
      ]
     },
     "metadata": {},
     "execution_count": 103
    }
   ],
   "source": [
    "data[0][0:500]"
   ]
  },
  {
   "cell_type": "code",
   "execution_count": 104,
   "metadata": {},
   "outputs": [
    {
     "output_type": "execute_result",
     "data": {
      "text/plain": [
       "b'Mobile networks seek turbo boost\\n\\nThird-generation mobile (3G) networks need to get faster if they are to deliver fast internet surfing on the move and exciting new services.\\n\\nThat was one of the messages from the mobile industry at the 3GSM World Congress in Cannes last week. Fast 3G networks are here but the focus has shifted to their evolution into a higher bandwidth service, says the Global Mobile Suppliers Association. At 3GSM, Siemens showed off a system that transmits faster mobile data. '"
      ]
     },
     "metadata": {},
     "execution_count": 104
    }
   ],
   "source": [
    "data[332][0:500]"
   ]
  },
  {
   "cell_type": "code",
   "execution_count": null,
   "metadata": {},
   "outputs": [],
   "source": []
  },
  {
   "cell_type": "markdown",
   "metadata": {},
   "source": [
    "### NearestNeighbor (K-NN) \n",
    "![](https://miro.medium.com/max/753/0*jqxx3-dJqFjXD6FA)\n",
    "\n",
    "\n",
    "Nearest Neighbor models are distance based algorithms. They store your training set in memory. \n",
    "\n",
    "When you want to find the nearest neighbors for a point in your test set, then simply calculate the distance of the nearest k points. \n",
    "\n",
    "So instead of calculating the every single possible distance between all points (i.e. **Brute Force** ) , NN models only calculate the nearest k distances. "
   ]
  },
  {
   "cell_type": "code",
   "execution_count": 105,
   "metadata": {
    "deletable": false,
    "nbgrader": {
     "cell_type": "code",
     "checksum": "cb748472d4ac77cf4c711b50bfc7eac1",
     "grade": false,
     "grade_id": "cell-eac83ba5d76f6bf2",
     "locked": false,
     "schema_version": 3,
     "solution": true,
     "task": false
    }
   },
   "outputs": [
    {
     "output_type": "execute_result",
     "data": {
      "text/plain": [
       "(array([[0.        , 0.        , 1.16520578, 1.1712591 , 1.22108608]]),\n",
       " array([[  0,  62, 297,  92, 187]]))"
      ]
     },
     "metadata": {},
     "execution_count": 105
    }
   ],
   "source": [
    "from sklearn.neighbors import NearestNeighbors\n",
    "\n",
    "# Fit on DTM\n",
    "nn = NearestNeighbors(n_neighbors=5, algorithm='kd_tree')\n",
    "nn.fit(dtm)\n",
    "\n",
    "# sample a doc from dtm to use as our query point \n",
    "doc = dtm.iloc[0].values\n",
    "\n",
    "# Query Using kneighbors \n",
    "nn.kneighbors([doc])  # this is the method to find the most similar document in a document test"
   ]
  },
  {
   "cell_type": "code",
   "execution_count": null,
   "metadata": {},
   "outputs": [],
   "source": []
  },
  {
   "cell_type": "code",
   "execution_count": 107,
   "metadata": {},
   "outputs": [
    {
     "output_type": "execute_result",
     "data": {
      "text/plain": [
       "<1x3815 sparse matrix of type '<class 'numpy.float64'>'\n",
       "\twith 63 stored elements in Compressed Sparse Row format>"
      ]
     },
     "metadata": {},
     "execution_count": 107
    }
   ],
   "source": [
    "rndm_tech_article = [ \"\"\"\n",
    "Blockchain technology encompasses so much more than just cryptocurrencies these days. And while these currencies are by far blockchain’s most famous use case, the potential for blockchain far, far exceeds a straightforward transfer of value.\n",
    "The gaming industry, for example, has always been fairly controversial due to a range of issues. Many players feel particularly worried about the protection of their data, fraudulent activities, high fees, and most of all, unfair and hidden odds.\n",
    "In these cases, P2P doesn’t just mean peer-to-peer; it means player-to-player. As with the other P2P industries that blockchain is disrupting, such as FinTech, there are already plenty of ways in which blockchain technology is being applied to resolve these issues and many more of the challenges faced by the gaming industry. Here are just a few.\n",
    "Reducing fraud\n",
    "The gaming industry suffers a lot from online fraud. One of the main advantages of blockchain technology is that it enables highly secure data encryption. What’s more, all of it is entirely accessible and transparent to the player. In other words, blockchain is a for game changer for venues such as online casinos, lotteries, and virtually anything which relies on random number generation.\n",
    "On top of this, hackers will have particularly hard time, if it is even possible, to destroy a decentralized blockchain network, making sure gamer data stays safe. This is an inherent feature of distributed ledger technology whereby nodes in the ledger maintain the distributed databases in a shared manner, and each node has the complete information in the entire database.\n",
    "\"\"\"]\n",
    "rndm_tech_article_tfidf = vect.transform(rndm_tech_article)\n",
    "rndm_tech_article_tfidf\n"
   ]
  },
  {
   "cell_type": "code",
   "execution_count": 112,
   "metadata": {},
   "outputs": [
    {
     "output_type": "execute_result",
     "data": {
      "text/plain": [
       "256"
      ]
     },
     "metadata": {},
     "execution_count": 112
    }
   ],
   "source": [
    "len(rndm_tech_article[0].split())"
   ]
  },
  {
   "cell_type": "code",
   "execution_count": 114,
   "metadata": {},
   "outputs": [
    {
     "output_type": "execute_result",
     "data": {
      "text/plain": [
       "['__abs__',\n",
       " '__add__',\n",
       " '__array_priority__',\n",
       " '__bool__',\n",
       " '__class__',\n",
       " '__delattr__',\n",
       " '__dict__',\n",
       " '__dir__',\n",
       " '__div__',\n",
       " '__doc__',\n",
       " '__eq__',\n",
       " '__format__',\n",
       " '__ge__',\n",
       " '__getattr__',\n",
       " '__getattribute__',\n",
       " '__getitem__',\n",
       " '__gt__',\n",
       " '__hash__',\n",
       " '__iadd__',\n",
       " '__idiv__',\n",
       " '__imul__',\n",
       " '__init__',\n",
       " '__init_subclass__',\n",
       " '__isub__',\n",
       " '__iter__',\n",
       " '__itruediv__',\n",
       " '__le__',\n",
       " '__len__',\n",
       " '__lt__',\n",
       " '__matmul__',\n",
       " '__module__',\n",
       " '__mul__',\n",
       " '__ne__',\n",
       " '__neg__',\n",
       " '__new__',\n",
       " '__nonzero__',\n",
       " '__pow__',\n",
       " '__radd__',\n",
       " '__rdiv__',\n",
       " '__reduce__',\n",
       " '__reduce_ex__',\n",
       " '__repr__',\n",
       " '__rmatmul__',\n",
       " '__rmul__',\n",
       " '__round__',\n",
       " '__rsub__',\n",
       " '__rtruediv__',\n",
       " '__setattr__',\n",
       " '__setitem__',\n",
       " '__sizeof__',\n",
       " '__str__',\n",
       " '__sub__',\n",
       " '__subclasshook__',\n",
       " '__truediv__',\n",
       " '__weakref__',\n",
       " '_add_dense',\n",
       " '_add_sparse',\n",
       " '_arg_min_or_max',\n",
       " '_arg_min_or_max_axis',\n",
       " '_asindices',\n",
       " '_binopt',\n",
       " '_cs_matrix__get_has_canonical_format',\n",
       " '_cs_matrix__get_sorted',\n",
       " '_cs_matrix__set_has_canonical_format',\n",
       " '_cs_matrix__set_sorted',\n",
       " '_deduped_data',\n",
       " '_divide',\n",
       " '_divide_sparse',\n",
       " '_get_arrayXarray',\n",
       " '_get_arrayXint',\n",
       " '_get_arrayXslice',\n",
       " '_get_columnXarray',\n",
       " '_get_dtype',\n",
       " '_get_intXarray',\n",
       " '_get_intXint',\n",
       " '_get_intXslice',\n",
       " '_get_sliceXarray',\n",
       " '_get_sliceXint',\n",
       " '_get_sliceXslice',\n",
       " '_get_submatrix',\n",
       " '_imag',\n",
       " '_inequality',\n",
       " '_insert_many',\n",
       " '_major_index_fancy',\n",
       " '_major_slice',\n",
       " '_maximum_minimum',\n",
       " '_min_or_max',\n",
       " '_min_or_max_axis',\n",
       " '_minor_index_fancy',\n",
       " '_minor_reduce',\n",
       " '_minor_slice',\n",
       " '_mul_multivector',\n",
       " '_mul_scalar',\n",
       " '_mul_sparse_matrix',\n",
       " '_mul_vector',\n",
       " '_prepare_indices',\n",
       " '_process_toarray_args',\n",
       " '_real',\n",
       " '_rsub_dense',\n",
       " '_scalar_binopt',\n",
       " '_set_arrayXarray',\n",
       " '_set_arrayXarray_sparse',\n",
       " '_set_dtype',\n",
       " '_set_intXint',\n",
       " '_set_many',\n",
       " '_set_self',\n",
       " '_setdiag',\n",
       " '_shape',\n",
       " '_sub_dense',\n",
       " '_sub_sparse',\n",
       " '_swap',\n",
       " '_validate_indices',\n",
       " '_with_data',\n",
       " '_zero_many',\n",
       " 'arcsin',\n",
       " 'arcsinh',\n",
       " 'arctan',\n",
       " 'arctanh',\n",
       " 'argmax',\n",
       " 'argmin',\n",
       " 'asformat',\n",
       " 'asfptype',\n",
       " 'astype',\n",
       " 'ceil',\n",
       " 'check_format',\n",
       " 'conj',\n",
       " 'conjugate',\n",
       " 'copy',\n",
       " 'count_nonzero',\n",
       " 'data',\n",
       " 'deg2rad',\n",
       " 'diagonal',\n",
       " 'dot',\n",
       " 'dtype',\n",
       " 'eliminate_zeros',\n",
       " 'expm1',\n",
       " 'floor',\n",
       " 'format',\n",
       " 'getH',\n",
       " 'get_shape',\n",
       " 'getcol',\n",
       " 'getformat',\n",
       " 'getmaxprint',\n",
       " 'getnnz',\n",
       " 'getrow',\n",
       " 'has_canonical_format',\n",
       " 'has_sorted_indices',\n",
       " 'indices',\n",
       " 'indptr',\n",
       " 'log1p',\n",
       " 'max',\n",
       " 'maximum',\n",
       " 'maxprint',\n",
       " 'mean',\n",
       " 'min',\n",
       " 'minimum',\n",
       " 'multiply',\n",
       " 'ndim',\n",
       " 'nnz',\n",
       " 'nonzero',\n",
       " 'power',\n",
       " 'prune',\n",
       " 'rad2deg',\n",
       " 'reshape',\n",
       " 'resize',\n",
       " 'rint',\n",
       " 'set_shape',\n",
       " 'setdiag',\n",
       " 'shape',\n",
       " 'sign',\n",
       " 'sin',\n",
       " 'sinh',\n",
       " 'sort_indices',\n",
       " 'sorted_indices',\n",
       " 'sqrt',\n",
       " 'sum',\n",
       " 'sum_duplicates',\n",
       " 'tan',\n",
       " 'tanh',\n",
       " 'toarray',\n",
       " 'tobsr',\n",
       " 'tocoo',\n",
       " 'tocsc',\n",
       " 'tocsr',\n",
       " 'todense',\n",
       " 'todia',\n",
       " 'todok',\n",
       " 'tolil',\n",
       " 'transpose',\n",
       " 'trunc']"
      ]
     },
     "metadata": {},
     "execution_count": 114
    }
   ],
   "source": [
    "dir(rndm_tech_article_tfidf)"
   ]
  },
  {
   "cell_type": "code",
   "execution_count": 116,
   "metadata": {},
   "outputs": [
    {
     "output_type": "execute_result",
     "data": {
      "text/plain": [
       "(array([[1.30761149, 1.317182  , 1.33611199, 1.33898226, 1.33966456]]),\n",
       " array([[132, 140, 148, 241,  21]]))"
      ]
     },
     "metadata": {},
     "execution_count": 116
    }
   ],
   "source": [
    "# Query using kneighbours\n",
    "nn.kneighbors(rndm_tech_article_tfidf.todense())"
   ]
  },
  {
   "cell_type": "code",
   "execution_count": 117,
   "metadata": {},
   "outputs": [
    {
     "output_type": "execute_result",
     "data": {
      "text/plain": [
       "b'Smart search lets art fans browse\\n\\nIf you don\\'t know art but know what you like, new search technology could prove a useful gateway to painting.\\n\\nArtGarden, developed by BT\\'s research unit, is being tested by the Tate as a new way of browsing its online collection of paintings. Rather than search by the name of an artist or painting, users are shown a selection of pictures. Clicking on their favourite will change the gallery in front of them to a selection of similar works.\\n\\nThe technology uses a system dubbed smart serendipity, which is a combination of artificial intelligence and random selection. It \\'chooses\\' a selection of pictures, by scoring paintings based on a selection of keywords associated with them. So, for instance a Whistler painting of a bridge may have the obvious keywords such as bridge and Whistler associated to it but will also widen the search net with terms such as aesthetic movement, 19th century and water. A variety of paintings will then be shown to the user, based partly on the keywords and partly on luck. \"It is much more akin to wandering through the gallery,\" said Jemima Rellie, head of the Tate\\'s digital programme. For Richard Tateson, who worked on the ArtGarden project, the need for a new way to search grew out of personal frustration. \"I went to an online clothes store to find something to buy my wife for Christmas but I didn\\'t have a clue what I wanted,\" he said. The text-based search was restricted to looking either by type of garment or designer, neither of which he found helpful. He ended up doing his present shopping on the high street instead.\\n\\nHe thinks the dominance of text-based searching is not necessarily appealing to the majority of online shoppers. Similarly, with art, browsing is often more important than finding a particular object. \"You don\\'t arrive at Tate Britain and tell people what you want to see. One of the skills of showing off the collection is to introduce people to things they wouldn\\'t have asked for,\" he said. The Tate is committed to making its art more accessible and technology such as ArtGarden can help with that, said Ms Rellie. She hopes the technology can be incorporated on to the website in the near future. BT research is looking at extending the technology to other searching, such as for music and films.\\n'"
      ]
     },
     "metadata": {},
     "execution_count": 117
    }
   ],
   "source": [
    "data[366]"
   ]
  },
  {
   "cell_type": "markdown",
   "metadata": {},
   "source": [
    "## Challenge\n",
    "\n",
    "In the module project assignment, you will apply one of these search techniques to retrieve documents related to a query document. "
   ]
  },
  {
   "cell_type": "code",
   "execution_count": null,
   "metadata": {},
   "outputs": [],
   "source": []
  },
  {
   "cell_type": "markdown",
   "metadata": {},
   "source": [
    "# Apply word embedding models to create document vectors (Learn)\n",
    "<a id=\"p3\"></a>"
   ]
  },
  {
   "cell_type": "markdown",
   "metadata": {},
   "source": [
    "## Overview\n",
    "### BoW discards textual context\n",
    "\n",
    "One of the limitations of Bag-of-Words approaches is that any information about the textual context surrounding that word is lost. This also means that with bag-of-words approaches often the only tools that we have for identifying words with similar usage or meaning and subsequently consolidating them into a single vector is through the processes of stemming and lemmatization which tend to be quite limited at consolidating words unless the two words are very close in their spelling or in their root parts-of-speech.\n",
    "\n",
    "### Embedding approaches preserve more textual context\n",
    "Word2Vec is an increasingly popular word embedding technique. Like Bag-of-words it learns a real-value vector representation for a predefined fixed-size vocabulary that is generated from a corpus of text. However, in contrast to BoW, Word2Vec approaches are much more capable of accounting for textual context, and are better at discovering words with similar meanings or usages (semantic or syntactic similarity).\n",
    "\n",
    "### Word2Vec Intuition\n",
    "### The Distribution Hypothesis\n",
    "\n",
    "In order to understand how Word2Vec preserves textual context we have to understand what's called the Distribution Hypothesis (Reference: Distribution Hypothesis Theory  -https://en.wikipedia.org/wiki/Distributional_semantics. The Distribution Hypothesis operates under the assumption that words that have similar contexts will have similar meanings. Practically speaking, this means that if two words are found to have similar words both to the right and to the left of them throughout the corpora then those words have the same context and are assumed to have the same meaning. \n",
    "\n",
    "> \"You shall know a word by the company it keeps\" - John Firth\n",
    "\n",
    "This means that we let the usage of a word define its meaning and its \"similarity\" to other words. In the following example, which words would you say have a similar meaning? \n",
    "\n",
    "**Sentence 1**: Traffic was light today\n",
    "\n",
    "**Sentence 2**: Traffic was heavy yesterday\n",
    "\n",
    "**Sentence 3**: Prediction is that traffic will be smooth-flowing tomorrow since it is a national holiday\n",
    "\n",
    "What words in the above sentences seem to have a similar meaning if all you knew about them was the context in which they appeared above? \n",
    "\n",
    "Lets take a look at how this might work in action, the following example is simplified, but will give you an idea of the intuition for how this works.\n",
    "\n",
    "#### Corpora:\n",
    "\n",
    "1) \"It was the sunniest of days.\"\n",
    "\n",
    "2) \"It was the raniest of days.\"\n",
    "\n",
    "#### Vocabulary:\n",
    "\n",
    "{\"it\": 1, \"was\": 2, \"the\": 3, \"of\": 4, \"days\": 5, \"sunniest\": 6, \"raniest\": 7}\n",
    "\n",
    "### Vectorization\n",
    "\n",
    "|       doc   | START_was | it_the | was_sunniest | the_of | sunniest_days | of_it | days_was | it_the | was_raniest | raniest_days | of_END |\n",
    "|----------|-----------|--------|--------------|--------|---------------|-------|----------|--------|-------------|--------------|--------|\n",
    "| it       | 1         | 0      | 0            | 0      | 0             | 0     | 1        | 0      | 0           | 0            | 0      |\n",
    "| was      | 0         | 1      | 0            | 0      | 0             | 0     | 0        | 1      | 0           | 0            | 0      |\n",
    "| the      | 0         | 0      | 1            | 0      | 0             | 0     | 0        | 0      | 1           | 0            | 0      |\n",
    "| sunniest | 0         | 0      | 0            | 1      | 0             | 0     | 0        | 0      | 0           | 0            | 0      |\n",
    "| of       | 0         | 0      | 0            | 0      | 1             | 0     | 0        | 0      | 0           | 1            | 0      |\n",
    "| days     | 0         | 0      | 0            | 0      | 0             | 0     | 0        | 0      | 0           | 0            | 1      |\n",
    "| raniest  | 0         | 0      | 0            | 1      | 0             | 0     | 0        | 0      | 0           | 0            | 0      |\n",
    "\n",
    "Each column vector represents the word's context -in this case defined by the words to the left and right of the center word. How far we look to the left and right of a given word is referred to as our \"window of context.\" Each row vector represents the the different usages of a given word. Word2Vec can consider a larger context than only words that are immediately to the left and right of a given word, but we're going to keep our window of context small for this example. What's most important is that this vectorization has translated our documents from a text representation to a numeric one in a way that preserves information about the underlying context. \n",
    "\n",
    "We can see that words that have a similar context will have similar row-vector representations, but before looking that more in-depth, lets simplify our vectorization slightly. You'll notice that we're repeating the column-vector \"it_the\" twice. Lets combine those into a single vector by adding them element-wise. \n",
    "\n",
    "|       *   | START_was | it_the | was_sunniest | the_of | sunniest_days | of_it | days_was | was_raniest | raniest_days | of_END |\n",
    "|----------|-----------|--------|--------------|--------|---------------|-------|----------|-------------|--------------|--------|\n",
    "| it       | 1         | 0      | 0            | 0      | 0             | 0     | 1        | 0           | 0            | 0      |\n",
    "| was      | 0         | 2      | 0            | 0      | 0             | 0     | 0        | 0           | 0            | 0      |\n",
    "| the      | 0         | 0      | 1            | 0      | 0             | 0     | 0        | 1           | 0            | 0      |\n",
    "| sunniest | 0         | 0      | 0            | 1      | 0             | 0     | 0        | 0           | 0            | 0      |\n",
    "| of       | 0         | 0      | 0            | 0      | 1             | 0     | 0        | 0           | 1            | 0      |\n",
    "| days     | 0         | 0      | 0            | 0      | 0             | 0     | 0        | 0           | 0            | 1      |\n",
    "| raniest  | 0         | 0      | 0            | 1      | 0             | 0     | 0        | 0           | 0            | 0      |\n",
    "\n",
    "Now, can you spot which words have a similar row-vector representation? Hint: Look for values that are repeated in a given column. Each column represents the context that word was found in. If there are multiple words that share a context then those words are understood to have a closer meaning with each other than with other words in the text.\n",
    "\n",
    "Lets look specifically at the words sunniest and raniest. You'll notice that these two words have exactly the same 10-dimensional vector representation. Based on this very small corpora of text we would conclude that these two words have the same meaning because they share the same usage. Is this a good assumption? Well, they are both referring to the weather outside so that's better than nothing. You could imagine that as our corpora grows larger we will be exposed a greater number of contexts and the Distribution Hypothesis assumption will improve. \n",
    "\n",
    "### Word2Vec Variants\n",
    "\n",
    "#### Skip-Gram\n",
    "\n",
    "The Skip-Gram method predicts the neighbors’ of a word given a center word. In the skip-gram model, we take a center word and a window of context (neighbors) words to train the model and then predict context words out to some window size for each center word.\n",
    "\n",
    "This notion of “context” or “neighboring” words is best described by considering a center word and a window of words around it. \n",
    "\n",
    "For example, if we consider the sentence **“The speedy Porsche drove past the elegant Rolls-Royce”** and a window size of 2, we’d have the following pairs for the skip-gram model:\n",
    "\n",
    "**Text:**\n",
    "**The**\tspeedy\tPorsche\tdrove\tpast\tthe\telegant\tRolls-Royce\n",
    "\n",
    "*Training Sample with window of 2*: (the, speedy), (the, Porsche)\n",
    "\n",
    "**Text:**\n",
    "The\t**speedy**\tPorsche\tdrove\tpast\tthe\telegant\tRolls-Royce\n",
    "\n",
    "*Training Sample with window of 2*: (speedy, the), (speedy, Porsche), (speedy, drove)\n",
    "\n",
    "**Text:**\n",
    "The\tspeedy\t**Porsche**\tdrove\tpast\tthe\telegant\tRolls-Royce\n",
    "\n",
    "*Training Sample with window of 2*: (Porsche, the), (Porsche, speedy), (Porsche, drove), (Porsche, past)\n",
    "\n",
    "**Text:**\n",
    "The\tspeedy\tPorsche\t**drove**\tpast\tthe\telegant\tRolls-Royce\n",
    "\n",
    "*Training Sample with window of 2*: (drove, speedy), (drove, Porsche), (drove, past), (drove, the)\n",
    "\n",
    "The **Skip-gram model** is going to output a probability distribution i.e. the probability of a word appearing in context given a center word and we are going to select the vector representation that maximizes the probability.\n",
    "\n",
    "With CountVectorizer and TF-IDF the best we could do for context was to look at common bi-grams and tri-grams (n-grams). Well, skip-grams go far beyond that and give our model much stronger contextual information.\n",
    "\n",
    "![alt text](https://www.dropbox.com/s/c7mwy6dk9k99bgh/Image%202%20-%20SkipGrams.jpg?raw=1)\n",
    "\n",
    "## Continuous Bag of Words\n",
    "\n",
    "This model takes thes opposite approach from the skip-gram model in that it tries to predict a center word based on the neighboring words. In the case of the CBOW model, we input the context words within the window (such as “the”, “Proshe”, “drove”) and aim to predict the target or center word “speedy” (the input to the prediction pipeline is reversed as compared to the SkipGram model).\n",
    "\n",
    "A graphical depiction of the input to output prediction pipeline for both variants of the Word2vec model is attached. The graphical depiction will help crystallize the difference between SkipGrams and Continuous Bag of Words.\n",
    "\n",
    "![alt text](https://www.dropbox.com/s/k3ddmbtd52wq2li/Image%203%20-%20CBOW%20Model.jpg?raw=1)\n",
    "\n",
    "## Notable Differences between Word Embedding methods:\n",
    "\n",
    "1) W2V focuses less document topic-modeling. You'll notice that the vectorizations don't really retain much information about the original document that the information came from. At least not in our examples.\n",
    "\n",
    "2) W2V can result in really large and complex vectorizations. In fact, you need Deep Neural Networks to train your Word2Vec models from scratch, but we can use helpful pretrained embeddings (thank you Google) to do really cool things!\n",
    "\n",
    "*^ All that noise....AND Spacy has pretrained a Word2Vec model you can just use? WTF JC?*\n",
    "\n",
    "Let's take a look at how to do it. "
   ]
  },
  {
   "cell_type": "code",
   "execution_count": 118,
   "metadata": {
    "deletable": false,
    "nbgrader": {
     "cell_type": "code",
     "checksum": "ee10b86592ddda65744cba8c545b13c8",
     "grade": false,
     "grade_id": "cell-08acf3f0c46d7591",
     "locked": false,
     "schema_version": 3,
     "solution": true,
     "task": false
    }
   },
   "outputs": [],
   "source": [
    "banana = nlp('banana')\n",
    "banana.vector"
   ]
  },
  {
   "cell_type": "code",
   "execution_count": 123,
   "metadata": {},
   "outputs": [
    {
     "output_type": "execute_result",
     "data": {
      "text/plain": [
       "0.5831844567891399"
      ]
     },
     "metadata": {},
     "execution_count": 123
    }
   ],
   "source": [
    "apple = nlp('apple')\n",
    "apple.vector\n",
    "banana.similarity(apple)"
   ]
  },
  {
   "cell_type": "code",
   "execution_count": 124,
   "metadata": {},
   "outputs": [
    {
     "output_type": "execute_result",
     "data": {
      "text/plain": [
       "-0.046375166937013705"
      ]
     },
     "metadata": {},
     "execution_count": 124
    }
   ],
   "source": [
    "calculus = nlp('calculus')\n",
    "calculus.vector\n",
    "banana.similarity(calculus)"
   ]
  },
  {
   "cell_type": "code",
   "execution_count": 125,
   "metadata": {
    "deletable": false,
    "nbgrader": {
     "cell_type": "code",
     "checksum": "bfaead90d88f3c1f050918c1103dd202",
     "grade": false,
     "grade_id": "cell-4a00f1280d6a3a32",
     "locked": false,
     "schema_version": 3,
     "solution": true,
     "task": false
    }
   },
   "outputs": [
    {
     "output_type": "execute_result",
     "data": {
      "text/plain": [
       "0.769648973503192"
      ]
     },
     "metadata": {},
     "execution_count": 125
    }
   ],
   "source": [
    "doc1 = nlp(\"It's a warm summer day\")\n",
    "doc2 = nlp(\"I saw a dog today.\")\n",
    "\n",
    "# since w2v only has word vectors in it's embeddings\n",
    "# doc vectors are created by averaging the word vectors in that doc\n",
    "\n",
    "# we can calculate the similarity between docs now! \n",
    "\n",
    "doc1.similarity(doc2)"
   ]
  },
  {
   "cell_type": "code",
   "execution_count": null,
   "metadata": {},
   "outputs": [],
   "source": []
  },
  {
   "cell_type": "code",
   "execution_count": 142,
   "metadata": {
    "deletable": false,
    "nbgrader": {
     "cell_type": "code",
     "checksum": "253d2a4485eacc1bf3fc6c5fbc10b95f",
     "grade": false,
     "grade_id": "cell-c54d3921b438215d",
     "locked": false,
     "schema_version": 3,
     "solution": true,
     "task": false
    }
   },
   "outputs": [
    {
     "output_type": "execute_result",
     "data": {
      "text/plain": [
       "array([[-1.29846515, -0.88155418],\n",
       "       [-1.62628971, -1.94850689],\n",
       "       [-3.8285996 ,  0.03596667],\n",
       "       [-3.21349043, -2.8543472 ],\n",
       "       [ 2.25714484, -2.22704724],\n",
       "       [ 4.03639721, -0.86305359],\n",
       "       [ 4.63812987, -0.30060372],\n",
       "       [-0.39505019,  0.41715987],\n",
       "       [ 0.16042038,  3.38749686],\n",
       "       [-0.73019722,  5.23448942]])"
      ]
     },
     "metadata": {},
     "execution_count": 142
    }
   ],
   "source": [
    "# import the PCA module from sklearn\n",
    "from sklearn.decomposition import PCA\n",
    "\n",
    "def get_word_vectors(words):\n",
    "    # converts a list of words into their word vectors\n",
    "    return [nlp(word).vector for word in words]\n",
    "\n",
    "words = ['machine learning', \n",
    "         'artificial intelligence', \n",
    "         'data', 'science', \n",
    "         'concrete', 'wood', \n",
    "         'marble', 'design',\n",
    "         'color', 'font']\n",
    "\n",
    "\n",
    "# intialise pca model and tell it to project data down onto 2 dimensions\n",
    "\n",
    "# fit the pca model to our 300D data, this will work out which is the best \n",
    "# way to project the data down that will best maintain the relative distances \n",
    "# between data points. It will store these intructioons on how to transform the data.\n",
    "\n",
    "# Tell our (fitted) pca model to transform our 300D data down onto 2D using the \n",
    "# instructions it learnt during the fit phase.\n",
    "\n",
    "# let's look at our new 2D word vectors\n",
    "\n",
    "pca = PCA(n_components=2)\n",
    "word_vecs_2d = pca.fit_transform(get_word_vectors(words))\n",
    "word_vecs_2d\n"
   ]
  },
  {
   "cell_type": "code",
   "execution_count": null,
   "metadata": {},
   "outputs": [],
   "source": []
  },
  {
   "cell_type": "code",
   "execution_count": null,
   "metadata": {},
   "outputs": [],
   "source": []
  },
  {
   "cell_type": "code",
   "execution_count": 143,
   "metadata": {},
   "outputs": [
    {
     "output_type": "display_data",
     "data": {
      "text/plain": "<Figure size 576x576 with 1 Axes>",
      "image/svg+xml": "<?xml version=\"1.0\" encoding=\"utf-8\" standalone=\"no\"?>\n<!DOCTYPE svg PUBLIC \"-//W3C//DTD SVG 1.1//EN\"\n  \"http://www.w3.org/Graphics/SVG/1.1/DTD/svg11.dtd\">\n<svg height=\"465.958125pt\" version=\"1.1\" viewBox=\"0 0 515.140341 465.958125\" width=\"515.140341pt\" xmlns=\"http://www.w3.org/2000/svg\" xmlns:xlink=\"http://www.w3.org/1999/xlink\">\n <metadata>\n  <rdf:RDF xmlns:cc=\"http://creativecommons.org/ns#\" xmlns:dc=\"http://purl.org/dc/elements/1.1/\" xmlns:rdf=\"http://www.w3.org/1999/02/22-rdf-syntax-ns#\">\n   <cc:Work>\n    <dc:type rdf:resource=\"http://purl.org/dc/dcmitype/StillImage\"/>\n    <dc:date>2021-05-06T23:37:00.835763</dc:date>\n    <dc:format>image/svg+xml</dc:format>\n    <dc:creator>\n     <cc:Agent>\n      <dc:title>Matplotlib v3.4.1, https://matplotlib.org/</dc:title>\n     </cc:Agent>\n    </dc:creator>\n   </cc:Work>\n  </rdf:RDF>\n </metadata>\n <defs>\n  <style type=\"text/css\">*{stroke-linecap:butt;stroke-linejoin:round;}</style>\n </defs>\n <g id=\"figure_1\">\n  <g id=\"patch_1\">\n   <path d=\"M 0 465.958125 \nL 515.140341 465.958125 \nL 515.140341 0 \nL 0 0 \nz\n\" style=\"fill:none;\"/>\n  </g>\n  <g id=\"axes_1\">\n   <g id=\"patch_2\">\n    <path d=\"M 28.942188 442.08 \nL 475.342187 442.08 \nL 475.342187 7.2 \nL 28.942188 7.2 \nz\n\" style=\"fill:#ffffff;\"/>\n   </g>\n   <g id=\"PathCollection_1\">\n    <defs>\n     <path d=\"M 0 3 \nC 0.795609 3 1.55874 2.683901 2.12132 2.12132 \nC 2.683901 1.55874 3 0.795609 3 0 \nC 3 -0.795609 2.683901 -1.55874 2.12132 -2.12132 \nC 1.55874 -2.683901 0.795609 -3 0 -3 \nC -0.795609 -3 -1.55874 -2.683901 -2.12132 -2.12132 \nC -2.683901 -1.55874 -3 -0.795609 -3 0 \nC -3 0.795609 -2.683901 1.55874 -2.12132 2.12132 \nC -1.55874 2.683901 -0.795609 3 0 3 \nz\n\" id=\"m50815af286\" style=\"stroke:#1f77b4;\"/>\n    </defs>\n    <g clip-path=\"url(#p276d93cedc)\">\n     <use style=\"fill:#1f77b4;stroke:#1f77b4;\" x=\"170.504783\" xlink:href=\"#m50815af286\" y=\"325.891599\"/>\n     <use style=\"fill:#1f77b4;stroke:#1f77b4;\" x=\"154.791848\" xlink:href=\"#m50815af286\" y=\"378.039383\"/>\n     <use style=\"fill:#1f77b4;stroke:#1f77b4;\" x=\"49.233097\" xlink:href=\"#m50815af286\" y=\"281.047363\"/>\n     <use style=\"fill:#1f77b4;stroke:#1f77b4;\" x=\"78.715849\" xlink:href=\"#m50815af286\" y=\"422.312727\"/>\n     <use style=\"fill:#1f77b4;stroke:#1f77b4;\" x=\"340.928462\" xlink:href=\"#m50815af286\" y=\"391.653165\"/>\n     <use style=\"fill:#1f77b4;stroke:#1f77b4;\" x=\"426.209675\" xlink:href=\"#m50815af286\" y=\"324.987375\"/>\n     <use style=\"fill:#1f77b4;stroke:#1f77b4;\" x=\"455.051278\" xlink:href=\"#m50815af286\" y=\"297.497389\"/>\n     <use style=\"fill:#1f77b4;stroke:#1f77b4;\" x=\"213.806298\" xlink:href=\"#m50815af286\" y=\"262.416377\"/>\n     <use style=\"fill:#1f77b4;stroke:#1f77b4;\" x=\"240.430517\" xlink:href=\"#m50815af286\" y=\"117.239848\"/>\n     <use style=\"fill:#1f77b4;stroke:#1f77b4;\" x=\"197.742391\" xlink:href=\"#m50815af286\" y=\"26.967273\"/>\n    </g>\n   </g>\n   <g id=\"matplotlib.axis_1\">\n    <g id=\"xtick_1\">\n     <g id=\"line2d_1\">\n      <path clip-path=\"url(#p276d93cedc)\" d=\"M 41.017717 442.08 \nL 41.017717 7.2 \n\" style=\"fill:none;stroke:#b0b0b0;stroke-linecap:square;stroke-width:0.8;\"/>\n     </g>\n     <g id=\"line2d_2\">\n      <defs>\n       <path d=\"M 0 0 \nL 0 3.5 \n\" id=\"m7681ec1204\" style=\"stroke:#000000;stroke-width:0.8;\"/>\n      </defs>\n      <g>\n       <use style=\"stroke:#000000;stroke-width:0.8;\" x=\"41.017717\" xlink:href=\"#m7681ec1204\" y=\"442.08\"/>\n      </g>\n     </g>\n     <g id=\"text_1\">\n      <!-- −4 -->\n      <g transform=\"translate(33.646623 456.678437)scale(0.1 -0.1)\">\n       <defs>\n        <path d=\"M 678 2272 \nL 4684 2272 \nL 4684 1741 \nL 678 1741 \nL 678 2272 \nz\n\" id=\"DejaVuSans-2212\" transform=\"scale(0.015625)\"/>\n        <path d=\"M 2419 4116 \nL 825 1625 \nL 2419 1625 \nL 2419 4116 \nz\nM 2253 4666 \nL 3047 4666 \nL 3047 1625 \nL 3713 1625 \nL 3713 1100 \nL 3047 1100 \nL 3047 0 \nL 2419 0 \nL 2419 1100 \nL 313 1100 \nL 313 1709 \nL 2253 4666 \nz\n\" id=\"DejaVuSans-34\" transform=\"scale(0.015625)\"/>\n       </defs>\n       <use xlink:href=\"#DejaVuSans-2212\"/>\n       <use x=\"83.789062\" xlink:href=\"#DejaVuSans-34\"/>\n      </g>\n     </g>\n    </g>\n    <g id=\"xtick_2\">\n     <g id=\"line2d_3\">\n      <path clip-path=\"url(#p276d93cedc)\" d=\"M 136.879568 442.08 \nL 136.879568 7.2 \n\" style=\"fill:none;stroke:#b0b0b0;stroke-linecap:square;stroke-width:0.8;\"/>\n     </g>\n     <g id=\"line2d_4\">\n      <g>\n       <use style=\"stroke:#000000;stroke-width:0.8;\" x=\"136.879568\" xlink:href=\"#m7681ec1204\" y=\"442.08\"/>\n      </g>\n     </g>\n     <g id=\"text_2\">\n      <!-- −2 -->\n      <g transform=\"translate(129.508475 456.678437)scale(0.1 -0.1)\">\n       <defs>\n        <path d=\"M 1228 531 \nL 3431 531 \nL 3431 0 \nL 469 0 \nL 469 531 \nQ 828 903 1448 1529 \nQ 2069 2156 2228 2338 \nQ 2531 2678 2651 2914 \nQ 2772 3150 2772 3378 \nQ 2772 3750 2511 3984 \nQ 2250 4219 1831 4219 \nQ 1534 4219 1204 4116 \nQ 875 4013 500 3803 \nL 500 4441 \nQ 881 4594 1212 4672 \nQ 1544 4750 1819 4750 \nQ 2544 4750 2975 4387 \nQ 3406 4025 3406 3419 \nQ 3406 3131 3298 2873 \nQ 3191 2616 2906 2266 \nQ 2828 2175 2409 1742 \nQ 1991 1309 1228 531 \nz\n\" id=\"DejaVuSans-32\" transform=\"scale(0.015625)\"/>\n       </defs>\n       <use xlink:href=\"#DejaVuSans-2212\"/>\n       <use x=\"83.789062\" xlink:href=\"#DejaVuSans-32\"/>\n      </g>\n     </g>\n    </g>\n    <g id=\"xtick_3\">\n     <g id=\"line2d_5\">\n      <path clip-path=\"url(#p276d93cedc)\" d=\"M 232.74142 442.08 \nL 232.74142 7.2 \n\" style=\"fill:none;stroke:#b0b0b0;stroke-linecap:square;stroke-width:0.8;\"/>\n     </g>\n     <g id=\"line2d_6\">\n      <g>\n       <use style=\"stroke:#000000;stroke-width:0.8;\" x=\"232.74142\" xlink:href=\"#m7681ec1204\" y=\"442.08\"/>\n      </g>\n     </g>\n     <g id=\"text_3\">\n      <!-- 0 -->\n      <g transform=\"translate(229.56017 456.678437)scale(0.1 -0.1)\">\n       <defs>\n        <path d=\"M 2034 4250 \nQ 1547 4250 1301 3770 \nQ 1056 3291 1056 2328 \nQ 1056 1369 1301 889 \nQ 1547 409 2034 409 \nQ 2525 409 2770 889 \nQ 3016 1369 3016 2328 \nQ 3016 3291 2770 3770 \nQ 2525 4250 2034 4250 \nz\nM 2034 4750 \nQ 2819 4750 3233 4129 \nQ 3647 3509 3647 2328 \nQ 3647 1150 3233 529 \nQ 2819 -91 2034 -91 \nQ 1250 -91 836 529 \nQ 422 1150 422 2328 \nQ 422 3509 836 4129 \nQ 1250 4750 2034 4750 \nz\n\" id=\"DejaVuSans-30\" transform=\"scale(0.015625)\"/>\n       </defs>\n       <use xlink:href=\"#DejaVuSans-30\"/>\n      </g>\n     </g>\n    </g>\n    <g id=\"xtick_4\">\n     <g id=\"line2d_7\">\n      <path clip-path=\"url(#p276d93cedc)\" d=\"M 328.603271 442.08 \nL 328.603271 7.2 \n\" style=\"fill:none;stroke:#b0b0b0;stroke-linecap:square;stroke-width:0.8;\"/>\n     </g>\n     <g id=\"line2d_8\">\n      <g>\n       <use style=\"stroke:#000000;stroke-width:0.8;\" x=\"328.603271\" xlink:href=\"#m7681ec1204\" y=\"442.08\"/>\n      </g>\n     </g>\n     <g id=\"text_4\">\n      <!-- 2 -->\n      <g transform=\"translate(325.422021 456.678437)scale(0.1 -0.1)\">\n       <use xlink:href=\"#DejaVuSans-32\"/>\n      </g>\n     </g>\n    </g>\n    <g id=\"xtick_5\">\n     <g id=\"line2d_9\">\n      <path clip-path=\"url(#p276d93cedc)\" d=\"M 424.465123 442.08 \nL 424.465123 7.2 \n\" style=\"fill:none;stroke:#b0b0b0;stroke-linecap:square;stroke-width:0.8;\"/>\n     </g>\n     <g id=\"line2d_10\">\n      <g>\n       <use style=\"stroke:#000000;stroke-width:0.8;\" x=\"424.465123\" xlink:href=\"#m7681ec1204\" y=\"442.08\"/>\n      </g>\n     </g>\n     <g id=\"text_5\">\n      <!-- 4 -->\n      <g transform=\"translate(421.283873 456.678437)scale(0.1 -0.1)\">\n       <use xlink:href=\"#DejaVuSans-34\"/>\n      </g>\n     </g>\n    </g>\n   </g>\n   <g id=\"matplotlib.axis_2\">\n    <g id=\"ytick_1\">\n     <g id=\"line2d_11\">\n      <path clip-path=\"url(#p276d93cedc)\" d=\"M 28.942188 429.431572 \nL 475.342187 429.431572 \n\" style=\"fill:none;stroke:#b0b0b0;stroke-linecap:square;stroke-width:0.8;\"/>\n     </g>\n     <g id=\"line2d_12\">\n      <defs>\n       <path d=\"M 0 0 \nL -3.5 0 \n\" id=\"mbe737a29d5\" style=\"stroke:#000000;stroke-width:0.8;\"/>\n      </defs>\n      <g>\n       <use style=\"stroke:#000000;stroke-width:0.8;\" x=\"28.942188\" xlink:href=\"#mbe737a29d5\" y=\"429.431572\"/>\n      </g>\n     </g>\n     <g id=\"text_6\">\n      <!-- −3 -->\n      <g transform=\"translate(7.2 433.230791)scale(0.1 -0.1)\">\n       <defs>\n        <path d=\"M 2597 2516 \nQ 3050 2419 3304 2112 \nQ 3559 1806 3559 1356 \nQ 3559 666 3084 287 \nQ 2609 -91 1734 -91 \nQ 1441 -91 1130 -33 \nQ 819 25 488 141 \nL 488 750 \nQ 750 597 1062 519 \nQ 1375 441 1716 441 \nQ 2309 441 2620 675 \nQ 2931 909 2931 1356 \nQ 2931 1769 2642 2001 \nQ 2353 2234 1838 2234 \nL 1294 2234 \nL 1294 2753 \nL 1863 2753 \nQ 2328 2753 2575 2939 \nQ 2822 3125 2822 3475 \nQ 2822 3834 2567 4026 \nQ 2313 4219 1838 4219 \nQ 1578 4219 1281 4162 \nQ 984 4106 628 3988 \nL 628 4550 \nQ 988 4650 1302 4700 \nQ 1616 4750 1894 4750 \nQ 2613 4750 3031 4423 \nQ 3450 4097 3450 3541 \nQ 3450 3153 3228 2886 \nQ 3006 2619 2597 2516 \nz\n\" id=\"DejaVuSans-33\" transform=\"scale(0.015625)\"/>\n       </defs>\n       <use xlink:href=\"#DejaVuSans-2212\"/>\n       <use x=\"83.789062\" xlink:href=\"#DejaVuSans-33\"/>\n      </g>\n     </g>\n    </g>\n    <g id=\"ytick_2\">\n     <g id=\"line2d_13\">\n      <path clip-path=\"url(#p276d93cedc)\" d=\"M 28.942188 380.556131 \nL 475.342187 380.556131 \n\" style=\"fill:none;stroke:#b0b0b0;stroke-linecap:square;stroke-width:0.8;\"/>\n     </g>\n     <g id=\"line2d_14\">\n      <g>\n       <use style=\"stroke:#000000;stroke-width:0.8;\" x=\"28.942188\" xlink:href=\"#mbe737a29d5\" y=\"380.556131\"/>\n      </g>\n     </g>\n     <g id=\"text_7\">\n      <!-- −2 -->\n      <g transform=\"translate(7.2 384.35535)scale(0.1 -0.1)\">\n       <use xlink:href=\"#DejaVuSans-2212\"/>\n       <use x=\"83.789062\" xlink:href=\"#DejaVuSans-32\"/>\n      </g>\n     </g>\n    </g>\n    <g id=\"ytick_3\">\n     <g id=\"line2d_15\">\n      <path clip-path=\"url(#p276d93cedc)\" d=\"M 28.942188 331.680691 \nL 475.342187 331.680691 \n\" style=\"fill:none;stroke:#b0b0b0;stroke-linecap:square;stroke-width:0.8;\"/>\n     </g>\n     <g id=\"line2d_16\">\n      <g>\n       <use style=\"stroke:#000000;stroke-width:0.8;\" x=\"28.942188\" xlink:href=\"#mbe737a29d5\" y=\"331.680691\"/>\n      </g>\n     </g>\n     <g id=\"text_8\">\n      <!-- −1 -->\n      <g transform=\"translate(7.2 335.479909)scale(0.1 -0.1)\">\n       <defs>\n        <path d=\"M 794 531 \nL 1825 531 \nL 1825 4091 \nL 703 3866 \nL 703 4441 \nL 1819 4666 \nL 2450 4666 \nL 2450 531 \nL 3481 531 \nL 3481 0 \nL 794 0 \nL 794 531 \nz\n\" id=\"DejaVuSans-31\" transform=\"scale(0.015625)\"/>\n       </defs>\n       <use xlink:href=\"#DejaVuSans-2212\"/>\n       <use x=\"83.789062\" xlink:href=\"#DejaVuSans-31\"/>\n      </g>\n     </g>\n    </g>\n    <g id=\"ytick_4\">\n     <g id=\"line2d_17\">\n      <path clip-path=\"url(#p276d93cedc)\" d=\"M 28.942188 282.80525 \nL 475.342187 282.80525 \n\" style=\"fill:none;stroke:#b0b0b0;stroke-linecap:square;stroke-width:0.8;\"/>\n     </g>\n     <g id=\"line2d_18\">\n      <g>\n       <use style=\"stroke:#000000;stroke-width:0.8;\" x=\"28.942188\" xlink:href=\"#mbe737a29d5\" y=\"282.80525\"/>\n      </g>\n     </g>\n     <g id=\"text_9\">\n      <!-- 0 -->\n      <g transform=\"translate(15.579688 286.604469)scale(0.1 -0.1)\">\n       <use xlink:href=\"#DejaVuSans-30\"/>\n      </g>\n     </g>\n    </g>\n    <g id=\"ytick_5\">\n     <g id=\"line2d_19\">\n      <path clip-path=\"url(#p276d93cedc)\" d=\"M 28.942188 233.929809 \nL 475.342187 233.929809 \n\" style=\"fill:none;stroke:#b0b0b0;stroke-linecap:square;stroke-width:0.8;\"/>\n     </g>\n     <g id=\"line2d_20\">\n      <g>\n       <use style=\"stroke:#000000;stroke-width:0.8;\" x=\"28.942188\" xlink:href=\"#mbe737a29d5\" y=\"233.929809\"/>\n      </g>\n     </g>\n     <g id=\"text_10\">\n      <!-- 1 -->\n      <g transform=\"translate(15.579688 237.729028)scale(0.1 -0.1)\">\n       <use xlink:href=\"#DejaVuSans-31\"/>\n      </g>\n     </g>\n    </g>\n    <g id=\"ytick_6\">\n     <g id=\"line2d_21\">\n      <path clip-path=\"url(#p276d93cedc)\" d=\"M 28.942188 185.054368 \nL 475.342187 185.054368 \n\" style=\"fill:none;stroke:#b0b0b0;stroke-linecap:square;stroke-width:0.8;\"/>\n     </g>\n     <g id=\"line2d_22\">\n      <g>\n       <use style=\"stroke:#000000;stroke-width:0.8;\" x=\"28.942188\" xlink:href=\"#mbe737a29d5\" y=\"185.054368\"/>\n      </g>\n     </g>\n     <g id=\"text_11\">\n      <!-- 2 -->\n      <g transform=\"translate(15.579688 188.853587)scale(0.1 -0.1)\">\n       <use xlink:href=\"#DejaVuSans-32\"/>\n      </g>\n     </g>\n    </g>\n    <g id=\"ytick_7\">\n     <g id=\"line2d_23\">\n      <path clip-path=\"url(#p276d93cedc)\" d=\"M 28.942188 136.178928 \nL 475.342187 136.178928 \n\" style=\"fill:none;stroke:#b0b0b0;stroke-linecap:square;stroke-width:0.8;\"/>\n     </g>\n     <g id=\"line2d_24\">\n      <g>\n       <use style=\"stroke:#000000;stroke-width:0.8;\" x=\"28.942188\" xlink:href=\"#mbe737a29d5\" y=\"136.178928\"/>\n      </g>\n     </g>\n     <g id=\"text_12\">\n      <!-- 3 -->\n      <g transform=\"translate(15.579688 139.978146)scale(0.1 -0.1)\">\n       <use xlink:href=\"#DejaVuSans-33\"/>\n      </g>\n     </g>\n    </g>\n    <g id=\"ytick_8\">\n     <g id=\"line2d_25\">\n      <path clip-path=\"url(#p276d93cedc)\" d=\"M 28.942188 87.303487 \nL 475.342187 87.303487 \n\" style=\"fill:none;stroke:#b0b0b0;stroke-linecap:square;stroke-width:0.8;\"/>\n     </g>\n     <g id=\"line2d_26\">\n      <g>\n       <use style=\"stroke:#000000;stroke-width:0.8;\" x=\"28.942188\" xlink:href=\"#mbe737a29d5\" y=\"87.303487\"/>\n      </g>\n     </g>\n     <g id=\"text_13\">\n      <!-- 4 -->\n      <g transform=\"translate(15.579688 91.102706)scale(0.1 -0.1)\">\n       <use xlink:href=\"#DejaVuSans-34\"/>\n      </g>\n     </g>\n    </g>\n    <g id=\"ytick_9\">\n     <g id=\"line2d_27\">\n      <path clip-path=\"url(#p276d93cedc)\" d=\"M 28.942188 38.428046 \nL 475.342187 38.428046 \n\" style=\"fill:none;stroke:#b0b0b0;stroke-linecap:square;stroke-width:0.8;\"/>\n     </g>\n     <g id=\"line2d_28\">\n      <g>\n       <use style=\"stroke:#000000;stroke-width:0.8;\" x=\"28.942188\" xlink:href=\"#mbe737a29d5\" y=\"38.428046\"/>\n      </g>\n     </g>\n     <g id=\"text_14\">\n      <!-- 5 -->\n      <g transform=\"translate(15.579688 42.227265)scale(0.1 -0.1)\">\n       <defs>\n        <path d=\"M 691 4666 \nL 3169 4666 \nL 3169 4134 \nL 1269 4134 \nL 1269 2991 \nQ 1406 3038 1543 3061 \nQ 1681 3084 1819 3084 \nQ 2600 3084 3056 2656 \nQ 3513 2228 3513 1497 \nQ 3513 744 3044 326 \nQ 2575 -91 1722 -91 \nQ 1428 -91 1123 -41 \nQ 819 9 494 109 \nL 494 744 \nQ 775 591 1075 516 \nQ 1375 441 1709 441 \nQ 2250 441 2565 725 \nQ 2881 1009 2881 1497 \nQ 2881 1984 2565 2268 \nQ 2250 2553 1709 2553 \nQ 1456 2553 1204 2497 \nQ 953 2441 691 2322 \nL 691 4666 \nz\n\" id=\"DejaVuSans-35\" transform=\"scale(0.015625)\"/>\n       </defs>\n       <use xlink:href=\"#DejaVuSans-35\"/>\n      </g>\n     </g>\n    </g>\n   </g>\n   <g id=\"patch_3\">\n    <path d=\"M 28.942188 442.08 \nL 28.942188 7.2 \n\" style=\"fill:none;stroke:#000000;stroke-linecap:square;stroke-linejoin:miter;stroke-width:0.8;\"/>\n   </g>\n   <g id=\"patch_4\">\n    <path d=\"M 475.342187 442.08 \nL 475.342187 7.2 \n\" style=\"fill:none;stroke:#000000;stroke-linecap:square;stroke-linejoin:miter;stroke-width:0.8;\"/>\n   </g>\n   <g id=\"patch_5\">\n    <path d=\"M 28.942187 442.08 \nL 475.342188 442.08 \n\" style=\"fill:none;stroke:#000000;stroke-linecap:square;stroke-linejoin:miter;stroke-width:0.8;\"/>\n   </g>\n   <g id=\"patch_6\">\n    <path d=\"M 28.942187 7.2 \nL 475.342188 7.2 \n\" style=\"fill:none;stroke:#000000;stroke-linecap:square;stroke-linejoin:miter;stroke-width:0.8;\"/>\n   </g>\n   <g id=\"text_15\">\n    <!-- machine learning -->\n    <g transform=\"translate(170.504783 325.891599)scale(0.15 -0.15)\">\n     <defs>\n      <path d=\"M 3328 2828 \nQ 3544 3216 3844 3400 \nQ 4144 3584 4550 3584 \nQ 5097 3584 5394 3201 \nQ 5691 2819 5691 2113 \nL 5691 0 \nL 5113 0 \nL 5113 2094 \nQ 5113 2597 4934 2840 \nQ 4756 3084 4391 3084 \nQ 3944 3084 3684 2787 \nQ 3425 2491 3425 1978 \nL 3425 0 \nL 2847 0 \nL 2847 2094 \nQ 2847 2600 2669 2842 \nQ 2491 3084 2119 3084 \nQ 1678 3084 1418 2786 \nQ 1159 2488 1159 1978 \nL 1159 0 \nL 581 0 \nL 581 3500 \nL 1159 3500 \nL 1159 2956 \nQ 1356 3278 1631 3431 \nQ 1906 3584 2284 3584 \nQ 2666 3584 2933 3390 \nQ 3200 3197 3328 2828 \nz\n\" id=\"DejaVuSans-6d\" transform=\"scale(0.015625)\"/>\n      <path d=\"M 2194 1759 \nQ 1497 1759 1228 1600 \nQ 959 1441 959 1056 \nQ 959 750 1161 570 \nQ 1363 391 1709 391 \nQ 2188 391 2477 730 \nQ 2766 1069 2766 1631 \nL 2766 1759 \nL 2194 1759 \nz\nM 3341 1997 \nL 3341 0 \nL 2766 0 \nL 2766 531 \nQ 2569 213 2275 61 \nQ 1981 -91 1556 -91 \nQ 1019 -91 701 211 \nQ 384 513 384 1019 \nQ 384 1609 779 1909 \nQ 1175 2209 1959 2209 \nL 2766 2209 \nL 2766 2266 \nQ 2766 2663 2505 2880 \nQ 2244 3097 1772 3097 \nQ 1472 3097 1187 3025 \nQ 903 2953 641 2809 \nL 641 3341 \nQ 956 3463 1253 3523 \nQ 1550 3584 1831 3584 \nQ 2591 3584 2966 3190 \nQ 3341 2797 3341 1997 \nz\n\" id=\"DejaVuSans-61\" transform=\"scale(0.015625)\"/>\n      <path d=\"M 3122 3366 \nL 3122 2828 \nQ 2878 2963 2633 3030 \nQ 2388 3097 2138 3097 \nQ 1578 3097 1268 2742 \nQ 959 2388 959 1747 \nQ 959 1106 1268 751 \nQ 1578 397 2138 397 \nQ 2388 397 2633 464 \nQ 2878 531 3122 666 \nL 3122 134 \nQ 2881 22 2623 -34 \nQ 2366 -91 2075 -91 \nQ 1284 -91 818 406 \nQ 353 903 353 1747 \nQ 353 2603 823 3093 \nQ 1294 3584 2113 3584 \nQ 2378 3584 2631 3529 \nQ 2884 3475 3122 3366 \nz\n\" id=\"DejaVuSans-63\" transform=\"scale(0.015625)\"/>\n      <path d=\"M 3513 2113 \nL 3513 0 \nL 2938 0 \nL 2938 2094 \nQ 2938 2591 2744 2837 \nQ 2550 3084 2163 3084 \nQ 1697 3084 1428 2787 \nQ 1159 2491 1159 1978 \nL 1159 0 \nL 581 0 \nL 581 4863 \nL 1159 4863 \nL 1159 2956 \nQ 1366 3272 1645 3428 \nQ 1925 3584 2291 3584 \nQ 2894 3584 3203 3211 \nQ 3513 2838 3513 2113 \nz\n\" id=\"DejaVuSans-68\" transform=\"scale(0.015625)\"/>\n      <path d=\"M 603 3500 \nL 1178 3500 \nL 1178 0 \nL 603 0 \nL 603 3500 \nz\nM 603 4863 \nL 1178 4863 \nL 1178 4134 \nL 603 4134 \nL 603 4863 \nz\n\" id=\"DejaVuSans-69\" transform=\"scale(0.015625)\"/>\n      <path d=\"M 3513 2113 \nL 3513 0 \nL 2938 0 \nL 2938 2094 \nQ 2938 2591 2744 2837 \nQ 2550 3084 2163 3084 \nQ 1697 3084 1428 2787 \nQ 1159 2491 1159 1978 \nL 1159 0 \nL 581 0 \nL 581 3500 \nL 1159 3500 \nL 1159 2956 \nQ 1366 3272 1645 3428 \nQ 1925 3584 2291 3584 \nQ 2894 3584 3203 3211 \nQ 3513 2838 3513 2113 \nz\n\" id=\"DejaVuSans-6e\" transform=\"scale(0.015625)\"/>\n      <path d=\"M 3597 1894 \nL 3597 1613 \nL 953 1613 \nQ 991 1019 1311 708 \nQ 1631 397 2203 397 \nQ 2534 397 2845 478 \nQ 3156 559 3463 722 \nL 3463 178 \nQ 3153 47 2828 -22 \nQ 2503 -91 2169 -91 \nQ 1331 -91 842 396 \nQ 353 884 353 1716 \nQ 353 2575 817 3079 \nQ 1281 3584 2069 3584 \nQ 2775 3584 3186 3129 \nQ 3597 2675 3597 1894 \nz\nM 3022 2063 \nQ 3016 2534 2758 2815 \nQ 2500 3097 2075 3097 \nQ 1594 3097 1305 2825 \nQ 1016 2553 972 2059 \nL 3022 2063 \nz\n\" id=\"DejaVuSans-65\" transform=\"scale(0.015625)\"/>\n      <path id=\"DejaVuSans-20\" transform=\"scale(0.015625)\"/>\n      <path d=\"M 603 4863 \nL 1178 4863 \nL 1178 0 \nL 603 0 \nL 603 4863 \nz\n\" id=\"DejaVuSans-6c\" transform=\"scale(0.015625)\"/>\n      <path d=\"M 2631 2963 \nQ 2534 3019 2420 3045 \nQ 2306 3072 2169 3072 \nQ 1681 3072 1420 2755 \nQ 1159 2438 1159 1844 \nL 1159 0 \nL 581 0 \nL 581 3500 \nL 1159 3500 \nL 1159 2956 \nQ 1341 3275 1631 3429 \nQ 1922 3584 2338 3584 \nQ 2397 3584 2469 3576 \nQ 2541 3569 2628 3553 \nL 2631 2963 \nz\n\" id=\"DejaVuSans-72\" transform=\"scale(0.015625)\"/>\n      <path d=\"M 2906 1791 \nQ 2906 2416 2648 2759 \nQ 2391 3103 1925 3103 \nQ 1463 3103 1205 2759 \nQ 947 2416 947 1791 \nQ 947 1169 1205 825 \nQ 1463 481 1925 481 \nQ 2391 481 2648 825 \nQ 2906 1169 2906 1791 \nz\nM 3481 434 \nQ 3481 -459 3084 -895 \nQ 2688 -1331 1869 -1331 \nQ 1566 -1331 1297 -1286 \nQ 1028 -1241 775 -1147 \nL 775 -588 \nQ 1028 -725 1275 -790 \nQ 1522 -856 1778 -856 \nQ 2344 -856 2625 -561 \nQ 2906 -266 2906 331 \nL 2906 616 \nQ 2728 306 2450 153 \nQ 2172 0 1784 0 \nQ 1141 0 747 490 \nQ 353 981 353 1791 \nQ 353 2603 747 3093 \nQ 1141 3584 1784 3584 \nQ 2172 3584 2450 3431 \nQ 2728 3278 2906 2969 \nL 2906 3500 \nL 3481 3500 \nL 3481 434 \nz\n\" id=\"DejaVuSans-67\" transform=\"scale(0.015625)\"/>\n     </defs>\n     <use xlink:href=\"#DejaVuSans-6d\"/>\n     <use x=\"97.412109\" xlink:href=\"#DejaVuSans-61\"/>\n     <use x=\"158.691406\" xlink:href=\"#DejaVuSans-63\"/>\n     <use x=\"213.671875\" xlink:href=\"#DejaVuSans-68\"/>\n     <use x=\"277.050781\" xlink:href=\"#DejaVuSans-69\"/>\n     <use x=\"304.833984\" xlink:href=\"#DejaVuSans-6e\"/>\n     <use x=\"368.212891\" xlink:href=\"#DejaVuSans-65\"/>\n     <use x=\"429.736328\" xlink:href=\"#DejaVuSans-20\"/>\n     <use x=\"461.523438\" xlink:href=\"#DejaVuSans-6c\"/>\n     <use x=\"489.306641\" xlink:href=\"#DejaVuSans-65\"/>\n     <use x=\"550.830078\" xlink:href=\"#DejaVuSans-61\"/>\n     <use x=\"612.109375\" xlink:href=\"#DejaVuSans-72\"/>\n     <use x=\"651.472656\" xlink:href=\"#DejaVuSans-6e\"/>\n     <use x=\"714.851562\" xlink:href=\"#DejaVuSans-69\"/>\n     <use x=\"742.634766\" xlink:href=\"#DejaVuSans-6e\"/>\n     <use x=\"806.013672\" xlink:href=\"#DejaVuSans-67\"/>\n    </g>\n   </g>\n   <g id=\"text_16\">\n    <!-- artificial intelligence -->\n    <g transform=\"translate(154.791848 378.039383)scale(0.15 -0.15)\">\n     <defs>\n      <path d=\"M 1172 4494 \nL 1172 3500 \nL 2356 3500 \nL 2356 3053 \nL 1172 3053 \nL 1172 1153 \nQ 1172 725 1289 603 \nQ 1406 481 1766 481 \nL 2356 481 \nL 2356 0 \nL 1766 0 \nQ 1100 0 847 248 \nQ 594 497 594 1153 \nL 594 3053 \nL 172 3053 \nL 172 3500 \nL 594 3500 \nL 594 4494 \nL 1172 4494 \nz\n\" id=\"DejaVuSans-74\" transform=\"scale(0.015625)\"/>\n      <path d=\"M 2375 4863 \nL 2375 4384 \nL 1825 4384 \nQ 1516 4384 1395 4259 \nQ 1275 4134 1275 3809 \nL 1275 3500 \nL 2222 3500 \nL 2222 3053 \nL 1275 3053 \nL 1275 0 \nL 697 0 \nL 697 3053 \nL 147 3053 \nL 147 3500 \nL 697 3500 \nL 697 3744 \nQ 697 4328 969 4595 \nQ 1241 4863 1831 4863 \nL 2375 4863 \nz\n\" id=\"DejaVuSans-66\" transform=\"scale(0.015625)\"/>\n     </defs>\n     <use xlink:href=\"#DejaVuSans-61\"/>\n     <use x=\"61.279297\" xlink:href=\"#DejaVuSans-72\"/>\n     <use x=\"102.392578\" xlink:href=\"#DejaVuSans-74\"/>\n     <use x=\"141.601562\" xlink:href=\"#DejaVuSans-69\"/>\n     <use x=\"169.384766\" xlink:href=\"#DejaVuSans-66\"/>\n     <use x=\"204.589844\" xlink:href=\"#DejaVuSans-69\"/>\n     <use x=\"232.373047\" xlink:href=\"#DejaVuSans-63\"/>\n     <use x=\"287.353516\" xlink:href=\"#DejaVuSans-69\"/>\n     <use x=\"315.136719\" xlink:href=\"#DejaVuSans-61\"/>\n     <use x=\"376.416016\" xlink:href=\"#DejaVuSans-6c\"/>\n     <use x=\"404.199219\" xlink:href=\"#DejaVuSans-20\"/>\n     <use x=\"435.986328\" xlink:href=\"#DejaVuSans-69\"/>\n     <use x=\"463.769531\" xlink:href=\"#DejaVuSans-6e\"/>\n     <use x=\"527.148438\" xlink:href=\"#DejaVuSans-74\"/>\n     <use x=\"566.357422\" xlink:href=\"#DejaVuSans-65\"/>\n     <use x=\"627.880859\" xlink:href=\"#DejaVuSans-6c\"/>\n     <use x=\"655.664062\" xlink:href=\"#DejaVuSans-6c\"/>\n     <use x=\"683.447266\" xlink:href=\"#DejaVuSans-69\"/>\n     <use x=\"711.230469\" xlink:href=\"#DejaVuSans-67\"/>\n     <use x=\"774.707031\" xlink:href=\"#DejaVuSans-65\"/>\n     <use x=\"836.230469\" xlink:href=\"#DejaVuSans-6e\"/>\n     <use x=\"899.609375\" xlink:href=\"#DejaVuSans-63\"/>\n     <use x=\"954.589844\" xlink:href=\"#DejaVuSans-65\"/>\n    </g>\n   </g>\n   <g id=\"text_17\">\n    <!-- data -->\n    <g transform=\"translate(49.233097 281.047363)scale(0.15 -0.15)\">\n     <defs>\n      <path d=\"M 2906 2969 \nL 2906 4863 \nL 3481 4863 \nL 3481 0 \nL 2906 0 \nL 2906 525 \nQ 2725 213 2448 61 \nQ 2172 -91 1784 -91 \nQ 1150 -91 751 415 \nQ 353 922 353 1747 \nQ 353 2572 751 3078 \nQ 1150 3584 1784 3584 \nQ 2172 3584 2448 3432 \nQ 2725 3281 2906 2969 \nz\nM 947 1747 \nQ 947 1113 1208 752 \nQ 1469 391 1925 391 \nQ 2381 391 2643 752 \nQ 2906 1113 2906 1747 \nQ 2906 2381 2643 2742 \nQ 2381 3103 1925 3103 \nQ 1469 3103 1208 2742 \nQ 947 2381 947 1747 \nz\n\" id=\"DejaVuSans-64\" transform=\"scale(0.015625)\"/>\n     </defs>\n     <use xlink:href=\"#DejaVuSans-64\"/>\n     <use x=\"63.476562\" xlink:href=\"#DejaVuSans-61\"/>\n     <use x=\"124.755859\" xlink:href=\"#DejaVuSans-74\"/>\n     <use x=\"163.964844\" xlink:href=\"#DejaVuSans-61\"/>\n    </g>\n   </g>\n   <g id=\"text_18\">\n    <!-- science -->\n    <g transform=\"translate(78.715849 422.312727)scale(0.15 -0.15)\">\n     <defs>\n      <path d=\"M 2834 3397 \nL 2834 2853 \nQ 2591 2978 2328 3040 \nQ 2066 3103 1784 3103 \nQ 1356 3103 1142 2972 \nQ 928 2841 928 2578 \nQ 928 2378 1081 2264 \nQ 1234 2150 1697 2047 \nL 1894 2003 \nQ 2506 1872 2764 1633 \nQ 3022 1394 3022 966 \nQ 3022 478 2636 193 \nQ 2250 -91 1575 -91 \nQ 1294 -91 989 -36 \nQ 684 19 347 128 \nL 347 722 \nQ 666 556 975 473 \nQ 1284 391 1588 391 \nQ 1994 391 2212 530 \nQ 2431 669 2431 922 \nQ 2431 1156 2273 1281 \nQ 2116 1406 1581 1522 \nL 1381 1569 \nQ 847 1681 609 1914 \nQ 372 2147 372 2553 \nQ 372 3047 722 3315 \nQ 1072 3584 1716 3584 \nQ 2034 3584 2315 3537 \nQ 2597 3491 2834 3397 \nz\n\" id=\"DejaVuSans-73\" transform=\"scale(0.015625)\"/>\n     </defs>\n     <use xlink:href=\"#DejaVuSans-73\"/>\n     <use x=\"52.099609\" xlink:href=\"#DejaVuSans-63\"/>\n     <use x=\"107.080078\" xlink:href=\"#DejaVuSans-69\"/>\n     <use x=\"134.863281\" xlink:href=\"#DejaVuSans-65\"/>\n     <use x=\"196.386719\" xlink:href=\"#DejaVuSans-6e\"/>\n     <use x=\"259.765625\" xlink:href=\"#DejaVuSans-63\"/>\n     <use x=\"314.746094\" xlink:href=\"#DejaVuSans-65\"/>\n    </g>\n   </g>\n   <g id=\"text_19\">\n    <!-- concrete -->\n    <g transform=\"translate(340.928462 391.653165)scale(0.15 -0.15)\">\n     <defs>\n      <path d=\"M 1959 3097 \nQ 1497 3097 1228 2736 \nQ 959 2375 959 1747 \nQ 959 1119 1226 758 \nQ 1494 397 1959 397 \nQ 2419 397 2687 759 \nQ 2956 1122 2956 1747 \nQ 2956 2369 2687 2733 \nQ 2419 3097 1959 3097 \nz\nM 1959 3584 \nQ 2709 3584 3137 3096 \nQ 3566 2609 3566 1747 \nQ 3566 888 3137 398 \nQ 2709 -91 1959 -91 \nQ 1206 -91 779 398 \nQ 353 888 353 1747 \nQ 353 2609 779 3096 \nQ 1206 3584 1959 3584 \nz\n\" id=\"DejaVuSans-6f\" transform=\"scale(0.015625)\"/>\n     </defs>\n     <use xlink:href=\"#DejaVuSans-63\"/>\n     <use x=\"54.980469\" xlink:href=\"#DejaVuSans-6f\"/>\n     <use x=\"116.162109\" xlink:href=\"#DejaVuSans-6e\"/>\n     <use x=\"179.541016\" xlink:href=\"#DejaVuSans-63\"/>\n     <use x=\"234.521484\" xlink:href=\"#DejaVuSans-72\"/>\n     <use x=\"273.384766\" xlink:href=\"#DejaVuSans-65\"/>\n     <use x=\"334.908203\" xlink:href=\"#DejaVuSans-74\"/>\n     <use x=\"374.117188\" xlink:href=\"#DejaVuSans-65\"/>\n    </g>\n   </g>\n   <g id=\"text_20\">\n    <!-- wood -->\n    <g transform=\"translate(426.209675 324.987375)scale(0.15 -0.15)\">\n     <defs>\n      <path d=\"M 269 3500 \nL 844 3500 \nL 1563 769 \nL 2278 3500 \nL 2956 3500 \nL 3675 769 \nL 4391 3500 \nL 4966 3500 \nL 4050 0 \nL 3372 0 \nL 2619 2869 \nL 1863 0 \nL 1184 0 \nL 269 3500 \nz\n\" id=\"DejaVuSans-77\" transform=\"scale(0.015625)\"/>\n     </defs>\n     <use xlink:href=\"#DejaVuSans-77\"/>\n     <use x=\"81.787109\" xlink:href=\"#DejaVuSans-6f\"/>\n     <use x=\"142.96875\" xlink:href=\"#DejaVuSans-6f\"/>\n     <use x=\"204.150391\" xlink:href=\"#DejaVuSans-64\"/>\n    </g>\n   </g>\n   <g id=\"text_21\">\n    <!-- marble -->\n    <g transform=\"translate(455.051278 297.497389)scale(0.15 -0.15)\">\n     <defs>\n      <path d=\"M 3116 1747 \nQ 3116 2381 2855 2742 \nQ 2594 3103 2138 3103 \nQ 1681 3103 1420 2742 \nQ 1159 2381 1159 1747 \nQ 1159 1113 1420 752 \nQ 1681 391 2138 391 \nQ 2594 391 2855 752 \nQ 3116 1113 3116 1747 \nz\nM 1159 2969 \nQ 1341 3281 1617 3432 \nQ 1894 3584 2278 3584 \nQ 2916 3584 3314 3078 \nQ 3713 2572 3713 1747 \nQ 3713 922 3314 415 \nQ 2916 -91 2278 -91 \nQ 1894 -91 1617 61 \nQ 1341 213 1159 525 \nL 1159 0 \nL 581 0 \nL 581 4863 \nL 1159 4863 \nL 1159 2969 \nz\n\" id=\"DejaVuSans-62\" transform=\"scale(0.015625)\"/>\n     </defs>\n     <use xlink:href=\"#DejaVuSans-6d\"/>\n     <use x=\"97.412109\" xlink:href=\"#DejaVuSans-61\"/>\n     <use x=\"158.691406\" xlink:href=\"#DejaVuSans-72\"/>\n     <use x=\"199.804688\" xlink:href=\"#DejaVuSans-62\"/>\n     <use x=\"263.28125\" xlink:href=\"#DejaVuSans-6c\"/>\n     <use x=\"291.064453\" xlink:href=\"#DejaVuSans-65\"/>\n    </g>\n   </g>\n   <g id=\"text_22\">\n    <!-- design -->\n    <g transform=\"translate(213.806298 262.416377)scale(0.15 -0.15)\">\n     <use xlink:href=\"#DejaVuSans-64\"/>\n     <use x=\"63.476562\" xlink:href=\"#DejaVuSans-65\"/>\n     <use x=\"125\" xlink:href=\"#DejaVuSans-73\"/>\n     <use x=\"177.099609\" xlink:href=\"#DejaVuSans-69\"/>\n     <use x=\"204.882812\" xlink:href=\"#DejaVuSans-67\"/>\n     <use x=\"268.359375\" xlink:href=\"#DejaVuSans-6e\"/>\n    </g>\n   </g>\n   <g id=\"text_23\">\n    <!-- color -->\n    <g transform=\"translate(240.430517 117.239848)scale(0.15 -0.15)\">\n     <use xlink:href=\"#DejaVuSans-63\"/>\n     <use x=\"54.980469\" xlink:href=\"#DejaVuSans-6f\"/>\n     <use x=\"116.162109\" xlink:href=\"#DejaVuSans-6c\"/>\n     <use x=\"143.945312\" xlink:href=\"#DejaVuSans-6f\"/>\n     <use x=\"205.126953\" xlink:href=\"#DejaVuSans-72\"/>\n    </g>\n   </g>\n   <g id=\"text_24\">\n    <!-- font -->\n    <g transform=\"translate(197.742391 26.967273)scale(0.15 -0.15)\">\n     <use xlink:href=\"#DejaVuSans-66\"/>\n     <use x=\"35.205078\" xlink:href=\"#DejaVuSans-6f\"/>\n     <use x=\"96.386719\" xlink:href=\"#DejaVuSans-6e\"/>\n     <use x=\"159.765625\" xlink:href=\"#DejaVuSans-74\"/>\n    </g>\n   </g>\n  </g>\n </g>\n <defs>\n  <clipPath id=\"p276d93cedc\">\n   <rect height=\"434.88\" width=\"446.4\" x=\"28.942188\" y=\"7.2\"/>\n  </clipPath>\n </defs>\n</svg>\n",
      "image/png": "[encoded data removed]"
     },
     "metadata": {
      "needs_background": "light"
     }
    }
   ],
   "source": [
    "# create a nice big plot \n",
    "plt.figure(figsize=(8,8))\n",
    "\n",
    "# plot the scatter plot of where the words will be\n",
    "plt.scatter(word_vecs_2d[:,0], word_vecs_2d[:,1])\n",
    "\n",
    "# for each word and coordinate pair: draw the text on the plot\n",
    "for word, coord in zip(words, word_vecs_2d):\n",
    "    x, y = coord\n",
    "    plt.text(x, y, word, size= 15)\n",
    "\n",
    "# show the plot\n",
    "plt.grid();\n",
    "plt.show()"
   ]
  },
  {
   "cell_type": "code",
   "execution_count": null,
   "metadata": {},
   "outputs": [],
   "source": []
  },
  {
   "cell_type": "markdown",
   "metadata": {},
   "source": [
    "## Challenge\n",
    "\n",
    "You will extract word embeddings from documents using Spacy's pre-trained model in the upcoming module project. "
   ]
  },
  {
   "cell_type": "markdown",
   "metadata": {},
   "source": [
    "## Man + Woman - King = Queen \n",
    "\n",
    "Check out [**this article**](https://blog.acolyer.org/2016/04/21/the-amazing-power-of-word-vectors/) which explores the above equation"
   ]
  },
  {
   "cell_type": "markdown",
   "metadata": {},
   "source": [
    "# Sources\n",
    "\n",
    "* Spacy 101 - https://course.spacy.io\n",
    "* NLTK Book - https://www.nltk.org/book/\n",
    "* An Introduction to Information Retrieval - https://nlp.stanford.edu/IR-book/pdf/irbookonlinereading.pdf"
   ]
  }
 ],
 "metadata": {
  "kernelspec": {
   "name": "python370jvsc74a57bd0c751e3dba1c0ae6d681c8fd9e4eb9597bc490d2dc541e0c49930039039a54e24",
   "display_name": "Python 3.7.0 64-bit ('U4-S1-NLP': conda)"
  },
  "language_info": {
   "codemirror_mode": {
    "name": "ipython",
    "version": 3
   },
   "file_extension": ".py",
   "mimetype": "text/x-python",
   "name": "python",
   "nbconvert_exporter": "python",
   "pygments_lexer": "ipython3",
   "version": "3.7.0"
  }
 },
 "nbformat": 4,
 "nbformat_minor": 4
}